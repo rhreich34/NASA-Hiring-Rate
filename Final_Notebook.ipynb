{
 "cells": [
  {
   "cell_type": "markdown",
   "id": "0acf71c4-95dc-4fb8-9120-bec14eedd30b",
   "metadata": {},
   "source": [
    "# Nasa Hiring Rate Final Code"
   ]
  },
  {
   "cell_type": "code",
   "execution_count": 305,
   "id": "3da32205",
   "metadata": {},
   "outputs": [],
   "source": [
    "# Import packages \n",
    "import pandas as pd\n",
    "import matplotlib.mlab as mlab\n",
    "import matplotlib.pyplot as plt\n",
    "import seaborn as sns\n",
    "import numpy as np\n",
    "from scipy import stats\n",
    "from scipy.stats import ttest_ind\n",
    "from statsmodels.stats.proportion import proportions_ztest\n",
    "from scipy.stats import norm\n",
    "%matplotlib inline\n",
    "import  statsmodels.api as sm\n",
    "import statsmodels.stats.api as sms\n",
    "from scipy.stats import boxcox"
   ]
  },
  {
   "cell_type": "markdown",
   "id": "26ec2e92-eeab-4288-8623-a900fb342c42",
   "metadata": {},
   "source": [
    "### Data Wrangling"
   ]
  },
  {
   "cell_type": "code",
   "execution_count": 306,
   "id": "c376b457",
   "metadata": {},
   "outputs": [],
   "source": [
    "# Import datasets\n",
    "dataframe1= pd.read_excel(\"Data/nasa.xlsx\")\n",
    "dataframe2=pd.read_csv(\"Data/astronauts.csv\")\n",
    "dataframe3=pd.read_excel(\"Data/Female and Male Astronauts Accepted in the NASA Program.xlsx\")\n",
    "dataframe4=pd.read_csv(\"Data/International Astronaut Database.csv\")\n",
    "dataframebudget=pd.read_excel(\"Data/budget and accepted.xlsx\")\n"
   ]
  },
  {
   "cell_type": "markdown",
   "id": "4a1ec7b9-f78a-4808-b871-6c946b462e35",
   "metadata": {},
   "source": [
    "### Data Key \n",
    "#### ID - idnetifiable variable for each applicant\n",
    "#### DOB - Date of Birth\n",
    "#### NASA - Did applicant have previous NASA experience?\n",
    "#### Military - Did applicant have previous Military experience?\n",
    "#### Interviewed - Met basic qualifications MBQ, but not interviewed\n",
    "#### Selected - selected or not to be astronauts\n",
    "#### Status - MBQ Rejected at Interview, MBQ only, and Selected "
   ]
  },
  {
   "cell_type": "markdown",
   "id": "ab74aa55-66f2-4211-ab8f-cb3c45163c60",
   "metadata": {},
   "source": [
    "### View data sets"
   ]
  },
  {
   "cell_type": "code",
   "execution_count": 307,
   "id": "6ba85f55",
   "metadata": {},
   "outputs": [
    {
     "data": {
      "text/html": [
       "<div>\n",
       "<style scoped>\n",
       "    .dataframe tbody tr th:only-of-type {\n",
       "        vertical-align: middle;\n",
       "    }\n",
       "\n",
       "    .dataframe tbody tr th {\n",
       "        vertical-align: top;\n",
       "    }\n",
       "\n",
       "    .dataframe thead th {\n",
       "        text-align: right;\n",
       "    }\n",
       "</style>\n",
       "<table border=\"1\" class=\"dataframe\">\n",
       "  <thead>\n",
       "    <tr style=\"text-align: right;\">\n",
       "      <th></th>\n",
       "      <th>ID</th>\n",
       "      <th>DOB</th>\n",
       "      <th>Education</th>\n",
       "      <th>NASA</th>\n",
       "      <th>Military</th>\n",
       "      <th>Race</th>\n",
       "      <th>Gender</th>\n",
       "      <th>Interviewed</th>\n",
       "      <th>Selected</th>\n",
       "      <th>Status</th>\n",
       "      <th>rando</th>\n",
       "      <th>insamp</th>\n",
       "      <th>Announcement Date</th>\n",
       "      <th>Age</th>\n",
       "    </tr>\n",
       "  </thead>\n",
       "  <tbody>\n",
       "    <tr>\n",
       "      <th>0</th>\n",
       "      <td>20090000</td>\n",
       "      <td>1984-11-22</td>\n",
       "      <td>4</td>\n",
       "      <td>No</td>\n",
       "      <td>No</td>\n",
       "      <td>Caucasian</td>\n",
       "      <td>Male</td>\n",
       "      <td>MBQ not interviewed</td>\n",
       "      <td>NaN</td>\n",
       "      <td>MBQ only</td>\n",
       "      <td>0.176464</td>\n",
       "      <td>0</td>\n",
       "      <td>2009-06-29</td>\n",
       "      <td>24.599589</td>\n",
       "    </tr>\n",
       "    <tr>\n",
       "      <th>1</th>\n",
       "      <td>20090001</td>\n",
       "      <td>1984-07-16</td>\n",
       "      <td>6</td>\n",
       "      <td>No</td>\n",
       "      <td>No</td>\n",
       "      <td>Caucasian</td>\n",
       "      <td>Male</td>\n",
       "      <td>MBQ not interviewed</td>\n",
       "      <td>NaN</td>\n",
       "      <td>MBQ only</td>\n",
       "      <td>0.760009</td>\n",
       "      <td>0</td>\n",
       "      <td>2009-06-29</td>\n",
       "      <td>24.952772</td>\n",
       "    </tr>\n",
       "    <tr>\n",
       "      <th>2</th>\n",
       "      <td>20090002</td>\n",
       "      <td>1984-02-09</td>\n",
       "      <td>4</td>\n",
       "      <td>No</td>\n",
       "      <td>No</td>\n",
       "      <td>Asian/Pacific Islander</td>\n",
       "      <td>Male</td>\n",
       "      <td>MBQ not interviewed</td>\n",
       "      <td>NaN</td>\n",
       "      <td>MBQ only</td>\n",
       "      <td>0.653344</td>\n",
       "      <td>0</td>\n",
       "      <td>2009-06-29</td>\n",
       "      <td>25.385352</td>\n",
       "    </tr>\n",
       "    <tr>\n",
       "      <th>3</th>\n",
       "      <td>20090003</td>\n",
       "      <td>1984-02-01</td>\n",
       "      <td>8</td>\n",
       "      <td>No</td>\n",
       "      <td>No</td>\n",
       "      <td>Asian/Pacific Islander</td>\n",
       "      <td>Male</td>\n",
       "      <td>MBQ not interviewed</td>\n",
       "      <td>NaN</td>\n",
       "      <td>MBQ only</td>\n",
       "      <td>0.510478</td>\n",
       "      <td>0</td>\n",
       "      <td>2009-06-29</td>\n",
       "      <td>25.407255</td>\n",
       "    </tr>\n",
       "    <tr>\n",
       "      <th>4</th>\n",
       "      <td>20090004</td>\n",
       "      <td>1984-01-20</td>\n",
       "      <td>4</td>\n",
       "      <td>No</td>\n",
       "      <td>No</td>\n",
       "      <td>Caucasian</td>\n",
       "      <td>Female</td>\n",
       "      <td>MBQ not interviewed</td>\n",
       "      <td>NaN</td>\n",
       "      <td>MBQ only</td>\n",
       "      <td>0.449820</td>\n",
       "      <td>0</td>\n",
       "      <td>2009-06-29</td>\n",
       "      <td>25.440110</td>\n",
       "    </tr>\n",
       "  </tbody>\n",
       "</table>\n",
       "</div>"
      ],
      "text/plain": [
       "         ID        DOB  Education NASA Military                    Race  \\\n",
       "0  20090000 1984-11-22          4   No       No               Caucasian   \n",
       "1  20090001 1984-07-16          6   No       No               Caucasian   \n",
       "2  20090002 1984-02-09          4   No       No  Asian/Pacific Islander   \n",
       "3  20090003 1984-02-01          8   No       No  Asian/Pacific Islander   \n",
       "4  20090004 1984-01-20          4   No       No               Caucasian   \n",
       "\n",
       "   Gender          Interviewed Selected    Status     rando  insamp  \\\n",
       "0    Male  MBQ not interviewed      NaN  MBQ only  0.176464       0   \n",
       "1    Male  MBQ not interviewed      NaN  MBQ only  0.760009       0   \n",
       "2    Male  MBQ not interviewed      NaN  MBQ only  0.653344       0   \n",
       "3    Male  MBQ not interviewed      NaN  MBQ only  0.510478       0   \n",
       "4  Female  MBQ not interviewed      NaN  MBQ only  0.449820       0   \n",
       "\n",
       "  Announcement Date        Age  \n",
       "0        2009-06-29  24.599589  \n",
       "1        2009-06-29  24.952772  \n",
       "2        2009-06-29  25.385352  \n",
       "3        2009-06-29  25.407255  \n",
       "4        2009-06-29  25.440110  "
      ]
     },
     "execution_count": 307,
     "metadata": {},
     "output_type": "execute_result"
    }
   ],
   "source": [
    "dataframe1.head()"
   ]
  },
  {
   "cell_type": "code",
   "execution_count": 308,
   "id": "e90f0867-3520-4cea-a56c-1133258739e2",
   "metadata": {},
   "outputs": [],
   "source": [
    "dataframe2=pd.DataFrame(dataframe2)"
   ]
  },
  {
   "cell_type": "code",
   "execution_count": 309,
   "id": "3969cb94-b82d-4138-a900-20e06ec83117",
   "metadata": {},
   "outputs": [
    {
     "data": {
      "text/html": [
       "<div>\n",
       "<style scoped>\n",
       "    .dataframe tbody tr th:only-of-type {\n",
       "        vertical-align: middle;\n",
       "    }\n",
       "\n",
       "    .dataframe tbody tr th {\n",
       "        vertical-align: top;\n",
       "    }\n",
       "\n",
       "    .dataframe thead th {\n",
       "        text-align: right;\n",
       "    }\n",
       "</style>\n",
       "<table border=\"1\" class=\"dataframe\">\n",
       "  <thead>\n",
       "    <tr style=\"text-align: right;\">\n",
       "      <th></th>\n",
       "      <th>Name</th>\n",
       "      <th>Year</th>\n",
       "      <th>Group</th>\n",
       "      <th>Status</th>\n",
       "      <th>Birth Date</th>\n",
       "      <th>Birth Place</th>\n",
       "      <th>Gender</th>\n",
       "      <th>Alma Mater</th>\n",
       "      <th>Undergraduate Major</th>\n",
       "      <th>Graduate Major</th>\n",
       "      <th>Military Rank</th>\n",
       "      <th>Military Branch</th>\n",
       "      <th>Space Flights</th>\n",
       "      <th>Space Flight (hr)</th>\n",
       "      <th>Space Walks</th>\n",
       "      <th>Space Walks (hr)</th>\n",
       "      <th>Missions</th>\n",
       "      <th>Death Date</th>\n",
       "      <th>Death Mission</th>\n",
       "    </tr>\n",
       "  </thead>\n",
       "  <tbody>\n",
       "    <tr>\n",
       "      <th>0</th>\n",
       "      <td>Joseph M. Acaba</td>\n",
       "      <td>2004.0</td>\n",
       "      <td>19.0</td>\n",
       "      <td>Active</td>\n",
       "      <td>5/17/1967</td>\n",
       "      <td>Inglewood, CA</td>\n",
       "      <td>Male</td>\n",
       "      <td>University of California-Santa Barbara; Univer...</td>\n",
       "      <td>Geology</td>\n",
       "      <td>Geology</td>\n",
       "      <td>NaN</td>\n",
       "      <td>NaN</td>\n",
       "      <td>2</td>\n",
       "      <td>3307</td>\n",
       "      <td>2</td>\n",
       "      <td>13.0</td>\n",
       "      <td>STS-119 (Discovery), ISS-31/32 (Soyuz)</td>\n",
       "      <td>NaN</td>\n",
       "      <td>NaN</td>\n",
       "    </tr>\n",
       "    <tr>\n",
       "      <th>1</th>\n",
       "      <td>Loren W. Acton</td>\n",
       "      <td>NaN</td>\n",
       "      <td>NaN</td>\n",
       "      <td>Retired</td>\n",
       "      <td>3/7/1936</td>\n",
       "      <td>Lewiston, MT</td>\n",
       "      <td>Male</td>\n",
       "      <td>Montana State University; University of Colorado</td>\n",
       "      <td>Engineering Physics</td>\n",
       "      <td>Solar Physics</td>\n",
       "      <td>NaN</td>\n",
       "      <td>NaN</td>\n",
       "      <td>1</td>\n",
       "      <td>190</td>\n",
       "      <td>0</td>\n",
       "      <td>0.0</td>\n",
       "      <td>STS 51-F (Challenger)</td>\n",
       "      <td>NaN</td>\n",
       "      <td>NaN</td>\n",
       "    </tr>\n",
       "    <tr>\n",
       "      <th>2</th>\n",
       "      <td>James C. Adamson</td>\n",
       "      <td>1984.0</td>\n",
       "      <td>10.0</td>\n",
       "      <td>Retired</td>\n",
       "      <td>3/3/1946</td>\n",
       "      <td>Warsaw, NY</td>\n",
       "      <td>Male</td>\n",
       "      <td>US Military Academy; Princeton University</td>\n",
       "      <td>Engineering</td>\n",
       "      <td>Aerospace Engineering</td>\n",
       "      <td>Colonel</td>\n",
       "      <td>US Army (Retired)</td>\n",
       "      <td>2</td>\n",
       "      <td>334</td>\n",
       "      <td>0</td>\n",
       "      <td>0.0</td>\n",
       "      <td>STS-28 (Columbia), STS-43 (Atlantis)</td>\n",
       "      <td>NaN</td>\n",
       "      <td>NaN</td>\n",
       "    </tr>\n",
       "    <tr>\n",
       "      <th>3</th>\n",
       "      <td>Thomas D. Akers</td>\n",
       "      <td>1987.0</td>\n",
       "      <td>12.0</td>\n",
       "      <td>Retired</td>\n",
       "      <td>5/20/1951</td>\n",
       "      <td>St. Louis, MO</td>\n",
       "      <td>Male</td>\n",
       "      <td>University of Missouri-Rolla</td>\n",
       "      <td>Applied Mathematics</td>\n",
       "      <td>Applied Mathematics</td>\n",
       "      <td>Colonel</td>\n",
       "      <td>US Air Force (Retired)</td>\n",
       "      <td>4</td>\n",
       "      <td>814</td>\n",
       "      <td>4</td>\n",
       "      <td>29.0</td>\n",
       "      <td>STS-41 (Discovery), STS-49 (Endeavor), STS-61 ...</td>\n",
       "      <td>NaN</td>\n",
       "      <td>NaN</td>\n",
       "    </tr>\n",
       "    <tr>\n",
       "      <th>4</th>\n",
       "      <td>Buzz Aldrin</td>\n",
       "      <td>1963.0</td>\n",
       "      <td>3.0</td>\n",
       "      <td>Retired</td>\n",
       "      <td>1/20/1930</td>\n",
       "      <td>Montclair, NJ</td>\n",
       "      <td>Male</td>\n",
       "      <td>US Military Academy; MIT</td>\n",
       "      <td>Mechanical Engineering</td>\n",
       "      <td>Astronautics</td>\n",
       "      <td>Colonel</td>\n",
       "      <td>US Air Force (Retired)</td>\n",
       "      <td>2</td>\n",
       "      <td>289</td>\n",
       "      <td>2</td>\n",
       "      <td>8.0</td>\n",
       "      <td>Gemini 12, Apollo 11</td>\n",
       "      <td>NaN</td>\n",
       "      <td>NaN</td>\n",
       "    </tr>\n",
       "  </tbody>\n",
       "</table>\n",
       "</div>"
      ],
      "text/plain": [
       "               Name    Year  Group   Status Birth Date    Birth Place Gender  \\\n",
       "0   Joseph M. Acaba  2004.0   19.0   Active  5/17/1967  Inglewood, CA   Male   \n",
       "1    Loren W. Acton     NaN    NaN  Retired   3/7/1936   Lewiston, MT   Male   \n",
       "2  James C. Adamson  1984.0   10.0  Retired   3/3/1946     Warsaw, NY   Male   \n",
       "3   Thomas D. Akers  1987.0   12.0  Retired  5/20/1951  St. Louis, MO   Male   \n",
       "4       Buzz Aldrin  1963.0    3.0  Retired  1/20/1930  Montclair, NJ   Male   \n",
       "\n",
       "                                          Alma Mater     Undergraduate Major  \\\n",
       "0  University of California-Santa Barbara; Univer...                 Geology   \n",
       "1   Montana State University; University of Colorado     Engineering Physics   \n",
       "2          US Military Academy; Princeton University             Engineering   \n",
       "3                       University of Missouri-Rolla     Applied Mathematics   \n",
       "4                           US Military Academy; MIT  Mechanical Engineering   \n",
       "\n",
       "          Graduate Major Military Rank         Military Branch  Space Flights  \\\n",
       "0                Geology           NaN                     NaN              2   \n",
       "1          Solar Physics           NaN                     NaN              1   \n",
       "2  Aerospace Engineering       Colonel       US Army (Retired)              2   \n",
       "3    Applied Mathematics       Colonel  US Air Force (Retired)              4   \n",
       "4           Astronautics       Colonel  US Air Force (Retired)              2   \n",
       "\n",
       "   Space Flight (hr)  Space Walks  Space Walks (hr)  \\\n",
       "0               3307            2              13.0   \n",
       "1                190            0               0.0   \n",
       "2                334            0               0.0   \n",
       "3                814            4              29.0   \n",
       "4                289            2               8.0   \n",
       "\n",
       "                                            Missions Death Date Death Mission  \n",
       "0             STS-119 (Discovery), ISS-31/32 (Soyuz)        NaN           NaN  \n",
       "1                              STS 51-F (Challenger)        NaN           NaN  \n",
       "2               STS-28 (Columbia), STS-43 (Atlantis)        NaN           NaN  \n",
       "3  STS-41 (Discovery), STS-49 (Endeavor), STS-61 ...        NaN           NaN  \n",
       "4                               Gemini 12, Apollo 11        NaN           NaN  "
      ]
     },
     "execution_count": 309,
     "metadata": {},
     "output_type": "execute_result"
    }
   ],
   "source": [
    "dataframe2.head()"
   ]
  },
  {
   "cell_type": "code",
   "execution_count": 310,
   "id": "81ebd3c7-513d-4c06-be35-e54c7ec9cdbb",
   "metadata": {},
   "outputs": [
    {
     "data": {
      "text/html": [
       "<div>\n",
       "<style scoped>\n",
       "    .dataframe tbody tr th:only-of-type {\n",
       "        vertical-align: middle;\n",
       "    }\n",
       "\n",
       "    .dataframe tbody tr th {\n",
       "        vertical-align: top;\n",
       "    }\n",
       "\n",
       "    .dataframe thead th {\n",
       "        text-align: right;\n",
       "    }\n",
       "</style>\n",
       "<table border=\"1\" class=\"dataframe\">\n",
       "  <thead>\n",
       "    <tr style=\"text-align: right;\">\n",
       "      <th></th>\n",
       "      <th>ID</th>\n",
       "      <th>Cohort</th>\n",
       "      <th>Year</th>\n",
       "      <th>Males Accepted in NASA Program</th>\n",
       "      <th>Females Accepted in NASA Program</th>\n",
       "    </tr>\n",
       "  </thead>\n",
       "  <tbody>\n",
       "    <tr>\n",
       "      <th>0</th>\n",
       "      <td>NaN</td>\n",
       "      <td>1</td>\n",
       "      <td>1959</td>\n",
       "      <td>100</td>\n",
       "      <td>0</td>\n",
       "    </tr>\n",
       "    <tr>\n",
       "      <th>1</th>\n",
       "      <td>NaN</td>\n",
       "      <td>2</td>\n",
       "      <td>1962</td>\n",
       "      <td>100</td>\n",
       "      <td>0</td>\n",
       "    </tr>\n",
       "    <tr>\n",
       "      <th>2</th>\n",
       "      <td>NaN</td>\n",
       "      <td>3</td>\n",
       "      <td>1963</td>\n",
       "      <td>100</td>\n",
       "      <td>0</td>\n",
       "    </tr>\n",
       "    <tr>\n",
       "      <th>3</th>\n",
       "      <td>NaN</td>\n",
       "      <td>4</td>\n",
       "      <td>1965</td>\n",
       "      <td>100</td>\n",
       "      <td>0</td>\n",
       "    </tr>\n",
       "    <tr>\n",
       "      <th>4</th>\n",
       "      <td>NaN</td>\n",
       "      <td>5</td>\n",
       "      <td>1966</td>\n",
       "      <td>100</td>\n",
       "      <td>0</td>\n",
       "    </tr>\n",
       "  </tbody>\n",
       "</table>\n",
       "</div>"
      ],
      "text/plain": [
       "   ID   Cohort   Year  Males Accepted in NASA Program   \\\n",
       "0  NaN        1  1959                              100   \n",
       "1  NaN        2  1962                              100   \n",
       "2  NaN        3  1963                              100   \n",
       "3  NaN        4  1965                              100   \n",
       "4  NaN        5  1966                              100   \n",
       "\n",
       "   Females Accepted in NASA Program   \n",
       "0                                  0  \n",
       "1                                  0  \n",
       "2                                  0  \n",
       "3                                  0  \n",
       "4                                  0  "
      ]
     },
     "execution_count": 310,
     "metadata": {},
     "output_type": "execute_result"
    }
   ],
   "source": [
    "dataframe3.head()"
   ]
  },
  {
   "cell_type": "code",
   "execution_count": 311,
   "id": "75b1a4a5-c4f1-4817-9328-475bf61fddd1",
   "metadata": {},
   "outputs": [
    {
     "data": {
      "text/html": [
       "<div>\n",
       "<style scoped>\n",
       "    .dataframe tbody tr th:only-of-type {\n",
       "        vertical-align: middle;\n",
       "    }\n",
       "\n",
       "    .dataframe tbody tr th {\n",
       "        vertical-align: top;\n",
       "    }\n",
       "\n",
       "    .dataframe thead th {\n",
       "        text-align: right;\n",
       "    }\n",
       "</style>\n",
       "<table border=\"1\" class=\"dataframe\">\n",
       "  <thead>\n",
       "    <tr style=\"text-align: right;\">\n",
       "      <th></th>\n",
       "      <th>Name</th>\n",
       "      <th>Country</th>\n",
       "      <th>Gender</th>\n",
       "      <th>Flights</th>\n",
       "      <th>Total Flights</th>\n",
       "      <th>Total Flight Time (ddd:hh:mm)</th>\n",
       "    </tr>\n",
       "  </thead>\n",
       "  <tbody>\n",
       "    <tr>\n",
       "      <th>0</th>\n",
       "      <td>Abdul Ahad Mohmand</td>\n",
       "      <td>Afghanistan</td>\n",
       "      <td>Man</td>\n",
       "      <td>Soyuz TM-6 (1988)</td>\n",
       "      <td>1</td>\n",
       "      <td>008:20:26</td>\n",
       "    </tr>\n",
       "    <tr>\n",
       "      <th>1</th>\n",
       "      <td>Akihiko Hoshide</td>\n",
       "      <td>Japan</td>\n",
       "      <td>Man</td>\n",
       "      <td>STS-124 (2008), Soyuz TMA-05M (2012), SpaceX C...</td>\n",
       "      <td>3</td>\n",
       "      <td>524:08:27</td>\n",
       "    </tr>\n",
       "    <tr>\n",
       "      <th>2</th>\n",
       "      <td>Alan Bean</td>\n",
       "      <td>United States</td>\n",
       "      <td>Man</td>\n",
       "      <td>Apollo 12 (1969), Skylab 3 (1973)</td>\n",
       "      <td>2</td>\n",
       "      <td>069:15:45</td>\n",
       "    </tr>\n",
       "    <tr>\n",
       "      <th>3</th>\n",
       "      <td>Alan G. Poindexter</td>\n",
       "      <td>United States</td>\n",
       "      <td>Man</td>\n",
       "      <td>STS-122 (2008), STS-131 (2010)</td>\n",
       "      <td>2</td>\n",
       "      <td>027:21:09</td>\n",
       "    </tr>\n",
       "    <tr>\n",
       "      <th>4</th>\n",
       "      <td>Alan Shepard</td>\n",
       "      <td>United States</td>\n",
       "      <td>Man</td>\n",
       "      <td>Mercury-Redstone 3 (1961), Apollo 14 (1971)</td>\n",
       "      <td>2</td>\n",
       "      <td>009:00:17</td>\n",
       "    </tr>\n",
       "  </tbody>\n",
       "</table>\n",
       "</div>"
      ],
      "text/plain": [
       "                 Name        Country Gender  \\\n",
       "0  Abdul Ahad Mohmand    Afghanistan    Man   \n",
       "1     Akihiko Hoshide          Japan    Man   \n",
       "2           Alan Bean  United States    Man   \n",
       "3  Alan G. Poindexter  United States    Man   \n",
       "4        Alan Shepard  United States    Man   \n",
       "\n",
       "                                             Flights  Total Flights  \\\n",
       "0                                  Soyuz TM-6 (1988)              1   \n",
       "1  STS-124 (2008), Soyuz TMA-05M (2012), SpaceX C...              3   \n",
       "2                  Apollo 12 (1969), Skylab 3 (1973)              2   \n",
       "3                     STS-122 (2008), STS-131 (2010)              2   \n",
       "4        Mercury-Redstone 3 (1961), Apollo 14 (1971)              2   \n",
       "\n",
       "  Total Flight Time (ddd:hh:mm)  \n",
       "0                     008:20:26  \n",
       "1                     524:08:27  \n",
       "2                     069:15:45  \n",
       "3                     027:21:09  \n",
       "4                     009:00:17  "
      ]
     },
     "execution_count": 311,
     "metadata": {},
     "output_type": "execute_result"
    }
   ],
   "source": [
    "dataframe4.head()"
   ]
  },
  {
   "cell_type": "code",
   "execution_count": 312,
   "id": "dd232b14-8ad1-4a61-815a-16f7142633a2",
   "metadata": {},
   "outputs": [
    {
     "data": {
      "text/html": [
       "<div>\n",
       "<style scoped>\n",
       "    .dataframe tbody tr th:only-of-type {\n",
       "        vertical-align: middle;\n",
       "    }\n",
       "\n",
       "    .dataframe tbody tr th {\n",
       "        vertical-align: top;\n",
       "    }\n",
       "\n",
       "    .dataframe thead th {\n",
       "        text-align: right;\n",
       "    }\n",
       "</style>\n",
       "<table border=\"1\" class=\"dataframe\">\n",
       "  <thead>\n",
       "    <tr style=\"text-align: right;\">\n",
       "      <th></th>\n",
       "      <th>Year</th>\n",
       "      <th>White House Budget Submission</th>\n",
       "      <th>Males Accepted in NASA Program</th>\n",
       "      <th>Females Accepted in NASA Program</th>\n",
       "    </tr>\n",
       "  </thead>\n",
       "  <tbody>\n",
       "    <tr>\n",
       "      <th>0</th>\n",
       "      <td>1959</td>\n",
       "      <td>426.6</td>\n",
       "      <td>100.0</td>\n",
       "      <td>0.0</td>\n",
       "    </tr>\n",
       "    <tr>\n",
       "      <th>1</th>\n",
       "      <td>1960</td>\n",
       "      <td>508.3</td>\n",
       "      <td>NaN</td>\n",
       "      <td>NaN</td>\n",
       "    </tr>\n",
       "    <tr>\n",
       "      <th>2</th>\n",
       "      <td>1961</td>\n",
       "      <td>964.6</td>\n",
       "      <td>NaN</td>\n",
       "      <td>NaN</td>\n",
       "    </tr>\n",
       "    <tr>\n",
       "      <th>3</th>\n",
       "      <td>1962</td>\n",
       "      <td>1940.3</td>\n",
       "      <td>100.0</td>\n",
       "      <td>0.0</td>\n",
       "    </tr>\n",
       "    <tr>\n",
       "      <th>4</th>\n",
       "      <td>1963</td>\n",
       "      <td>3787.3</td>\n",
       "      <td>100.0</td>\n",
       "      <td>0.0</td>\n",
       "    </tr>\n",
       "  </tbody>\n",
       "</table>\n",
       "</div>"
      ],
      "text/plain": [
       "   Year  White House Budget Submission  Males Accepted in NASA Program   \\\n",
       "0  1959                          426.6                            100.0   \n",
       "1  1960                          508.3                              NaN   \n",
       "2  1961                          964.6                              NaN   \n",
       "3  1962                         1940.3                            100.0   \n",
       "4  1963                         3787.3                            100.0   \n",
       "\n",
       "   Females Accepted in NASA Program   \n",
       "0                                0.0  \n",
       "1                                NaN  \n",
       "2                                NaN  \n",
       "3                                0.0  \n",
       "4                                0.0  "
      ]
     },
     "execution_count": 312,
     "metadata": {},
     "output_type": "execute_result"
    }
   ],
   "source": [
    "dataframebudget.head()"
   ]
  },
  {
   "cell_type": "code",
   "execution_count": 313,
   "id": "63f71005-295f-4c62-87e8-1bc5c1c2ab63",
   "metadata": {},
   "outputs": [],
   "source": [
    "dataframebudget=dataframebudget.fillna(0)"
   ]
  },
  {
   "cell_type": "code",
   "execution_count": 314,
   "id": "0971a6af-7cb0-44cb-b640-287796e4b112",
   "metadata": {},
   "outputs": [],
   "source": [
    "dataframe1=pd.DataFrame(dataframe1)\n",
    "dataframe3=pd.DataFrame(dataframe3)"
   ]
  },
  {
   "cell_type": "markdown",
   "id": "ee154f2c-7472-4188-8492-65ea49198c92",
   "metadata": {},
   "source": [
    "### Remove extra columns to be able to combine into consolidated data frame "
   ]
  },
  {
   "cell_type": "code",
   "execution_count": 315,
   "id": "e107e5ab-57e1-4105-b4d1-ab91d15f4caf",
   "metadata": {},
   "outputs": [],
   "source": [
    "dataframe1=dataframe1.drop(columns=['ID','DOB','Education','rando','Announcement Date','Age','insamp'])\n"
   ]
  },
  {
   "cell_type": "code",
   "execution_count": 316,
   "id": "1c71f0c0-2ab3-487a-adf1-04d2a40b6175",
   "metadata": {},
   "outputs": [
    {
     "data": {
      "text/html": [
       "<div>\n",
       "<style scoped>\n",
       "    .dataframe tbody tr th:only-of-type {\n",
       "        vertical-align: middle;\n",
       "    }\n",
       "\n",
       "    .dataframe tbody tr th {\n",
       "        vertical-align: top;\n",
       "    }\n",
       "\n",
       "    .dataframe thead th {\n",
       "        text-align: right;\n",
       "    }\n",
       "</style>\n",
       "<table border=\"1\" class=\"dataframe\">\n",
       "  <thead>\n",
       "    <tr style=\"text-align: right;\">\n",
       "      <th></th>\n",
       "      <th>Name</th>\n",
       "      <th>Year</th>\n",
       "      <th>Group</th>\n",
       "      <th>Status</th>\n",
       "      <th>Birth Date</th>\n",
       "      <th>Birth Place</th>\n",
       "      <th>Gender</th>\n",
       "      <th>Alma Mater</th>\n",
       "      <th>Undergraduate Major</th>\n",
       "      <th>Graduate Major</th>\n",
       "      <th>Military Rank</th>\n",
       "      <th>Military Branch</th>\n",
       "      <th>Space Flights</th>\n",
       "      <th>Space Flight (hr)</th>\n",
       "      <th>Space Walks</th>\n",
       "      <th>Space Walks (hr)</th>\n",
       "      <th>Missions</th>\n",
       "      <th>Death Date</th>\n",
       "      <th>Death Mission</th>\n",
       "      <th>Space Flights R</th>\n",
       "    </tr>\n",
       "  </thead>\n",
       "  <tbody>\n",
       "    <tr>\n",
       "      <th>0</th>\n",
       "      <td>Joseph M. Acaba</td>\n",
       "      <td>2004.0</td>\n",
       "      <td>19.0</td>\n",
       "      <td>Active</td>\n",
       "      <td>5/17/1967</td>\n",
       "      <td>Inglewood, CA</td>\n",
       "      <td>Male</td>\n",
       "      <td>University of California-Santa Barbara; Univer...</td>\n",
       "      <td>Geology</td>\n",
       "      <td>Geology</td>\n",
       "      <td>NaN</td>\n",
       "      <td>NaN</td>\n",
       "      <td>2</td>\n",
       "      <td>3307</td>\n",
       "      <td>2</td>\n",
       "      <td>13.0</td>\n",
       "      <td>STS-119 (Discovery), ISS-31/32 (Soyuz)</td>\n",
       "      <td>NaN</td>\n",
       "      <td>NaN</td>\n",
       "      <td>1</td>\n",
       "    </tr>\n",
       "    <tr>\n",
       "      <th>1</th>\n",
       "      <td>Loren W. Acton</td>\n",
       "      <td>NaN</td>\n",
       "      <td>NaN</td>\n",
       "      <td>Retired</td>\n",
       "      <td>3/7/1936</td>\n",
       "      <td>Lewiston, MT</td>\n",
       "      <td>Male</td>\n",
       "      <td>Montana State University; University of Colorado</td>\n",
       "      <td>Engineering Physics</td>\n",
       "      <td>Solar Physics</td>\n",
       "      <td>NaN</td>\n",
       "      <td>NaN</td>\n",
       "      <td>1</td>\n",
       "      <td>190</td>\n",
       "      <td>0</td>\n",
       "      <td>0.0</td>\n",
       "      <td>STS 51-F (Challenger)</td>\n",
       "      <td>NaN</td>\n",
       "      <td>NaN</td>\n",
       "      <td>1</td>\n",
       "    </tr>\n",
       "    <tr>\n",
       "      <th>2</th>\n",
       "      <td>James C. Adamson</td>\n",
       "      <td>1984.0</td>\n",
       "      <td>10.0</td>\n",
       "      <td>Retired</td>\n",
       "      <td>3/3/1946</td>\n",
       "      <td>Warsaw, NY</td>\n",
       "      <td>Male</td>\n",
       "      <td>US Military Academy; Princeton University</td>\n",
       "      <td>Engineering</td>\n",
       "      <td>Aerospace Engineering</td>\n",
       "      <td>Colonel</td>\n",
       "      <td>US Army (Retired)</td>\n",
       "      <td>2</td>\n",
       "      <td>334</td>\n",
       "      <td>0</td>\n",
       "      <td>0.0</td>\n",
       "      <td>STS-28 (Columbia), STS-43 (Atlantis)</td>\n",
       "      <td>NaN</td>\n",
       "      <td>NaN</td>\n",
       "      <td>1</td>\n",
       "    </tr>\n",
       "    <tr>\n",
       "      <th>3</th>\n",
       "      <td>Thomas D. Akers</td>\n",
       "      <td>1987.0</td>\n",
       "      <td>12.0</td>\n",
       "      <td>Retired</td>\n",
       "      <td>5/20/1951</td>\n",
       "      <td>St. Louis, MO</td>\n",
       "      <td>Male</td>\n",
       "      <td>University of Missouri-Rolla</td>\n",
       "      <td>Applied Mathematics</td>\n",
       "      <td>Applied Mathematics</td>\n",
       "      <td>Colonel</td>\n",
       "      <td>US Air Force (Retired)</td>\n",
       "      <td>4</td>\n",
       "      <td>814</td>\n",
       "      <td>4</td>\n",
       "      <td>29.0</td>\n",
       "      <td>STS-41 (Discovery), STS-49 (Endeavor), STS-61 ...</td>\n",
       "      <td>NaN</td>\n",
       "      <td>NaN</td>\n",
       "      <td>1</td>\n",
       "    </tr>\n",
       "    <tr>\n",
       "      <th>4</th>\n",
       "      <td>Buzz Aldrin</td>\n",
       "      <td>1963.0</td>\n",
       "      <td>3.0</td>\n",
       "      <td>Retired</td>\n",
       "      <td>1/20/1930</td>\n",
       "      <td>Montclair, NJ</td>\n",
       "      <td>Male</td>\n",
       "      <td>US Military Academy; MIT</td>\n",
       "      <td>Mechanical Engineering</td>\n",
       "      <td>Astronautics</td>\n",
       "      <td>Colonel</td>\n",
       "      <td>US Air Force (Retired)</td>\n",
       "      <td>2</td>\n",
       "      <td>289</td>\n",
       "      <td>2</td>\n",
       "      <td>8.0</td>\n",
       "      <td>Gemini 12, Apollo 11</td>\n",
       "      <td>NaN</td>\n",
       "      <td>NaN</td>\n",
       "      <td>1</td>\n",
       "    </tr>\n",
       "  </tbody>\n",
       "</table>\n",
       "</div>"
      ],
      "text/plain": [
       "               Name    Year  Group   Status Birth Date    Birth Place Gender  \\\n",
       "0   Joseph M. Acaba  2004.0   19.0   Active  5/17/1967  Inglewood, CA   Male   \n",
       "1    Loren W. Acton     NaN    NaN  Retired   3/7/1936   Lewiston, MT   Male   \n",
       "2  James C. Adamson  1984.0   10.0  Retired   3/3/1946     Warsaw, NY   Male   \n",
       "3   Thomas D. Akers  1987.0   12.0  Retired  5/20/1951  St. Louis, MO   Male   \n",
       "4       Buzz Aldrin  1963.0    3.0  Retired  1/20/1930  Montclair, NJ   Male   \n",
       "\n",
       "                                          Alma Mater     Undergraduate Major  \\\n",
       "0  University of California-Santa Barbara; Univer...                 Geology   \n",
       "1   Montana State University; University of Colorado     Engineering Physics   \n",
       "2          US Military Academy; Princeton University             Engineering   \n",
       "3                       University of Missouri-Rolla     Applied Mathematics   \n",
       "4                           US Military Academy; MIT  Mechanical Engineering   \n",
       "\n",
       "          Graduate Major Military Rank         Military Branch  Space Flights  \\\n",
       "0                Geology           NaN                     NaN              2   \n",
       "1          Solar Physics           NaN                     NaN              1   \n",
       "2  Aerospace Engineering       Colonel       US Army (Retired)              2   \n",
       "3    Applied Mathematics       Colonel  US Air Force (Retired)              4   \n",
       "4           Astronautics       Colonel  US Air Force (Retired)              2   \n",
       "\n",
       "   Space Flight (hr)  Space Walks  Space Walks (hr)  \\\n",
       "0               3307            2              13.0   \n",
       "1                190            0               0.0   \n",
       "2                334            0               0.0   \n",
       "3                814            4              29.0   \n",
       "4                289            2               8.0   \n",
       "\n",
       "                                            Missions Death Date Death Mission  \\\n",
       "0             STS-119 (Discovery), ISS-31/32 (Soyuz)        NaN           NaN   \n",
       "1                              STS 51-F (Challenger)        NaN           NaN   \n",
       "2               STS-28 (Columbia), STS-43 (Atlantis)        NaN           NaN   \n",
       "3  STS-41 (Discovery), STS-49 (Endeavor), STS-61 ...        NaN           NaN   \n",
       "4                               Gemini 12, Apollo 11        NaN           NaN   \n",
       "\n",
       "   Space Flights R  \n",
       "0                1  \n",
       "1                1  \n",
       "2                1  \n",
       "3                1  \n",
       "4                1  "
      ]
     },
     "execution_count": 316,
     "metadata": {},
     "output_type": "execute_result"
    }
   ],
   "source": [
    "## convert \n",
    "def recode (Space_Flights):\n",
    "    if Space_Flights >= 1:\n",
    "        return 1\n",
    "    if Space_Flights == 0:\n",
    "        return 0\n",
    "dataframe2['Space Flights R'] = dataframe2['Space Flights'].apply(recode)\n",
    "dataframe2.head()"
   ]
  },
  {
   "cell_type": "code",
   "execution_count": 317,
   "id": "75169036-37f4-4714-ab77-78c8d6d2c22f",
   "metadata": {},
   "outputs": [
    {
     "name": "stdout",
     "output_type": "stream",
     "text": [
      "<class 'pandas.core.frame.DataFrame'>\n",
      "RangeIndex: 27 entries, 0 to 26\n",
      "Data columns (total 5 columns):\n",
      " #   Column                             Non-Null Count  Dtype  \n",
      "---  ------                             --------------  -----  \n",
      " 0   ID                                 0 non-null      float64\n",
      " 1   Cohort                             27 non-null     int64  \n",
      " 2   Year                               27 non-null     int64  \n",
      " 3   Males Accepted in NASA Program     27 non-null     int64  \n",
      " 4   Females Accepted in NASA Program   27 non-null     int64  \n",
      "dtypes: float64(1), int64(4)\n",
      "memory usage: 1.2 KB\n",
      "None\n"
     ]
    }
   ],
   "source": [
    "print(dataframe3.info())"
   ]
  },
  {
   "cell_type": "code",
   "execution_count": 318,
   "id": "d6713686-607b-4fd1-a052-dd71cd8f8b72",
   "metadata": {},
   "outputs": [],
   "source": [
    "dataframe2=dataframe2.drop(columns=['Group','Year','Space Walks (hr)'])"
   ]
  },
  {
   "cell_type": "code",
   "execution_count": 319,
   "id": "e41d74e1-4ba8-4b35-829f-e031302d41cc",
   "metadata": {},
   "outputs": [],
   "source": [
    "NasaData=pd.merge(dataframe1,dataframe2, on='Gender')"
   ]
  },
  {
   "cell_type": "code",
   "execution_count": 320,
   "id": "f5c8fc3d",
   "metadata": {},
   "outputs": [
    {
     "data": {
      "text/html": [
       "<div>\n",
       "<style scoped>\n",
       "    .dataframe tbody tr th:only-of-type {\n",
       "        vertical-align: middle;\n",
       "    }\n",
       "\n",
       "    .dataframe tbody tr th {\n",
       "        vertical-align: top;\n",
       "    }\n",
       "\n",
       "    .dataframe thead th {\n",
       "        text-align: right;\n",
       "    }\n",
       "</style>\n",
       "<table border=\"1\" class=\"dataframe\">\n",
       "  <thead>\n",
       "    <tr style=\"text-align: right;\">\n",
       "      <th></th>\n",
       "      <th>NASA</th>\n",
       "      <th>Military</th>\n",
       "      <th>Race</th>\n",
       "      <th>Gender</th>\n",
       "      <th>Interviewed</th>\n",
       "      <th>Selected</th>\n",
       "      <th>Status_x</th>\n",
       "      <th>Name</th>\n",
       "      <th>Status_y</th>\n",
       "      <th>Birth Date</th>\n",
       "      <th>...</th>\n",
       "      <th>Graduate Major</th>\n",
       "      <th>Military Rank</th>\n",
       "      <th>Military Branch</th>\n",
       "      <th>Space Flights</th>\n",
       "      <th>Space Flight (hr)</th>\n",
       "      <th>Space Walks</th>\n",
       "      <th>Missions</th>\n",
       "      <th>Death Date</th>\n",
       "      <th>Death Mission</th>\n",
       "      <th>Space Flights R</th>\n",
       "    </tr>\n",
       "  </thead>\n",
       "  <tbody>\n",
       "    <tr>\n",
       "      <th>0</th>\n",
       "      <td>No</td>\n",
       "      <td>No</td>\n",
       "      <td>Caucasian</td>\n",
       "      <td>Male</td>\n",
       "      <td>MBQ not interviewed</td>\n",
       "      <td>NaN</td>\n",
       "      <td>MBQ only</td>\n",
       "      <td>Joseph M. Acaba</td>\n",
       "      <td>Active</td>\n",
       "      <td>5/17/1967</td>\n",
       "      <td>...</td>\n",
       "      <td>Geology</td>\n",
       "      <td>NaN</td>\n",
       "      <td>NaN</td>\n",
       "      <td>2</td>\n",
       "      <td>3307</td>\n",
       "      <td>2</td>\n",
       "      <td>STS-119 (Discovery), ISS-31/32 (Soyuz)</td>\n",
       "      <td>NaN</td>\n",
       "      <td>NaN</td>\n",
       "      <td>1</td>\n",
       "    </tr>\n",
       "    <tr>\n",
       "      <th>1</th>\n",
       "      <td>No</td>\n",
       "      <td>No</td>\n",
       "      <td>Caucasian</td>\n",
       "      <td>Male</td>\n",
       "      <td>MBQ not interviewed</td>\n",
       "      <td>NaN</td>\n",
       "      <td>MBQ only</td>\n",
       "      <td>Loren W. Acton</td>\n",
       "      <td>Retired</td>\n",
       "      <td>3/7/1936</td>\n",
       "      <td>...</td>\n",
       "      <td>Solar Physics</td>\n",
       "      <td>NaN</td>\n",
       "      <td>NaN</td>\n",
       "      <td>1</td>\n",
       "      <td>190</td>\n",
       "      <td>0</td>\n",
       "      <td>STS 51-F (Challenger)</td>\n",
       "      <td>NaN</td>\n",
       "      <td>NaN</td>\n",
       "      <td>1</td>\n",
       "    </tr>\n",
       "    <tr>\n",
       "      <th>2</th>\n",
       "      <td>No</td>\n",
       "      <td>No</td>\n",
       "      <td>Caucasian</td>\n",
       "      <td>Male</td>\n",
       "      <td>MBQ not interviewed</td>\n",
       "      <td>NaN</td>\n",
       "      <td>MBQ only</td>\n",
       "      <td>James C. Adamson</td>\n",
       "      <td>Retired</td>\n",
       "      <td>3/3/1946</td>\n",
       "      <td>...</td>\n",
       "      <td>Aerospace Engineering</td>\n",
       "      <td>Colonel</td>\n",
       "      <td>US Army (Retired)</td>\n",
       "      <td>2</td>\n",
       "      <td>334</td>\n",
       "      <td>0</td>\n",
       "      <td>STS-28 (Columbia), STS-43 (Atlantis)</td>\n",
       "      <td>NaN</td>\n",
       "      <td>NaN</td>\n",
       "      <td>1</td>\n",
       "    </tr>\n",
       "    <tr>\n",
       "      <th>3</th>\n",
       "      <td>No</td>\n",
       "      <td>No</td>\n",
       "      <td>Caucasian</td>\n",
       "      <td>Male</td>\n",
       "      <td>MBQ not interviewed</td>\n",
       "      <td>NaN</td>\n",
       "      <td>MBQ only</td>\n",
       "      <td>Thomas D. Akers</td>\n",
       "      <td>Retired</td>\n",
       "      <td>5/20/1951</td>\n",
       "      <td>...</td>\n",
       "      <td>Applied Mathematics</td>\n",
       "      <td>Colonel</td>\n",
       "      <td>US Air Force (Retired)</td>\n",
       "      <td>4</td>\n",
       "      <td>814</td>\n",
       "      <td>4</td>\n",
       "      <td>STS-41 (Discovery), STS-49 (Endeavor), STS-61 ...</td>\n",
       "      <td>NaN</td>\n",
       "      <td>NaN</td>\n",
       "      <td>1</td>\n",
       "    </tr>\n",
       "    <tr>\n",
       "      <th>4</th>\n",
       "      <td>No</td>\n",
       "      <td>No</td>\n",
       "      <td>Caucasian</td>\n",
       "      <td>Male</td>\n",
       "      <td>MBQ not interviewed</td>\n",
       "      <td>NaN</td>\n",
       "      <td>MBQ only</td>\n",
       "      <td>Buzz Aldrin</td>\n",
       "      <td>Retired</td>\n",
       "      <td>1/20/1930</td>\n",
       "      <td>...</td>\n",
       "      <td>Astronautics</td>\n",
       "      <td>Colonel</td>\n",
       "      <td>US Air Force (Retired)</td>\n",
       "      <td>2</td>\n",
       "      <td>289</td>\n",
       "      <td>2</td>\n",
       "      <td>Gemini 12, Apollo 11</td>\n",
       "      <td>NaN</td>\n",
       "      <td>NaN</td>\n",
       "      <td>1</td>\n",
       "    </tr>\n",
       "  </tbody>\n",
       "</table>\n",
       "<p>5 rows × 23 columns</p>\n",
       "</div>"
      ],
      "text/plain": [
       "  NASA Military       Race Gender          Interviewed Selected  Status_x  \\\n",
       "0   No       No  Caucasian   Male  MBQ not interviewed      NaN  MBQ only   \n",
       "1   No       No  Caucasian   Male  MBQ not interviewed      NaN  MBQ only   \n",
       "2   No       No  Caucasian   Male  MBQ not interviewed      NaN  MBQ only   \n",
       "3   No       No  Caucasian   Male  MBQ not interviewed      NaN  MBQ only   \n",
       "4   No       No  Caucasian   Male  MBQ not interviewed      NaN  MBQ only   \n",
       "\n",
       "               Name Status_y Birth Date  ...         Graduate Major  \\\n",
       "0   Joseph M. Acaba   Active  5/17/1967  ...                Geology   \n",
       "1    Loren W. Acton  Retired   3/7/1936  ...          Solar Physics   \n",
       "2  James C. Adamson  Retired   3/3/1946  ...  Aerospace Engineering   \n",
       "3   Thomas D. Akers  Retired  5/20/1951  ...    Applied Mathematics   \n",
       "4       Buzz Aldrin  Retired  1/20/1930  ...           Astronautics   \n",
       "\n",
       "  Military Rank         Military Branch Space Flights Space Flight (hr)  \\\n",
       "0           NaN                     NaN             2              3307   \n",
       "1           NaN                     NaN             1               190   \n",
       "2       Colonel       US Army (Retired)             2               334   \n",
       "3       Colonel  US Air Force (Retired)             4               814   \n",
       "4       Colonel  US Air Force (Retired)             2               289   \n",
       "\n",
       "  Space Walks                                           Missions  Death Date  \\\n",
       "0           2             STS-119 (Discovery), ISS-31/32 (Soyuz)         NaN   \n",
       "1           0                              STS 51-F (Challenger)         NaN   \n",
       "2           0               STS-28 (Columbia), STS-43 (Atlantis)         NaN   \n",
       "3           4  STS-41 (Discovery), STS-49 (Endeavor), STS-61 ...         NaN   \n",
       "4           2                               Gemini 12, Apollo 11         NaN   \n",
       "\n",
       "   Death Mission Space Flights R  \n",
       "0            NaN               1  \n",
       "1            NaN               1  \n",
       "2            NaN               1  \n",
       "3            NaN               1  \n",
       "4            NaN               1  \n",
       "\n",
       "[5 rows x 23 columns]"
      ]
     },
     "execution_count": 320,
     "metadata": {},
     "output_type": "execute_result"
    }
   ],
   "source": [
    "NasaData.head()"
   ]
  },
  {
   "cell_type": "code",
   "execution_count": 321,
   "id": "75b4ba0f",
   "metadata": {},
   "outputs": [],
   "source": [
    "def recode (Gender):\n",
    "    if Gender == \"Male\":\n",
    "        return 1\n",
    "    if Gender == \"Female\":\n",
    "        return 0\n",
    "NasaData['GenderR'] = NasaData['Gender'].apply(recode)"
   ]
  },
  {
   "cell_type": "code",
   "execution_count": 322,
   "id": "9acab822-0b09-4082-910b-e56498896769",
   "metadata": {},
   "outputs": [],
   "source": [
    "def recode (Military):\n",
    "    if Military == \"No\":\n",
    "        return False\n",
    "    if Military == \"Yes\":\n",
    "        return True\n",
    "NasaData['MilitaryR'] = NasaData['Military'].apply(recode)"
   ]
  },
  {
   "cell_type": "code",
   "execution_count": 323,
   "id": "0eb175e5-acb1-45d0-8b87-99a5cec9a541",
   "metadata": {},
   "outputs": [],
   "source": [
    "def recode (Selected):\n",
    "    if Selected == \"Selectee\":\n",
    "        return True\n",
    "    if Selected == \"Interviewee not selected\":\n",
    "        return False\n",
    "NasaData['SelectedR'] = NasaData['Selected'].apply(recode)"
   ]
  },
  {
   "cell_type": "code",
   "execution_count": 324,
   "id": "5fa2967c",
   "metadata": {},
   "outputs": [
    {
     "data": {
      "text/html": [
       "<div>\n",
       "<style scoped>\n",
       "    .dataframe tbody tr th:only-of-type {\n",
       "        vertical-align: middle;\n",
       "    }\n",
       "\n",
       "    .dataframe tbody tr th {\n",
       "        vertical-align: top;\n",
       "    }\n",
       "\n",
       "    .dataframe thead th {\n",
       "        text-align: right;\n",
       "    }\n",
       "</style>\n",
       "<table border=\"1\" class=\"dataframe\">\n",
       "  <thead>\n",
       "    <tr style=\"text-align: right;\">\n",
       "      <th></th>\n",
       "      <th>NASA</th>\n",
       "      <th>Military</th>\n",
       "      <th>Race</th>\n",
       "      <th>Gender</th>\n",
       "      <th>Interviewed</th>\n",
       "      <th>Selected</th>\n",
       "      <th>Status_x</th>\n",
       "      <th>Name</th>\n",
       "      <th>Status_y</th>\n",
       "      <th>Birth Date</th>\n",
       "      <th>...</th>\n",
       "      <th>Space Flights</th>\n",
       "      <th>Space Flight (hr)</th>\n",
       "      <th>Space Walks</th>\n",
       "      <th>Missions</th>\n",
       "      <th>Death Date</th>\n",
       "      <th>Death Mission</th>\n",
       "      <th>Space Flights R</th>\n",
       "      <th>GenderR</th>\n",
       "      <th>MilitaryR</th>\n",
       "      <th>SelectedR</th>\n",
       "    </tr>\n",
       "  </thead>\n",
       "  <tbody>\n",
       "    <tr>\n",
       "      <th>0</th>\n",
       "      <td>No</td>\n",
       "      <td>No</td>\n",
       "      <td>Caucasian</td>\n",
       "      <td>Male</td>\n",
       "      <td>MBQ not interviewed</td>\n",
       "      <td>NaN</td>\n",
       "      <td>MBQ only</td>\n",
       "      <td>Joseph M. Acaba</td>\n",
       "      <td>Active</td>\n",
       "      <td>5/17/1967</td>\n",
       "      <td>...</td>\n",
       "      <td>2</td>\n",
       "      <td>3307</td>\n",
       "      <td>2</td>\n",
       "      <td>STS-119 (Discovery), ISS-31/32 (Soyuz)</td>\n",
       "      <td>NaN</td>\n",
       "      <td>NaN</td>\n",
       "      <td>1</td>\n",
       "      <td>1</td>\n",
       "      <td>False</td>\n",
       "      <td>None</td>\n",
       "    </tr>\n",
       "    <tr>\n",
       "      <th>1</th>\n",
       "      <td>No</td>\n",
       "      <td>No</td>\n",
       "      <td>Caucasian</td>\n",
       "      <td>Male</td>\n",
       "      <td>MBQ not interviewed</td>\n",
       "      <td>NaN</td>\n",
       "      <td>MBQ only</td>\n",
       "      <td>Loren W. Acton</td>\n",
       "      <td>Retired</td>\n",
       "      <td>3/7/1936</td>\n",
       "      <td>...</td>\n",
       "      <td>1</td>\n",
       "      <td>190</td>\n",
       "      <td>0</td>\n",
       "      <td>STS 51-F (Challenger)</td>\n",
       "      <td>NaN</td>\n",
       "      <td>NaN</td>\n",
       "      <td>1</td>\n",
       "      <td>1</td>\n",
       "      <td>False</td>\n",
       "      <td>None</td>\n",
       "    </tr>\n",
       "    <tr>\n",
       "      <th>2</th>\n",
       "      <td>No</td>\n",
       "      <td>No</td>\n",
       "      <td>Caucasian</td>\n",
       "      <td>Male</td>\n",
       "      <td>MBQ not interviewed</td>\n",
       "      <td>NaN</td>\n",
       "      <td>MBQ only</td>\n",
       "      <td>James C. Adamson</td>\n",
       "      <td>Retired</td>\n",
       "      <td>3/3/1946</td>\n",
       "      <td>...</td>\n",
       "      <td>2</td>\n",
       "      <td>334</td>\n",
       "      <td>0</td>\n",
       "      <td>STS-28 (Columbia), STS-43 (Atlantis)</td>\n",
       "      <td>NaN</td>\n",
       "      <td>NaN</td>\n",
       "      <td>1</td>\n",
       "      <td>1</td>\n",
       "      <td>False</td>\n",
       "      <td>None</td>\n",
       "    </tr>\n",
       "    <tr>\n",
       "      <th>3</th>\n",
       "      <td>No</td>\n",
       "      <td>No</td>\n",
       "      <td>Caucasian</td>\n",
       "      <td>Male</td>\n",
       "      <td>MBQ not interviewed</td>\n",
       "      <td>NaN</td>\n",
       "      <td>MBQ only</td>\n",
       "      <td>Thomas D. Akers</td>\n",
       "      <td>Retired</td>\n",
       "      <td>5/20/1951</td>\n",
       "      <td>...</td>\n",
       "      <td>4</td>\n",
       "      <td>814</td>\n",
       "      <td>4</td>\n",
       "      <td>STS-41 (Discovery), STS-49 (Endeavor), STS-61 ...</td>\n",
       "      <td>NaN</td>\n",
       "      <td>NaN</td>\n",
       "      <td>1</td>\n",
       "      <td>1</td>\n",
       "      <td>False</td>\n",
       "      <td>None</td>\n",
       "    </tr>\n",
       "    <tr>\n",
       "      <th>4</th>\n",
       "      <td>No</td>\n",
       "      <td>No</td>\n",
       "      <td>Caucasian</td>\n",
       "      <td>Male</td>\n",
       "      <td>MBQ not interviewed</td>\n",
       "      <td>NaN</td>\n",
       "      <td>MBQ only</td>\n",
       "      <td>Buzz Aldrin</td>\n",
       "      <td>Retired</td>\n",
       "      <td>1/20/1930</td>\n",
       "      <td>...</td>\n",
       "      <td>2</td>\n",
       "      <td>289</td>\n",
       "      <td>2</td>\n",
       "      <td>Gemini 12, Apollo 11</td>\n",
       "      <td>NaN</td>\n",
       "      <td>NaN</td>\n",
       "      <td>1</td>\n",
       "      <td>1</td>\n",
       "      <td>False</td>\n",
       "      <td>None</td>\n",
       "    </tr>\n",
       "  </tbody>\n",
       "</table>\n",
       "<p>5 rows × 26 columns</p>\n",
       "</div>"
      ],
      "text/plain": [
       "  NASA Military       Race Gender          Interviewed Selected  Status_x  \\\n",
       "0   No       No  Caucasian   Male  MBQ not interviewed      NaN  MBQ only   \n",
       "1   No       No  Caucasian   Male  MBQ not interviewed      NaN  MBQ only   \n",
       "2   No       No  Caucasian   Male  MBQ not interviewed      NaN  MBQ only   \n",
       "3   No       No  Caucasian   Male  MBQ not interviewed      NaN  MBQ only   \n",
       "4   No       No  Caucasian   Male  MBQ not interviewed      NaN  MBQ only   \n",
       "\n",
       "               Name Status_y Birth Date  ... Space Flights Space Flight (hr)  \\\n",
       "0   Joseph M. Acaba   Active  5/17/1967  ...             2              3307   \n",
       "1    Loren W. Acton  Retired   3/7/1936  ...             1               190   \n",
       "2  James C. Adamson  Retired   3/3/1946  ...             2               334   \n",
       "3   Thomas D. Akers  Retired  5/20/1951  ...             4               814   \n",
       "4       Buzz Aldrin  Retired  1/20/1930  ...             2               289   \n",
       "\n",
       "  Space Walks                                           Missions Death Date  \\\n",
       "0           2             STS-119 (Discovery), ISS-31/32 (Soyuz)        NaN   \n",
       "1           0                              STS 51-F (Challenger)        NaN   \n",
       "2           0               STS-28 (Columbia), STS-43 (Atlantis)        NaN   \n",
       "3           4  STS-41 (Discovery), STS-49 (Endeavor), STS-61 ...        NaN   \n",
       "4           2                               Gemini 12, Apollo 11        NaN   \n",
       "\n",
       "  Death Mission  Space Flights R  GenderR  MilitaryR SelectedR  \n",
       "0           NaN                1        1      False      None  \n",
       "1           NaN                1        1      False      None  \n",
       "2           NaN                1        1      False      None  \n",
       "3           NaN                1        1      False      None  \n",
       "4           NaN                1        1      False      None  \n",
       "\n",
       "[5 rows x 26 columns]"
      ]
     },
     "execution_count": 324,
     "metadata": {},
     "output_type": "execute_result"
    }
   ],
   "source": [
    "NasaData.head()"
   ]
  },
  {
   "cell_type": "code",
   "execution_count": 325,
   "id": "9ef675a1-319d-48d8-a867-90ea2b0891e3",
   "metadata": {},
   "outputs": [
    {
     "data": {
      "text/plain": [
       "Index(['NASA', 'Military', 'Race', 'Gender', 'Interviewed', 'Selected',\n",
       "       'Status_x', 'Name', 'Status_y', 'Birth Date', 'Birth Place',\n",
       "       'Alma Mater', 'Undergraduate Major', 'Graduate Major', 'Military Rank',\n",
       "       'Military Branch', 'Space Flights', 'Space Flight (hr)', 'Space Walks',\n",
       "       'Missions', 'Death Date', 'Death Mission', 'Space Flights R', 'GenderR',\n",
       "       'MilitaryR', 'SelectedR'],\n",
       "      dtype='object')"
      ]
     },
     "execution_count": 325,
     "metadata": {},
     "output_type": "execute_result"
    }
   ],
   "source": [
    "NasaData.columns"
   ]
  },
  {
   "cell_type": "markdown",
   "id": "d83bc8f3-4d2f-4b73-88c2-a72af76a05f8",
   "metadata": {},
   "source": [
    "### Delete unwanted columns"
   ]
  },
  {
   "cell_type": "code",
   "execution_count": 326,
   "id": "3d4c6d92-17df-4d3f-9a8c-e64db6a61967",
   "metadata": {},
   "outputs": [],
   "source": [
    "NasaData=NasaData.drop(columns=['Graduate Major','Birth Date','Interviewed','Selected',\n",
    "       'Status_x','Status_y', 'Birth Date', 'Birth Place',\n",
    "       'Alma Mater', 'Undergraduate Major', 'Graduate Major', 'Military Rank',\n",
    "       'Military Branch','Death Date', 'Death Mission'])"
   ]
  },
  {
   "cell_type": "code",
   "execution_count": 327,
   "id": "3c7e18bb-691d-4e34-9fed-5da33376551e",
   "metadata": {},
   "outputs": [
    {
     "data": {
      "text/html": [
       "<div>\n",
       "<style scoped>\n",
       "    .dataframe tbody tr th:only-of-type {\n",
       "        vertical-align: middle;\n",
       "    }\n",
       "\n",
       "    .dataframe tbody tr th {\n",
       "        vertical-align: top;\n",
       "    }\n",
       "\n",
       "    .dataframe thead th {\n",
       "        text-align: right;\n",
       "    }\n",
       "</style>\n",
       "<table border=\"1\" class=\"dataframe\">\n",
       "  <thead>\n",
       "    <tr style=\"text-align: right;\">\n",
       "      <th></th>\n",
       "      <th>NASA</th>\n",
       "      <th>Military</th>\n",
       "      <th>Race</th>\n",
       "      <th>Gender</th>\n",
       "      <th>Name</th>\n",
       "      <th>Space Flights</th>\n",
       "      <th>Space Flight (hr)</th>\n",
       "      <th>Space Walks</th>\n",
       "      <th>Missions</th>\n",
       "      <th>Space Flights R</th>\n",
       "      <th>GenderR</th>\n",
       "      <th>MilitaryR</th>\n",
       "      <th>SelectedR</th>\n",
       "    </tr>\n",
       "  </thead>\n",
       "  <tbody>\n",
       "    <tr>\n",
       "      <th>0</th>\n",
       "      <td>No</td>\n",
       "      <td>No</td>\n",
       "      <td>Caucasian</td>\n",
       "      <td>Male</td>\n",
       "      <td>Joseph M. Acaba</td>\n",
       "      <td>2</td>\n",
       "      <td>3307</td>\n",
       "      <td>2</td>\n",
       "      <td>STS-119 (Discovery), ISS-31/32 (Soyuz)</td>\n",
       "      <td>1</td>\n",
       "      <td>1</td>\n",
       "      <td>False</td>\n",
       "      <td>None</td>\n",
       "    </tr>\n",
       "    <tr>\n",
       "      <th>1</th>\n",
       "      <td>No</td>\n",
       "      <td>No</td>\n",
       "      <td>Caucasian</td>\n",
       "      <td>Male</td>\n",
       "      <td>Loren W. Acton</td>\n",
       "      <td>1</td>\n",
       "      <td>190</td>\n",
       "      <td>0</td>\n",
       "      <td>STS 51-F (Challenger)</td>\n",
       "      <td>1</td>\n",
       "      <td>1</td>\n",
       "      <td>False</td>\n",
       "      <td>None</td>\n",
       "    </tr>\n",
       "    <tr>\n",
       "      <th>2</th>\n",
       "      <td>No</td>\n",
       "      <td>No</td>\n",
       "      <td>Caucasian</td>\n",
       "      <td>Male</td>\n",
       "      <td>James C. Adamson</td>\n",
       "      <td>2</td>\n",
       "      <td>334</td>\n",
       "      <td>0</td>\n",
       "      <td>STS-28 (Columbia), STS-43 (Atlantis)</td>\n",
       "      <td>1</td>\n",
       "      <td>1</td>\n",
       "      <td>False</td>\n",
       "      <td>None</td>\n",
       "    </tr>\n",
       "    <tr>\n",
       "      <th>3</th>\n",
       "      <td>No</td>\n",
       "      <td>No</td>\n",
       "      <td>Caucasian</td>\n",
       "      <td>Male</td>\n",
       "      <td>Thomas D. Akers</td>\n",
       "      <td>4</td>\n",
       "      <td>814</td>\n",
       "      <td>4</td>\n",
       "      <td>STS-41 (Discovery), STS-49 (Endeavor), STS-61 ...</td>\n",
       "      <td>1</td>\n",
       "      <td>1</td>\n",
       "      <td>False</td>\n",
       "      <td>None</td>\n",
       "    </tr>\n",
       "    <tr>\n",
       "      <th>4</th>\n",
       "      <td>No</td>\n",
       "      <td>No</td>\n",
       "      <td>Caucasian</td>\n",
       "      <td>Male</td>\n",
       "      <td>Buzz Aldrin</td>\n",
       "      <td>2</td>\n",
       "      <td>289</td>\n",
       "      <td>2</td>\n",
       "      <td>Gemini 12, Apollo 11</td>\n",
       "      <td>1</td>\n",
       "      <td>1</td>\n",
       "      <td>False</td>\n",
       "      <td>None</td>\n",
       "    </tr>\n",
       "  </tbody>\n",
       "</table>\n",
       "</div>"
      ],
      "text/plain": [
       "  NASA Military       Race Gender              Name  Space Flights  \\\n",
       "0   No       No  Caucasian   Male   Joseph M. Acaba              2   \n",
       "1   No       No  Caucasian   Male    Loren W. Acton              1   \n",
       "2   No       No  Caucasian   Male  James C. Adamson              2   \n",
       "3   No       No  Caucasian   Male   Thomas D. Akers              4   \n",
       "4   No       No  Caucasian   Male       Buzz Aldrin              2   \n",
       "\n",
       "   Space Flight (hr)  Space Walks  \\\n",
       "0               3307            2   \n",
       "1                190            0   \n",
       "2                334            0   \n",
       "3                814            4   \n",
       "4                289            2   \n",
       "\n",
       "                                            Missions  Space Flights R  \\\n",
       "0             STS-119 (Discovery), ISS-31/32 (Soyuz)                1   \n",
       "1                              STS 51-F (Challenger)                1   \n",
       "2               STS-28 (Columbia), STS-43 (Atlantis)                1   \n",
       "3  STS-41 (Discovery), STS-49 (Endeavor), STS-61 ...                1   \n",
       "4                               Gemini 12, Apollo 11                1   \n",
       "\n",
       "   GenderR  MilitaryR SelectedR  \n",
       "0        1      False      None  \n",
       "1        1      False      None  \n",
       "2        1      False      None  \n",
       "3        1      False      None  \n",
       "4        1      False      None  "
      ]
     },
     "execution_count": 327,
     "metadata": {},
     "output_type": "execute_result"
    }
   ],
   "source": [
    "NasaData.head()"
   ]
  },
  {
   "cell_type": "markdown",
   "id": "3dc68c34-4b52-4727-a8c6-9453c116e9d8",
   "metadata": {},
   "source": [
    "### Check for NA's"
   ]
  },
  {
   "cell_type": "code",
   "execution_count": 328,
   "id": "a774e08a",
   "metadata": {},
   "outputs": [
    {
     "data": {
      "text/plain": [
       "NASA                      0\n",
       "Military                  0\n",
       "Race                  32985\n",
       "Gender                    0\n",
       "Name                      0\n",
       "Space Flights             0\n",
       "Space Flight (hr)         0\n",
       "Space Walks               0\n",
       "Missions              44709\n",
       "Space Flights R           0\n",
       "GenderR                   0\n",
       "MilitaryR                 0\n",
       "SelectedR            701772\n",
       "dtype: int64"
      ]
     },
     "execution_count": 328,
     "metadata": {},
     "output_type": "execute_result"
    }
   ],
   "source": [
    "NasaData.isna().sum()"
   ]
  },
  {
   "cell_type": "code",
   "execution_count": 329,
   "id": "1ca826d1-72c3-4e9c-b05a-968839982336",
   "metadata": {},
   "outputs": [],
   "source": [
    "NasaData=NasaData.dropna()"
   ]
  },
  {
   "cell_type": "code",
   "execution_count": 393,
   "id": "2fba0327-2914-492a-b4f3-1258da2a53f9",
   "metadata": {},
   "outputs": [
    {
     "name": "stdout",
     "output_type": "stream",
     "text": [
      "<class 'pandas.core.frame.DataFrame'>\n",
      "Int64Index: 11358 entries, 85346 to 708594\n",
      "Data columns (total 16 columns):\n",
      " #   Column                 Non-Null Count  Dtype  \n",
      "---  ------                 --------------  -----  \n",
      " 0   NASA                   11358 non-null  object \n",
      " 1   Military               11358 non-null  object \n",
      " 2   Race                   11358 non-null  object \n",
      " 3   Gender                 11358 non-null  object \n",
      " 4   Name                   11358 non-null  object \n",
      " 5   Space Flights          11358 non-null  int64  \n",
      " 6   Space Flight (hr)      11358 non-null  int64  \n",
      " 7   Space Walks            11358 non-null  int64  \n",
      " 8   Missions               11358 non-null  object \n",
      " 9   Space Flights R        11358 non-null  int64  \n",
      " 10  GenderR                11358 non-null  int64  \n",
      " 11  MilitaryR              11358 non-null  bool   \n",
      " 12  SelectedR              11358 non-null  bool   \n",
      " 13  Space Flight (hr)SQRT  11358 non-null  float64\n",
      " 14  Space FlightsSQRT      11358 non-null  float64\n",
      " 15  Space WalksSQRT        11358 non-null  float64\n",
      "dtypes: bool(2), float64(3), int64(5), object(6)\n",
      "memory usage: 1.3+ MB\n"
     ]
    }
   ],
   "source": [
    "NasaData.info()\n",
    "NasaData['SelectedR'] = NasaData['SelectedR'].astype('bool')"
   ]
  },
  {
   "cell_type": "code",
   "execution_count": 394,
   "id": "5f3e47be-4613-42c8-8a68-237e1d59c7b9",
   "metadata": {},
   "outputs": [
    {
     "data": {
      "text/html": [
       "<div>\n",
       "<style scoped>\n",
       "    .dataframe tbody tr th:only-of-type {\n",
       "        vertical-align: middle;\n",
       "    }\n",
       "\n",
       "    .dataframe tbody tr th {\n",
       "        vertical-align: top;\n",
       "    }\n",
       "\n",
       "    .dataframe thead th {\n",
       "        text-align: right;\n",
       "    }\n",
       "</style>\n",
       "<table border=\"1\" class=\"dataframe\">\n",
       "  <thead>\n",
       "    <tr style=\"text-align: right;\">\n",
       "      <th></th>\n",
       "      <th>NASA</th>\n",
       "      <th>Military</th>\n",
       "      <th>Race</th>\n",
       "      <th>Gender</th>\n",
       "      <th>Name</th>\n",
       "      <th>Space Flights</th>\n",
       "      <th>Space Flight (hr)</th>\n",
       "      <th>Space Walks</th>\n",
       "      <th>Missions</th>\n",
       "      <th>Space Flights R</th>\n",
       "      <th>GenderR</th>\n",
       "      <th>MilitaryR</th>\n",
       "      <th>SelectedR</th>\n",
       "      <th>Space Flight (hr)SQRT</th>\n",
       "      <th>Space FlightsSQRT</th>\n",
       "      <th>Space WalksSQRT</th>\n",
       "    </tr>\n",
       "  </thead>\n",
       "  <tbody>\n",
       "    <tr>\n",
       "      <th>85346</th>\n",
       "      <td>No</td>\n",
       "      <td>Yes</td>\n",
       "      <td>African American</td>\n",
       "      <td>Male</td>\n",
       "      <td>Joseph M. Acaba</td>\n",
       "      <td>2</td>\n",
       "      <td>3307</td>\n",
       "      <td>2</td>\n",
       "      <td>STS-119 (Discovery), ISS-31/32 (Soyuz)</td>\n",
       "      <td>1</td>\n",
       "      <td>1</td>\n",
       "      <td>True</td>\n",
       "      <td>False</td>\n",
       "      <td>57.506521</td>\n",
       "      <td>1.414214</td>\n",
       "      <td>1.414214</td>\n",
       "    </tr>\n",
       "    <tr>\n",
       "      <th>85347</th>\n",
       "      <td>No</td>\n",
       "      <td>Yes</td>\n",
       "      <td>African American</td>\n",
       "      <td>Male</td>\n",
       "      <td>Loren W. Acton</td>\n",
       "      <td>1</td>\n",
       "      <td>190</td>\n",
       "      <td>0</td>\n",
       "      <td>STS 51-F (Challenger)</td>\n",
       "      <td>1</td>\n",
       "      <td>1</td>\n",
       "      <td>True</td>\n",
       "      <td>False</td>\n",
       "      <td>13.784049</td>\n",
       "      <td>1.000000</td>\n",
       "      <td>0.000000</td>\n",
       "    </tr>\n",
       "    <tr>\n",
       "      <th>85348</th>\n",
       "      <td>No</td>\n",
       "      <td>Yes</td>\n",
       "      <td>African American</td>\n",
       "      <td>Male</td>\n",
       "      <td>James C. Adamson</td>\n",
       "      <td>2</td>\n",
       "      <td>334</td>\n",
       "      <td>0</td>\n",
       "      <td>STS-28 (Columbia), STS-43 (Atlantis)</td>\n",
       "      <td>1</td>\n",
       "      <td>1</td>\n",
       "      <td>True</td>\n",
       "      <td>False</td>\n",
       "      <td>18.275667</td>\n",
       "      <td>1.414214</td>\n",
       "      <td>0.000000</td>\n",
       "    </tr>\n",
       "    <tr>\n",
       "      <th>85349</th>\n",
       "      <td>No</td>\n",
       "      <td>Yes</td>\n",
       "      <td>African American</td>\n",
       "      <td>Male</td>\n",
       "      <td>Thomas D. Akers</td>\n",
       "      <td>4</td>\n",
       "      <td>814</td>\n",
       "      <td>4</td>\n",
       "      <td>STS-41 (Discovery), STS-49 (Endeavor), STS-61 ...</td>\n",
       "      <td>1</td>\n",
       "      <td>1</td>\n",
       "      <td>True</td>\n",
       "      <td>False</td>\n",
       "      <td>28.530685</td>\n",
       "      <td>2.000000</td>\n",
       "      <td>2.000000</td>\n",
       "    </tr>\n",
       "    <tr>\n",
       "      <th>85350</th>\n",
       "      <td>No</td>\n",
       "      <td>Yes</td>\n",
       "      <td>African American</td>\n",
       "      <td>Male</td>\n",
       "      <td>Buzz Aldrin</td>\n",
       "      <td>2</td>\n",
       "      <td>289</td>\n",
       "      <td>2</td>\n",
       "      <td>Gemini 12, Apollo 11</td>\n",
       "      <td>1</td>\n",
       "      <td>1</td>\n",
       "      <td>True</td>\n",
       "      <td>False</td>\n",
       "      <td>17.000000</td>\n",
       "      <td>1.414214</td>\n",
       "      <td>1.414214</td>\n",
       "    </tr>\n",
       "  </tbody>\n",
       "</table>\n",
       "</div>"
      ],
      "text/plain": [
       "      NASA Military              Race Gender              Name  Space Flights  \\\n",
       "85346   No      Yes  African American   Male   Joseph M. Acaba              2   \n",
       "85347   No      Yes  African American   Male    Loren W. Acton              1   \n",
       "85348   No      Yes  African American   Male  James C. Adamson              2   \n",
       "85349   No      Yes  African American   Male   Thomas D. Akers              4   \n",
       "85350   No      Yes  African American   Male       Buzz Aldrin              2   \n",
       "\n",
       "       Space Flight (hr)  Space Walks  \\\n",
       "85346               3307            2   \n",
       "85347                190            0   \n",
       "85348                334            0   \n",
       "85349                814            4   \n",
       "85350                289            2   \n",
       "\n",
       "                                                Missions  Space Flights R  \\\n",
       "85346             STS-119 (Discovery), ISS-31/32 (Soyuz)                1   \n",
       "85347                              STS 51-F (Challenger)                1   \n",
       "85348               STS-28 (Columbia), STS-43 (Atlantis)                1   \n",
       "85349  STS-41 (Discovery), STS-49 (Endeavor), STS-61 ...                1   \n",
       "85350                               Gemini 12, Apollo 11                1   \n",
       "\n",
       "       GenderR  MilitaryR  SelectedR  Space Flight (hr)SQRT  \\\n",
       "85346        1       True      False              57.506521   \n",
       "85347        1       True      False              13.784049   \n",
       "85348        1       True      False              18.275667   \n",
       "85349        1       True      False              28.530685   \n",
       "85350        1       True      False              17.000000   \n",
       "\n",
       "       Space FlightsSQRT  Space WalksSQRT  \n",
       "85346           1.414214         1.414214  \n",
       "85347           1.000000         0.000000  \n",
       "85348           1.414214         0.000000  \n",
       "85349           2.000000         2.000000  \n",
       "85350           1.414214         1.414214  "
      ]
     },
     "execution_count": 394,
     "metadata": {},
     "output_type": "execute_result"
    }
   ],
   "source": [
    "NasaData.head()"
   ]
  },
  {
   "cell_type": "code",
   "execution_count": 395,
   "id": "24aafa1d-71a6-4cc7-970e-78e3f3920db4",
   "metadata": {},
   "outputs": [
    {
     "data": {
      "text/html": [
       "<div>\n",
       "<style scoped>\n",
       "    .dataframe tbody tr th:only-of-type {\n",
       "        vertical-align: middle;\n",
       "    }\n",
       "\n",
       "    .dataframe tbody tr th {\n",
       "        vertical-align: top;\n",
       "    }\n",
       "\n",
       "    .dataframe thead th {\n",
       "        text-align: right;\n",
       "    }\n",
       "</style>\n",
       "<table border=\"1\" class=\"dataframe\">\n",
       "  <thead>\n",
       "    <tr style=\"text-align: right;\">\n",
       "      <th></th>\n",
       "      <th>Year</th>\n",
       "      <th>White House Budget Submission</th>\n",
       "      <th>Males Accepted in NASA Program</th>\n",
       "      <th>Females Accepted in NASA Program</th>\n",
       "    </tr>\n",
       "  </thead>\n",
       "  <tbody>\n",
       "    <tr>\n",
       "      <th>0</th>\n",
       "      <td>False</td>\n",
       "      <td>False</td>\n",
       "      <td>False</td>\n",
       "      <td>False</td>\n",
       "    </tr>\n",
       "    <tr>\n",
       "      <th>1</th>\n",
       "      <td>False</td>\n",
       "      <td>False</td>\n",
       "      <td>False</td>\n",
       "      <td>False</td>\n",
       "    </tr>\n",
       "    <tr>\n",
       "      <th>2</th>\n",
       "      <td>False</td>\n",
       "      <td>False</td>\n",
       "      <td>False</td>\n",
       "      <td>False</td>\n",
       "    </tr>\n",
       "    <tr>\n",
       "      <th>3</th>\n",
       "      <td>False</td>\n",
       "      <td>False</td>\n",
       "      <td>False</td>\n",
       "      <td>False</td>\n",
       "    </tr>\n",
       "    <tr>\n",
       "      <th>4</th>\n",
       "      <td>False</td>\n",
       "      <td>False</td>\n",
       "      <td>False</td>\n",
       "      <td>False</td>\n",
       "    </tr>\n",
       "    <tr>\n",
       "      <th>...</th>\n",
       "      <td>...</td>\n",
       "      <td>...</td>\n",
       "      <td>...</td>\n",
       "      <td>...</td>\n",
       "    </tr>\n",
       "    <tr>\n",
       "      <th>64</th>\n",
       "      <td>False</td>\n",
       "      <td>False</td>\n",
       "      <td>False</td>\n",
       "      <td>False</td>\n",
       "    </tr>\n",
       "    <tr>\n",
       "      <th>65</th>\n",
       "      <td>False</td>\n",
       "      <td>False</td>\n",
       "      <td>False</td>\n",
       "      <td>False</td>\n",
       "    </tr>\n",
       "    <tr>\n",
       "      <th>66</th>\n",
       "      <td>False</td>\n",
       "      <td>False</td>\n",
       "      <td>False</td>\n",
       "      <td>False</td>\n",
       "    </tr>\n",
       "    <tr>\n",
       "      <th>67</th>\n",
       "      <td>False</td>\n",
       "      <td>False</td>\n",
       "      <td>False</td>\n",
       "      <td>False</td>\n",
       "    </tr>\n",
       "    <tr>\n",
       "      <th>68</th>\n",
       "      <td>False</td>\n",
       "      <td>False</td>\n",
       "      <td>False</td>\n",
       "      <td>False</td>\n",
       "    </tr>\n",
       "  </tbody>\n",
       "</table>\n",
       "<p>69 rows × 4 columns</p>\n",
       "</div>"
      ],
      "text/plain": [
       "     Year  White House Budget Submission  Males Accepted in NASA Program   \\\n",
       "0   False                          False                            False   \n",
       "1   False                          False                            False   \n",
       "2   False                          False                            False   \n",
       "3   False                          False                            False   \n",
       "4   False                          False                            False   \n",
       "..    ...                            ...                              ...   \n",
       "64  False                          False                            False   \n",
       "65  False                          False                            False   \n",
       "66  False                          False                            False   \n",
       "67  False                          False                            False   \n",
       "68  False                          False                            False   \n",
       "\n",
       "    Females Accepted in NASA Program   \n",
       "0                               False  \n",
       "1                               False  \n",
       "2                               False  \n",
       "3                               False  \n",
       "4                               False  \n",
       "..                                ...  \n",
       "64                              False  \n",
       "65                              False  \n",
       "66                              False  \n",
       "67                              False  \n",
       "68                              False  \n",
       "\n",
       "[69 rows x 4 columns]"
      ]
     },
     "execution_count": 395,
     "metadata": {},
     "output_type": "execute_result"
    }
   ],
   "source": [
    "dataframebudget.isna()"
   ]
  },
  {
   "cell_type": "code",
   "execution_count": 396,
   "id": "0c0d744c-cc17-4e64-a291-d7e598279c0a",
   "metadata": {},
   "outputs": [],
   "source": [
    "dataframebudget=dataframebudget.fillna(0)"
   ]
  },
  {
   "cell_type": "code",
   "execution_count": 397,
   "id": "40b319da-5cbf-495a-91e9-16f0457ac71b",
   "metadata": {},
   "outputs": [],
   "source": [
    "NasaData.to_csv(\"Data/NasaData.csv\", index=False)"
   ]
  },
  {
   "cell_type": "code",
   "execution_count": 398,
   "id": "5c9844dd-6f40-49aa-82a9-ac5e0472bd69",
   "metadata": {},
   "outputs": [],
   "source": [
    "# Counting Males and Females in the column count\n",
    "dataframe3[\"count\"]=dataframe3['Males Accepted in NASA Program ']+dataframe3['Females Accepted in NASA Program ']"
   ]
  },
  {
   "cell_type": "code",
   "execution_count": 399,
   "id": "f606067b-80d4-427a-8723-96e91773eb79",
   "metadata": {},
   "outputs": [
    {
     "data": {
      "text/html": [
       "<div>\n",
       "<style scoped>\n",
       "    .dataframe tbody tr th:only-of-type {\n",
       "        vertical-align: middle;\n",
       "    }\n",
       "\n",
       "    .dataframe tbody tr th {\n",
       "        vertical-align: top;\n",
       "    }\n",
       "\n",
       "    .dataframe thead th {\n",
       "        text-align: right;\n",
       "    }\n",
       "</style>\n",
       "<table border=\"1\" class=\"dataframe\">\n",
       "  <thead>\n",
       "    <tr style=\"text-align: right;\">\n",
       "      <th></th>\n",
       "      <th>ID</th>\n",
       "      <th>Cohort</th>\n",
       "      <th>Year</th>\n",
       "      <th>Males Accepted in NASA Program</th>\n",
       "      <th>Females Accepted in NASA Program</th>\n",
       "      <th>count</th>\n",
       "    </tr>\n",
       "  </thead>\n",
       "  <tbody>\n",
       "    <tr>\n",
       "      <th>0</th>\n",
       "      <td>NaN</td>\n",
       "      <td>1</td>\n",
       "      <td>1959</td>\n",
       "      <td>100</td>\n",
       "      <td>0</td>\n",
       "      <td>100</td>\n",
       "    </tr>\n",
       "    <tr>\n",
       "      <th>1</th>\n",
       "      <td>NaN</td>\n",
       "      <td>2</td>\n",
       "      <td>1962</td>\n",
       "      <td>100</td>\n",
       "      <td>0</td>\n",
       "      <td>100</td>\n",
       "    </tr>\n",
       "    <tr>\n",
       "      <th>2</th>\n",
       "      <td>NaN</td>\n",
       "      <td>3</td>\n",
       "      <td>1963</td>\n",
       "      <td>100</td>\n",
       "      <td>0</td>\n",
       "      <td>100</td>\n",
       "    </tr>\n",
       "    <tr>\n",
       "      <th>3</th>\n",
       "      <td>NaN</td>\n",
       "      <td>4</td>\n",
       "      <td>1965</td>\n",
       "      <td>100</td>\n",
       "      <td>0</td>\n",
       "      <td>100</td>\n",
       "    </tr>\n",
       "    <tr>\n",
       "      <th>4</th>\n",
       "      <td>NaN</td>\n",
       "      <td>5</td>\n",
       "      <td>1966</td>\n",
       "      <td>100</td>\n",
       "      <td>0</td>\n",
       "      <td>100</td>\n",
       "    </tr>\n",
       "  </tbody>\n",
       "</table>\n",
       "</div>"
      ],
      "text/plain": [
       "   ID   Cohort   Year  Males Accepted in NASA Program   \\\n",
       "0  NaN        1  1959                              100   \n",
       "1  NaN        2  1962                              100   \n",
       "2  NaN        3  1963                              100   \n",
       "3  NaN        4  1965                              100   \n",
       "4  NaN        5  1966                              100   \n",
       "\n",
       "   Females Accepted in NASA Program   count  \n",
       "0                                  0    100  \n",
       "1                                  0    100  \n",
       "2                                  0    100  \n",
       "3                                  0    100  \n",
       "4                                  0    100  "
      ]
     },
     "execution_count": 399,
     "metadata": {},
     "output_type": "execute_result"
    }
   ],
   "source": [
    "dataframe3.head()"
   ]
  },
  {
   "cell_type": "code",
   "execution_count": 400,
   "id": "bcf83718-1fc7-4ecf-890e-619493a7827d",
   "metadata": {},
   "outputs": [],
   "source": [
    "# Creating a new dataframe before the year 2017\n",
    "newdataframe=dataframe3[dataframe3[\"Year\"]<=2017]"
   ]
  },
  {
   "cell_type": "code",
   "execution_count": 401,
   "id": "519ff05b-0461-4816-bb0d-997e2a4f070a",
   "metadata": {},
   "outputs": [
    {
     "data": {
      "text/html": [
       "<div>\n",
       "<style scoped>\n",
       "    .dataframe tbody tr th:only-of-type {\n",
       "        vertical-align: middle;\n",
       "    }\n",
       "\n",
       "    .dataframe tbody tr th {\n",
       "        vertical-align: top;\n",
       "    }\n",
       "\n",
       "    .dataframe thead th {\n",
       "        text-align: right;\n",
       "    }\n",
       "</style>\n",
       "<table border=\"1\" class=\"dataframe\">\n",
       "  <thead>\n",
       "    <tr style=\"text-align: right;\">\n",
       "      <th></th>\n",
       "      <th>ID</th>\n",
       "      <th>Cohort</th>\n",
       "      <th>Year</th>\n",
       "      <th>Males Accepted in NASA Program</th>\n",
       "      <th>Females Accepted in NASA Program</th>\n",
       "      <th>count</th>\n",
       "    </tr>\n",
       "  </thead>\n",
       "  <tbody>\n",
       "    <tr>\n",
       "      <th>12</th>\n",
       "      <td>NaN</td>\n",
       "      <td>13</td>\n",
       "      <td>1990</td>\n",
       "      <td>78</td>\n",
       "      <td>22</td>\n",
       "      <td>100</td>\n",
       "    </tr>\n",
       "    <tr>\n",
       "      <th>13</th>\n",
       "      <td>NaN</td>\n",
       "      <td>14</td>\n",
       "      <td>1992</td>\n",
       "      <td>84</td>\n",
       "      <td>16</td>\n",
       "      <td>100</td>\n",
       "    </tr>\n",
       "    <tr>\n",
       "      <th>14</th>\n",
       "      <td>NaN</td>\n",
       "      <td>15</td>\n",
       "      <td>1995</td>\n",
       "      <td>74</td>\n",
       "      <td>26</td>\n",
       "      <td>100</td>\n",
       "    </tr>\n",
       "    <tr>\n",
       "      <th>15</th>\n",
       "      <td>NaN</td>\n",
       "      <td>16</td>\n",
       "      <td>1996</td>\n",
       "      <td>77</td>\n",
       "      <td>23</td>\n",
       "      <td>100</td>\n",
       "    </tr>\n",
       "    <tr>\n",
       "      <th>16</th>\n",
       "      <td>NaN</td>\n",
       "      <td>17</td>\n",
       "      <td>1998</td>\n",
       "      <td>88</td>\n",
       "      <td>12</td>\n",
       "      <td>100</td>\n",
       "    </tr>\n",
       "  </tbody>\n",
       "</table>\n",
       "</div>"
      ],
      "text/plain": [
       "    ID   Cohort   Year  Males Accepted in NASA Program   \\\n",
       "12  NaN       13  1990                               78   \n",
       "13  NaN       14  1992                               84   \n",
       "14  NaN       15  1995                               74   \n",
       "15  NaN       16  1996                               77   \n",
       "16  NaN       17  1998                               88   \n",
       "\n",
       "    Females Accepted in NASA Program   count  \n",
       "12                                 22    100  \n",
       "13                                 16    100  \n",
       "14                                 26    100  \n",
       "15                                 23    100  \n",
       "16                                 12    100  "
      ]
     },
     "execution_count": 401,
     "metadata": {},
     "output_type": "execute_result"
    }
   ],
   "source": [
    "# Creating a new dataframe after the year 1990\n",
    "newdataframe=newdataframe[newdataframe[\"Year\"]>=1990]\n",
    "newdataframe.head()"
   ]
  },
  {
   "cell_type": "markdown",
   "id": "728e2f96-365b-4289-9d0f-ca72f0610f07",
   "metadata": {},
   "source": [
    "# Exploratory analysis"
   ]
  },
  {
   "cell_type": "code",
   "execution_count": 402,
   "id": "bf25fb95-659a-4d91-ac7f-c27b2f95a5f0",
   "metadata": {},
   "outputs": [
    {
     "name": "stderr",
     "output_type": "stream",
     "text": [
      "/Users/rachaelreich/opt/anaconda3/lib/python3.9/site-packages/seaborn/distributions.py:2619: FutureWarning: `distplot` is a deprecated function and will be removed in a future version. Please adapt your code to use either `displot` (a figure-level function with similar flexibility) or `histplot` (an axes-level function for histograms).\n",
      "  warnings.warn(msg, FutureWarning)\n"
     ]
    },
    {
     "data": {
      "text/plain": [
       "<AxesSubplot:xlabel='GenderR', ylabel='Density'>"
      ]
     },
     "execution_count": 402,
     "metadata": {},
     "output_type": "execute_result"
    },
    {
     "data": {
      "image/png": "[encoded data removed]",
      "text/plain": [
       "<Figure size 432x288 with 1 Axes>"
      ]
     },
     "metadata": {
      "needs_background": "light"
     },
     "output_type": "display_data"
    }
   ],
   "source": [
    "sns.distplot(NasaData['GenderR'])"
   ]
  },
  {
   "cell_type": "code",
   "execution_count": 403,
   "id": "07626705-bc7a-4e7c-9c94-18a2a75d26cb",
   "metadata": {},
   "outputs": [
    {
     "data": {
      "text/plain": [
       "Text(0.5, 1.0, 'Females Accepted in NASA Program histogram')"
      ]
     },
     "execution_count": 403,
     "metadata": {},
     "output_type": "execute_result"
    },
    {
     "data": {
      "image/png": "[encoded data removed]",
      "text/plain": [
       "<Figure size 432x288 with 1 Axes>"
      ]
     },
     "metadata": {
      "needs_background": "light"
     },
     "output_type": "display_data"
    }
   ],
   "source": [
    "# Histogram plot for Females Accepted in NASA Program\n",
    "import matplotlib.pyplot as plt\n",
    "plt.hist(newdataframe['Females Accepted in NASA Program '])\n",
    "plt.xlabel(\"value\")\n",
    "plt.ylabel(\"frequency\")\n",
    "plt.title(\"Females Accepted in NASA Program histogram\")"
   ]
  },
  {
   "cell_type": "code",
   "execution_count": 404,
   "id": "b2715f7d-91e4-4cfb-aa2e-9515234752f5",
   "metadata": {},
   "outputs": [
    {
     "data": {
      "text/plain": [
       "Text(0.5, 1.0, 'Males Accepted in NASA Program histogram')"
      ]
     },
     "execution_count": 404,
     "metadata": {},
     "output_type": "execute_result"
    },
    {
     "data": {
      "image/png": "[encoded data removed]",
      "text/plain": [
       "<Figure size 432x288 with 1 Axes>"
      ]
     },
     "metadata": {
      "needs_background": "light"
     },
     "output_type": "display_data"
    }
   ],
   "source": [
    "# Histogram plot for Males Accepted in NASA Program\n",
    "plt.hist(newdataframe['Males Accepted in NASA Program '])\n",
    "plt.xlabel(\"value\")\n",
    "plt.ylabel(\"frequency\")\n",
    "plt.title(\"Males Accepted in NASA Program histogram\")"
   ]
  },
  {
   "cell_type": "code",
   "execution_count": 405,
   "id": "77464d01-961b-4059-8ff5-000ed87141f5",
   "metadata": {
    "tags": []
   },
   "outputs": [
    {
     "data": {
      "text/plain": [
       "<matplotlib.legend.Legend at 0x7f9215fc6790>"
      ]
     },
     "execution_count": 405,
     "metadata": {},
     "output_type": "execute_result"
    },
    {
     "data": {
      "image/png": "[encoded data removed]",
      "text/plain": [
       "<Figure size 432x288 with 1 Axes>"
      ]
     },
     "metadata": {
      "needs_background": "light"
     },
     "output_type": "display_data"
    }
   ],
   "source": [
    "# Bar plot for the the Males and Females Accepted in the NASA Program \n",
    "plt.bar(newdataframe['Year'],newdataframe['Males Accepted in NASA Program '],label=\"Males\")\n",
    "plt.bar(newdataframe['Year'],newdataframe['Females Accepted in NASA Program '],label=\"Females\")\n",
    "plt.xlabel(\"Year\")\n",
    "plt.ylabel(\"count\")\n",
    "plt.title(\"Males and Females Accepted in NASA Program histogram\")\n",
    "plt.legend()"
   ]
  },
  {
   "cell_type": "markdown",
   "id": "93ff713c-6803-4f20-9361-1cc57053f2be",
   "metadata": {},
   "source": [
    "## Do space flight hours differ between males and females? (Independent t-test)"
   ]
  },
  {
   "cell_type": "code",
   "execution_count": 406,
   "id": "703f661e-a3b7-4be0-864b-d8e857668350",
   "metadata": {},
   "outputs": [
    {
     "data": {
      "text/plain": [
       "<AxesSubplot:>"
      ]
     },
     "execution_count": 406,
     "metadata": {},
     "output_type": "execute_result"
    },
    {
     "data": {
      "image/png": "[encoded data removed]",
      "text/plain": [
       "<Figure size 432x288 with 1 Axes>"
      ]
     },
     "metadata": {
      "needs_background": "light"
     },
     "output_type": "display_data"
    }
   ],
   "source": [
    "NasaData['Space Flight (hr)'][NasaData['Gender']== 'Male'].hist()"
   ]
  },
  {
   "cell_type": "code",
   "execution_count": 407,
   "id": "364e4b29-e19a-4f46-a7a0-32ea00a8a2fd",
   "metadata": {},
   "outputs": [
    {
     "data": {
      "text/plain": [
       "<AxesSubplot:xlabel='Space Flight (hr)', ylabel='Count'>"
      ]
     },
     "execution_count": 407,
     "metadata": {},
     "output_type": "execute_result"
    },
    {
     "data": {
      "image/png": "[encoded data removed]",
      "text/plain": [
       "<Figure size 432x288 with 1 Axes>"
      ]
     },
     "metadata": {
      "needs_background": "light"
     },
     "output_type": "display_data"
    }
   ],
   "source": [
    "sns.histplot(NasaData['Space Flight (hr)'][NasaData['Gender']== 'Male'])"
   ]
  },
  {
   "cell_type": "code",
   "execution_count": 408,
   "id": "539c845c-ed93-45f2-acf4-3ede5ce78a00",
   "metadata": {},
   "outputs": [],
   "source": [
    "NasaData['Space Flight (hr)SQRT'] = np.sqrt(NasaData['Space Flight (hr)'])"
   ]
  },
  {
   "cell_type": "code",
   "execution_count": 409,
   "id": "7a04582d-fb68-458c-b574-12b1252bf615",
   "metadata": {},
   "outputs": [
    {
     "data": {
      "text/plain": [
       "<AxesSubplot:>"
      ]
     },
     "execution_count": 409,
     "metadata": {},
     "output_type": "execute_result"
    },
    {
     "data": {
      "image/png": "[encoded data removed]",
      "text/plain": [
       "<Figure size 432x288 with 1 Axes>"
      ]
     },
     "metadata": {
      "needs_background": "light"
     },
     "output_type": "display_data"
    }
   ],
   "source": [
    "NasaData['Space Flight (hr)SQRT'][NasaData['Gender']== 'Male'].hist()"
   ]
  },
  {
   "cell_type": "code",
   "execution_count": 410,
   "id": "1dc91f9f-f4b8-4516-8c51-317b9d633f9a",
   "metadata": {},
   "outputs": [
    {
     "data": {
      "text/plain": [
       "<AxesSubplot:>"
      ]
     },
     "execution_count": 410,
     "metadata": {},
     "output_type": "execute_result"
    },
    {
     "data": {
      "image/png": "[encoded data removed]",
      "text/plain": [
       "<Figure size 432x288 with 1 Axes>"
      ]
     },
     "metadata": {
      "needs_background": "light"
     },
     "output_type": "display_data"
    }
   ],
   "source": [
    "NasaData['Space Flight (hr)'][NasaData['Gender']== 'Female'].hist()"
   ]
  },
  {
   "cell_type": "code",
   "execution_count": 411,
   "id": "f004d083-7555-42ae-8065-8bea91463886",
   "metadata": {},
   "outputs": [
    {
     "data": {
      "text/plain": [
       "<AxesSubplot:>"
      ]
     },
     "execution_count": 411,
     "metadata": {},
     "output_type": "execute_result"
    },
    {
     "data": {
      "image/png": "[encoded data removed]",
      "text/plain": [
       "<Figure size 432x288 with 1 Axes>"
      ]
     },
     "metadata": {
      "needs_background": "light"
     },
     "output_type": "display_data"
    }
   ],
   "source": [
    "NasaData['Space Flight (hr)SQRT'][NasaData['Gender']== 'Female'].hist()"
   ]
  },
  {
   "cell_type": "code",
   "execution_count": 412,
   "id": "3459adde-ad27-40a9-9fdc-3f5ba4edeaf1",
   "metadata": {},
   "outputs": [
    {
     "data": {
      "text/plain": [
       "Ttest_indResult(statistic=-5.192215438695769, pvalue=2.113995993641488e-07)"
      ]
     },
     "execution_count": 412,
     "metadata": {},
     "output_type": "execute_result"
    }
   ],
   "source": [
    "ttest_ind(NasaData['Space Flight (hr)SQRT'][NasaData['Gender']== 'Male'],NasaData['Space Flight (hr)SQRT'][NasaData['Gender']== 'Female'])"
   ]
  },
  {
   "cell_type": "code",
   "execution_count": 413,
   "id": "b17ba8cc-ea58-4654-90c2-0f9fef566665",
   "metadata": {},
   "outputs": [
    {
     "data": {
      "text/plain": [
       "1274.732638888889"
      ]
     },
     "execution_count": 413,
     "metadata": {},
     "output_type": "execute_result"
    }
   ],
   "source": [
    "NasaData['Space Flight (hr)'][NasaData['Gender']== 'Male'].mean()"
   ]
  },
  {
   "cell_type": "code",
   "execution_count": 414,
   "id": "b028b887-8287-4ee8-9f7a-26384dc6ecd8",
   "metadata": {},
   "outputs": [
    {
     "data": {
      "text/plain": [
       "1714.4565217391305"
      ]
     },
     "execution_count": 414,
     "metadata": {},
     "output_type": "execute_result"
    }
   ],
   "source": [
    "NasaData['Space Flight (hr)'][NasaData['Gender']== 'Female'].mean()"
   ]
  },
  {
   "cell_type": "markdown",
   "id": "8c2d2d3b-73be-49a0-847f-d512b11c3b39",
   "metadata": {},
   "source": [
    "### There is a significance in the space flight time between males and females, females have more space flight time."
   ]
  },
  {
   "cell_type": "markdown",
   "id": "c5edc401-b8d1-46dd-80c8-4c83b17a51d3",
   "metadata": {},
   "source": [
    "### Do space flight hours differ between hispanics and caucasians? (Independent t-test)"
   ]
  },
  {
   "cell_type": "code",
   "execution_count": 415,
   "id": "806d5971-d88e-42c7-b6af-5e6e7cddb8f5",
   "metadata": {},
   "outputs": [
    {
     "data": {
      "text/plain": [
       "<AxesSubplot:>"
      ]
     },
     "execution_count": 415,
     "metadata": {},
     "output_type": "execute_result"
    },
    {
     "data": {
      "image/png": "[encoded data removed]",
      "text/plain": [
       "<Figure size 432x288 with 1 Axes>"
      ]
     },
     "metadata": {
      "needs_background": "light"
     },
     "output_type": "display_data"
    }
   ],
   "source": [
    "NasaData['Space Flight (hr)'][NasaData['Race']== 'Hispanic'].hist()"
   ]
  },
  {
   "cell_type": "code",
   "execution_count": 416,
   "id": "1c1f7465-b579-4c57-800e-b8db2e2ce8fb",
   "metadata": {},
   "outputs": [
    {
     "data": {
      "text/plain": [
       "<AxesSubplot:>"
      ]
     },
     "execution_count": 416,
     "metadata": {},
     "output_type": "execute_result"
    },
    {
     "data": {
      "image/png": "[encoded data removed]",
      "text/plain": [
       "<Figure size 432x288 with 1 Axes>"
      ]
     },
     "metadata": {
      "needs_background": "light"
     },
     "output_type": "display_data"
    }
   ],
   "source": [
    "NasaData['Space Flight (hr)SQRT'][NasaData['Race']== 'Hispanic'].hist()"
   ]
  },
  {
   "cell_type": "code",
   "execution_count": 417,
   "id": "c4120b6a-7dab-4bcd-86e2-194df8b58fe8",
   "metadata": {},
   "outputs": [
    {
     "data": {
      "text/plain": [
       "<AxesSubplot:>"
      ]
     },
     "execution_count": 417,
     "metadata": {},
     "output_type": "execute_result"
    },
    {
     "data": {
      "image/png": "[encoded data removed]",
      "text/plain": [
       "<Figure size 432x288 with 1 Axes>"
      ]
     },
     "metadata": {
      "needs_background": "light"
     },
     "output_type": "display_data"
    }
   ],
   "source": [
    "NasaData['Space Flight (hr)SQRT'][NasaData['Race']== 'Caucasian'].hist()"
   ]
  },
  {
   "cell_type": "code",
   "execution_count": 418,
   "id": "eec2a03f-bdcd-4be7-948e-ef61dac577ab",
   "metadata": {},
   "outputs": [
    {
     "data": {
      "text/plain": [
       "Ttest_indResult(statistic=0.4867997496235611, pvalue=0.6264125506560769)"
      ]
     },
     "execution_count": 418,
     "metadata": {},
     "output_type": "execute_result"
    }
   ],
   "source": [
    "ttest_ind(NasaData['Space Flight (hr)SQRT'][NasaData['Race']== 'Hispanic'],NasaData['Space Flight (hr)SQRT'][NasaData['Race']== 'Caucasian'])"
   ]
  },
  {
   "cell_type": "markdown",
   "id": "38d5fdb8-4ff3-4224-9442-6b0f9463c51d",
   "metadata": {},
   "source": [
    "### Does the number of space flights differ between males and females "
   ]
  },
  {
   "cell_type": "code",
   "execution_count": 419,
   "id": "6d9894bc-0e58-48c0-afe6-73c8cd076dbf",
   "metadata": {},
   "outputs": [
    {
     "data": {
      "text/plain": [
       "<AxesSubplot:>"
      ]
     },
     "execution_count": 419,
     "metadata": {},
     "output_type": "execute_result"
    },
    {
     "data": {
      "image/png": "[encoded data removed]",
      "text/plain": [
       "<Figure size 432x288 with 1 Axes>"
      ]
     },
     "metadata": {
      "needs_background": "light"
     },
     "output_type": "display_data"
    }
   ],
   "source": [
    "NasaData['Space Flights'][NasaData['Gender']== 'Male'].hist()"
   ]
  },
  {
   "cell_type": "code",
   "execution_count": 420,
   "id": "2ed853f2-8351-4790-b876-5d317d952c40",
   "metadata": {},
   "outputs": [],
   "source": [
    "NasaData['Space FlightsSQRT'] = np.sqrt(NasaData['Space Flights'])"
   ]
  },
  {
   "cell_type": "code",
   "execution_count": 421,
   "id": "601f3d75-d740-41f4-8465-55b7350771a4",
   "metadata": {},
   "outputs": [
    {
     "data": {
      "text/plain": [
       "<AxesSubplot:>"
      ]
     },
     "execution_count": 421,
     "metadata": {},
     "output_type": "execute_result"
    },
    {
     "data": {
      "image/png": "[encoded data removed]",
      "text/plain": [
       "<Figure size 432x288 with 1 Axes>"
      ]
     },
     "metadata": {
      "needs_background": "light"
     },
     "output_type": "display_data"
    }
   ],
   "source": [
    "NasaData['Space FlightsSQRT'][NasaData['Gender']== 'Male'].hist()"
   ]
  },
  {
   "cell_type": "code",
   "execution_count": 422,
   "id": "056593ef-c9d2-4762-8bdb-78ed311fb8da",
   "metadata": {},
   "outputs": [
    {
     "data": {
      "text/plain": [
       "<AxesSubplot:>"
      ]
     },
     "execution_count": 422,
     "metadata": {},
     "output_type": "execute_result"
    },
    {
     "data": {
      "image/png": "[encoded data removed]",
      "text/plain": [
       "<Figure size 432x288 with 1 Axes>"
      ]
     },
     "metadata": {
      "needs_background": "light"
     },
     "output_type": "display_data"
    }
   ],
   "source": [
    "NasaData['Space Flights'][NasaData['Gender']== 'Female'].hist()"
   ]
  },
  {
   "cell_type": "code",
   "execution_count": 423,
   "id": "e111782c-48e6-4173-bbd3-1c7ffcaaa65b",
   "metadata": {},
   "outputs": [
    {
     "data": {
      "text/plain": [
       "<AxesSubplot:>"
      ]
     },
     "execution_count": 423,
     "metadata": {},
     "output_type": "execute_result"
    },
    {
     "data": {
      "image/png": "[encoded data removed]",
      "text/plain": [
       "<Figure size 432x288 with 1 Axes>"
      ]
     },
     "metadata": {
      "needs_background": "light"
     },
     "output_type": "display_data"
    }
   ],
   "source": [
    "NasaData['Space FlightsSQRT'][NasaData['Gender']== 'Female'].hist()"
   ]
  },
  {
   "cell_type": "code",
   "execution_count": 424,
   "id": "1ded4cc1-85c8-49fb-a91c-02f5bc2c834e",
   "metadata": {},
   "outputs": [
    {
     "data": {
      "text/plain": [
       "Ttest_indResult(statistic=-1.3695956442432462, pvalue=0.17084024150571825)"
      ]
     },
     "execution_count": 424,
     "metadata": {},
     "output_type": "execute_result"
    }
   ],
   "source": [
    "ttest_ind(NasaData['Space FlightsSQRT'][NasaData['Gender']== 'Male'],NasaData['Space FlightsSQRT'][NasaData['Gender']== 'Female'])"
   ]
  },
  {
   "cell_type": "markdown",
   "id": "78b17de2-5580-44f5-bd28-cbb2fcd22f3a",
   "metadata": {},
   "source": [
    "### Do the number of space walks differ between males and females? (Independent t-test)"
   ]
  },
  {
   "cell_type": "code",
   "execution_count": 425,
   "id": "e9485703-484e-4437-83ea-f993d826a7bb",
   "metadata": {},
   "outputs": [
    {
     "data": {
      "text/plain": [
       "<AxesSubplot:>"
      ]
     },
     "execution_count": 425,
     "metadata": {},
     "output_type": "execute_result"
    },
    {
     "data": {
      "image/png": "[encoded data removed]",
      "text/plain": [
       "<Figure size 432x288 with 1 Axes>"
      ]
     },
     "metadata": {
      "needs_background": "light"
     },
     "output_type": "display_data"
    }
   ],
   "source": [
    "NasaData['Space Walks'][NasaData['Gender']== 'Male'].hist()"
   ]
  },
  {
   "cell_type": "code",
   "execution_count": 426,
   "id": "4c457475-5961-461e-9abe-5b98d9af6d8d",
   "metadata": {},
   "outputs": [],
   "source": [
    "NasaData['Space WalksSQRT'] = np.sqrt(NasaData['Space Walks'])"
   ]
  },
  {
   "cell_type": "code",
   "execution_count": 427,
   "id": "53c89a69-1df9-447b-a077-f1e3bb4c5ade",
   "metadata": {},
   "outputs": [
    {
     "data": {
      "text/plain": [
       "<AxesSubplot:>"
      ]
     },
     "execution_count": 427,
     "metadata": {},
     "output_type": "execute_result"
    },
    {
     "data": {
      "image/png": "[encoded data removed]",
      "text/plain": [
       "<Figure size 432x288 with 1 Axes>"
      ]
     },
     "metadata": {
      "needs_background": "light"
     },
     "output_type": "display_data"
    }
   ],
   "source": [
    "NasaData['Space WalksSQRT'][NasaData['Gender']== 'Male'].hist()"
   ]
  },
  {
   "cell_type": "code",
   "execution_count": 428,
   "id": "f3c2539f-2c25-4fad-aa1e-714b19c5d0a7",
   "metadata": {},
   "outputs": [
    {
     "data": {
      "text/plain": [
       "<AxesSubplot:>"
      ]
     },
     "execution_count": 428,
     "metadata": {},
     "output_type": "execute_result"
    },
    {
     "data": {
      "image/png": "[encoded data removed]",
      "text/plain": [
       "<Figure size 432x288 with 1 Axes>"
      ]
     },
     "metadata": {
      "needs_background": "light"
     },
     "output_type": "display_data"
    }
   ],
   "source": [
    "NasaData['Space Walks'][NasaData['Gender']== 'Female'].hist()"
   ]
  },
  {
   "cell_type": "code",
   "execution_count": 429,
   "id": "876ae216-17ea-49ee-9651-122cc9941e46",
   "metadata": {},
   "outputs": [
    {
     "data": {
      "text/plain": [
       "<AxesSubplot:>"
      ]
     },
     "execution_count": 429,
     "metadata": {},
     "output_type": "execute_result"
    },
    {
     "data": {
      "image/png": "[encoded data removed]",
      "text/plain": [
       "<Figure size 432x288 with 1 Axes>"
      ]
     },
     "metadata": {
      "needs_background": "light"
     },
     "output_type": "display_data"
    }
   ],
   "source": [
    "NasaData['Space WalksSQRT'][NasaData['Gender']== 'Female'].hist()"
   ]
  },
  {
   "cell_type": "code",
   "execution_count": 430,
   "id": "708d714c-b593-4c07-845e-8a3d0c264229",
   "metadata": {},
   "outputs": [
    {
     "data": {
      "text/plain": [
       "Ttest_indResult(statistic=8.185927604405412, pvalue=2.9904732756034947e-16)"
      ]
     },
     "execution_count": 430,
     "metadata": {},
     "output_type": "execute_result"
    }
   ],
   "source": [
    "ttest_ind(NasaData['Space WalksSQRT'][NasaData['Gender']== 'Male'],NasaData['Space WalksSQRT'][NasaData['Gender']== 'Female'])"
   ]
  },
  {
   "cell_type": "code",
   "execution_count": 431,
   "id": "acc457bc-bbda-4ed3-8f5a-bd39629f4afe",
   "metadata": {},
   "outputs": [
    {
     "data": {
      "text/plain": [
       "1.4409722222222223"
      ]
     },
     "execution_count": 431,
     "metadata": {},
     "output_type": "execute_result"
    }
   ],
   "source": [
    "NasaData['Space Walks'][NasaData['Gender']== 'Male'].mean()"
   ]
  },
  {
   "cell_type": "code",
   "execution_count": 432,
   "id": "5b4d5c0f-07b1-41cd-b602-52d33f21b5d1",
   "metadata": {},
   "outputs": [
    {
     "data": {
      "text/plain": [
       "0.6521739130434783"
      ]
     },
     "execution_count": 432,
     "metadata": {},
     "output_type": "execute_result"
    }
   ],
   "source": [
    "NasaData['Space Walks'][NasaData['Gender']== 'Female'].mean()"
   ]
  },
  {
   "cell_type": "markdown",
   "id": "5bb803ce-d4ca-46c8-853b-30ed895e4e17",
   "metadata": {},
   "source": [
    "### There is a significant difference, males have been on more space walks than females."
   ]
  },
  {
   "cell_type": "code",
   "execution_count": 433,
   "id": "dfa5dafb-8e33-4795-83f5-3f9d95346d77",
   "metadata": {},
   "outputs": [
    {
     "data": {
      "text/plain": [
       "Ttest_1sampResult(statistic=-20.7273576527052, pvalue=1.0524537031716093e-93)"
      ]
     },
     "execution_count": 433,
     "metadata": {},
     "output_type": "execute_result"
    }
   ],
   "source": [
    "stats.ttest_1samp(NasaData['GenderR'],1)"
   ]
  },
  {
   "cell_type": "markdown",
   "id": "9d7cf3f6-15b0-4aed-ac9e-f9bcb6ab7cf0",
   "metadata": {},
   "source": [
    "### this is significant as p < .05"
   ]
  },
  {
   "cell_type": "markdown",
   "id": "2a6eeef5-0bca-40b0-ba6c-960a6bf88bce",
   "metadata": {},
   "source": [
    "## correlation matrix"
   ]
  },
  {
   "cell_type": "code",
   "execution_count": 444,
   "id": "a980c9b1-c750-49eb-9c68-21617551c21b",
   "metadata": {},
   "outputs": [
    {
     "data": {
      "text/html": [
       "<div>\n",
       "<style scoped>\n",
       "    .dataframe tbody tr th:only-of-type {\n",
       "        vertical-align: middle;\n",
       "    }\n",
       "\n",
       "    .dataframe tbody tr th {\n",
       "        vertical-align: top;\n",
       "    }\n",
       "\n",
       "    .dataframe thead th {\n",
       "        text-align: right;\n",
       "    }\n",
       "</style>\n",
       "<table border=\"1\" class=\"dataframe\">\n",
       "  <thead>\n",
       "    <tr style=\"text-align: right;\">\n",
       "      <th></th>\n",
       "      <th>GenderR</th>\n",
       "      <th>SelectedR</th>\n",
       "      <th>MilitaryR</th>\n",
       "    </tr>\n",
       "  </thead>\n",
       "  <tbody>\n",
       "    <tr>\n",
       "      <th>85346</th>\n",
       "      <td>1</td>\n",
       "      <td>False</td>\n",
       "      <td>True</td>\n",
       "    </tr>\n",
       "    <tr>\n",
       "      <th>85347</th>\n",
       "      <td>1</td>\n",
       "      <td>False</td>\n",
       "      <td>True</td>\n",
       "    </tr>\n",
       "    <tr>\n",
       "      <th>85348</th>\n",
       "      <td>1</td>\n",
       "      <td>False</td>\n",
       "      <td>True</td>\n",
       "    </tr>\n",
       "    <tr>\n",
       "      <th>85349</th>\n",
       "      <td>1</td>\n",
       "      <td>False</td>\n",
       "      <td>True</td>\n",
       "    </tr>\n",
       "    <tr>\n",
       "      <th>85350</th>\n",
       "      <td>1</td>\n",
       "      <td>False</td>\n",
       "      <td>True</td>\n",
       "    </tr>\n",
       "  </tbody>\n",
       "</table>\n",
       "</div>"
      ],
      "text/plain": [
       "       GenderR  SelectedR  MilitaryR\n",
       "85346        1      False       True\n",
       "85347        1      False       True\n",
       "85348        1      False       True\n",
       "85349        1      False       True\n",
       "85350        1      False       True"
      ]
     },
     "execution_count": 444,
     "metadata": {},
     "output_type": "execute_result"
    }
   ],
   "source": [
    "NasaData.columns\n",
    "heatmap=NasaData[['GenderR','SelectedR','MilitaryR']]\n",
    "heatmap.head()"
   ]
  },
  {
   "cell_type": "code",
   "execution_count": 445,
   "id": "2b73a89a-9dca-4df6-b748-c7e3221496f3",
   "metadata": {},
   "outputs": [
    {
     "data": {
      "text/html": [
       "<style type=\"text/css\">\n",
       "#T_09d4f_row0_col0, #T_09d4f_row1_col1, #T_09d4f_row2_col2 {\n",
       "  background-color: #b40426;\n",
       "  color: #f1f1f1;\n",
       "}\n",
       "#T_09d4f_row0_col1, #T_09d4f_row1_col0, #T_09d4f_row2_col0 {\n",
       "  background-color: #3b4cc0;\n",
       "  color: #f1f1f1;\n",
       "}\n",
       "#T_09d4f_row0_col2 {\n",
       "  background-color: #92b4fe;\n",
       "  color: #000000;\n",
       "}\n",
       "#T_09d4f_row1_col2 {\n",
       "  background-color: #9ebeff;\n",
       "  color: #000000;\n",
       "}\n",
       "#T_09d4f_row2_col1 {\n",
       "  background-color: #485fd1;\n",
       "  color: #f1f1f1;\n",
       "}\n",
       "</style>\n",
       "<table id=\"T_09d4f_\">\n",
       "  <thead>\n",
       "    <tr>\n",
       "      <th class=\"blank level0\" >&nbsp;</th>\n",
       "      <th class=\"col_heading level0 col0\" >GenderR</th>\n",
       "      <th class=\"col_heading level0 col1\" >SelectedR</th>\n",
       "      <th class=\"col_heading level0 col2\" >MilitaryR</th>\n",
       "    </tr>\n",
       "  </thead>\n",
       "  <tbody>\n",
       "    <tr>\n",
       "      <th id=\"T_09d4f_level0_row0\" class=\"row_heading level0 row0\" >GenderR</th>\n",
       "      <td id=\"T_09d4f_row0_col0\" class=\"data row0 col0\" >1.0</td>\n",
       "      <td id=\"T_09d4f_row0_col1\" class=\"data row0 col1\" >-0.089</td>\n",
       "      <td id=\"T_09d4f_row0_col2\" class=\"data row0 col2\" >0.2</td>\n",
       "    </tr>\n",
       "    <tr>\n",
       "      <th id=\"T_09d4f_level0_row1\" class=\"row_heading level0 row1\" >SelectedR</th>\n",
       "      <td id=\"T_09d4f_row1_col0\" class=\"data row1 col0\" >-0.089</td>\n",
       "      <td id=\"T_09d4f_row1_col1\" class=\"data row1 col1\" >1.0</td>\n",
       "      <td id=\"T_09d4f_row1_col2\" class=\"data row1 col2\" >0.23</td>\n",
       "    </tr>\n",
       "    <tr>\n",
       "      <th id=\"T_09d4f_level0_row2\" class=\"row_heading level0 row2\" >MilitaryR</th>\n",
       "      <td id=\"T_09d4f_row2_col0\" class=\"data row2 col0\" >0.2</td>\n",
       "      <td id=\"T_09d4f_row2_col1\" class=\"data row2 col1\" >0.23</td>\n",
       "      <td id=\"T_09d4f_row2_col2\" class=\"data row2 col2\" >1.0</td>\n",
       "    </tr>\n",
       "  </tbody>\n",
       "</table>\n"
      ],
      "text/plain": [
       "<pandas.io.formats.style.Styler at 0x7f9216e3cf40>"
      ]
     },
     "execution_count": 445,
     "metadata": {},
     "output_type": "execute_result"
    }
   ],
   "source": [
    "heatmap.corr(method='pearson').style.format(\"{:.2}\").background_gradient(cmap=plt.get_cmap('coolwarm'), axis=1)"
   ]
  },
  {
   "cell_type": "code",
   "execution_count": 446,
   "id": "0a4b2422-c50e-40e7-9d57-b673c0553899",
   "metadata": {},
   "outputs": [
    {
     "data": {
      "image/png": "[encoded data removed]",
      "text/plain": [
       "<Figure size 432x288 with 2 Axes>"
      ]
     },
     "metadata": {
      "needs_background": "light"
     },
     "output_type": "display_data"
    }
   ],
   "source": [
    "a=sns.heatmap(heatmap.corr(), annot=True)"
   ]
  },
  {
   "cell_type": "code",
   "execution_count": 450,
   "id": "5959b2ba-708e-46e2-be53-e4749b56ad32",
   "metadata": {},
   "outputs": [
    {
     "data": {
      "text/html": [
       "<div>\n",
       "<style scoped>\n",
       "    .dataframe tbody tr th:only-of-type {\n",
       "        vertical-align: middle;\n",
       "    }\n",
       "\n",
       "    .dataframe tbody tr th {\n",
       "        vertical-align: top;\n",
       "    }\n",
       "\n",
       "    .dataframe thead th {\n",
       "        text-align: right;\n",
       "    }\n",
       "</style>\n",
       "<table border=\"1\" class=\"dataframe\">\n",
       "  <thead>\n",
       "    <tr style=\"text-align: right;\">\n",
       "      <th></th>\n",
       "      <th>Year</th>\n",
       "      <th>Males Accepted in NASA Program</th>\n",
       "      <th>Females Accepted in NASA Program</th>\n",
       "    </tr>\n",
       "  </thead>\n",
       "  <tbody>\n",
       "    <tr>\n",
       "      <th>0</th>\n",
       "      <td>1959</td>\n",
       "      <td>100</td>\n",
       "      <td>0</td>\n",
       "    </tr>\n",
       "    <tr>\n",
       "      <th>1</th>\n",
       "      <td>1962</td>\n",
       "      <td>100</td>\n",
       "      <td>0</td>\n",
       "    </tr>\n",
       "    <tr>\n",
       "      <th>2</th>\n",
       "      <td>1963</td>\n",
       "      <td>100</td>\n",
       "      <td>0</td>\n",
       "    </tr>\n",
       "    <tr>\n",
       "      <th>3</th>\n",
       "      <td>1965</td>\n",
       "      <td>100</td>\n",
       "      <td>0</td>\n",
       "    </tr>\n",
       "    <tr>\n",
       "      <th>4</th>\n",
       "      <td>1966</td>\n",
       "      <td>100</td>\n",
       "      <td>0</td>\n",
       "    </tr>\n",
       "  </tbody>\n",
       "</table>\n",
       "</div>"
      ],
      "text/plain": [
       "   Year  Males Accepted in NASA Program   Females Accepted in NASA Program \n",
       "0  1959                              100                                  0\n",
       "1  1962                              100                                  0\n",
       "2  1963                              100                                  0\n",
       "3  1965                              100                                  0\n",
       "4  1966                              100                                  0"
      ]
     },
     "execution_count": 450,
     "metadata": {},
     "output_type": "execute_result"
    }
   ],
   "source": [
    "\n",
    "matrix= dataframe3[['Year','Males Accepted in NASA Program ',\n",
    "       'Females Accepted in NASA Program ']]\n",
    "matrix.head()"
   ]
  },
  {
   "cell_type": "code",
   "execution_count": 449,
   "id": "2facd57c-33cb-4d54-9cea-31677e2edcfd",
   "metadata": {},
   "outputs": [
    {
     "data": {
      "text/plain": [
       "[Text(0.5, 15.0, 'Acceptance into NASA program'),\n",
       " Text(32.999999999999986, 0.5, 'Acceptance into NASA Program'),\n",
       " Text(0.5, 1.0, 'correlation matrix of NASA Program Data')]"
      ]
     },
     "execution_count": 449,
     "metadata": {},
     "output_type": "execute_result"
    },
    {
     "data": {
      "image/png": "[encoded data removed]",
      "text/plain": [
       "<Figure size 432x288 with 2 Axes>"
      ]
     },
     "metadata": {
      "needs_background": "light"
     },
     "output_type": "display_data"
    }
   ],
   "source": [
    "a=sns.heatmap(matrix.corr(), annot=True)\n",
    "a.set(xlabel=(\"Acceptance into NASA program\"),ylabel=(\"Acceptance into NASA Program\"),title=\"correlation matrix of NASA Program Data\")\n"
   ]
  },
  {
   "cell_type": "markdown",
   "id": "fc11657c-a377-4322-ad05-f1f6fb93fc86",
   "metadata": {},
   "source": [
    "## Budget Analysis"
   ]
  },
  {
   "cell_type": "code",
   "execution_count": 438,
   "id": "6ca10634-2ef2-4d36-b0b9-03b5fa933f26",
   "metadata": {},
   "outputs": [
    {
     "data": {
      "text/plain": [
       "Ttest_1sampResult(statistic=-19.481120762275467, pvalue=1.5727116412325747e-29)"
      ]
     },
     "execution_count": 438,
     "metadata": {},
     "output_type": "execute_result"
    }
   ],
   "source": [
    "# What is the difference between men getting accepted versus women?\n",
    "stats.ttest_1samp(a=dataframebudget['Females Accepted in NASA Program '], popmean=30)"
   ]
  },
  {
   "cell_type": "code",
   "execution_count": 439,
   "id": "045d62d9-fb3b-4aa3-945a-bc9540d19aee",
   "metadata": {},
   "outputs": [
    {
     "data": {
      "text/plain": [
       "Ttest_1sampResult(statistic=-4.706948275639553, pvalue=1.2796410491460158e-05)"
      ]
     },
     "execution_count": 439,
     "metadata": {},
     "output_type": "execute_result"
    }
   ],
   "source": [
    "# Single Sample t-test for Females\n",
    "stats.ttest_1samp(a=dataframebudget['Males Accepted in NASA Program '], popmean=50)"
   ]
  },
  {
   "cell_type": "code",
   "execution_count": 440,
   "id": "72f55a1b-8c52-40fe-a9ea-e1c8656ea127",
   "metadata": {},
   "outputs": [
    {
     "data": {
      "text/plain": [
       "Ttest_indResult(statistic=-4.3844182232736815, pvalue=2.309776878279775e-05)"
      ]
     },
     "execution_count": 440,
     "metadata": {},
     "output_type": "execute_result"
    }
   ],
   "source": [
    "#Independent T-Test\n",
    "from scipy import stats\n",
    "from scipy.stats import ttest_ind\n",
    "ttest_ind(dataframebudget['Females Accepted in NASA Program ']\n",
    ", dataframebudget['Males Accepted in NASA Program '])"
   ]
  },
  {
   "cell_type": "code",
   "execution_count": 441,
   "id": "dd05fdf6-1e76-4b68-abd7-fc76148ea4d8",
   "metadata": {},
   "outputs": [
    {
     "data": {
      "text/plain": [
       "<AxesSubplot:>"
      ]
     },
     "execution_count": 441,
     "metadata": {},
     "output_type": "execute_result"
    },
    {
     "data": {
      "image/png": "[encoded data removed]",
      "text/plain": [
       "<Figure size 432x288 with 2 Axes>"
      ]
     },
     "metadata": {
      "needs_background": "light"
     },
     "output_type": "display_data"
    }
   ],
   "source": [
    "# Do more women or men get hired when the budget is hire or lower?\n",
    "sns.heatmap(dataframebudget.corr(), annot=True)\n"
   ]
  },
  {
   "cell_type": "code",
   "execution_count": 442,
   "id": "cf104ab3-149c-4160-89b2-1ea365a49cf3",
   "metadata": {},
   "outputs": [
    {
     "data": {
      "text/html": [
       "<table class=\"simpletable\">\n",
       "<caption>OLS Regression Results</caption>\n",
       "<tr>\n",
       "  <th>Dep. Variable:</th>    <td>Females Accepted in NASA Program </td> <th>  R-squared (uncentered):</th>      <td>   0.207</td>\n",
       "</tr>\n",
       "<tr>\n",
       "  <th>Model:</th>                           <td>OLS</td>                <th>  Adj. R-squared (uncentered):</th> <td>   0.195</td>\n",
       "</tr>\n",
       "<tr>\n",
       "  <th>Method:</th>                     <td>Least Squares</td>           <th>  F-statistic:       </th>          <td>   17.75</td>\n",
       "</tr>\n",
       "<tr>\n",
       "  <th>Date:</th>                     <td>Thu, 26 May 2022</td>          <th>  Prob (F-statistic):</th>          <td>7.58e-05</td>\n",
       "</tr>\n",
       "<tr>\n",
       "  <th>Time:</th>                         <td>14:55:42</td>              <th>  Log-Likelihood:    </th>          <td> -259.61</td>\n",
       "</tr>\n",
       "<tr>\n",
       "  <th>No. Observations:</th>              <td>    69</td>               <th>  AIC:               </th>          <td>   521.2</td>\n",
       "</tr>\n",
       "<tr>\n",
       "  <th>Df Residuals:</th>                  <td>    68</td>               <th>  BIC:               </th>          <td>   523.5</td>\n",
       "</tr>\n",
       "<tr>\n",
       "  <th>Df Model:</th>                      <td>     1</td>               <th>                     </th>              <td> </td>   \n",
       "</tr>\n",
       "<tr>\n",
       "  <th>Covariance Type:</th>              <td>nonrobust</td>             <th>                     </th>              <td> </td>   \n",
       "</tr>\n",
       "</table>\n",
       "<table class=\"simpletable\">\n",
       "<tr>\n",
       "                <td></td>                   <th>coef</th>     <th>std err</th>      <th>t</th>      <th>P>|t|</th>  <th>[0.025</th>    <th>0.975]</th>  \n",
       "</tr>\n",
       "<tr>\n",
       "  <th>White House Budget Submission</th> <td>    0.0004</td> <td> 9.85e-05</td> <td>    4.213</td> <td> 0.000</td> <td>    0.000</td> <td>    0.001</td>\n",
       "</tr>\n",
       "</table>\n",
       "<table class=\"simpletable\">\n",
       "<tr>\n",
       "  <th>Omnibus:</th>       <td>40.985</td> <th>  Durbin-Watson:     </th> <td>   2.321</td>\n",
       "</tr>\n",
       "<tr>\n",
       "  <th>Prob(Omnibus):</th> <td> 0.000</td> <th>  Jarque-Bera (JB):  </th> <td> 100.400</td>\n",
       "</tr>\n",
       "<tr>\n",
       "  <th>Skew:</th>          <td> 2.003</td> <th>  Prob(JB):          </th> <td>1.58e-22</td>\n",
       "</tr>\n",
       "<tr>\n",
       "  <th>Kurtosis:</th>      <td> 7.344</td> <th>  Cond. No.          </th> <td>    1.00</td>\n",
       "</tr>\n",
       "</table><br/><br/>Notes:<br/>[1] R² is computed without centering (uncentered) since the model does not contain a constant.<br/>[2] Standard Errors assume that the covariance matrix of the errors is correctly specified."
      ],
      "text/plain": [
       "<class 'statsmodels.iolib.summary.Summary'>\n",
       "\"\"\"\n",
       "                                        OLS Regression Results                                        \n",
       "======================================================================================================\n",
       "Dep. Variable:     Females Accepted in NASA Program    R-squared (uncentered):                   0.207\n",
       "Model:                                           OLS   Adj. R-squared (uncentered):              0.195\n",
       "Method:                                Least Squares   F-statistic:                              17.75\n",
       "Date:                               Thu, 26 May 2022   Prob (F-statistic):                    7.58e-05\n",
       "Time:                                       14:55:42   Log-Likelihood:                         -259.61\n",
       "No. Observations:                                 69   AIC:                                      521.2\n",
       "Df Residuals:                                     68   BIC:                                      523.5\n",
       "Df Model:                                          1                                                  \n",
       "Covariance Type:                           nonrobust                                                  \n",
       "=================================================================================================\n",
       "                                    coef    std err          t      P>|t|      [0.025      0.975]\n",
       "-------------------------------------------------------------------------------------------------\n",
       "White House Budget Submission     0.0004   9.85e-05      4.213      0.000       0.000       0.001\n",
       "==============================================================================\n",
       "Omnibus:                       40.985   Durbin-Watson:                   2.321\n",
       "Prob(Omnibus):                  0.000   Jarque-Bera (JB):              100.400\n",
       "Skew:                           2.003   Prob(JB):                     1.58e-22\n",
       "Kurtosis:                       7.344   Cond. No.                         1.00\n",
       "==============================================================================\n",
       "\n",
       "Notes:\n",
       "[1] R² is computed without centering (uncentered) since the model does not contain a constant.\n",
       "[2] Standard Errors assume that the covariance matrix of the errors is correctly specified.\n",
       "\"\"\""
      ]
     },
     "execution_count": 442,
     "metadata": {},
     "output_type": "execute_result"
    }
   ],
   "source": [
    "#Linear Regression of Females versus Budget\n",
    "x = dataframebudget['Females Accepted in NASA Program ']\n",
    "y = dataframebudget['White House Budget Submission']\n",
    "model = sm.OLS(x,y).fit()\n",
    "model.summary()"
   ]
  },
  {
   "cell_type": "code",
   "execution_count": 443,
   "id": "2b238c20-da71-4646-845d-964b5366f992",
   "metadata": {},
   "outputs": [
    {
     "data": {
      "text/html": [
       "<table class=\"simpletable\">\n",
       "<caption>OLS Regression Results</caption>\n",
       "<tr>\n",
       "  <th>Dep. Variable:</th>          <td>Year</td>       <th>  R-squared (uncentered):</th>      <td>   0.695</td>\n",
       "</tr>\n",
       "<tr>\n",
       "  <th>Model:</th>                   <td>OLS</td>       <th>  Adj. R-squared (uncentered):</th> <td>   0.691</td>\n",
       "</tr>\n",
       "<tr>\n",
       "  <th>Method:</th>             <td>Least Squares</td>  <th>  F-statistic:       </th>          <td>   155.1</td>\n",
       "</tr>\n",
       "<tr>\n",
       "  <th>Date:</th>             <td>Thu, 26 May 2022</td> <th>  Prob (F-statistic):</th>          <td>3.27e-19</td>\n",
       "</tr>\n",
       "<tr>\n",
       "  <th>Time:</th>                 <td>14:55:42</td>     <th>  Log-Likelihood:    </th>          <td> -581.14</td>\n",
       "</tr>\n",
       "<tr>\n",
       "  <th>No. Observations:</th>      <td>    69</td>      <th>  AIC:               </th>          <td>   1164.</td>\n",
       "</tr>\n",
       "<tr>\n",
       "  <th>Df Residuals:</th>          <td>    68</td>      <th>  BIC:               </th>          <td>   1167.</td>\n",
       "</tr>\n",
       "<tr>\n",
       "  <th>Df Model:</th>              <td>     1</td>      <th>                     </th>              <td> </td>   \n",
       "</tr>\n",
       "<tr>\n",
       "  <th>Covariance Type:</th>      <td>nonrobust</td>    <th>                     </th>              <td> </td>   \n",
       "</tr>\n",
       "</table>\n",
       "<table class=\"simpletable\">\n",
       "<tr>\n",
       "                <td></td>                   <th>coef</th>     <th>std err</th>      <th>t</th>      <th>P>|t|</th>  <th>[0.025</th>    <th>0.975]</th>  \n",
       "</tr>\n",
       "<tr>\n",
       "  <th>White House Budget Submission</th> <td>    0.1295</td> <td>    0.010</td> <td>   12.455</td> <td> 0.000</td> <td>    0.109</td> <td>    0.150</td>\n",
       "</tr>\n",
       "</table>\n",
       "<table class=\"simpletable\">\n",
       "<tr>\n",
       "  <th>Omnibus:</th>       <td>13.866</td> <th>  Durbin-Watson:     </th> <td>   0.146</td>\n",
       "</tr>\n",
       "<tr>\n",
       "  <th>Prob(Omnibus):</th> <td> 0.001</td> <th>  Jarque-Bera (JB):  </th> <td>   3.886</td>\n",
       "</tr>\n",
       "<tr>\n",
       "  <th>Skew:</th>          <td>-0.164</td> <th>  Prob(JB):          </th> <td>   0.143</td>\n",
       "</tr>\n",
       "<tr>\n",
       "  <th>Kurtosis:</th>      <td> 1.885</td> <th>  Cond. No.          </th> <td>    1.00</td>\n",
       "</tr>\n",
       "</table><br/><br/>Notes:<br/>[1] R² is computed without centering (uncentered) since the model does not contain a constant.<br/>[2] Standard Errors assume that the covariance matrix of the errors is correctly specified."
      ],
      "text/plain": [
       "<class 'statsmodels.iolib.summary.Summary'>\n",
       "\"\"\"\n",
       "                                 OLS Regression Results                                \n",
       "=======================================================================================\n",
       "Dep. Variable:                   Year   R-squared (uncentered):                   0.695\n",
       "Model:                            OLS   Adj. R-squared (uncentered):              0.691\n",
       "Method:                 Least Squares   F-statistic:                              155.1\n",
       "Date:                Thu, 26 May 2022   Prob (F-statistic):                    3.27e-19\n",
       "Time:                        14:55:42   Log-Likelihood:                         -581.14\n",
       "No. Observations:                  69   AIC:                                      1164.\n",
       "Df Residuals:                      68   BIC:                                      1167.\n",
       "Df Model:                           1                                                  \n",
       "Covariance Type:            nonrobust                                                  \n",
       "=================================================================================================\n",
       "                                    coef    std err          t      P>|t|      [0.025      0.975]\n",
       "-------------------------------------------------------------------------------------------------\n",
       "White House Budget Submission     0.1295      0.010     12.455      0.000       0.109       0.150\n",
       "==============================================================================\n",
       "Omnibus:                       13.866   Durbin-Watson:                   0.146\n",
       "Prob(Omnibus):                  0.001   Jarque-Bera (JB):                3.886\n",
       "Skew:                          -0.164   Prob(JB):                        0.143\n",
       "Kurtosis:                       1.885   Cond. No.                         1.00\n",
       "==============================================================================\n",
       "\n",
       "Notes:\n",
       "[1] R² is computed without centering (uncentered) since the model does not contain a constant.\n",
       "[2] Standard Errors assume that the covariance matrix of the errors is correctly specified.\n",
       "\"\"\""
      ]
     },
     "execution_count": 443,
     "metadata": {},
     "output_type": "execute_result"
    }
   ],
   "source": [
    "#Linear Regression for Year and Budget\n",
    "x = dataframebudget['Year']\n",
    "y = dataframebudget['White House Budget Submission']\n",
    "model = sm.OLS(x,y).fit()\n",
    "model.summary()\n"
   ]
  },
  {
   "cell_type": "code",
   "execution_count": null,
   "id": "ca87432a-60c0-4391-a17d-24c112a81853",
   "metadata": {},
   "outputs": [],
   "source": []
  }
 ],
 "metadata": {
  "kernelspec": {
   "display_name": "Python 3 (ipykernel)",
   "language": "python",
   "name": "python3"
  },
  "language_info": {
   "codemirror_mode": {
    "name": "ipython",
    "version": 3
   },
   "file_extension": ".py",
   "mimetype": "text/x-python",
   "name": "python",
   "nbconvert_exporter": "python",
   "pygments_lexer": "ipython3",
   "version": "3.9.7"
  }
 },
 "nbformat": 4,
 "nbformat_minor": 5
}
