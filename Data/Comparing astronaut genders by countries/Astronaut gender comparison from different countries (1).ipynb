{
 "cells": [
  {
   "cell_type": "code",
   "execution_count": 2,
   "id": "618c7476",
   "metadata": {},
   "outputs": [],
   "source": [
    "import pandas as pd\n",
    "import matplotlib.mlab as mlab\n",
    "import matplotlib.pyplot as plt\n",
    "import seaborn as sns\n",
    "import numpy as np\n",
    "from scipy import stats\n",
    "from scipy.stats import ttest_ind"
   ]
  },
  {
   "cell_type": "code",
   "execution_count": 3,
   "id": "5bcc1927",
   "metadata": {},
   "outputs": [],
   "source": [
    "Astronauts = pd.read_csv('International Astronaut Database.csv')"
   ]
  },
  {
   "cell_type": "code",
   "execution_count": 4,
   "id": "6f8013e9",
   "metadata": {},
   "outputs": [
    {
     "data": {
      "text/html": [
       "<div>\n",
       "<style scoped>\n",
       "    .dataframe tbody tr th:only-of-type {\n",
       "        vertical-align: middle;\n",
       "    }\n",
       "\n",
       "    .dataframe tbody tr th {\n",
       "        vertical-align: top;\n",
       "    }\n",
       "\n",
       "    .dataframe thead th {\n",
       "        text-align: right;\n",
       "    }\n",
       "</style>\n",
       "<table border=\"1\" class=\"dataframe\">\n",
       "  <thead>\n",
       "    <tr style=\"text-align: right;\">\n",
       "      <th></th>\n",
       "      <th>Name</th>\n",
       "      <th>Country</th>\n",
       "      <th>Gender</th>\n",
       "      <th>Flights</th>\n",
       "      <th>Total Flights</th>\n",
       "      <th>Total Flight Time (ddd:hh:mm)</th>\n",
       "    </tr>\n",
       "  </thead>\n",
       "  <tbody>\n",
       "    <tr>\n",
       "      <th>0</th>\n",
       "      <td>Abdul Ahad Mohmand</td>\n",
       "      <td>Afghanistan</td>\n",
       "      <td>Man</td>\n",
       "      <td>Soyuz TM-6 (1988)</td>\n",
       "      <td>1</td>\n",
       "      <td>008:20:26</td>\n",
       "    </tr>\n",
       "    <tr>\n",
       "      <th>1</th>\n",
       "      <td>Akihiko Hoshide</td>\n",
       "      <td>Japan</td>\n",
       "      <td>Man</td>\n",
       "      <td>STS-124 (2008), Soyuz TMA-05M (2012), SpaceX C...</td>\n",
       "      <td>3</td>\n",
       "      <td>524:08:27</td>\n",
       "    </tr>\n",
       "    <tr>\n",
       "      <th>2</th>\n",
       "      <td>Alan Bean</td>\n",
       "      <td>United States</td>\n",
       "      <td>Man</td>\n",
       "      <td>Apollo 12 (1969), Skylab 3 (1973)</td>\n",
       "      <td>2</td>\n",
       "      <td>069:15:45</td>\n",
       "    </tr>\n",
       "    <tr>\n",
       "      <th>3</th>\n",
       "      <td>Alan G. Poindexter</td>\n",
       "      <td>United States</td>\n",
       "      <td>Man</td>\n",
       "      <td>STS-122 (2008), STS-131 (2010)</td>\n",
       "      <td>2</td>\n",
       "      <td>027:21:09</td>\n",
       "    </tr>\n",
       "    <tr>\n",
       "      <th>4</th>\n",
       "      <td>Alan Shepard</td>\n",
       "      <td>United States</td>\n",
       "      <td>Man</td>\n",
       "      <td>Mercury-Redstone 3 (1961), Apollo 14 (1971)</td>\n",
       "      <td>2</td>\n",
       "      <td>009:00:17</td>\n",
       "    </tr>\n",
       "  </tbody>\n",
       "</table>\n",
       "</div>"
      ],
      "text/plain": [
       "                 Name        Country Gender  \\\n",
       "0  Abdul Ahad Mohmand    Afghanistan    Man   \n",
       "1     Akihiko Hoshide          Japan    Man   \n",
       "2           Alan Bean  United States    Man   \n",
       "3  Alan G. Poindexter  United States    Man   \n",
       "4        Alan Shepard  United States    Man   \n",
       "\n",
       "                                             Flights  Total Flights  \\\n",
       "0                                  Soyuz TM-6 (1988)              1   \n",
       "1  STS-124 (2008), Soyuz TMA-05M (2012), SpaceX C...              3   \n",
       "2                  Apollo 12 (1969), Skylab 3 (1973)              2   \n",
       "3                     STS-122 (2008), STS-131 (2010)              2   \n",
       "4        Mercury-Redstone 3 (1961), Apollo 14 (1971)              2   \n",
       "\n",
       "  Total Flight Time (ddd:hh:mm)  \n",
       "0                     008:20:26  \n",
       "1                     524:08:27  \n",
       "2                     069:15:45  \n",
       "3                     027:21:09  \n",
       "4                     009:00:17  "
      ]
     },
     "execution_count": 4,
     "metadata": {},
     "output_type": "execute_result"
    }
   ],
   "source": [
    "Astronauts.head()"
   ]
  },
  {
   "cell_type": "markdown",
   "id": "72501194",
   "metadata": {},
   "source": [
    "### What is the goal and which data needs to be removed?\n",
    "#### I want to compare the ratios of male to female astronauts across different countries.  \n",
    "#### I need to remove the columns for Flights, Total Flights, and Total Flight Time (ddd:hh:mm)"
   ]
  },
  {
   "cell_type": "code",
   "execution_count": 5,
   "id": "c2678035",
   "metadata": {},
   "outputs": [],
   "source": [
    "Astro1 = Astronauts.drop(['Flights'],axis=1)\n",
    "                        "
   ]
  },
  {
   "cell_type": "code",
   "execution_count": 6,
   "id": "9a15f7c1",
   "metadata": {},
   "outputs": [
    {
     "data": {
      "text/html": [
       "<div>\n",
       "<style scoped>\n",
       "    .dataframe tbody tr th:only-of-type {\n",
       "        vertical-align: middle;\n",
       "    }\n",
       "\n",
       "    .dataframe tbody tr th {\n",
       "        vertical-align: top;\n",
       "    }\n",
       "\n",
       "    .dataframe thead th {\n",
       "        text-align: right;\n",
       "    }\n",
       "</style>\n",
       "<table border=\"1\" class=\"dataframe\">\n",
       "  <thead>\n",
       "    <tr style=\"text-align: right;\">\n",
       "      <th></th>\n",
       "      <th>Name</th>\n",
       "      <th>Country</th>\n",
       "      <th>Gender</th>\n",
       "      <th>Total Flights</th>\n",
       "      <th>Total Flight Time (ddd:hh:mm)</th>\n",
       "    </tr>\n",
       "  </thead>\n",
       "  <tbody>\n",
       "    <tr>\n",
       "      <th>0</th>\n",
       "      <td>Abdul Ahad Mohmand</td>\n",
       "      <td>Afghanistan</td>\n",
       "      <td>Man</td>\n",
       "      <td>1</td>\n",
       "      <td>008:20:26</td>\n",
       "    </tr>\n",
       "    <tr>\n",
       "      <th>1</th>\n",
       "      <td>Akihiko Hoshide</td>\n",
       "      <td>Japan</td>\n",
       "      <td>Man</td>\n",
       "      <td>3</td>\n",
       "      <td>524:08:27</td>\n",
       "    </tr>\n",
       "    <tr>\n",
       "      <th>2</th>\n",
       "      <td>Alan Bean</td>\n",
       "      <td>United States</td>\n",
       "      <td>Man</td>\n",
       "      <td>2</td>\n",
       "      <td>069:15:45</td>\n",
       "    </tr>\n",
       "    <tr>\n",
       "      <th>3</th>\n",
       "      <td>Alan G. Poindexter</td>\n",
       "      <td>United States</td>\n",
       "      <td>Man</td>\n",
       "      <td>2</td>\n",
       "      <td>027:21:09</td>\n",
       "    </tr>\n",
       "    <tr>\n",
       "      <th>4</th>\n",
       "      <td>Alan Shepard</td>\n",
       "      <td>United States</td>\n",
       "      <td>Man</td>\n",
       "      <td>2</td>\n",
       "      <td>009:00:17</td>\n",
       "    </tr>\n",
       "  </tbody>\n",
       "</table>\n",
       "</div>"
      ],
      "text/plain": [
       "                 Name        Country Gender  Total Flights  \\\n",
       "0  Abdul Ahad Mohmand    Afghanistan    Man              1   \n",
       "1     Akihiko Hoshide          Japan    Man              3   \n",
       "2           Alan Bean  United States    Man              2   \n",
       "3  Alan G. Poindexter  United States    Man              2   \n",
       "4        Alan Shepard  United States    Man              2   \n",
       "\n",
       "  Total Flight Time (ddd:hh:mm)  \n",
       "0                     008:20:26  \n",
       "1                     524:08:27  \n",
       "2                     069:15:45  \n",
       "3                     027:21:09  \n",
       "4                     009:00:17  "
      ]
     },
     "execution_count": 6,
     "metadata": {},
     "output_type": "execute_result"
    }
   ],
   "source": [
    "Astro1.head()"
   ]
  },
  {
   "cell_type": "code",
   "execution_count": 7,
   "id": "5432d0ae",
   "metadata": {},
   "outputs": [],
   "source": [
    "Astro2=Astro1.drop(['Total Flight Time (ddd:hh:mm)'], axis=1)"
   ]
  },
  {
   "cell_type": "code",
   "execution_count": 8,
   "id": "1e349337",
   "metadata": {},
   "outputs": [
    {
     "data": {
      "text/html": [
       "<div>\n",
       "<style scoped>\n",
       "    .dataframe tbody tr th:only-of-type {\n",
       "        vertical-align: middle;\n",
       "    }\n",
       "\n",
       "    .dataframe tbody tr th {\n",
       "        vertical-align: top;\n",
       "    }\n",
       "\n",
       "    .dataframe thead th {\n",
       "        text-align: right;\n",
       "    }\n",
       "</style>\n",
       "<table border=\"1\" class=\"dataframe\">\n",
       "  <thead>\n",
       "    <tr style=\"text-align: right;\">\n",
       "      <th></th>\n",
       "      <th>Name</th>\n",
       "      <th>Country</th>\n",
       "      <th>Gender</th>\n",
       "      <th>Total Flights</th>\n",
       "    </tr>\n",
       "  </thead>\n",
       "  <tbody>\n",
       "    <tr>\n",
       "      <th>0</th>\n",
       "      <td>Abdul Ahad Mohmand</td>\n",
       "      <td>Afghanistan</td>\n",
       "      <td>Man</td>\n",
       "      <td>1</td>\n",
       "    </tr>\n",
       "    <tr>\n",
       "      <th>1</th>\n",
       "      <td>Akihiko Hoshide</td>\n",
       "      <td>Japan</td>\n",
       "      <td>Man</td>\n",
       "      <td>3</td>\n",
       "    </tr>\n",
       "    <tr>\n",
       "      <th>2</th>\n",
       "      <td>Alan Bean</td>\n",
       "      <td>United States</td>\n",
       "      <td>Man</td>\n",
       "      <td>2</td>\n",
       "    </tr>\n",
       "    <tr>\n",
       "      <th>3</th>\n",
       "      <td>Alan G. Poindexter</td>\n",
       "      <td>United States</td>\n",
       "      <td>Man</td>\n",
       "      <td>2</td>\n",
       "    </tr>\n",
       "    <tr>\n",
       "      <th>4</th>\n",
       "      <td>Alan Shepard</td>\n",
       "      <td>United States</td>\n",
       "      <td>Man</td>\n",
       "      <td>2</td>\n",
       "    </tr>\n",
       "  </tbody>\n",
       "</table>\n",
       "</div>"
      ],
      "text/plain": [
       "                 Name        Country Gender  Total Flights\n",
       "0  Abdul Ahad Mohmand    Afghanistan    Man              1\n",
       "1     Akihiko Hoshide          Japan    Man              3\n",
       "2           Alan Bean  United States    Man              2\n",
       "3  Alan G. Poindexter  United States    Man              2\n",
       "4        Alan Shepard  United States    Man              2"
      ]
     },
     "execution_count": 8,
     "metadata": {},
     "output_type": "execute_result"
    }
   ],
   "source": [
    "Astro2.head()"
   ]
  },
  {
   "cell_type": "code",
   "execution_count": 9,
   "id": "b19f830e",
   "metadata": {},
   "outputs": [],
   "source": [
    "Astro3=Astro2.drop(['Total Flights'], axis=1)"
   ]
  },
  {
   "cell_type": "code",
   "execution_count": 10,
   "id": "b4082321",
   "metadata": {},
   "outputs": [
    {
     "data": {
      "text/html": [
       "<div>\n",
       "<style scoped>\n",
       "    .dataframe tbody tr th:only-of-type {\n",
       "        vertical-align: middle;\n",
       "    }\n",
       "\n",
       "    .dataframe tbody tr th {\n",
       "        vertical-align: top;\n",
       "    }\n",
       "\n",
       "    .dataframe thead th {\n",
       "        text-align: right;\n",
       "    }\n",
       "</style>\n",
       "<table border=\"1\" class=\"dataframe\">\n",
       "  <thead>\n",
       "    <tr style=\"text-align: right;\">\n",
       "      <th></th>\n",
       "      <th>Name</th>\n",
       "      <th>Country</th>\n",
       "      <th>Gender</th>\n",
       "    </tr>\n",
       "  </thead>\n",
       "  <tbody>\n",
       "    <tr>\n",
       "      <th>0</th>\n",
       "      <td>Abdul Ahad Mohmand</td>\n",
       "      <td>Afghanistan</td>\n",
       "      <td>Man</td>\n",
       "    </tr>\n",
       "    <tr>\n",
       "      <th>1</th>\n",
       "      <td>Akihiko Hoshide</td>\n",
       "      <td>Japan</td>\n",
       "      <td>Man</td>\n",
       "    </tr>\n",
       "    <tr>\n",
       "      <th>2</th>\n",
       "      <td>Alan Bean</td>\n",
       "      <td>United States</td>\n",
       "      <td>Man</td>\n",
       "    </tr>\n",
       "    <tr>\n",
       "      <th>3</th>\n",
       "      <td>Alan G. Poindexter</td>\n",
       "      <td>United States</td>\n",
       "      <td>Man</td>\n",
       "    </tr>\n",
       "    <tr>\n",
       "      <th>4</th>\n",
       "      <td>Alan Shepard</td>\n",
       "      <td>United States</td>\n",
       "      <td>Man</td>\n",
       "    </tr>\n",
       "  </tbody>\n",
       "</table>\n",
       "</div>"
      ],
      "text/plain": [
       "                 Name        Country Gender\n",
       "0  Abdul Ahad Mohmand    Afghanistan    Man\n",
       "1     Akihiko Hoshide          Japan    Man\n",
       "2           Alan Bean  United States    Man\n",
       "3  Alan G. Poindexter  United States    Man\n",
       "4        Alan Shepard  United States    Man"
      ]
     },
     "execution_count": 10,
     "metadata": {},
     "output_type": "execute_result"
    }
   ],
   "source": [
    "Astro3.head()"
   ]
  },
  {
   "cell_type": "markdown",
   "id": "93914c61",
   "metadata": {},
   "source": [
    "### Group the Data by Countries"
   ]
  },
  {
   "cell_type": "code",
   "execution_count": 11,
   "id": "70822dbb",
   "metadata": {},
   "outputs": [
    {
     "data": {
      "text/plain": [
       "Country\n",
       "Afghanistan                                                           Man\n",
       "Austria                                                               Man\n",
       "Belgium                                                            ManMan\n",
       "Brazil                                                                Man\n",
       "Bulgaria                                                           ManMan\n",
       "Canada                                 ManManManManManWomanManManWomanMan\n",
       "China                                 ManManManManManWomanManManManManMan\n",
       "Cuba                                                                  Man\n",
       "Czechoslovakia                                                        Man\n",
       "Denmark                                                               Man\n",
       "East Germany                                                          Man\n",
       "France                                   WomanManManManManManManManManMan\n",
       "Germany                                    ManManManManManManManManManMan\n",
       "Hungary                                                            ManMan\n",
       "India                                                                 Man\n",
       "Iran                                                                Woman\n",
       "Israel                                                                Man\n",
       "Italy                                             ManManManManManWomanMan\n",
       "Japan                               ManWomanManManManWomanManManManManMan\n",
       "Kazakhstan                                                         ManMan\n",
       "Malaysia                                                              Man\n",
       "Mexico                                                                Man\n",
       "Mongolia                                                              Man\n",
       "Netherlands                                                        ManMan\n",
       "Peru                                                                  Man\n",
       "Poland                                                                Man\n",
       "Romania                                                               Man\n",
       "Russia                  ManManManManManManManManManManManManManManManM...\n",
       "Saudi Arabia                                                          Man\n",
       "Slovakia                                                              Man\n",
       "South Africa                                                          Man\n",
       "South Korea                                                         Woman\n",
       "Soviet Union            ManManManManManManManManManManManManManManManM...\n",
       "Spain                                                                 Man\n",
       "Sweden                                                                Man\n",
       "Switzerland                                                           Man\n",
       "Syria                                                                 Man\n",
       "Ukraine                                                               Man\n",
       "United Arab Emirates                                                  Man\n",
       "United Kingdom                                                WomanManMan\n",
       "United States           ManManManManManManManManManWomanWomanManManWom...\n",
       "Vietnam                                                               Man\n",
       "Name: Gender, dtype: object"
      ]
     },
     "execution_count": 11,
     "metadata": {},
     "output_type": "execute_result"
    }
   ],
   "source": [
    "Astro3.groupby('Country')['Gender'].sum()   \n"
   ]
  },
  {
   "cell_type": "code",
   "execution_count": 13,
   "id": "5b8279bd",
   "metadata": {},
   "outputs": [
    {
     "data": {
      "text/plain": [
       "<AxesSubplot:>"
      ]
     },
     "execution_count": 13,
     "metadata": {},
     "output_type": "execute_result"
    },
    {
     "data": {
      "image/png": "[encoded data removed]",
      "text/plain": [
       "<Figure size 432x288 with 1 Axes>"
      ]
     },
     "metadata": {
      "needs_background": "light"
     },
     "output_type": "display_data"
    }
   ],
   "source": [
    "Astro3.Country.hist()"
   ]
  },
  {
   "cell_type": "code",
   "execution_count": 14,
   "id": "ae4de9b2",
   "metadata": {},
   "outputs": [
    {
     "data": {
      "text/plain": [
       "<AxesSubplot:>"
      ]
     },
     "execution_count": 14,
     "metadata": {},
     "output_type": "execute_result"
    },
    {
     "data": {
      "image/png": "[encoded data removed]",
      "text/plain": [
       "<Figure size 432x288 with 1 Axes>"
      ]
     },
     "metadata": {
      "needs_background": "light"
     },
     "output_type": "display_data"
    }
   ],
   "source": [
    "Astro3.Gender.hist()"
   ]
  },
  {
   "cell_type": "code",
   "execution_count": 16,
   "id": "3163eae1",
   "metadata": {
    "scrolled": true
   },
   "outputs": [
    {
     "data": {
      "text/html": [
       "<div>\n",
       "<style scoped>\n",
       "    .dataframe tbody tr th:only-of-type {\n",
       "        vertical-align: middle;\n",
       "    }\n",
       "\n",
       "    .dataframe tbody tr th {\n",
       "        vertical-align: top;\n",
       "    }\n",
       "\n",
       "    .dataframe thead th {\n",
       "        text-align: right;\n",
       "    }\n",
       "</style>\n",
       "<table border=\"1\" class=\"dataframe\">\n",
       "  <thead>\n",
       "    <tr style=\"text-align: right;\">\n",
       "      <th></th>\n",
       "      <th>Name</th>\n",
       "      <th>Country</th>\n",
       "      <th>Gender</th>\n",
       "    </tr>\n",
       "  </thead>\n",
       "  <tbody>\n",
       "    <tr>\n",
       "      <th>0</th>\n",
       "      <td>Abdul Ahad Mohmand</td>\n",
       "      <td>Afghanistan</td>\n",
       "      <td>Man</td>\n",
       "    </tr>\n",
       "    <tr>\n",
       "      <th>1</th>\n",
       "      <td>Akihiko Hoshide</td>\n",
       "      <td>Japan</td>\n",
       "      <td>Man</td>\n",
       "    </tr>\n",
       "    <tr>\n",
       "      <th>2</th>\n",
       "      <td>Alan Bean</td>\n",
       "      <td>United States</td>\n",
       "      <td>Man</td>\n",
       "    </tr>\n",
       "    <tr>\n",
       "      <th>3</th>\n",
       "      <td>Alan G. Poindexter</td>\n",
       "      <td>United States</td>\n",
       "      <td>Man</td>\n",
       "    </tr>\n",
       "    <tr>\n",
       "      <th>4</th>\n",
       "      <td>Alan Shepard</td>\n",
       "      <td>United States</td>\n",
       "      <td>Man</td>\n",
       "    </tr>\n",
       "    <tr>\n",
       "      <th>...</th>\n",
       "      <td>...</td>\n",
       "      <td>...</td>\n",
       "      <td>...</td>\n",
       "    </tr>\n",
       "    <tr>\n",
       "      <th>565</th>\n",
       "      <td>Yuri Romanenko</td>\n",
       "      <td>Soviet Union</td>\n",
       "      <td>Man</td>\n",
       "    </tr>\n",
       "    <tr>\n",
       "      <th>566</th>\n",
       "      <td>Yuri Shargin</td>\n",
       "      <td>Russia</td>\n",
       "      <td>Man</td>\n",
       "    </tr>\n",
       "    <tr>\n",
       "      <th>567</th>\n",
       "      <td>Yury Usachov</td>\n",
       "      <td>Russia</td>\n",
       "      <td>Man</td>\n",
       "    </tr>\n",
       "    <tr>\n",
       "      <th>568</th>\n",
       "      <td>Zhai Zhigang</td>\n",
       "      <td>China</td>\n",
       "      <td>Man</td>\n",
       "    </tr>\n",
       "    <tr>\n",
       "      <th>569</th>\n",
       "      <td>Zhang Xiaoguang</td>\n",
       "      <td>China</td>\n",
       "      <td>Man</td>\n",
       "    </tr>\n",
       "  </tbody>\n",
       "</table>\n",
       "<p>570 rows × 3 columns</p>\n",
       "</div>"
      ],
      "text/plain": [
       "                   Name        Country Gender\n",
       "0    Abdul Ahad Mohmand    Afghanistan    Man\n",
       "1       Akihiko Hoshide          Japan    Man\n",
       "2             Alan Bean  United States    Man\n",
       "3    Alan G. Poindexter  United States    Man\n",
       "4          Alan Shepard  United States    Man\n",
       "..                  ...            ...    ...\n",
       "565      Yuri Romanenko   Soviet Union    Man\n",
       "566        Yuri Shargin         Russia    Man\n",
       "567        Yury Usachov         Russia    Man\n",
       "568        Zhai Zhigang          China    Man\n",
       "569     Zhang Xiaoguang          China    Man\n",
       "\n",
       "[570 rows x 3 columns]"
      ]
     },
     "execution_count": 16,
     "metadata": {},
     "output_type": "execute_result"
    }
   ],
   "source": [
    "Astro3"
   ]
  },
  {
   "cell_type": "markdown",
   "id": "d0fde3d5",
   "metadata": {},
   "source": [
    "#### Created tableau worksheets to show the comparisions between the countries"
   ]
  },
  {
   "cell_type": "markdown",
   "id": "5612045e",
   "metadata": {},
   "source": [
    "## What did I find......\n",
    "#### I found that there are only 9 countries that have produced male and female astronauts.  Canada, China, France, Italy, Japan, Russia, Soviet Union, United Kingdom, and the United States\n",
    "#### There are 32 countries who have only produced male astronauts\n",
    "#### There are 2 countries who have only produced femal astronauts and those are Iran and South Korea"
   ]
  },
  {
   "cell_type": "code",
   "execution_count": null,
   "id": "1d37d3f7",
   "metadata": {},
   "outputs": [],
   "source": []
  }
 ],
 "metadata": {
  "kernelspec": {
   "display_name": "Python 3 (ipykernel)",
   "language": "python",
   "name": "python3"
  },
  "language_info": {
   "codemirror_mode": {
    "name": "ipython",
    "version": 3
   },
   "file_extension": ".py",
   "mimetype": "text/x-python",
   "name": "python",
   "nbconvert_exporter": "python",
   "pygments_lexer": "ipython3",
   "version": "3.9.12"
  }
 },
 "nbformat": 4,
 "nbformat_minor": 5
}
