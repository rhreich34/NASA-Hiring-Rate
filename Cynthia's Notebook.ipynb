{
 "cells": [
  {
   "cell_type": "code",
   "execution_count": 76,
   "id": "a97f11b6-64c9-4a80-8803-ab0814209381",
   "metadata": {},
   "outputs": [],
   "source": [
    "import pandas as pd\n",
    "import matplotlib.mlab as mlab\n",
    "import matplotlib.pyplot as plt\n",
    "import seaborn as sns\n",
    "import numpy as np\n",
    "from scipy import stats\n",
    "from scipy.stats import ttest_ind"
   ]
  },
  {
   "cell_type": "code",
   "execution_count": null,
   "id": "f3c88a24-7aca-4035-b8ab-8290221cb1f9",
   "metadata": {},
   "outputs": [],
   "source": [
    "### Questions:\n"
   ]
  },
  {
   "cell_type": "markdown",
   "id": "03eac769-2751-45b9-815e-553bd8cc975a",
   "metadata": {},
   "source": [
    "### Dataset"
   ]
  },
  {
   "cell_type": "code",
   "execution_count": 56,
   "id": "4864b53e-8661-4cb2-83f3-7064e9a8f730",
   "metadata": {},
   "outputs": [],
   "source": [
    "dataframe1= pd.read_excel(\"Data/nasa.xlsx\")\n",
    "dataframe2=pd.read_csv(\"Data/astronauts.csv\")\n",
    "dataframe3=pd.read_excel(\"Data/Female and Male Astronauts Accepted in the NASA Program.xlsx\")"
   ]
  },
  {
   "cell_type": "code",
   "execution_count": 57,
   "id": "2d36e136-d1df-406e-853f-d7727d63634b",
   "metadata": {},
   "outputs": [
    {
     "data": {
      "text/html": [
       "<div>\n",
       "<style scoped>\n",
       "    .dataframe tbody tr th:only-of-type {\n",
       "        vertical-align: middle;\n",
       "    }\n",
       "\n",
       "    .dataframe tbody tr th {\n",
       "        vertical-align: top;\n",
       "    }\n",
       "\n",
       "    .dataframe thead th {\n",
       "        text-align: right;\n",
       "    }\n",
       "</style>\n",
       "<table border=\"1\" class=\"dataframe\">\n",
       "  <thead>\n",
       "    <tr style=\"text-align: right;\">\n",
       "      <th></th>\n",
       "      <th>ID</th>\n",
       "      <th>DOB</th>\n",
       "      <th>Education</th>\n",
       "      <th>NASA</th>\n",
       "      <th>Military</th>\n",
       "      <th>Race</th>\n",
       "      <th>Gender</th>\n",
       "      <th>Interviewed</th>\n",
       "      <th>Selected</th>\n",
       "      <th>Status</th>\n",
       "      <th>rando</th>\n",
       "      <th>insamp</th>\n",
       "      <th>Announcement Date</th>\n",
       "      <th>Age</th>\n",
       "    </tr>\n",
       "  </thead>\n",
       "  <tbody>\n",
       "    <tr>\n",
       "      <th>0</th>\n",
       "      <td>20090000</td>\n",
       "      <td>1984-11-22</td>\n",
       "      <td>4</td>\n",
       "      <td>No</td>\n",
       "      <td>No</td>\n",
       "      <td>Caucasian</td>\n",
       "      <td>Male</td>\n",
       "      <td>MBQ not interviewed</td>\n",
       "      <td>NaN</td>\n",
       "      <td>MBQ only</td>\n",
       "      <td>0.176464</td>\n",
       "      <td>0</td>\n",
       "      <td>2009-06-29</td>\n",
       "      <td>24.599589</td>\n",
       "    </tr>\n",
       "    <tr>\n",
       "      <th>1</th>\n",
       "      <td>20090001</td>\n",
       "      <td>1984-07-16</td>\n",
       "      <td>6</td>\n",
       "      <td>No</td>\n",
       "      <td>No</td>\n",
       "      <td>Caucasian</td>\n",
       "      <td>Male</td>\n",
       "      <td>MBQ not interviewed</td>\n",
       "      <td>NaN</td>\n",
       "      <td>MBQ only</td>\n",
       "      <td>0.760009</td>\n",
       "      <td>0</td>\n",
       "      <td>2009-06-29</td>\n",
       "      <td>24.952772</td>\n",
       "    </tr>\n",
       "    <tr>\n",
       "      <th>2</th>\n",
       "      <td>20090002</td>\n",
       "      <td>1984-02-09</td>\n",
       "      <td>4</td>\n",
       "      <td>No</td>\n",
       "      <td>No</td>\n",
       "      <td>Asian/Pacific Islander</td>\n",
       "      <td>Male</td>\n",
       "      <td>MBQ not interviewed</td>\n",
       "      <td>NaN</td>\n",
       "      <td>MBQ only</td>\n",
       "      <td>0.653344</td>\n",
       "      <td>0</td>\n",
       "      <td>2009-06-29</td>\n",
       "      <td>25.385352</td>\n",
       "    </tr>\n",
       "    <tr>\n",
       "      <th>3</th>\n",
       "      <td>20090003</td>\n",
       "      <td>1984-02-01</td>\n",
       "      <td>8</td>\n",
       "      <td>No</td>\n",
       "      <td>No</td>\n",
       "      <td>Asian/Pacific Islander</td>\n",
       "      <td>Male</td>\n",
       "      <td>MBQ not interviewed</td>\n",
       "      <td>NaN</td>\n",
       "      <td>MBQ only</td>\n",
       "      <td>0.510478</td>\n",
       "      <td>0</td>\n",
       "      <td>2009-06-29</td>\n",
       "      <td>25.407255</td>\n",
       "    </tr>\n",
       "    <tr>\n",
       "      <th>4</th>\n",
       "      <td>20090004</td>\n",
       "      <td>1984-01-20</td>\n",
       "      <td>4</td>\n",
       "      <td>No</td>\n",
       "      <td>No</td>\n",
       "      <td>Caucasian</td>\n",
       "      <td>Female</td>\n",
       "      <td>MBQ not interviewed</td>\n",
       "      <td>NaN</td>\n",
       "      <td>MBQ only</td>\n",
       "      <td>0.449820</td>\n",
       "      <td>0</td>\n",
       "      <td>2009-06-29</td>\n",
       "      <td>25.440110</td>\n",
       "    </tr>\n",
       "  </tbody>\n",
       "</table>\n",
       "</div>"
      ],
      "text/plain": [
       "         ID        DOB  Education NASA Military                    Race  \\\n",
       "0  20090000 1984-11-22          4   No       No               Caucasian   \n",
       "1  20090001 1984-07-16          6   No       No               Caucasian   \n",
       "2  20090002 1984-02-09          4   No       No  Asian/Pacific Islander   \n",
       "3  20090003 1984-02-01          8   No       No  Asian/Pacific Islander   \n",
       "4  20090004 1984-01-20          4   No       No               Caucasian   \n",
       "\n",
       "   Gender          Interviewed Selected    Status     rando  insamp  \\\n",
       "0    Male  MBQ not interviewed      NaN  MBQ only  0.176464       0   \n",
       "1    Male  MBQ not interviewed      NaN  MBQ only  0.760009       0   \n",
       "2    Male  MBQ not interviewed      NaN  MBQ only  0.653344       0   \n",
       "3    Male  MBQ not interviewed      NaN  MBQ only  0.510478       0   \n",
       "4  Female  MBQ not interviewed      NaN  MBQ only  0.449820       0   \n",
       "\n",
       "  Announcement Date        Age  \n",
       "0        2009-06-29  24.599589  \n",
       "1        2009-06-29  24.952772  \n",
       "2        2009-06-29  25.385352  \n",
       "3        2009-06-29  25.407255  \n",
       "4        2009-06-29  25.440110  "
      ]
     },
     "execution_count": 57,
     "metadata": {},
     "output_type": "execute_result"
    }
   ],
   "source": [
    "dataframe1.head()"
   ]
  },
  {
   "cell_type": "code",
   "execution_count": 58,
   "id": "e42db742-c6d4-4821-ae0b-6d23516be98d",
   "metadata": {},
   "outputs": [],
   "source": [
    "dataframe2=pd.DataFrame(dataframe2)"
   ]
  },
  {
   "cell_type": "code",
   "execution_count": 59,
   "id": "a7c5fb43-932e-4236-a849-94ec2e400483",
   "metadata": {},
   "outputs": [
    {
     "data": {
      "text/html": [
       "<div>\n",
       "<style scoped>\n",
       "    .dataframe tbody tr th:only-of-type {\n",
       "        vertical-align: middle;\n",
       "    }\n",
       "\n",
       "    .dataframe tbody tr th {\n",
       "        vertical-align: top;\n",
       "    }\n",
       "\n",
       "    .dataframe thead th {\n",
       "        text-align: right;\n",
       "    }\n",
       "</style>\n",
       "<table border=\"1\" class=\"dataframe\">\n",
       "  <thead>\n",
       "    <tr style=\"text-align: right;\">\n",
       "      <th></th>\n",
       "      <th>Name</th>\n",
       "      <th>Year</th>\n",
       "      <th>Group</th>\n",
       "      <th>Status</th>\n",
       "      <th>Birth Date</th>\n",
       "      <th>Birth Place</th>\n",
       "      <th>Gender</th>\n",
       "      <th>Alma Mater</th>\n",
       "      <th>Undergraduate Major</th>\n",
       "      <th>Graduate Major</th>\n",
       "      <th>Military Rank</th>\n",
       "      <th>Military Branch</th>\n",
       "      <th>Space Flights</th>\n",
       "      <th>Space Flight (hr)</th>\n",
       "      <th>Space Walks</th>\n",
       "      <th>Space Walks (hr)</th>\n",
       "      <th>Missions</th>\n",
       "      <th>Death Date</th>\n",
       "      <th>Death Mission</th>\n",
       "    </tr>\n",
       "  </thead>\n",
       "  <tbody>\n",
       "    <tr>\n",
       "      <th>0</th>\n",
       "      <td>Joseph M. Acaba</td>\n",
       "      <td>2004.0</td>\n",
       "      <td>19.0</td>\n",
       "      <td>Active</td>\n",
       "      <td>5/17/1967</td>\n",
       "      <td>Inglewood, CA</td>\n",
       "      <td>Male</td>\n",
       "      <td>University of California-Santa Barbara; Univer...</td>\n",
       "      <td>Geology</td>\n",
       "      <td>Geology</td>\n",
       "      <td>NaN</td>\n",
       "      <td>NaN</td>\n",
       "      <td>2</td>\n",
       "      <td>3307</td>\n",
       "      <td>2</td>\n",
       "      <td>13.0</td>\n",
       "      <td>STS-119 (Discovery), ISS-31/32 (Soyuz)</td>\n",
       "      <td>NaN</td>\n",
       "      <td>NaN</td>\n",
       "    </tr>\n",
       "    <tr>\n",
       "      <th>1</th>\n",
       "      <td>Loren W. Acton</td>\n",
       "      <td>NaN</td>\n",
       "      <td>NaN</td>\n",
       "      <td>Retired</td>\n",
       "      <td>3/7/1936</td>\n",
       "      <td>Lewiston, MT</td>\n",
       "      <td>Male</td>\n",
       "      <td>Montana State University; University of Colorado</td>\n",
       "      <td>Engineering Physics</td>\n",
       "      <td>Solar Physics</td>\n",
       "      <td>NaN</td>\n",
       "      <td>NaN</td>\n",
       "      <td>1</td>\n",
       "      <td>190</td>\n",
       "      <td>0</td>\n",
       "      <td>0.0</td>\n",
       "      <td>STS 51-F (Challenger)</td>\n",
       "      <td>NaN</td>\n",
       "      <td>NaN</td>\n",
       "    </tr>\n",
       "    <tr>\n",
       "      <th>2</th>\n",
       "      <td>James C. Adamson</td>\n",
       "      <td>1984.0</td>\n",
       "      <td>10.0</td>\n",
       "      <td>Retired</td>\n",
       "      <td>3/3/1946</td>\n",
       "      <td>Warsaw, NY</td>\n",
       "      <td>Male</td>\n",
       "      <td>US Military Academy; Princeton University</td>\n",
       "      <td>Engineering</td>\n",
       "      <td>Aerospace Engineering</td>\n",
       "      <td>Colonel</td>\n",
       "      <td>US Army (Retired)</td>\n",
       "      <td>2</td>\n",
       "      <td>334</td>\n",
       "      <td>0</td>\n",
       "      <td>0.0</td>\n",
       "      <td>STS-28 (Columbia), STS-43 (Atlantis)</td>\n",
       "      <td>NaN</td>\n",
       "      <td>NaN</td>\n",
       "    </tr>\n",
       "    <tr>\n",
       "      <th>3</th>\n",
       "      <td>Thomas D. Akers</td>\n",
       "      <td>1987.0</td>\n",
       "      <td>12.0</td>\n",
       "      <td>Retired</td>\n",
       "      <td>5/20/1951</td>\n",
       "      <td>St. Louis, MO</td>\n",
       "      <td>Male</td>\n",
       "      <td>University of Missouri-Rolla</td>\n",
       "      <td>Applied Mathematics</td>\n",
       "      <td>Applied Mathematics</td>\n",
       "      <td>Colonel</td>\n",
       "      <td>US Air Force (Retired)</td>\n",
       "      <td>4</td>\n",
       "      <td>814</td>\n",
       "      <td>4</td>\n",
       "      <td>29.0</td>\n",
       "      <td>STS-41 (Discovery), STS-49 (Endeavor), STS-61 ...</td>\n",
       "      <td>NaN</td>\n",
       "      <td>NaN</td>\n",
       "    </tr>\n",
       "    <tr>\n",
       "      <th>4</th>\n",
       "      <td>Buzz Aldrin</td>\n",
       "      <td>1963.0</td>\n",
       "      <td>3.0</td>\n",
       "      <td>Retired</td>\n",
       "      <td>1/20/1930</td>\n",
       "      <td>Montclair, NJ</td>\n",
       "      <td>Male</td>\n",
       "      <td>US Military Academy; MIT</td>\n",
       "      <td>Mechanical Engineering</td>\n",
       "      <td>Astronautics</td>\n",
       "      <td>Colonel</td>\n",
       "      <td>US Air Force (Retired)</td>\n",
       "      <td>2</td>\n",
       "      <td>289</td>\n",
       "      <td>2</td>\n",
       "      <td>8.0</td>\n",
       "      <td>Gemini 12, Apollo 11</td>\n",
       "      <td>NaN</td>\n",
       "      <td>NaN</td>\n",
       "    </tr>\n",
       "  </tbody>\n",
       "</table>\n",
       "</div>"
      ],
      "text/plain": [
       "               Name    Year  Group   Status Birth Date    Birth Place Gender  \\\n",
       "0   Joseph M. Acaba  2004.0   19.0   Active  5/17/1967  Inglewood, CA   Male   \n",
       "1    Loren W. Acton     NaN    NaN  Retired   3/7/1936   Lewiston, MT   Male   \n",
       "2  James C. Adamson  1984.0   10.0  Retired   3/3/1946     Warsaw, NY   Male   \n",
       "3   Thomas D. Akers  1987.0   12.0  Retired  5/20/1951  St. Louis, MO   Male   \n",
       "4       Buzz Aldrin  1963.0    3.0  Retired  1/20/1930  Montclair, NJ   Male   \n",
       "\n",
       "                                          Alma Mater     Undergraduate Major  \\\n",
       "0  University of California-Santa Barbara; Univer...                 Geology   \n",
       "1   Montana State University; University of Colorado     Engineering Physics   \n",
       "2          US Military Academy; Princeton University             Engineering   \n",
       "3                       University of Missouri-Rolla     Applied Mathematics   \n",
       "4                           US Military Academy; MIT  Mechanical Engineering   \n",
       "\n",
       "          Graduate Major Military Rank         Military Branch  Space Flights  \\\n",
       "0                Geology           NaN                     NaN              2   \n",
       "1          Solar Physics           NaN                     NaN              1   \n",
       "2  Aerospace Engineering       Colonel       US Army (Retired)              2   \n",
       "3    Applied Mathematics       Colonel  US Air Force (Retired)              4   \n",
       "4           Astronautics       Colonel  US Air Force (Retired)              2   \n",
       "\n",
       "   Space Flight (hr)  Space Walks  Space Walks (hr)  \\\n",
       "0               3307            2              13.0   \n",
       "1                190            0               0.0   \n",
       "2                334            0               0.0   \n",
       "3                814            4              29.0   \n",
       "4                289            2               8.0   \n",
       "\n",
       "                                            Missions Death Date Death Mission  \n",
       "0             STS-119 (Discovery), ISS-31/32 (Soyuz)        NaN           NaN  \n",
       "1                              STS 51-F (Challenger)        NaN           NaN  \n",
       "2               STS-28 (Columbia), STS-43 (Atlantis)        NaN           NaN  \n",
       "3  STS-41 (Discovery), STS-49 (Endeavor), STS-61 ...        NaN           NaN  \n",
       "4                               Gemini 12, Apollo 11        NaN           NaN  "
      ]
     },
     "execution_count": 59,
     "metadata": {},
     "output_type": "execute_result"
    }
   ],
   "source": [
    "dataframe2.head()"
   ]
  },
  {
   "cell_type": "code",
   "execution_count": 60,
   "id": "b6162b7c-526e-4306-8163-22d6747d85a2",
   "metadata": {},
   "outputs": [
    {
     "data": {
      "text/html": [
       "<div>\n",
       "<style scoped>\n",
       "    .dataframe tbody tr th:only-of-type {\n",
       "        vertical-align: middle;\n",
       "    }\n",
       "\n",
       "    .dataframe tbody tr th {\n",
       "        vertical-align: top;\n",
       "    }\n",
       "\n",
       "    .dataframe thead th {\n",
       "        text-align: right;\n",
       "    }\n",
       "</style>\n",
       "<table border=\"1\" class=\"dataframe\">\n",
       "  <thead>\n",
       "    <tr style=\"text-align: right;\">\n",
       "      <th></th>\n",
       "      <th>ID</th>\n",
       "      <th>Cohort</th>\n",
       "      <th>Year</th>\n",
       "      <th>Males Accepted in NASA Program</th>\n",
       "      <th>Females Accepted in NASA Program</th>\n",
       "    </tr>\n",
       "  </thead>\n",
       "  <tbody>\n",
       "    <tr>\n",
       "      <th>0</th>\n",
       "      <td>NaN</td>\n",
       "      <td>1</td>\n",
       "      <td>1959</td>\n",
       "      <td>100</td>\n",
       "      <td>0</td>\n",
       "    </tr>\n",
       "    <tr>\n",
       "      <th>1</th>\n",
       "      <td>NaN</td>\n",
       "      <td>2</td>\n",
       "      <td>1962</td>\n",
       "      <td>100</td>\n",
       "      <td>0</td>\n",
       "    </tr>\n",
       "    <tr>\n",
       "      <th>2</th>\n",
       "      <td>NaN</td>\n",
       "      <td>3</td>\n",
       "      <td>1963</td>\n",
       "      <td>100</td>\n",
       "      <td>0</td>\n",
       "    </tr>\n",
       "    <tr>\n",
       "      <th>3</th>\n",
       "      <td>NaN</td>\n",
       "      <td>4</td>\n",
       "      <td>1965</td>\n",
       "      <td>100</td>\n",
       "      <td>0</td>\n",
       "    </tr>\n",
       "    <tr>\n",
       "      <th>4</th>\n",
       "      <td>NaN</td>\n",
       "      <td>5</td>\n",
       "      <td>1966</td>\n",
       "      <td>100</td>\n",
       "      <td>0</td>\n",
       "    </tr>\n",
       "  </tbody>\n",
       "</table>\n",
       "</div>"
      ],
      "text/plain": [
       "   ID   Cohort   Year  Males Accepted in NASA Program   \\\n",
       "0  NaN        1  1959                              100   \n",
       "1  NaN        2  1962                              100   \n",
       "2  NaN        3  1963                              100   \n",
       "3  NaN        4  1965                              100   \n",
       "4  NaN        5  1966                              100   \n",
       "\n",
       "   Females Accepted in NASA Program   \n",
       "0                                  0  \n",
       "1                                  0  \n",
       "2                                  0  \n",
       "3                                  0  \n",
       "4                                  0  "
      ]
     },
     "execution_count": 60,
     "metadata": {},
     "output_type": "execute_result"
    }
   ],
   "source": [
    "dataframe3.head()"
   ]
  },
  {
   "cell_type": "code",
   "execution_count": 61,
   "id": "c8f4446c-31e8-47d0-a465-82e9945f4722",
   "metadata": {},
   "outputs": [],
   "source": [
    "dataframe1=pd.DataFrame(dataframe1)\n",
    "dataframe3=pd.DataFrame(dataframe3)"
   ]
  },
  {
   "cell_type": "markdown",
   "id": "58e83289-e372-433c-8c34-9cfe7f1c73d2",
   "metadata": {},
   "source": [
    "## Remove extra columns to be able to combine into one data frame "
   ]
  },
  {
   "cell_type": "code",
   "execution_count": 62,
   "id": "7ecce290-22d1-4320-86f1-267298cd0e7e",
   "metadata": {},
   "outputs": [],
   "source": [
    "dataframe1=dataframe1.drop(columns=['ID','DOB','rando','Announcement Date','insamp'])"
   ]
  },
  {
   "cell_type": "code",
   "execution_count": 63,
   "id": "5d3c9a92-41fe-469c-8384-c12522ecb114",
   "metadata": {},
   "outputs": [
    {
     "name": "stdout",
     "output_type": "stream",
     "text": [
      "<class 'pandas.core.frame.DataFrame'>\n",
      "RangeIndex: 27 entries, 0 to 26\n",
      "Data columns (total 5 columns):\n",
      " #   Column                             Non-Null Count  Dtype  \n",
      "---  ------                             --------------  -----  \n",
      " 0   ID                                 0 non-null      float64\n",
      " 1   Cohort                             27 non-null     int64  \n",
      " 2   Year                               27 non-null     int64  \n",
      " 3   Males Accepted in NASA Program     27 non-null     int64  \n",
      " 4   Females Accepted in NASA Program   27 non-null     int64  \n",
      "dtypes: float64(1), int64(4)\n",
      "memory usage: 1.2 KB\n",
      "None\n"
     ]
    }
   ],
   "source": [
    "print(dataframe3.info())"
   ]
  },
  {
   "cell_type": "code",
   "execution_count": 64,
   "id": "cddd5995-0fee-4fa7-8b0f-d72a28fe8514",
   "metadata": {},
   "outputs": [],
   "source": [
    "dataframe2=dataframe2.drop(columns=['Group','Space Walks (hr)'])"
   ]
  },
  {
   "cell_type": "code",
   "execution_count": 65,
   "id": "c28460dc-153b-4cef-992c-b32a4665e051",
   "metadata": {},
   "outputs": [],
   "source": [
    "NasaData=pd.merge(dataframe1,dataframe2, on='Gender')"
   ]
  },
  {
   "cell_type": "code",
   "execution_count": 66,
   "id": "d08a3aa0-dd59-4776-b5f5-68e8ca50b770",
   "metadata": {},
   "outputs": [
    {
     "data": {
      "text/html": [
       "<div>\n",
       "<style scoped>\n",
       "    .dataframe tbody tr th:only-of-type {\n",
       "        vertical-align: middle;\n",
       "    }\n",
       "\n",
       "    .dataframe tbody tr th {\n",
       "        vertical-align: top;\n",
       "    }\n",
       "\n",
       "    .dataframe thead th {\n",
       "        text-align: right;\n",
       "    }\n",
       "</style>\n",
       "<table border=\"1\" class=\"dataframe\">\n",
       "  <thead>\n",
       "    <tr style=\"text-align: right;\">\n",
       "      <th></th>\n",
       "      <th>Education</th>\n",
       "      <th>NASA</th>\n",
       "      <th>Military</th>\n",
       "      <th>Race</th>\n",
       "      <th>Gender</th>\n",
       "      <th>Interviewed</th>\n",
       "      <th>Selected</th>\n",
       "      <th>Status_x</th>\n",
       "      <th>Age</th>\n",
       "      <th>Name</th>\n",
       "      <th>...</th>\n",
       "      <th>Undergraduate Major</th>\n",
       "      <th>Graduate Major</th>\n",
       "      <th>Military Rank</th>\n",
       "      <th>Military Branch</th>\n",
       "      <th>Space Flights</th>\n",
       "      <th>Space Flight (hr)</th>\n",
       "      <th>Space Walks</th>\n",
       "      <th>Missions</th>\n",
       "      <th>Death Date</th>\n",
       "      <th>Death Mission</th>\n",
       "    </tr>\n",
       "  </thead>\n",
       "  <tbody>\n",
       "    <tr>\n",
       "      <th>0</th>\n",
       "      <td>4</td>\n",
       "      <td>No</td>\n",
       "      <td>No</td>\n",
       "      <td>Caucasian</td>\n",
       "      <td>Male</td>\n",
       "      <td>MBQ not interviewed</td>\n",
       "      <td>NaN</td>\n",
       "      <td>MBQ only</td>\n",
       "      <td>24.599589</td>\n",
       "      <td>Joseph M. Acaba</td>\n",
       "      <td>...</td>\n",
       "      <td>Geology</td>\n",
       "      <td>Geology</td>\n",
       "      <td>NaN</td>\n",
       "      <td>NaN</td>\n",
       "      <td>2</td>\n",
       "      <td>3307</td>\n",
       "      <td>2</td>\n",
       "      <td>STS-119 (Discovery), ISS-31/32 (Soyuz)</td>\n",
       "      <td>NaN</td>\n",
       "      <td>NaN</td>\n",
       "    </tr>\n",
       "    <tr>\n",
       "      <th>1</th>\n",
       "      <td>4</td>\n",
       "      <td>No</td>\n",
       "      <td>No</td>\n",
       "      <td>Caucasian</td>\n",
       "      <td>Male</td>\n",
       "      <td>MBQ not interviewed</td>\n",
       "      <td>NaN</td>\n",
       "      <td>MBQ only</td>\n",
       "      <td>24.599589</td>\n",
       "      <td>Loren W. Acton</td>\n",
       "      <td>...</td>\n",
       "      <td>Engineering Physics</td>\n",
       "      <td>Solar Physics</td>\n",
       "      <td>NaN</td>\n",
       "      <td>NaN</td>\n",
       "      <td>1</td>\n",
       "      <td>190</td>\n",
       "      <td>0</td>\n",
       "      <td>STS 51-F (Challenger)</td>\n",
       "      <td>NaN</td>\n",
       "      <td>NaN</td>\n",
       "    </tr>\n",
       "    <tr>\n",
       "      <th>2</th>\n",
       "      <td>4</td>\n",
       "      <td>No</td>\n",
       "      <td>No</td>\n",
       "      <td>Caucasian</td>\n",
       "      <td>Male</td>\n",
       "      <td>MBQ not interviewed</td>\n",
       "      <td>NaN</td>\n",
       "      <td>MBQ only</td>\n",
       "      <td>24.599589</td>\n",
       "      <td>James C. Adamson</td>\n",
       "      <td>...</td>\n",
       "      <td>Engineering</td>\n",
       "      <td>Aerospace Engineering</td>\n",
       "      <td>Colonel</td>\n",
       "      <td>US Army (Retired)</td>\n",
       "      <td>2</td>\n",
       "      <td>334</td>\n",
       "      <td>0</td>\n",
       "      <td>STS-28 (Columbia), STS-43 (Atlantis)</td>\n",
       "      <td>NaN</td>\n",
       "      <td>NaN</td>\n",
       "    </tr>\n",
       "    <tr>\n",
       "      <th>3</th>\n",
       "      <td>4</td>\n",
       "      <td>No</td>\n",
       "      <td>No</td>\n",
       "      <td>Caucasian</td>\n",
       "      <td>Male</td>\n",
       "      <td>MBQ not interviewed</td>\n",
       "      <td>NaN</td>\n",
       "      <td>MBQ only</td>\n",
       "      <td>24.599589</td>\n",
       "      <td>Thomas D. Akers</td>\n",
       "      <td>...</td>\n",
       "      <td>Applied Mathematics</td>\n",
       "      <td>Applied Mathematics</td>\n",
       "      <td>Colonel</td>\n",
       "      <td>US Air Force (Retired)</td>\n",
       "      <td>4</td>\n",
       "      <td>814</td>\n",
       "      <td>4</td>\n",
       "      <td>STS-41 (Discovery), STS-49 (Endeavor), STS-61 ...</td>\n",
       "      <td>NaN</td>\n",
       "      <td>NaN</td>\n",
       "    </tr>\n",
       "    <tr>\n",
       "      <th>4</th>\n",
       "      <td>4</td>\n",
       "      <td>No</td>\n",
       "      <td>No</td>\n",
       "      <td>Caucasian</td>\n",
       "      <td>Male</td>\n",
       "      <td>MBQ not interviewed</td>\n",
       "      <td>NaN</td>\n",
       "      <td>MBQ only</td>\n",
       "      <td>24.599589</td>\n",
       "      <td>Buzz Aldrin</td>\n",
       "      <td>...</td>\n",
       "      <td>Mechanical Engineering</td>\n",
       "      <td>Astronautics</td>\n",
       "      <td>Colonel</td>\n",
       "      <td>US Air Force (Retired)</td>\n",
       "      <td>2</td>\n",
       "      <td>289</td>\n",
       "      <td>2</td>\n",
       "      <td>Gemini 12, Apollo 11</td>\n",
       "      <td>NaN</td>\n",
       "      <td>NaN</td>\n",
       "    </tr>\n",
       "  </tbody>\n",
       "</table>\n",
       "<p>5 rows × 25 columns</p>\n",
       "</div>"
      ],
      "text/plain": [
       "   Education NASA Military       Race Gender          Interviewed Selected  \\\n",
       "0          4   No       No  Caucasian   Male  MBQ not interviewed      NaN   \n",
       "1          4   No       No  Caucasian   Male  MBQ not interviewed      NaN   \n",
       "2          4   No       No  Caucasian   Male  MBQ not interviewed      NaN   \n",
       "3          4   No       No  Caucasian   Male  MBQ not interviewed      NaN   \n",
       "4          4   No       No  Caucasian   Male  MBQ not interviewed      NaN   \n",
       "\n",
       "   Status_x        Age              Name  ...     Undergraduate Major  \\\n",
       "0  MBQ only  24.599589   Joseph M. Acaba  ...                 Geology   \n",
       "1  MBQ only  24.599589    Loren W. Acton  ...     Engineering Physics   \n",
       "2  MBQ only  24.599589  James C. Adamson  ...             Engineering   \n",
       "3  MBQ only  24.599589   Thomas D. Akers  ...     Applied Mathematics   \n",
       "4  MBQ only  24.599589       Buzz Aldrin  ...  Mechanical Engineering   \n",
       "\n",
       "          Graduate Major Military Rank         Military Branch Space Flights  \\\n",
       "0                Geology           NaN                     NaN             2   \n",
       "1          Solar Physics           NaN                     NaN             1   \n",
       "2  Aerospace Engineering       Colonel       US Army (Retired)             2   \n",
       "3    Applied Mathematics       Colonel  US Air Force (Retired)             4   \n",
       "4           Astronautics       Colonel  US Air Force (Retired)             2   \n",
       "\n",
       "  Space Flight (hr) Space Walks  \\\n",
       "0              3307           2   \n",
       "1               190           0   \n",
       "2               334           0   \n",
       "3               814           4   \n",
       "4               289           2   \n",
       "\n",
       "                                            Missions Death Date  Death Mission  \n",
       "0             STS-119 (Discovery), ISS-31/32 (Soyuz)        NaN            NaN  \n",
       "1                              STS 51-F (Challenger)        NaN            NaN  \n",
       "2               STS-28 (Columbia), STS-43 (Atlantis)        NaN            NaN  \n",
       "3  STS-41 (Discovery), STS-49 (Endeavor), STS-61 ...        NaN            NaN  \n",
       "4                               Gemini 12, Apollo 11        NaN            NaN  \n",
       "\n",
       "[5 rows x 25 columns]"
      ]
     },
     "execution_count": 66,
     "metadata": {},
     "output_type": "execute_result"
    }
   ],
   "source": [
    "NasaData.head()"
   ]
  },
  {
   "cell_type": "code",
   "execution_count": 67,
   "id": "e6c95531-bed1-4dc6-aa60-7f7804d99fa4",
   "metadata": {},
   "outputs": [],
   "source": [
    "NasaData=NasaData.drop(columns=['Interviewed','Status_x','Death Mission','Death Date','Alma Mater','Birth Place','Selected', 'Status_y'])"
   ]
  },
  {
   "cell_type": "code",
   "execution_count": 68,
   "id": "641e4531-511c-4655-87eb-f5c54b60efa6",
   "metadata": {},
   "outputs": [
    {
     "data": {
      "text/html": [
       "<div>\n",
       "<style scoped>\n",
       "    .dataframe tbody tr th:only-of-type {\n",
       "        vertical-align: middle;\n",
       "    }\n",
       "\n",
       "    .dataframe tbody tr th {\n",
       "        vertical-align: top;\n",
       "    }\n",
       "\n",
       "    .dataframe thead th {\n",
       "        text-align: right;\n",
       "    }\n",
       "</style>\n",
       "<table border=\"1\" class=\"dataframe\">\n",
       "  <thead>\n",
       "    <tr style=\"text-align: right;\">\n",
       "      <th></th>\n",
       "      <th>Education</th>\n",
       "      <th>NASA</th>\n",
       "      <th>Military</th>\n",
       "      <th>Race</th>\n",
       "      <th>Gender</th>\n",
       "      <th>Age</th>\n",
       "      <th>Name</th>\n",
       "      <th>Year</th>\n",
       "      <th>Status_y</th>\n",
       "      <th>Birth Date</th>\n",
       "      <th>Undergraduate Major</th>\n",
       "      <th>Graduate Major</th>\n",
       "      <th>Military Rank</th>\n",
       "      <th>Military Branch</th>\n",
       "      <th>Space Flights</th>\n",
       "      <th>Space Flight (hr)</th>\n",
       "      <th>Space Walks</th>\n",
       "      <th>Missions</th>\n",
       "    </tr>\n",
       "  </thead>\n",
       "  <tbody>\n",
       "    <tr>\n",
       "      <th>0</th>\n",
       "      <td>4</td>\n",
       "      <td>No</td>\n",
       "      <td>No</td>\n",
       "      <td>Caucasian</td>\n",
       "      <td>Male</td>\n",
       "      <td>24.599589</td>\n",
       "      <td>Joseph M. Acaba</td>\n",
       "      <td>2004.0</td>\n",
       "      <td>Active</td>\n",
       "      <td>5/17/1967</td>\n",
       "      <td>Geology</td>\n",
       "      <td>Geology</td>\n",
       "      <td>NaN</td>\n",
       "      <td>NaN</td>\n",
       "      <td>2</td>\n",
       "      <td>3307</td>\n",
       "      <td>2</td>\n",
       "      <td>STS-119 (Discovery), ISS-31/32 (Soyuz)</td>\n",
       "    </tr>\n",
       "    <tr>\n",
       "      <th>1</th>\n",
       "      <td>4</td>\n",
       "      <td>No</td>\n",
       "      <td>No</td>\n",
       "      <td>Caucasian</td>\n",
       "      <td>Male</td>\n",
       "      <td>24.599589</td>\n",
       "      <td>Loren W. Acton</td>\n",
       "      <td>NaN</td>\n",
       "      <td>Retired</td>\n",
       "      <td>3/7/1936</td>\n",
       "      <td>Engineering Physics</td>\n",
       "      <td>Solar Physics</td>\n",
       "      <td>NaN</td>\n",
       "      <td>NaN</td>\n",
       "      <td>1</td>\n",
       "      <td>190</td>\n",
       "      <td>0</td>\n",
       "      <td>STS 51-F (Challenger)</td>\n",
       "    </tr>\n",
       "    <tr>\n",
       "      <th>2</th>\n",
       "      <td>4</td>\n",
       "      <td>No</td>\n",
       "      <td>No</td>\n",
       "      <td>Caucasian</td>\n",
       "      <td>Male</td>\n",
       "      <td>24.599589</td>\n",
       "      <td>James C. Adamson</td>\n",
       "      <td>1984.0</td>\n",
       "      <td>Retired</td>\n",
       "      <td>3/3/1946</td>\n",
       "      <td>Engineering</td>\n",
       "      <td>Aerospace Engineering</td>\n",
       "      <td>Colonel</td>\n",
       "      <td>US Army (Retired)</td>\n",
       "      <td>2</td>\n",
       "      <td>334</td>\n",
       "      <td>0</td>\n",
       "      <td>STS-28 (Columbia), STS-43 (Atlantis)</td>\n",
       "    </tr>\n",
       "    <tr>\n",
       "      <th>3</th>\n",
       "      <td>4</td>\n",
       "      <td>No</td>\n",
       "      <td>No</td>\n",
       "      <td>Caucasian</td>\n",
       "      <td>Male</td>\n",
       "      <td>24.599589</td>\n",
       "      <td>Thomas D. Akers</td>\n",
       "      <td>1987.0</td>\n",
       "      <td>Retired</td>\n",
       "      <td>5/20/1951</td>\n",
       "      <td>Applied Mathematics</td>\n",
       "      <td>Applied Mathematics</td>\n",
       "      <td>Colonel</td>\n",
       "      <td>US Air Force (Retired)</td>\n",
       "      <td>4</td>\n",
       "      <td>814</td>\n",
       "      <td>4</td>\n",
       "      <td>STS-41 (Discovery), STS-49 (Endeavor), STS-61 ...</td>\n",
       "    </tr>\n",
       "    <tr>\n",
       "      <th>4</th>\n",
       "      <td>4</td>\n",
       "      <td>No</td>\n",
       "      <td>No</td>\n",
       "      <td>Caucasian</td>\n",
       "      <td>Male</td>\n",
       "      <td>24.599589</td>\n",
       "      <td>Buzz Aldrin</td>\n",
       "      <td>1963.0</td>\n",
       "      <td>Retired</td>\n",
       "      <td>1/20/1930</td>\n",
       "      <td>Mechanical Engineering</td>\n",
       "      <td>Astronautics</td>\n",
       "      <td>Colonel</td>\n",
       "      <td>US Air Force (Retired)</td>\n",
       "      <td>2</td>\n",
       "      <td>289</td>\n",
       "      <td>2</td>\n",
       "      <td>Gemini 12, Apollo 11</td>\n",
       "    </tr>\n",
       "  </tbody>\n",
       "</table>\n",
       "</div>"
      ],
      "text/plain": [
       "   Education NASA Military       Race Gender        Age              Name  \\\n",
       "0          4   No       No  Caucasian   Male  24.599589   Joseph M. Acaba   \n",
       "1          4   No       No  Caucasian   Male  24.599589    Loren W. Acton   \n",
       "2          4   No       No  Caucasian   Male  24.599589  James C. Adamson   \n",
       "3          4   No       No  Caucasian   Male  24.599589   Thomas D. Akers   \n",
       "4          4   No       No  Caucasian   Male  24.599589       Buzz Aldrin   \n",
       "\n",
       "     Year Status_y Birth Date     Undergraduate Major         Graduate Major  \\\n",
       "0  2004.0   Active  5/17/1967                 Geology                Geology   \n",
       "1     NaN  Retired   3/7/1936     Engineering Physics          Solar Physics   \n",
       "2  1984.0  Retired   3/3/1946             Engineering  Aerospace Engineering   \n",
       "3  1987.0  Retired  5/20/1951     Applied Mathematics    Applied Mathematics   \n",
       "4  1963.0  Retired  1/20/1930  Mechanical Engineering           Astronautics   \n",
       "\n",
       "  Military Rank         Military Branch  Space Flights  Space Flight (hr)  \\\n",
       "0           NaN                     NaN              2               3307   \n",
       "1           NaN                     NaN              1                190   \n",
       "2       Colonel       US Army (Retired)              2                334   \n",
       "3       Colonel  US Air Force (Retired)              4                814   \n",
       "4       Colonel  US Air Force (Retired)              2                289   \n",
       "\n",
       "   Space Walks                                           Missions  \n",
       "0            2             STS-119 (Discovery), ISS-31/32 (Soyuz)  \n",
       "1            0                              STS 51-F (Challenger)  \n",
       "2            0               STS-28 (Columbia), STS-43 (Atlantis)  \n",
       "3            4  STS-41 (Discovery), STS-49 (Endeavor), STS-61 ...  \n",
       "4            2                               Gemini 12, Apollo 11  "
      ]
     },
     "execution_count": 68,
     "metadata": {},
     "output_type": "execute_result"
    }
   ],
   "source": [
    "NasaData.head()"
   ]
  },
  {
   "cell_type": "markdown",
   "id": "a514804c-efad-496a-836e-9d9e997a853b",
   "metadata": {},
   "source": [
    "#### Does the space flight hours differ between males and females? (Independent t-test)"
   ]
  },
  {
   "cell_type": "markdown",
   "id": "7f17adf5-a568-4a15-9c1b-99a6074da70f",
   "metadata": {},
   "source": [
    "##### Test for Assumptions"
   ]
  },
  {
   "cell_type": "code",
   "execution_count": 78,
   "id": "4d9ff13a-a90c-445b-9df8-6bf48cca977a",
   "metadata": {},
   "outputs": [
    {
     "data": {
      "text/plain": [
       "<AxesSubplot:>"
      ]
     },
     "execution_count": 78,
     "metadata": {},
     "output_type": "execute_result"
    },
    {
     "data": {
      "image/png": "[encoded data removed]",
      "text/plain": [
       "<Figure size 432x288 with 1 Axes>"
      ]
     },
     "metadata": {
      "needs_background": "light"
     },
     "output_type": "display_data"
    }
   ],
   "source": [
    "NasaData['Space Flight (hr)'][NasaData['Gender']== 'Male'].hist()"
   ]
  },
  {
   "cell_type": "code",
   "execution_count": 86,
   "id": "e948f0e6-ba37-4936-b111-c42b23f2322f",
   "metadata": {},
   "outputs": [
    {
     "data": {
      "text/plain": [
       "<AxesSubplot:xlabel='Space Flight (hr)', ylabel='Count'>"
      ]
     },
     "execution_count": 86,
     "metadata": {},
     "output_type": "execute_result"
    },
    {
     "data": {
      "image/png": "[encoded data removed]",
      "text/plain": [
       "<Figure size 432x288 with 1 Axes>"
      ]
     },
     "metadata": {
      "needs_background": "light"
     },
     "output_type": "display_data"
    }
   ],
   "source": [
    "sns.histplot(NasaData['Space Flight (hr)'][NasaData['Gender']== 'Male'])"
   ]
  },
  {
   "cell_type": "code",
   "execution_count": 91,
   "id": "9327f1a6-9e70-485c-b8aa-5491b879aadc",
   "metadata": {},
   "outputs": [],
   "source": [
    "NasaData['Space Flight (hr)SQRT'] = np.sqrt(NasaData['Space Flight (hr)'])"
   ]
  },
  {
   "cell_type": "code",
   "execution_count": 92,
   "id": "c846f306-c636-4d72-8a99-02f396a52d64",
   "metadata": {},
   "outputs": [
    {
     "data": {
      "text/plain": [
       "<AxesSubplot:>"
      ]
     },
     "execution_count": 92,
     "metadata": {},
     "output_type": "execute_result"
    },
    {
     "data": {
      "image/png": "[encoded data removed]",
      "text/plain": [
       "<Figure size 432x288 with 1 Axes>"
      ]
     },
     "metadata": {
      "needs_background": "light"
     },
     "output_type": "display_data"
    }
   ],
   "source": [
    "NasaData['Space Flight (hr)SQRT'][NasaData['Gender']== 'Male'].hist()"
   ]
  },
  {
   "cell_type": "code",
   "execution_count": 79,
   "id": "e01a5b19-cdfe-4667-b704-521b9d03d738",
   "metadata": {},
   "outputs": [
    {
     "data": {
      "text/plain": [
       "<AxesSubplot:>"
      ]
     },
     "execution_count": 79,
     "metadata": {},
     "output_type": "execute_result"
    },
    {
     "data": {
      "image/png": "[encoded data removed]",
      "text/plain": [
       "<Figure size 432x288 with 1 Axes>"
      ]
     },
     "metadata": {
      "needs_background": "light"
     },
     "output_type": "display_data"
    }
   ],
   "source": [
    "NasaData['Space Flight (hr)'][NasaData['Gender']== 'Female'].hist()"
   ]
  },
  {
   "cell_type": "code",
   "execution_count": 93,
   "id": "5971340d-e69f-4f3a-be04-62e31f1adfb6",
   "metadata": {},
   "outputs": [
    {
     "data": {
      "text/plain": [
       "<AxesSubplot:>"
      ]
     },
     "execution_count": 93,
     "metadata": {},
     "output_type": "execute_result"
    },
    {
     "data": {
      "image/png": "[encoded data removed]",
      "text/plain": [
       "<Figure size 432x288 with 1 Axes>"
      ]
     },
     "metadata": {
      "needs_background": "light"
     },
     "output_type": "display_data"
    }
   ],
   "source": [
    "NasaData['Space Flight (hr)SQRT'][NasaData['Gender']== 'Female'].hist()"
   ]
  },
  {
   "cell_type": "code",
   "execution_count": null,
   "id": "bd1878b2-0612-4bc0-b252-7bd16bba184f",
   "metadata": {},
   "outputs": [],
   "source": []
  },
  {
   "cell_type": "code",
   "execution_count": null,
   "id": "db46e507-9f9c-4e89-8adc-b6abd562e3db",
   "metadata": {},
   "outputs": [],
   "source": []
  },
  {
   "cell_type": "markdown",
   "id": "841d1657-1714-4234-aaec-1fbbf32ba9ea",
   "metadata": {},
   "source": [
    "##### Run Analysis"
   ]
  },
  {
   "cell_type": "code",
   "execution_count": 94,
   "id": "7244d033-e2c6-488b-bc0e-7848fa7d88e9",
   "metadata": {},
   "outputs": [
    {
     "data": {
      "text/plain": [
       "Ttest_indResult(statistic=-33.397001497696905, pvalue=2.3432743505986788e-244)"
      ]
     },
     "execution_count": 94,
     "metadata": {},
     "output_type": "execute_result"
    }
   ],
   "source": [
    "ttest_ind(NasaData['Space Flight (hr)SQRT'][NasaData['Gender']== 'Male'],NasaData['Space Flight (hr)SQRT'][NasaData['Gender']== 'Female'])"
   ]
  },
  {
   "cell_type": "code",
   "execution_count": 95,
   "id": "cb236466-2b00-4c82-9c92-6299bed67101",
   "metadata": {},
   "outputs": [
    {
     "data": {
      "text/plain": [
       "28.121857019875563"
      ]
     },
     "execution_count": 95,
     "metadata": {},
     "output_type": "execute_result"
    }
   ],
   "source": [
    "NasaData['Space Flight (hr)SQRT'][NasaData['Gender']== 'Male'].mean()"
   ]
  },
  {
   "cell_type": "code",
   "execution_count": 96,
   "id": "cc5c7322-cf03-4ee4-9490-57d80ef0b0f0",
   "metadata": {},
   "outputs": [
    {
     "data": {
      "text/plain": [
       "32.24233522528614"
      ]
     },
     "execution_count": 96,
     "metadata": {},
     "output_type": "execute_result"
    }
   ],
   "source": [
    "NasaData['Space Flight (hr)SQRT'][NasaData['Gender']== 'Female'].mean()"
   ]
  },
  {
   "cell_type": "markdown",
   "id": "5d531dcd-1ab6-490c-b722-4bc7d66ca14e",
   "metadata": {},
   "source": [
    "#### There is a significance in the space flight time between males and females, females have more space flight time which is intresting"
   ]
  },
  {
   "cell_type": "markdown",
   "id": "b945a5c8-d68e-43d9-891f-1a3e7d96bcb8",
   "metadata": {},
   "source": [
    "#### Does the space flight hours differ between hispanics and caucasians? (Independent t-test)"
   ]
  },
  {
   "cell_type": "code",
   "execution_count": 83,
   "id": "a2cbb6d0-7390-4a59-8cf0-108160813d6b",
   "metadata": {},
   "outputs": [
    {
     "data": {
      "text/plain": [
       "<AxesSubplot:>"
      ]
     },
     "execution_count": 83,
     "metadata": {},
     "output_type": "execute_result"
    },
    {
     "data": {
      "image/png": "[encoded data removed]",
      "text/plain": [
       "<Figure size 432x288 with 1 Axes>"
      ]
     },
     "metadata": {
      "needs_background": "light"
     },
     "output_type": "display_data"
    }
   ],
   "source": [
    "NasaData['Space Flight (hr)'][NasaData['Race']== 'Hispanic'].hist()"
   ]
  },
  {
   "cell_type": "code",
   "execution_count": 97,
   "id": "f494b641-8e3d-4496-a1d8-e22cb6f59aa4",
   "metadata": {},
   "outputs": [
    {
     "data": {
      "text/plain": [
       "<AxesSubplot:>"
      ]
     },
     "execution_count": 97,
     "metadata": {},
     "output_type": "execute_result"
    },
    {
     "data": {
      "image/png": "[encoded data removed]",
      "text/plain": [
       "<Figure size 432x288 with 1 Axes>"
      ]
     },
     "metadata": {
      "needs_background": "light"
     },
     "output_type": "display_data"
    }
   ],
   "source": [
    "NasaData['Space Flight (hr)SQRT'][NasaData['Race']== 'Hispanic'].hist()"
   ]
  },
  {
   "cell_type": "code",
   "execution_count": null,
   "id": "95efd563-9b23-4652-929e-f341df2987ec",
   "metadata": {},
   "outputs": [],
   "source": []
  },
  {
   "cell_type": "code",
   "execution_count": 98,
   "id": "beae39c8-30ab-4392-95eb-a2a3cc330e76",
   "metadata": {},
   "outputs": [
    {
     "data": {
      "text/plain": [
       "<AxesSubplot:>"
      ]
     },
     "execution_count": 98,
     "metadata": {},
     "output_type": "execute_result"
    },
    {
     "data": {
      "image/png": "[encoded data removed]",
      "text/plain": [
       "<Figure size 432x288 with 1 Axes>"
      ]
     },
     "metadata": {
      "needs_background": "light"
     },
     "output_type": "display_data"
    }
   ],
   "source": [
    "NasaData['Space Flight (hr)SQRT'][NasaData['Race']== 'Caucasian'].hist()"
   ]
  },
  {
   "cell_type": "code",
   "execution_count": 99,
   "id": "c3e15ac7-9dcf-4131-902d-b79959a8cb17",
   "metadata": {},
   "outputs": [
    {
     "data": {
      "text/plain": [
       "Ttest_indResult(statistic=0.00073729398427902, pvalue=0.9994117248072004)"
      ]
     },
     "execution_count": 99,
     "metadata": {},
     "output_type": "execute_result"
    }
   ],
   "source": [
    "ttest_ind(NasaData['Space Flight (hr)SQRT'][NasaData['Race']== 'Hispanic'],NasaData['Space Flight (hr)SQRT'][NasaData['Race']== 'Caucasian'])"
   ]
  },
  {
   "cell_type": "markdown",
   "id": "03b7435e-6987-4b25-b661-7bbec0a4b976",
   "metadata": {},
   "source": [
    "#### no significant difference"
   ]
  },
  {
   "cell_type": "code",
   "execution_count": null,
   "id": "b8790b6b-da6b-48c9-a2c7-70732f6549c5",
   "metadata": {},
   "outputs": [],
   "source": []
  }
 ],
 "metadata": {
  "kernelspec": {
   "display_name": "Python 3 (ipykernel)",
   "language": "python",
   "name": "python3"
  },
  "language_info": {
   "codemirror_mode": {
    "name": "ipython",
    "version": 3
   },
   "file_extension": ".py",
   "mimetype": "text/x-python",
   "name": "python",
   "nbconvert_exporter": "python",
   "pygments_lexer": "ipython3",
   "version": "3.9.7"
  }
 },
 "nbformat": 4,
 "nbformat_minor": 5
}
