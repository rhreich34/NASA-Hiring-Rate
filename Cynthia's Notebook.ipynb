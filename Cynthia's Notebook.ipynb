{
 "cells": [
  {
   "cell_type": "markdown",
   "id": "c2296281-da4e-4e30-8e6e-395ebaa6f4c5",
   "metadata": {},
   "source": [
    "### Import Packages"
   ]
  },
  {
   "cell_type": "code",
   "execution_count": 55,
   "id": "a97f11b6-64c9-4a80-8803-ab0814209381",
   "metadata": {},
   "outputs": [],
   "source": [
    "import pandas as pd\n",
    "import matplotlib.mlab as mlab\n",
    "import matplotlib.pyplot as plt\n",
    "import seaborn as sns\n",
    "import numpy as np\n",
    "from scipy import stats\n",
    "from scipy.stats import ttest_ind\n",
    "from statsmodels.stats.proportion import proportions_ztest"
   ]
  },
  {
   "cell_type": "code",
   "execution_count": 7,
   "id": "f3c88a24-7aca-4035-b8ab-8290221cb1f9",
   "metadata": {},
   "outputs": [],
   "source": [
    "### Questions:\n"
   ]
  },
  {
   "cell_type": "markdown",
   "id": "03eac769-2751-45b9-815e-553bd8cc975a",
   "metadata": {},
   "source": [
    "### Dataset"
   ]
  },
  {
   "cell_type": "code",
   "execution_count": 8,
   "id": "4864b53e-8661-4cb2-83f3-7064e9a8f730",
   "metadata": {},
   "outputs": [],
   "source": [
    "dataframe1= pd.read_excel(\"Data/nasa.xlsx\")\n",
    "dataframe2=pd.read_csv(\"Data/astronauts.csv\")\n",
    "dataframe3=pd.read_excel(\"Data/Female and Male Astronauts Accepted in the NASA Program.xlsx\")"
   ]
  },
  {
   "cell_type": "code",
   "execution_count": 11,
   "id": "2d36e136-d1df-406e-853f-d7727d63634b",
   "metadata": {},
   "outputs": [
    {
     "data": {
      "text/html": [
       "<div>\n",
       "<style scoped>\n",
       "    .dataframe tbody tr th:only-of-type {\n",
       "        vertical-align: middle;\n",
       "    }\n",
       "\n",
       "    .dataframe tbody tr th {\n",
       "        vertical-align: top;\n",
       "    }\n",
       "\n",
       "    .dataframe thead th {\n",
       "        text-align: right;\n",
       "    }\n",
       "</style>\n",
       "<table border=\"1\" class=\"dataframe\">\n",
       "  <thead>\n",
       "    <tr style=\"text-align: right;\">\n",
       "      <th></th>\n",
       "      <th>ID</th>\n",
       "      <th>DOB</th>\n",
       "      <th>Education</th>\n",
       "      <th>NASA</th>\n",
       "      <th>Military</th>\n",
       "      <th>Race</th>\n",
       "      <th>Gender</th>\n",
       "      <th>Interviewed</th>\n",
       "      <th>Selected</th>\n",
       "      <th>Status</th>\n",
       "      <th>rando</th>\n",
       "      <th>insamp</th>\n",
       "      <th>Announcement Date</th>\n",
       "      <th>Age</th>\n",
       "    </tr>\n",
       "  </thead>\n",
       "  <tbody>\n",
       "    <tr>\n",
       "      <th>0</th>\n",
       "      <td>20090000</td>\n",
       "      <td>1984-11-22</td>\n",
       "      <td>4</td>\n",
       "      <td>No</td>\n",
       "      <td>No</td>\n",
       "      <td>Caucasian</td>\n",
       "      <td>Male</td>\n",
       "      <td>MBQ not interviewed</td>\n",
       "      <td>NaN</td>\n",
       "      <td>MBQ only</td>\n",
       "      <td>0.176464</td>\n",
       "      <td>0</td>\n",
       "      <td>2009-06-29</td>\n",
       "      <td>24.599589</td>\n",
       "    </tr>\n",
       "    <tr>\n",
       "      <th>1</th>\n",
       "      <td>20090001</td>\n",
       "      <td>1984-07-16</td>\n",
       "      <td>6</td>\n",
       "      <td>No</td>\n",
       "      <td>No</td>\n",
       "      <td>Caucasian</td>\n",
       "      <td>Male</td>\n",
       "      <td>MBQ not interviewed</td>\n",
       "      <td>NaN</td>\n",
       "      <td>MBQ only</td>\n",
       "      <td>0.760009</td>\n",
       "      <td>0</td>\n",
       "      <td>2009-06-29</td>\n",
       "      <td>24.952772</td>\n",
       "    </tr>\n",
       "    <tr>\n",
       "      <th>2</th>\n",
       "      <td>20090002</td>\n",
       "      <td>1984-02-09</td>\n",
       "      <td>4</td>\n",
       "      <td>No</td>\n",
       "      <td>No</td>\n",
       "      <td>Asian/Pacific Islander</td>\n",
       "      <td>Male</td>\n",
       "      <td>MBQ not interviewed</td>\n",
       "      <td>NaN</td>\n",
       "      <td>MBQ only</td>\n",
       "      <td>0.653344</td>\n",
       "      <td>0</td>\n",
       "      <td>2009-06-29</td>\n",
       "      <td>25.385352</td>\n",
       "    </tr>\n",
       "    <tr>\n",
       "      <th>3</th>\n",
       "      <td>20090003</td>\n",
       "      <td>1984-02-01</td>\n",
       "      <td>8</td>\n",
       "      <td>No</td>\n",
       "      <td>No</td>\n",
       "      <td>Asian/Pacific Islander</td>\n",
       "      <td>Male</td>\n",
       "      <td>MBQ not interviewed</td>\n",
       "      <td>NaN</td>\n",
       "      <td>MBQ only</td>\n",
       "      <td>0.510478</td>\n",
       "      <td>0</td>\n",
       "      <td>2009-06-29</td>\n",
       "      <td>25.407255</td>\n",
       "    </tr>\n",
       "    <tr>\n",
       "      <th>4</th>\n",
       "      <td>20090004</td>\n",
       "      <td>1984-01-20</td>\n",
       "      <td>4</td>\n",
       "      <td>No</td>\n",
       "      <td>No</td>\n",
       "      <td>Caucasian</td>\n",
       "      <td>Female</td>\n",
       "      <td>MBQ not interviewed</td>\n",
       "      <td>NaN</td>\n",
       "      <td>MBQ only</td>\n",
       "      <td>0.449820</td>\n",
       "      <td>0</td>\n",
       "      <td>2009-06-29</td>\n",
       "      <td>25.440110</td>\n",
       "    </tr>\n",
       "  </tbody>\n",
       "</table>\n",
       "</div>"
      ],
      "text/plain": [
       "         ID        DOB  Education NASA Military                    Race  \\\n",
       "0  20090000 1984-11-22          4   No       No               Caucasian   \n",
       "1  20090001 1984-07-16          6   No       No               Caucasian   \n",
       "2  20090002 1984-02-09          4   No       No  Asian/Pacific Islander   \n",
       "3  20090003 1984-02-01          8   No       No  Asian/Pacific Islander   \n",
       "4  20090004 1984-01-20          4   No       No               Caucasian   \n",
       "\n",
       "   Gender          Interviewed Selected    Status     rando  insamp  \\\n",
       "0    Male  MBQ not interviewed      NaN  MBQ only  0.176464       0   \n",
       "1    Male  MBQ not interviewed      NaN  MBQ only  0.760009       0   \n",
       "2    Male  MBQ not interviewed      NaN  MBQ only  0.653344       0   \n",
       "3    Male  MBQ not interviewed      NaN  MBQ only  0.510478       0   \n",
       "4  Female  MBQ not interviewed      NaN  MBQ only  0.449820       0   \n",
       "\n",
       "  Announcement Date        Age  \n",
       "0        2009-06-29  24.599589  \n",
       "1        2009-06-29  24.952772  \n",
       "2        2009-06-29  25.385352  \n",
       "3        2009-06-29  25.407255  \n",
       "4        2009-06-29  25.440110  "
      ]
     },
     "execution_count": 11,
     "metadata": {},
     "output_type": "execute_result"
    }
   ],
   "source": [
    "dataframe1.head()"
   ]
  },
  {
   "cell_type": "code",
   "execution_count": 12,
   "id": "e42db742-c6d4-4821-ae0b-6d23516be98d",
   "metadata": {},
   "outputs": [],
   "source": [
    "dataframe2=pd.DataFrame(dataframe2)"
   ]
  },
  {
   "cell_type": "code",
   "execution_count": 13,
   "id": "a7c5fb43-932e-4236-a849-94ec2e400483",
   "metadata": {},
   "outputs": [
    {
     "data": {
      "text/html": [
       "<div>\n",
       "<style scoped>\n",
       "    .dataframe tbody tr th:only-of-type {\n",
       "        vertical-align: middle;\n",
       "    }\n",
       "\n",
       "    .dataframe tbody tr th {\n",
       "        vertical-align: top;\n",
       "    }\n",
       "\n",
       "    .dataframe thead th {\n",
       "        text-align: right;\n",
       "    }\n",
       "</style>\n",
       "<table border=\"1\" class=\"dataframe\">\n",
       "  <thead>\n",
       "    <tr style=\"text-align: right;\">\n",
       "      <th></th>\n",
       "      <th>Name</th>\n",
       "      <th>Year</th>\n",
       "      <th>Group</th>\n",
       "      <th>Status</th>\n",
       "      <th>Birth Date</th>\n",
       "      <th>Birth Place</th>\n",
       "      <th>Gender</th>\n",
       "      <th>Alma Mater</th>\n",
       "      <th>Undergraduate Major</th>\n",
       "      <th>Graduate Major</th>\n",
       "      <th>Military Rank</th>\n",
       "      <th>Military Branch</th>\n",
       "      <th>Space Flights</th>\n",
       "      <th>Space Flight (hr)</th>\n",
       "      <th>Space Walks</th>\n",
       "      <th>Space Walks (hr)</th>\n",
       "      <th>Missions</th>\n",
       "      <th>Death Date</th>\n",
       "      <th>Death Mission</th>\n",
       "    </tr>\n",
       "  </thead>\n",
       "  <tbody>\n",
       "    <tr>\n",
       "      <th>0</th>\n",
       "      <td>Joseph M. Acaba</td>\n",
       "      <td>2004.0</td>\n",
       "      <td>19.0</td>\n",
       "      <td>Active</td>\n",
       "      <td>5/17/1967</td>\n",
       "      <td>Inglewood, CA</td>\n",
       "      <td>Male</td>\n",
       "      <td>University of California-Santa Barbara; Univer...</td>\n",
       "      <td>Geology</td>\n",
       "      <td>Geology</td>\n",
       "      <td>NaN</td>\n",
       "      <td>NaN</td>\n",
       "      <td>2</td>\n",
       "      <td>3307</td>\n",
       "      <td>2</td>\n",
       "      <td>13.0</td>\n",
       "      <td>STS-119 (Discovery), ISS-31/32 (Soyuz)</td>\n",
       "      <td>NaN</td>\n",
       "      <td>NaN</td>\n",
       "    </tr>\n",
       "    <tr>\n",
       "      <th>1</th>\n",
       "      <td>Loren W. Acton</td>\n",
       "      <td>NaN</td>\n",
       "      <td>NaN</td>\n",
       "      <td>Retired</td>\n",
       "      <td>3/7/1936</td>\n",
       "      <td>Lewiston, MT</td>\n",
       "      <td>Male</td>\n",
       "      <td>Montana State University; University of Colorado</td>\n",
       "      <td>Engineering Physics</td>\n",
       "      <td>Solar Physics</td>\n",
       "      <td>NaN</td>\n",
       "      <td>NaN</td>\n",
       "      <td>1</td>\n",
       "      <td>190</td>\n",
       "      <td>0</td>\n",
       "      <td>0.0</td>\n",
       "      <td>STS 51-F (Challenger)</td>\n",
       "      <td>NaN</td>\n",
       "      <td>NaN</td>\n",
       "    </tr>\n",
       "    <tr>\n",
       "      <th>2</th>\n",
       "      <td>James C. Adamson</td>\n",
       "      <td>1984.0</td>\n",
       "      <td>10.0</td>\n",
       "      <td>Retired</td>\n",
       "      <td>3/3/1946</td>\n",
       "      <td>Warsaw, NY</td>\n",
       "      <td>Male</td>\n",
       "      <td>US Military Academy; Princeton University</td>\n",
       "      <td>Engineering</td>\n",
       "      <td>Aerospace Engineering</td>\n",
       "      <td>Colonel</td>\n",
       "      <td>US Army (Retired)</td>\n",
       "      <td>2</td>\n",
       "      <td>334</td>\n",
       "      <td>0</td>\n",
       "      <td>0.0</td>\n",
       "      <td>STS-28 (Columbia), STS-43 (Atlantis)</td>\n",
       "      <td>NaN</td>\n",
       "      <td>NaN</td>\n",
       "    </tr>\n",
       "    <tr>\n",
       "      <th>3</th>\n",
       "      <td>Thomas D. Akers</td>\n",
       "      <td>1987.0</td>\n",
       "      <td>12.0</td>\n",
       "      <td>Retired</td>\n",
       "      <td>5/20/1951</td>\n",
       "      <td>St. Louis, MO</td>\n",
       "      <td>Male</td>\n",
       "      <td>University of Missouri-Rolla</td>\n",
       "      <td>Applied Mathematics</td>\n",
       "      <td>Applied Mathematics</td>\n",
       "      <td>Colonel</td>\n",
       "      <td>US Air Force (Retired)</td>\n",
       "      <td>4</td>\n",
       "      <td>814</td>\n",
       "      <td>4</td>\n",
       "      <td>29.0</td>\n",
       "      <td>STS-41 (Discovery), STS-49 (Endeavor), STS-61 ...</td>\n",
       "      <td>NaN</td>\n",
       "      <td>NaN</td>\n",
       "    </tr>\n",
       "    <tr>\n",
       "      <th>4</th>\n",
       "      <td>Buzz Aldrin</td>\n",
       "      <td>1963.0</td>\n",
       "      <td>3.0</td>\n",
       "      <td>Retired</td>\n",
       "      <td>1/20/1930</td>\n",
       "      <td>Montclair, NJ</td>\n",
       "      <td>Male</td>\n",
       "      <td>US Military Academy; MIT</td>\n",
       "      <td>Mechanical Engineering</td>\n",
       "      <td>Astronautics</td>\n",
       "      <td>Colonel</td>\n",
       "      <td>US Air Force (Retired)</td>\n",
       "      <td>2</td>\n",
       "      <td>289</td>\n",
       "      <td>2</td>\n",
       "      <td>8.0</td>\n",
       "      <td>Gemini 12, Apollo 11</td>\n",
       "      <td>NaN</td>\n",
       "      <td>NaN</td>\n",
       "    </tr>\n",
       "  </tbody>\n",
       "</table>\n",
       "</div>"
      ],
      "text/plain": [
       "               Name    Year  Group   Status Birth Date    Birth Place Gender  \\\n",
       "0   Joseph M. Acaba  2004.0   19.0   Active  5/17/1967  Inglewood, CA   Male   \n",
       "1    Loren W. Acton     NaN    NaN  Retired   3/7/1936   Lewiston, MT   Male   \n",
       "2  James C. Adamson  1984.0   10.0  Retired   3/3/1946     Warsaw, NY   Male   \n",
       "3   Thomas D. Akers  1987.0   12.0  Retired  5/20/1951  St. Louis, MO   Male   \n",
       "4       Buzz Aldrin  1963.0    3.0  Retired  1/20/1930  Montclair, NJ   Male   \n",
       "\n",
       "                                          Alma Mater     Undergraduate Major  \\\n",
       "0  University of California-Santa Barbara; Univer...                 Geology   \n",
       "1   Montana State University; University of Colorado     Engineering Physics   \n",
       "2          US Military Academy; Princeton University             Engineering   \n",
       "3                       University of Missouri-Rolla     Applied Mathematics   \n",
       "4                           US Military Academy; MIT  Mechanical Engineering   \n",
       "\n",
       "          Graduate Major Military Rank         Military Branch  Space Flights  \\\n",
       "0                Geology           NaN                     NaN              2   \n",
       "1          Solar Physics           NaN                     NaN              1   \n",
       "2  Aerospace Engineering       Colonel       US Army (Retired)              2   \n",
       "3    Applied Mathematics       Colonel  US Air Force (Retired)              4   \n",
       "4           Astronautics       Colonel  US Air Force (Retired)              2   \n",
       "\n",
       "   Space Flight (hr)  Space Walks  Space Walks (hr)  \\\n",
       "0               3307            2              13.0   \n",
       "1                190            0               0.0   \n",
       "2                334            0               0.0   \n",
       "3                814            4              29.0   \n",
       "4                289            2               8.0   \n",
       "\n",
       "                                            Missions Death Date Death Mission  \n",
       "0             STS-119 (Discovery), ISS-31/32 (Soyuz)        NaN           NaN  \n",
       "1                              STS 51-F (Challenger)        NaN           NaN  \n",
       "2               STS-28 (Columbia), STS-43 (Atlantis)        NaN           NaN  \n",
       "3  STS-41 (Discovery), STS-49 (Endeavor), STS-61 ...        NaN           NaN  \n",
       "4                               Gemini 12, Apollo 11        NaN           NaN  "
      ]
     },
     "execution_count": 13,
     "metadata": {},
     "output_type": "execute_result"
    }
   ],
   "source": [
    "dataframe2.head()"
   ]
  },
  {
   "cell_type": "code",
   "execution_count": 14,
   "id": "b6162b7c-526e-4306-8163-22d6747d85a2",
   "metadata": {},
   "outputs": [
    {
     "data": {
      "text/html": [
       "<div>\n",
       "<style scoped>\n",
       "    .dataframe tbody tr th:only-of-type {\n",
       "        vertical-align: middle;\n",
       "    }\n",
       "\n",
       "    .dataframe tbody tr th {\n",
       "        vertical-align: top;\n",
       "    }\n",
       "\n",
       "    .dataframe thead th {\n",
       "        text-align: right;\n",
       "    }\n",
       "</style>\n",
       "<table border=\"1\" class=\"dataframe\">\n",
       "  <thead>\n",
       "    <tr style=\"text-align: right;\">\n",
       "      <th></th>\n",
       "      <th>ID</th>\n",
       "      <th>Cohort</th>\n",
       "      <th>Year</th>\n",
       "      <th>Males Accepted in NASA Program</th>\n",
       "      <th>Females Accepted in NASA Program</th>\n",
       "    </tr>\n",
       "  </thead>\n",
       "  <tbody>\n",
       "    <tr>\n",
       "      <th>0</th>\n",
       "      <td>NaN</td>\n",
       "      <td>1</td>\n",
       "      <td>1959</td>\n",
       "      <td>100</td>\n",
       "      <td>0</td>\n",
       "    </tr>\n",
       "    <tr>\n",
       "      <th>1</th>\n",
       "      <td>NaN</td>\n",
       "      <td>2</td>\n",
       "      <td>1962</td>\n",
       "      <td>100</td>\n",
       "      <td>0</td>\n",
       "    </tr>\n",
       "    <tr>\n",
       "      <th>2</th>\n",
       "      <td>NaN</td>\n",
       "      <td>3</td>\n",
       "      <td>1963</td>\n",
       "      <td>100</td>\n",
       "      <td>0</td>\n",
       "    </tr>\n",
       "    <tr>\n",
       "      <th>3</th>\n",
       "      <td>NaN</td>\n",
       "      <td>4</td>\n",
       "      <td>1965</td>\n",
       "      <td>100</td>\n",
       "      <td>0</td>\n",
       "    </tr>\n",
       "    <tr>\n",
       "      <th>4</th>\n",
       "      <td>NaN</td>\n",
       "      <td>5</td>\n",
       "      <td>1966</td>\n",
       "      <td>100</td>\n",
       "      <td>0</td>\n",
       "    </tr>\n",
       "  </tbody>\n",
       "</table>\n",
       "</div>"
      ],
      "text/plain": [
       "   ID   Cohort   Year  Males Accepted in NASA Program   \\\n",
       "0  NaN        1  1959                              100   \n",
       "1  NaN        2  1962                              100   \n",
       "2  NaN        3  1963                              100   \n",
       "3  NaN        4  1965                              100   \n",
       "4  NaN        5  1966                              100   \n",
       "\n",
       "   Females Accepted in NASA Program   \n",
       "0                                  0  \n",
       "1                                  0  \n",
       "2                                  0  \n",
       "3                                  0  \n",
       "4                                  0  "
      ]
     },
     "execution_count": 14,
     "metadata": {},
     "output_type": "execute_result"
    }
   ],
   "source": [
    "dataframe3.head()"
   ]
  },
  {
   "cell_type": "code",
   "execution_count": 15,
   "id": "c8f4446c-31e8-47d0-a465-82e9945f4722",
   "metadata": {},
   "outputs": [],
   "source": [
    "dataframe1=pd.DataFrame(dataframe1)\n",
    "dataframe3=pd.DataFrame(dataframe3)"
   ]
  },
  {
   "cell_type": "markdown",
   "id": "58e83289-e372-433c-8c34-9cfe7f1c73d2",
   "metadata": {},
   "source": [
    "## Remove extra columns to be able to combine into one data frame "
   ]
  },
  {
   "cell_type": "code",
   "execution_count": 16,
   "id": "7ecce290-22d1-4320-86f1-267298cd0e7e",
   "metadata": {},
   "outputs": [],
   "source": [
    "dataframe1=dataframe1.drop(columns=['ID','DOB','rando','Announcement Date','insamp'])"
   ]
  },
  {
   "cell_type": "code",
   "execution_count": 17,
   "id": "5d3c9a92-41fe-469c-8384-c12522ecb114",
   "metadata": {},
   "outputs": [
    {
     "name": "stdout",
     "output_type": "stream",
     "text": [
      "<class 'pandas.core.frame.DataFrame'>\n",
      "RangeIndex: 27 entries, 0 to 26\n",
      "Data columns (total 5 columns):\n",
      " #   Column                             Non-Null Count  Dtype  \n",
      "---  ------                             --------------  -----  \n",
      " 0   ID                                 0 non-null      float64\n",
      " 1   Cohort                             27 non-null     int64  \n",
      " 2   Year                               27 non-null     int64  \n",
      " 3   Males Accepted in NASA Program     27 non-null     int64  \n",
      " 4   Females Accepted in NASA Program   27 non-null     int64  \n",
      "dtypes: float64(1), int64(4)\n",
      "memory usage: 1.2 KB\n",
      "None\n"
     ]
    }
   ],
   "source": [
    "print(dataframe3.info())"
   ]
  },
  {
   "cell_type": "code",
   "execution_count": 18,
   "id": "cddd5995-0fee-4fa7-8b0f-d72a28fe8514",
   "metadata": {},
   "outputs": [],
   "source": [
    "dataframe2=dataframe2.drop(columns=['Group','Space Walks (hr)'])"
   ]
  },
  {
   "cell_type": "code",
   "execution_count": 19,
   "id": "c28460dc-153b-4cef-992c-b32a4665e051",
   "metadata": {},
   "outputs": [],
   "source": [
    "NasaData=pd.merge(dataframe1,dataframe2, on='Gender')"
   ]
  },
  {
   "cell_type": "code",
   "execution_count": 20,
   "id": "d08a3aa0-dd59-4776-b5f5-68e8ca50b770",
   "metadata": {},
   "outputs": [
    {
     "data": {
      "text/html": [
       "<div>\n",
       "<style scoped>\n",
       "    .dataframe tbody tr th:only-of-type {\n",
       "        vertical-align: middle;\n",
       "    }\n",
       "\n",
       "    .dataframe tbody tr th {\n",
       "        vertical-align: top;\n",
       "    }\n",
       "\n",
       "    .dataframe thead th {\n",
       "        text-align: right;\n",
       "    }\n",
       "</style>\n",
       "<table border=\"1\" class=\"dataframe\">\n",
       "  <thead>\n",
       "    <tr style=\"text-align: right;\">\n",
       "      <th></th>\n",
       "      <th>Education</th>\n",
       "      <th>NASA</th>\n",
       "      <th>Military</th>\n",
       "      <th>Race</th>\n",
       "      <th>Gender</th>\n",
       "      <th>Interviewed</th>\n",
       "      <th>Selected</th>\n",
       "      <th>Status_x</th>\n",
       "      <th>Age</th>\n",
       "      <th>Name</th>\n",
       "      <th>...</th>\n",
       "      <th>Undergraduate Major</th>\n",
       "      <th>Graduate Major</th>\n",
       "      <th>Military Rank</th>\n",
       "      <th>Military Branch</th>\n",
       "      <th>Space Flights</th>\n",
       "      <th>Space Flight (hr)</th>\n",
       "      <th>Space Walks</th>\n",
       "      <th>Missions</th>\n",
       "      <th>Death Date</th>\n",
       "      <th>Death Mission</th>\n",
       "    </tr>\n",
       "  </thead>\n",
       "  <tbody>\n",
       "    <tr>\n",
       "      <th>0</th>\n",
       "      <td>4</td>\n",
       "      <td>No</td>\n",
       "      <td>No</td>\n",
       "      <td>Caucasian</td>\n",
       "      <td>Male</td>\n",
       "      <td>MBQ not interviewed</td>\n",
       "      <td>NaN</td>\n",
       "      <td>MBQ only</td>\n",
       "      <td>24.599589</td>\n",
       "      <td>Joseph M. Acaba</td>\n",
       "      <td>...</td>\n",
       "      <td>Geology</td>\n",
       "      <td>Geology</td>\n",
       "      <td>NaN</td>\n",
       "      <td>NaN</td>\n",
       "      <td>2</td>\n",
       "      <td>3307</td>\n",
       "      <td>2</td>\n",
       "      <td>STS-119 (Discovery), ISS-31/32 (Soyuz)</td>\n",
       "      <td>NaN</td>\n",
       "      <td>NaN</td>\n",
       "    </tr>\n",
       "    <tr>\n",
       "      <th>1</th>\n",
       "      <td>4</td>\n",
       "      <td>No</td>\n",
       "      <td>No</td>\n",
       "      <td>Caucasian</td>\n",
       "      <td>Male</td>\n",
       "      <td>MBQ not interviewed</td>\n",
       "      <td>NaN</td>\n",
       "      <td>MBQ only</td>\n",
       "      <td>24.599589</td>\n",
       "      <td>Loren W. Acton</td>\n",
       "      <td>...</td>\n",
       "      <td>Engineering Physics</td>\n",
       "      <td>Solar Physics</td>\n",
       "      <td>NaN</td>\n",
       "      <td>NaN</td>\n",
       "      <td>1</td>\n",
       "      <td>190</td>\n",
       "      <td>0</td>\n",
       "      <td>STS 51-F (Challenger)</td>\n",
       "      <td>NaN</td>\n",
       "      <td>NaN</td>\n",
       "    </tr>\n",
       "    <tr>\n",
       "      <th>2</th>\n",
       "      <td>4</td>\n",
       "      <td>No</td>\n",
       "      <td>No</td>\n",
       "      <td>Caucasian</td>\n",
       "      <td>Male</td>\n",
       "      <td>MBQ not interviewed</td>\n",
       "      <td>NaN</td>\n",
       "      <td>MBQ only</td>\n",
       "      <td>24.599589</td>\n",
       "      <td>James C. Adamson</td>\n",
       "      <td>...</td>\n",
       "      <td>Engineering</td>\n",
       "      <td>Aerospace Engineering</td>\n",
       "      <td>Colonel</td>\n",
       "      <td>US Army (Retired)</td>\n",
       "      <td>2</td>\n",
       "      <td>334</td>\n",
       "      <td>0</td>\n",
       "      <td>STS-28 (Columbia), STS-43 (Atlantis)</td>\n",
       "      <td>NaN</td>\n",
       "      <td>NaN</td>\n",
       "    </tr>\n",
       "    <tr>\n",
       "      <th>3</th>\n",
       "      <td>4</td>\n",
       "      <td>No</td>\n",
       "      <td>No</td>\n",
       "      <td>Caucasian</td>\n",
       "      <td>Male</td>\n",
       "      <td>MBQ not interviewed</td>\n",
       "      <td>NaN</td>\n",
       "      <td>MBQ only</td>\n",
       "      <td>24.599589</td>\n",
       "      <td>Thomas D. Akers</td>\n",
       "      <td>...</td>\n",
       "      <td>Applied Mathematics</td>\n",
       "      <td>Applied Mathematics</td>\n",
       "      <td>Colonel</td>\n",
       "      <td>US Air Force (Retired)</td>\n",
       "      <td>4</td>\n",
       "      <td>814</td>\n",
       "      <td>4</td>\n",
       "      <td>STS-41 (Discovery), STS-49 (Endeavor), STS-61 ...</td>\n",
       "      <td>NaN</td>\n",
       "      <td>NaN</td>\n",
       "    </tr>\n",
       "    <tr>\n",
       "      <th>4</th>\n",
       "      <td>4</td>\n",
       "      <td>No</td>\n",
       "      <td>No</td>\n",
       "      <td>Caucasian</td>\n",
       "      <td>Male</td>\n",
       "      <td>MBQ not interviewed</td>\n",
       "      <td>NaN</td>\n",
       "      <td>MBQ only</td>\n",
       "      <td>24.599589</td>\n",
       "      <td>Buzz Aldrin</td>\n",
       "      <td>...</td>\n",
       "      <td>Mechanical Engineering</td>\n",
       "      <td>Astronautics</td>\n",
       "      <td>Colonel</td>\n",
       "      <td>US Air Force (Retired)</td>\n",
       "      <td>2</td>\n",
       "      <td>289</td>\n",
       "      <td>2</td>\n",
       "      <td>Gemini 12, Apollo 11</td>\n",
       "      <td>NaN</td>\n",
       "      <td>NaN</td>\n",
       "    </tr>\n",
       "  </tbody>\n",
       "</table>\n",
       "<p>5 rows × 25 columns</p>\n",
       "</div>"
      ],
      "text/plain": [
       "   Education NASA Military       Race Gender          Interviewed Selected  \\\n",
       "0          4   No       No  Caucasian   Male  MBQ not interviewed      NaN   \n",
       "1          4   No       No  Caucasian   Male  MBQ not interviewed      NaN   \n",
       "2          4   No       No  Caucasian   Male  MBQ not interviewed      NaN   \n",
       "3          4   No       No  Caucasian   Male  MBQ not interviewed      NaN   \n",
       "4          4   No       No  Caucasian   Male  MBQ not interviewed      NaN   \n",
       "\n",
       "   Status_x        Age              Name  ...     Undergraduate Major  \\\n",
       "0  MBQ only  24.599589   Joseph M. Acaba  ...                 Geology   \n",
       "1  MBQ only  24.599589    Loren W. Acton  ...     Engineering Physics   \n",
       "2  MBQ only  24.599589  James C. Adamson  ...             Engineering   \n",
       "3  MBQ only  24.599589   Thomas D. Akers  ...     Applied Mathematics   \n",
       "4  MBQ only  24.599589       Buzz Aldrin  ...  Mechanical Engineering   \n",
       "\n",
       "          Graduate Major Military Rank         Military Branch Space Flights  \\\n",
       "0                Geology           NaN                     NaN             2   \n",
       "1          Solar Physics           NaN                     NaN             1   \n",
       "2  Aerospace Engineering       Colonel       US Army (Retired)             2   \n",
       "3    Applied Mathematics       Colonel  US Air Force (Retired)             4   \n",
       "4           Astronautics       Colonel  US Air Force (Retired)             2   \n",
       "\n",
       "  Space Flight (hr) Space Walks  \\\n",
       "0              3307           2   \n",
       "1               190           0   \n",
       "2               334           0   \n",
       "3               814           4   \n",
       "4               289           2   \n",
       "\n",
       "                                            Missions Death Date  Death Mission  \n",
       "0             STS-119 (Discovery), ISS-31/32 (Soyuz)        NaN            NaN  \n",
       "1                              STS 51-F (Challenger)        NaN            NaN  \n",
       "2               STS-28 (Columbia), STS-43 (Atlantis)        NaN            NaN  \n",
       "3  STS-41 (Discovery), STS-49 (Endeavor), STS-61 ...        NaN            NaN  \n",
       "4                               Gemini 12, Apollo 11        NaN            NaN  \n",
       "\n",
       "[5 rows x 25 columns]"
      ]
     },
     "execution_count": 20,
     "metadata": {},
     "output_type": "execute_result"
    }
   ],
   "source": [
    "NasaData.head()"
   ]
  },
  {
   "cell_type": "code",
   "execution_count": 21,
   "id": "e6c95531-bed1-4dc6-aa60-7f7804d99fa4",
   "metadata": {},
   "outputs": [],
   "source": [
    "NasaData=NasaData.drop(columns=['Interviewed','Status_x','Death Mission','Death Date','Alma Mater','Birth Place','Selected', 'Status_y'])"
   ]
  },
  {
   "cell_type": "code",
   "execution_count": 22,
   "id": "641e4531-511c-4655-87eb-f5c54b60efa6",
   "metadata": {},
   "outputs": [
    {
     "data": {
      "text/html": [
       "<div>\n",
       "<style scoped>\n",
       "    .dataframe tbody tr th:only-of-type {\n",
       "        vertical-align: middle;\n",
       "    }\n",
       "\n",
       "    .dataframe tbody tr th {\n",
       "        vertical-align: top;\n",
       "    }\n",
       "\n",
       "    .dataframe thead th {\n",
       "        text-align: right;\n",
       "    }\n",
       "</style>\n",
       "<table border=\"1\" class=\"dataframe\">\n",
       "  <thead>\n",
       "    <tr style=\"text-align: right;\">\n",
       "      <th></th>\n",
       "      <th>Education</th>\n",
       "      <th>NASA</th>\n",
       "      <th>Military</th>\n",
       "      <th>Race</th>\n",
       "      <th>Gender</th>\n",
       "      <th>Age</th>\n",
       "      <th>Name</th>\n",
       "      <th>Year</th>\n",
       "      <th>Birth Date</th>\n",
       "      <th>Undergraduate Major</th>\n",
       "      <th>Graduate Major</th>\n",
       "      <th>Military Rank</th>\n",
       "      <th>Military Branch</th>\n",
       "      <th>Space Flights</th>\n",
       "      <th>Space Flight (hr)</th>\n",
       "      <th>Space Walks</th>\n",
       "      <th>Missions</th>\n",
       "    </tr>\n",
       "  </thead>\n",
       "  <tbody>\n",
       "    <tr>\n",
       "      <th>0</th>\n",
       "      <td>4</td>\n",
       "      <td>No</td>\n",
       "      <td>No</td>\n",
       "      <td>Caucasian</td>\n",
       "      <td>Male</td>\n",
       "      <td>24.599589</td>\n",
       "      <td>Joseph M. Acaba</td>\n",
       "      <td>2004.0</td>\n",
       "      <td>5/17/1967</td>\n",
       "      <td>Geology</td>\n",
       "      <td>Geology</td>\n",
       "      <td>NaN</td>\n",
       "      <td>NaN</td>\n",
       "      <td>2</td>\n",
       "      <td>3307</td>\n",
       "      <td>2</td>\n",
       "      <td>STS-119 (Discovery), ISS-31/32 (Soyuz)</td>\n",
       "    </tr>\n",
       "    <tr>\n",
       "      <th>1</th>\n",
       "      <td>4</td>\n",
       "      <td>No</td>\n",
       "      <td>No</td>\n",
       "      <td>Caucasian</td>\n",
       "      <td>Male</td>\n",
       "      <td>24.599589</td>\n",
       "      <td>Loren W. Acton</td>\n",
       "      <td>NaN</td>\n",
       "      <td>3/7/1936</td>\n",
       "      <td>Engineering Physics</td>\n",
       "      <td>Solar Physics</td>\n",
       "      <td>NaN</td>\n",
       "      <td>NaN</td>\n",
       "      <td>1</td>\n",
       "      <td>190</td>\n",
       "      <td>0</td>\n",
       "      <td>STS 51-F (Challenger)</td>\n",
       "    </tr>\n",
       "    <tr>\n",
       "      <th>2</th>\n",
       "      <td>4</td>\n",
       "      <td>No</td>\n",
       "      <td>No</td>\n",
       "      <td>Caucasian</td>\n",
       "      <td>Male</td>\n",
       "      <td>24.599589</td>\n",
       "      <td>James C. Adamson</td>\n",
       "      <td>1984.0</td>\n",
       "      <td>3/3/1946</td>\n",
       "      <td>Engineering</td>\n",
       "      <td>Aerospace Engineering</td>\n",
       "      <td>Colonel</td>\n",
       "      <td>US Army (Retired)</td>\n",
       "      <td>2</td>\n",
       "      <td>334</td>\n",
       "      <td>0</td>\n",
       "      <td>STS-28 (Columbia), STS-43 (Atlantis)</td>\n",
       "    </tr>\n",
       "    <tr>\n",
       "      <th>3</th>\n",
       "      <td>4</td>\n",
       "      <td>No</td>\n",
       "      <td>No</td>\n",
       "      <td>Caucasian</td>\n",
       "      <td>Male</td>\n",
       "      <td>24.599589</td>\n",
       "      <td>Thomas D. Akers</td>\n",
       "      <td>1987.0</td>\n",
       "      <td>5/20/1951</td>\n",
       "      <td>Applied Mathematics</td>\n",
       "      <td>Applied Mathematics</td>\n",
       "      <td>Colonel</td>\n",
       "      <td>US Air Force (Retired)</td>\n",
       "      <td>4</td>\n",
       "      <td>814</td>\n",
       "      <td>4</td>\n",
       "      <td>STS-41 (Discovery), STS-49 (Endeavor), STS-61 ...</td>\n",
       "    </tr>\n",
       "    <tr>\n",
       "      <th>4</th>\n",
       "      <td>4</td>\n",
       "      <td>No</td>\n",
       "      <td>No</td>\n",
       "      <td>Caucasian</td>\n",
       "      <td>Male</td>\n",
       "      <td>24.599589</td>\n",
       "      <td>Buzz Aldrin</td>\n",
       "      <td>1963.0</td>\n",
       "      <td>1/20/1930</td>\n",
       "      <td>Mechanical Engineering</td>\n",
       "      <td>Astronautics</td>\n",
       "      <td>Colonel</td>\n",
       "      <td>US Air Force (Retired)</td>\n",
       "      <td>2</td>\n",
       "      <td>289</td>\n",
       "      <td>2</td>\n",
       "      <td>Gemini 12, Apollo 11</td>\n",
       "    </tr>\n",
       "  </tbody>\n",
       "</table>\n",
       "</div>"
      ],
      "text/plain": [
       "   Education NASA Military       Race Gender        Age              Name  \\\n",
       "0          4   No       No  Caucasian   Male  24.599589   Joseph M. Acaba   \n",
       "1          4   No       No  Caucasian   Male  24.599589    Loren W. Acton   \n",
       "2          4   No       No  Caucasian   Male  24.599589  James C. Adamson   \n",
       "3          4   No       No  Caucasian   Male  24.599589   Thomas D. Akers   \n",
       "4          4   No       No  Caucasian   Male  24.599589       Buzz Aldrin   \n",
       "\n",
       "     Year Birth Date     Undergraduate Major         Graduate Major  \\\n",
       "0  2004.0  5/17/1967                 Geology                Geology   \n",
       "1     NaN   3/7/1936     Engineering Physics          Solar Physics   \n",
       "2  1984.0   3/3/1946             Engineering  Aerospace Engineering   \n",
       "3  1987.0  5/20/1951     Applied Mathematics    Applied Mathematics   \n",
       "4  1963.0  1/20/1930  Mechanical Engineering           Astronautics   \n",
       "\n",
       "  Military Rank         Military Branch  Space Flights  Space Flight (hr)  \\\n",
       "0           NaN                     NaN              2               3307   \n",
       "1           NaN                     NaN              1                190   \n",
       "2       Colonel       US Army (Retired)              2                334   \n",
       "3       Colonel  US Air Force (Retired)              4                814   \n",
       "4       Colonel  US Air Force (Retired)              2                289   \n",
       "\n",
       "   Space Walks                                           Missions  \n",
       "0            2             STS-119 (Discovery), ISS-31/32 (Soyuz)  \n",
       "1            0                              STS 51-F (Challenger)  \n",
       "2            0               STS-28 (Columbia), STS-43 (Atlantis)  \n",
       "3            4  STS-41 (Discovery), STS-49 (Endeavor), STS-61 ...  \n",
       "4            2                               Gemini 12, Apollo 11  "
      ]
     },
     "execution_count": 22,
     "metadata": {},
     "output_type": "execute_result"
    }
   ],
   "source": [
    "NasaData.head()"
   ]
  },
  {
   "cell_type": "markdown",
   "id": "85879476-96ed-44c7-a854-d6a029be6290",
   "metadata": {},
   "source": [
    "#### Drop N/as"
   ]
  },
  {
   "cell_type": "code",
   "execution_count": 39,
   "id": "2cdc3226-2cc6-46f5-85e5-754d4c43491d",
   "metadata": {},
   "outputs": [
    {
     "data": {
      "text/html": [
       "<div>\n",
       "<style scoped>\n",
       "    .dataframe tbody tr th:only-of-type {\n",
       "        vertical-align: middle;\n",
       "    }\n",
       "\n",
       "    .dataframe tbody tr th {\n",
       "        vertical-align: top;\n",
       "    }\n",
       "\n",
       "    .dataframe thead th {\n",
       "        text-align: right;\n",
       "    }\n",
       "</style>\n",
       "<table border=\"1\" class=\"dataframe\">\n",
       "  <thead>\n",
       "    <tr style=\"text-align: right;\">\n",
       "      <th></th>\n",
       "      <th>Education</th>\n",
       "      <th>NASA</th>\n",
       "      <th>Military</th>\n",
       "      <th>Race</th>\n",
       "      <th>Gender</th>\n",
       "      <th>Age</th>\n",
       "      <th>Name</th>\n",
       "      <th>Year</th>\n",
       "      <th>Birth Date</th>\n",
       "      <th>Undergraduate Major</th>\n",
       "      <th>Graduate Major</th>\n",
       "      <th>Military Rank</th>\n",
       "      <th>Military Branch</th>\n",
       "      <th>Space Flights</th>\n",
       "      <th>Space Flight (hr)</th>\n",
       "      <th>Space Walks</th>\n",
       "      <th>Missions</th>\n",
       "      <th>Space Flight (hr)SQRT</th>\n",
       "    </tr>\n",
       "  </thead>\n",
       "  <tbody>\n",
       "    <tr>\n",
       "      <th>2</th>\n",
       "      <td>4</td>\n",
       "      <td>No</td>\n",
       "      <td>No</td>\n",
       "      <td>Caucasian</td>\n",
       "      <td>Male</td>\n",
       "      <td>24.599589</td>\n",
       "      <td>James C. Adamson</td>\n",
       "      <td>1984.0</td>\n",
       "      <td>3/3/1946</td>\n",
       "      <td>Engineering</td>\n",
       "      <td>Aerospace Engineering</td>\n",
       "      <td>Colonel</td>\n",
       "      <td>US Army (Retired)</td>\n",
       "      <td>2</td>\n",
       "      <td>334</td>\n",
       "      <td>0</td>\n",
       "      <td>STS-28 (Columbia), STS-43 (Atlantis)</td>\n",
       "      <td>18.275667</td>\n",
       "    </tr>\n",
       "    <tr>\n",
       "      <th>3</th>\n",
       "      <td>4</td>\n",
       "      <td>No</td>\n",
       "      <td>No</td>\n",
       "      <td>Caucasian</td>\n",
       "      <td>Male</td>\n",
       "      <td>24.599589</td>\n",
       "      <td>Thomas D. Akers</td>\n",
       "      <td>1987.0</td>\n",
       "      <td>5/20/1951</td>\n",
       "      <td>Applied Mathematics</td>\n",
       "      <td>Applied Mathematics</td>\n",
       "      <td>Colonel</td>\n",
       "      <td>US Air Force (Retired)</td>\n",
       "      <td>4</td>\n",
       "      <td>814</td>\n",
       "      <td>4</td>\n",
       "      <td>STS-41 (Discovery), STS-49 (Endeavor), STS-61 ...</td>\n",
       "      <td>28.530685</td>\n",
       "    </tr>\n",
       "    <tr>\n",
       "      <th>4</th>\n",
       "      <td>4</td>\n",
       "      <td>No</td>\n",
       "      <td>No</td>\n",
       "      <td>Caucasian</td>\n",
       "      <td>Male</td>\n",
       "      <td>24.599589</td>\n",
       "      <td>Buzz Aldrin</td>\n",
       "      <td>1963.0</td>\n",
       "      <td>1/20/1930</td>\n",
       "      <td>Mechanical Engineering</td>\n",
       "      <td>Astronautics</td>\n",
       "      <td>Colonel</td>\n",
       "      <td>US Air Force (Retired)</td>\n",
       "      <td>2</td>\n",
       "      <td>289</td>\n",
       "      <td>2</td>\n",
       "      <td>Gemini 12, Apollo 11</td>\n",
       "      <td>17.000000</td>\n",
       "    </tr>\n",
       "    <tr>\n",
       "      <th>5</th>\n",
       "      <td>4</td>\n",
       "      <td>No</td>\n",
       "      <td>No</td>\n",
       "      <td>Caucasian</td>\n",
       "      <td>Male</td>\n",
       "      <td>24.599589</td>\n",
       "      <td>Andrew M. Allen</td>\n",
       "      <td>1987.0</td>\n",
       "      <td>8/4/1955</td>\n",
       "      <td>Mechanical Engineering</td>\n",
       "      <td>Business Administration</td>\n",
       "      <td>Lieutenant Colonel</td>\n",
       "      <td>US Marine Corps (Retired)</td>\n",
       "      <td>3</td>\n",
       "      <td>906</td>\n",
       "      <td>0</td>\n",
       "      <td>STS-46 (Atlantis), STS-62 (Columbia), STS-75 (...</td>\n",
       "      <td>30.099834</td>\n",
       "    </tr>\n",
       "    <tr>\n",
       "      <th>7</th>\n",
       "      <td>4</td>\n",
       "      <td>No</td>\n",
       "      <td>No</td>\n",
       "      <td>Caucasian</td>\n",
       "      <td>Male</td>\n",
       "      <td>24.599589</td>\n",
       "      <td>Scott D. Altman</td>\n",
       "      <td>1995.0</td>\n",
       "      <td>8/15/1959</td>\n",
       "      <td>Aeronautical &amp; Astronautical Engineering</td>\n",
       "      <td>Aeronautical Engineering</td>\n",
       "      <td>Captain</td>\n",
       "      <td>US Navy (Retired)</td>\n",
       "      <td>4</td>\n",
       "      <td>1236</td>\n",
       "      <td>0</td>\n",
       "      <td>STS-90 (Columbia), STS-106 (Atlantis), STS-109...</td>\n",
       "      <td>35.156792</td>\n",
       "    </tr>\n",
       "    <tr>\n",
       "      <th>...</th>\n",
       "      <td>...</td>\n",
       "      <td>...</td>\n",
       "      <td>...</td>\n",
       "      <td>...</td>\n",
       "      <td>...</td>\n",
       "      <td>...</td>\n",
       "      <td>...</td>\n",
       "      <td>...</td>\n",
       "      <td>...</td>\n",
       "      <td>...</td>\n",
       "      <td>...</td>\n",
       "      <td>...</td>\n",
       "      <td>...</td>\n",
       "      <td>...</td>\n",
       "      <td>...</td>\n",
       "      <td>...</td>\n",
       "      <td>...</td>\n",
       "      <td>...</td>\n",
       "    </tr>\n",
       "    <tr>\n",
       "      <th>714168</th>\n",
       "      <td>4</td>\n",
       "      <td>No</td>\n",
       "      <td>No</td>\n",
       "      <td>Caucasian</td>\n",
       "      <td>Female</td>\n",
       "      <td>66.729637</td>\n",
       "      <td>Susan L. Kilrain (Still)</td>\n",
       "      <td>1995.0</td>\n",
       "      <td>10/24/1961</td>\n",
       "      <td>Astronautical Engineering</td>\n",
       "      <td>Aerospace Engineering</td>\n",
       "      <td>Commander</td>\n",
       "      <td>US Navy (Retired)</td>\n",
       "      <td>2</td>\n",
       "      <td>472</td>\n",
       "      <td>0</td>\n",
       "      <td>STS-83 (Columbia), STS-94 (Columbia)</td>\n",
       "      <td>21.725561</td>\n",
       "    </tr>\n",
       "    <tr>\n",
       "      <th>714169</th>\n",
       "      <td>4</td>\n",
       "      <td>No</td>\n",
       "      <td>No</td>\n",
       "      <td>Caucasian</td>\n",
       "      <td>Female</td>\n",
       "      <td>66.729637</td>\n",
       "      <td>Wendy B. Lawrence</td>\n",
       "      <td>1992.0</td>\n",
       "      <td>7/2/1959</td>\n",
       "      <td>Ocean Engineering</td>\n",
       "      <td>Ocean Engineering</td>\n",
       "      <td>Captain</td>\n",
       "      <td>US Navy (Retired)</td>\n",
       "      <td>4</td>\n",
       "      <td>1223</td>\n",
       "      <td>0</td>\n",
       "      <td>STS-67 (Endeavor), STS-86 (Atlantis), STS-91 (...</td>\n",
       "      <td>34.971417</td>\n",
       "    </tr>\n",
       "    <tr>\n",
       "      <th>714174</th>\n",
       "      <td>4</td>\n",
       "      <td>No</td>\n",
       "      <td>No</td>\n",
       "      <td>Caucasian</td>\n",
       "      <td>Female</td>\n",
       "      <td>66.729637</td>\n",
       "      <td>Pamela A. Melroy</td>\n",
       "      <td>1995.0</td>\n",
       "      <td>9/17/1961</td>\n",
       "      <td>Physics &amp; Astronomy</td>\n",
       "      <td>Earth &amp; Planetary Sciences</td>\n",
       "      <td>Colonel</td>\n",
       "      <td>US Air Force (Retired)</td>\n",
       "      <td>3</td>\n",
       "      <td>914</td>\n",
       "      <td>0</td>\n",
       "      <td>STS-92 (Discovery), STS-112 (Atlantis), STS-12...</td>\n",
       "      <td>30.232433</td>\n",
       "    </tr>\n",
       "    <tr>\n",
       "      <th>714177</th>\n",
       "      <td>4</td>\n",
       "      <td>No</td>\n",
       "      <td>No</td>\n",
       "      <td>Caucasian</td>\n",
       "      <td>Female</td>\n",
       "      <td>66.729637</td>\n",
       "      <td>Lisa M. Nowak</td>\n",
       "      <td>1996.0</td>\n",
       "      <td>5/10/1963</td>\n",
       "      <td>Aerospace Engineering</td>\n",
       "      <td>Aeronautical Engineering</td>\n",
       "      <td>Captain</td>\n",
       "      <td>US Navy (Retired)</td>\n",
       "      <td>1</td>\n",
       "      <td>306</td>\n",
       "      <td>0</td>\n",
       "      <td>STS-121 (Discovery)</td>\n",
       "      <td>17.492856</td>\n",
       "    </tr>\n",
       "    <tr>\n",
       "      <th>714193</th>\n",
       "      <td>4</td>\n",
       "      <td>No</td>\n",
       "      <td>No</td>\n",
       "      <td>Caucasian</td>\n",
       "      <td>Female</td>\n",
       "      <td>66.729637</td>\n",
       "      <td>Sunita L. Williams</td>\n",
       "      <td>1998.0</td>\n",
       "      <td>9/19/1965</td>\n",
       "      <td>Physical Science</td>\n",
       "      <td>Engineering Management</td>\n",
       "      <td>Captain</td>\n",
       "      <td>US Navy</td>\n",
       "      <td>2</td>\n",
       "      <td>7721</td>\n",
       "      <td>7</td>\n",
       "      <td>STS-116/117 (Discovery/Atlantis), ISS-32/33 (S...</td>\n",
       "      <td>87.869221</td>\n",
       "    </tr>\n",
       "  </tbody>\n",
       "</table>\n",
       "<p>285036 rows × 18 columns</p>\n",
       "</div>"
      ],
      "text/plain": [
       "        Education NASA Military       Race  Gender        Age  \\\n",
       "2               4   No       No  Caucasian    Male  24.599589   \n",
       "3               4   No       No  Caucasian    Male  24.599589   \n",
       "4               4   No       No  Caucasian    Male  24.599589   \n",
       "5               4   No       No  Caucasian    Male  24.599589   \n",
       "7               4   No       No  Caucasian    Male  24.599589   \n",
       "...           ...  ...      ...        ...     ...        ...   \n",
       "714168          4   No       No  Caucasian  Female  66.729637   \n",
       "714169          4   No       No  Caucasian  Female  66.729637   \n",
       "714174          4   No       No  Caucasian  Female  66.729637   \n",
       "714177          4   No       No  Caucasian  Female  66.729637   \n",
       "714193          4   No       No  Caucasian  Female  66.729637   \n",
       "\n",
       "                            Name    Year  Birth Date  \\\n",
       "2               James C. Adamson  1984.0    3/3/1946   \n",
       "3                Thomas D. Akers  1987.0   5/20/1951   \n",
       "4                    Buzz Aldrin  1963.0   1/20/1930   \n",
       "5                Andrew M. Allen  1987.0    8/4/1955   \n",
       "7                Scott D. Altman  1995.0   8/15/1959   \n",
       "...                          ...     ...         ...   \n",
       "714168  Susan L. Kilrain (Still)  1995.0  10/24/1961   \n",
       "714169         Wendy B. Lawrence  1992.0    7/2/1959   \n",
       "714174          Pamela A. Melroy  1995.0   9/17/1961   \n",
       "714177             Lisa M. Nowak  1996.0   5/10/1963   \n",
       "714193        Sunita L. Williams  1998.0   9/19/1965   \n",
       "\n",
       "                             Undergraduate Major              Graduate Major  \\\n",
       "2                                    Engineering       Aerospace Engineering   \n",
       "3                            Applied Mathematics         Applied Mathematics   \n",
       "4                         Mechanical Engineering                Astronautics   \n",
       "5                         Mechanical Engineering     Business Administration   \n",
       "7       Aeronautical & Astronautical Engineering    Aeronautical Engineering   \n",
       "...                                          ...                         ...   \n",
       "714168                 Astronautical Engineering       Aerospace Engineering   \n",
       "714169                         Ocean Engineering           Ocean Engineering   \n",
       "714174                       Physics & Astronomy  Earth & Planetary Sciences   \n",
       "714177                     Aerospace Engineering    Aeronautical Engineering   \n",
       "714193                          Physical Science      Engineering Management   \n",
       "\n",
       "             Military Rank            Military Branch  Space Flights  \\\n",
       "2                  Colonel          US Army (Retired)              2   \n",
       "3                  Colonel     US Air Force (Retired)              4   \n",
       "4                  Colonel     US Air Force (Retired)              2   \n",
       "5       Lieutenant Colonel  US Marine Corps (Retired)              3   \n",
       "7                  Captain          US Navy (Retired)              4   \n",
       "...                    ...                        ...            ...   \n",
       "714168           Commander          US Navy (Retired)              2   \n",
       "714169             Captain          US Navy (Retired)              4   \n",
       "714174             Colonel     US Air Force (Retired)              3   \n",
       "714177             Captain          US Navy (Retired)              1   \n",
       "714193             Captain                    US Navy              2   \n",
       "\n",
       "        Space Flight (hr)  Space Walks  \\\n",
       "2                     334            0   \n",
       "3                     814            4   \n",
       "4                     289            2   \n",
       "5                     906            0   \n",
       "7                    1236            0   \n",
       "...                   ...          ...   \n",
       "714168                472            0   \n",
       "714169               1223            0   \n",
       "714174                914            0   \n",
       "714177                306            0   \n",
       "714193               7721            7   \n",
       "\n",
       "                                                 Missions  \\\n",
       "2                    STS-28 (Columbia), STS-43 (Atlantis)   \n",
       "3       STS-41 (Discovery), STS-49 (Endeavor), STS-61 ...   \n",
       "4                                    Gemini 12, Apollo 11   \n",
       "5       STS-46 (Atlantis), STS-62 (Columbia), STS-75 (...   \n",
       "7       STS-90 (Columbia), STS-106 (Atlantis), STS-109...   \n",
       "...                                                   ...   \n",
       "714168               STS-83 (Columbia), STS-94 (Columbia)   \n",
       "714169  STS-67 (Endeavor), STS-86 (Atlantis), STS-91 (...   \n",
       "714174  STS-92 (Discovery), STS-112 (Atlantis), STS-12...   \n",
       "714177                                STS-121 (Discovery)   \n",
       "714193  STS-116/117 (Discovery/Atlantis), ISS-32/33 (S...   \n",
       "\n",
       "        Space Flight (hr)SQRT  \n",
       "2                   18.275667  \n",
       "3                   28.530685  \n",
       "4                   17.000000  \n",
       "5                   30.099834  \n",
       "7                   35.156792  \n",
       "...                       ...  \n",
       "714168              21.725561  \n",
       "714169              34.971417  \n",
       "714174              30.232433  \n",
       "714177              17.492856  \n",
       "714193              87.869221  \n",
       "\n",
       "[285036 rows x 18 columns]"
      ]
     },
     "execution_count": 39,
     "metadata": {},
     "output_type": "execute_result"
    }
   ],
   "source": [
    "NasaData.dropna()"
   ]
  },
  {
   "cell_type": "markdown",
   "id": "a514804c-efad-496a-836e-9d9e997a853b",
   "metadata": {},
   "source": [
    "#### Does the space flight hours differ between males and females? (Independent t-test)"
   ]
  },
  {
   "cell_type": "markdown",
   "id": "7f17adf5-a568-4a15-9c1b-99a6074da70f",
   "metadata": {},
   "source": [
    "##### Test for Assumptions"
   ]
  },
  {
   "cell_type": "code",
   "execution_count": 40,
   "id": "4d9ff13a-a90c-445b-9df8-6bf48cca977a",
   "metadata": {},
   "outputs": [
    {
     "data": {
      "text/plain": [
       "<AxesSubplot:>"
      ]
     },
     "execution_count": 40,
     "metadata": {},
     "output_type": "execute_result"
    },
    {
     "data": {
      "image/png": "[encoded data removed]",
      "text/plain": [
       "<Figure size 432x288 with 1 Axes>"
      ]
     },
     "metadata": {
      "needs_background": "light"
     },
     "output_type": "display_data"
    }
   ],
   "source": [
    "NasaData['Space Flight (hr)'][NasaData['Gender']== 'Male'].hist()"
   ]
  },
  {
   "cell_type": "code",
   "execution_count": 41,
   "id": "e948f0e6-ba37-4936-b111-c42b23f2322f",
   "metadata": {},
   "outputs": [
    {
     "data": {
      "text/plain": [
       "<AxesSubplot:xlabel='Space Flight (hr)', ylabel='Count'>"
      ]
     },
     "execution_count": 41,
     "metadata": {},
     "output_type": "execute_result"
    },
    {
     "data": {
      "image/png": "[encoded data removed]",
      "text/plain": [
       "<Figure size 432x288 with 1 Axes>"
      ]
     },
     "metadata": {
      "needs_background": "light"
     },
     "output_type": "display_data"
    }
   ],
   "source": [
    "sns.histplot(NasaData['Space Flight (hr)'][NasaData['Gender']== 'Male'])"
   ]
  },
  {
   "cell_type": "code",
   "execution_count": 42,
   "id": "9327f1a6-9e70-485c-b8aa-5491b879aadc",
   "metadata": {},
   "outputs": [],
   "source": [
    "NasaData['Space Flight (hr)SQRT'] = np.sqrt(NasaData['Space Flight (hr)'])"
   ]
  },
  {
   "cell_type": "code",
   "execution_count": 43,
   "id": "c846f306-c636-4d72-8a99-02f396a52d64",
   "metadata": {},
   "outputs": [
    {
     "data": {
      "text/plain": [
       "<AxesSubplot:>"
      ]
     },
     "execution_count": 43,
     "metadata": {},
     "output_type": "execute_result"
    },
    {
     "data": {
      "image/png": "[encoded data removed]",
      "text/plain": [
       "<Figure size 432x288 with 1 Axes>"
      ]
     },
     "metadata": {
      "needs_background": "light"
     },
     "output_type": "display_data"
    }
   ],
   "source": [
    "NasaData['Space Flight (hr)SQRT'][NasaData['Gender']== 'Male'].hist()"
   ]
  },
  {
   "cell_type": "code",
   "execution_count": 44,
   "id": "e01a5b19-cdfe-4667-b704-521b9d03d738",
   "metadata": {},
   "outputs": [
    {
     "data": {
      "text/plain": [
       "<AxesSubplot:>"
      ]
     },
     "execution_count": 44,
     "metadata": {},
     "output_type": "execute_result"
    },
    {
     "data": {
      "image/png": "[encoded data removed]",
      "text/plain": [
       "<Figure size 432x288 with 1 Axes>"
      ]
     },
     "metadata": {
      "needs_background": "light"
     },
     "output_type": "display_data"
    }
   ],
   "source": [
    "NasaData['Space Flight (hr)'][NasaData['Gender']== 'Female'].hist()"
   ]
  },
  {
   "cell_type": "code",
   "execution_count": 45,
   "id": "5971340d-e69f-4f3a-be04-62e31f1adfb6",
   "metadata": {},
   "outputs": [
    {
     "data": {
      "text/plain": [
       "<AxesSubplot:>"
      ]
     },
     "execution_count": 45,
     "metadata": {},
     "output_type": "execute_result"
    },
    {
     "data": {
      "image/png": "[encoded data removed]",
      "text/plain": [
       "<Figure size 432x288 with 1 Axes>"
      ]
     },
     "metadata": {
      "needs_background": "light"
     },
     "output_type": "display_data"
    }
   ],
   "source": [
    "NasaData['Space Flight (hr)SQRT'][NasaData['Gender']== 'Female'].hist()"
   ]
  },
  {
   "cell_type": "code",
   "execution_count": null,
   "id": "bd1878b2-0612-4bc0-b252-7bd16bba184f",
   "metadata": {},
   "outputs": [],
   "source": []
  },
  {
   "cell_type": "code",
   "execution_count": null,
   "id": "db46e507-9f9c-4e89-8adc-b6abd562e3db",
   "metadata": {},
   "outputs": [],
   "source": []
  },
  {
   "cell_type": "markdown",
   "id": "841d1657-1714-4234-aaec-1fbbf32ba9ea",
   "metadata": {},
   "source": [
    "##### Run Analysis"
   ]
  },
  {
   "cell_type": "code",
   "execution_count": 46,
   "id": "7244d033-e2c6-488b-bc0e-7848fa7d88e9",
   "metadata": {},
   "outputs": [
    {
     "data": {
      "text/plain": [
       "Ttest_indResult(statistic=-33.397001497696905, pvalue=2.3432743505986788e-244)"
      ]
     },
     "execution_count": 46,
     "metadata": {},
     "output_type": "execute_result"
    }
   ],
   "source": [
    "ttest_ind(NasaData['Space Flight (hr)SQRT'][NasaData['Gender']== 'Male'],NasaData['Space Flight (hr)SQRT'][NasaData['Gender']== 'Female'])"
   ]
  },
  {
   "cell_type": "code",
   "execution_count": 47,
   "id": "cb236466-2b00-4c82-9c92-6299bed67101",
   "metadata": {},
   "outputs": [
    {
     "data": {
      "text/plain": [
       "28.121857019875563"
      ]
     },
     "execution_count": 47,
     "metadata": {},
     "output_type": "execute_result"
    }
   ],
   "source": [
    "NasaData['Space Flight (hr)SQRT'][NasaData['Gender']== 'Male'].mean()"
   ]
  },
  {
   "cell_type": "code",
   "execution_count": 48,
   "id": "cc5c7322-cf03-4ee4-9490-57d80ef0b0f0",
   "metadata": {},
   "outputs": [
    {
     "data": {
      "text/plain": [
       "32.24233522528614"
      ]
     },
     "execution_count": 48,
     "metadata": {},
     "output_type": "execute_result"
    }
   ],
   "source": [
    "NasaData['Space Flight (hr)SQRT'][NasaData['Gender']== 'Female'].mean()"
   ]
  },
  {
   "cell_type": "markdown",
   "id": "5d531dcd-1ab6-490c-b722-4bc7d66ca14e",
   "metadata": {},
   "source": [
    "#### There is a significance in the space flight time between males and females, females have more space flight time which is intresting"
   ]
  },
  {
   "cell_type": "markdown",
   "id": "b945a5c8-d68e-43d9-891f-1a3e7d96bcb8",
   "metadata": {},
   "source": [
    "#### Does the space flight hours differ between hispanics and caucasians? (Independent t-test)"
   ]
  },
  {
   "cell_type": "code",
   "execution_count": 49,
   "id": "a2cbb6d0-7390-4a59-8cf0-108160813d6b",
   "metadata": {},
   "outputs": [
    {
     "data": {
      "text/plain": [
       "<AxesSubplot:>"
      ]
     },
     "execution_count": 49,
     "metadata": {},
     "output_type": "execute_result"
    },
    {
     "data": {
      "image/png": "[encoded data removed]",
      "text/plain": [
       "<Figure size 432x288 with 1 Axes>"
      ]
     },
     "metadata": {
      "needs_background": "light"
     },
     "output_type": "display_data"
    }
   ],
   "source": [
    "NasaData['Space Flight (hr)'][NasaData['Race']== 'Hispanic'].hist()"
   ]
  },
  {
   "cell_type": "code",
   "execution_count": 50,
   "id": "f494b641-8e3d-4496-a1d8-e22cb6f59aa4",
   "metadata": {},
   "outputs": [
    {
     "data": {
      "text/plain": [
       "<AxesSubplot:>"
      ]
     },
     "execution_count": 50,
     "metadata": {},
     "output_type": "execute_result"
    },
    {
     "data": {
      "image/png": "[encoded data removed]",
      "text/plain": [
       "<Figure size 432x288 with 1 Axes>"
      ]
     },
     "metadata": {
      "needs_background": "light"
     },
     "output_type": "display_data"
    }
   ],
   "source": [
    "NasaData['Space Flight (hr)SQRT'][NasaData['Race']== 'Hispanic'].hist()"
   ]
  },
  {
   "cell_type": "code",
   "execution_count": null,
   "id": "95efd563-9b23-4652-929e-f341df2987ec",
   "metadata": {},
   "outputs": [],
   "source": []
  },
  {
   "cell_type": "code",
   "execution_count": 51,
   "id": "beae39c8-30ab-4392-95eb-a2a3cc330e76",
   "metadata": {},
   "outputs": [
    {
     "data": {
      "text/plain": [
       "<AxesSubplot:>"
      ]
     },
     "execution_count": 51,
     "metadata": {},
     "output_type": "execute_result"
    },
    {
     "data": {
      "image/png": "[encoded data removed]",
      "text/plain": [
       "<Figure size 432x288 with 1 Axes>"
      ]
     },
     "metadata": {
      "needs_background": "light"
     },
     "output_type": "display_data"
    }
   ],
   "source": [
    "NasaData['Space Flight (hr)SQRT'][NasaData['Race']== 'Caucasian'].hist()"
   ]
  },
  {
   "cell_type": "code",
   "execution_count": 52,
   "id": "c3e15ac7-9dcf-4131-902d-b79959a8cb17",
   "metadata": {},
   "outputs": [
    {
     "data": {
      "text/plain": [
       "Ttest_indResult(statistic=0.00073729398427902, pvalue=0.9994117248072004)"
      ]
     },
     "execution_count": 52,
     "metadata": {},
     "output_type": "execute_result"
    }
   ],
   "source": [
    "ttest_ind(NasaData['Space Flight (hr)SQRT'][NasaData['Race']== 'Hispanic'],NasaData['Space Flight (hr)SQRT'][NasaData['Race']== 'Caucasian'])"
   ]
  },
  {
   "cell_type": "markdown",
   "id": "03b7435e-6987-4b25-b661-7bbec0a4b976",
   "metadata": {},
   "source": [
    "#### no significant difference"
   ]
  },
  {
   "cell_type": "code",
   "execution_count": 53,
   "id": "b8790b6b-da6b-48c9-a2c7-70732f6549c5",
   "metadata": {},
   "outputs": [
    {
     "data": {
      "text/plain": [
       "count    714195.000000\n",
       "mean         38.158317\n",
       "std           7.615960\n",
       "min          24.599589\n",
       "25%          32.114990\n",
       "50%          37.284052\n",
       "75%          42.995209\n",
       "max          73.563313\n",
       "Name: Age, dtype: float64"
      ]
     },
     "execution_count": 53,
     "metadata": {},
     "output_type": "execute_result"
    }
   ],
   "source": [
    "NasaData.Age.describe()"
   ]
  },
  {
   "cell_type": "code",
   "execution_count": 54,
   "id": "485d3ba0-586f-4134-a385-07d5bba7b3d3",
   "metadata": {},
   "outputs": [
    {
     "name": "stderr",
     "output_type": "stream",
     "text": [
      "/var/folders/bx/1smq66b51gs8lgsz5yj8vlr00000gn/T/ipykernel_34478/1680222627.py:1: FutureWarning: Dropping of nuisance columns in DataFrame reductions (with 'numeric_only=None') is deprecated; in a future version this will raise TypeError.  Select only valid columns before calling the reduction.\n",
      "  NasaData.mean()\n"
     ]
    },
    {
     "data": {
      "text/plain": [
       "Education                   7.548762\n",
       "Age                        38.158317\n",
       "Year                     1984.252988\n",
       "Space Flights               2.359944\n",
       "Space Flight (hr)        1210.822212\n",
       "Space Walks                 1.322265\n",
       "Space Flight (hr)SQRT      28.283689\n",
       "dtype: float64"
      ]
     },
     "execution_count": 54,
     "metadata": {},
     "output_type": "execute_result"
    }
   ],
   "source": [
    "NasaData.mean()"
   ]
  },
  {
   "cell_type": "markdown",
   "id": "cc984301-83d0-4a15-ad06-cd67968a48c9",
   "metadata": {},
   "source": [
    "#### Does the number of space flights differ between males and females? (Independent t-test)"
   ]
  },
  {
   "cell_type": "markdown",
   "id": "c7dc5d89-74ec-4b4c-a202-870e4a89b8e1",
   "metadata": {},
   "source": [
    "##### Test for Assumptions"
   ]
  },
  {
   "cell_type": "code",
   "execution_count": 57,
   "id": "e7e425d4-b1df-40d3-966f-d0e6ae551061",
   "metadata": {},
   "outputs": [
    {
     "data": {
      "text/plain": [
       "<AxesSubplot:>"
      ]
     },
     "execution_count": 57,
     "metadata": {},
     "output_type": "execute_result"
    },
    {
     "data": {
      "image/png": "[encoded data removed]",
      "text/plain": [
       "<Figure size 432x288 with 1 Axes>"
      ]
     },
     "metadata": {
      "needs_background": "light"
     },
     "output_type": "display_data"
    }
   ],
   "source": [
    "NasaData['Space Flights'][NasaData['Gender']== 'Male'].hist()"
   ]
  },
  {
   "cell_type": "code",
   "execution_count": 58,
   "id": "7e933f8d-b3f2-4aa2-90bb-42745e1585fa",
   "metadata": {},
   "outputs": [],
   "source": [
    "NasaData['Space FlightsSQRT'] = np.sqrt(NasaData['Space Flights'])"
   ]
  },
  {
   "cell_type": "code",
   "execution_count": 59,
   "id": "74899476-552b-4705-bc04-07618cb9aadd",
   "metadata": {},
   "outputs": [
    {
     "data": {
      "text/plain": [
       "<AxesSubplot:>"
      ]
     },
     "execution_count": 59,
     "metadata": {},
     "output_type": "execute_result"
    },
    {
     "data": {
      "image/png": "[encoded data removed]",
      "text/plain": [
       "<Figure size 432x288 with 1 Axes>"
      ]
     },
     "metadata": {
      "needs_background": "light"
     },
     "output_type": "display_data"
    }
   ],
   "source": [
    "NasaData['Space FlightsSQRT'][NasaData['Gender']== 'Male'].hist()"
   ]
  },
  {
   "cell_type": "code",
   "execution_count": 62,
   "id": "eb85d91b-7c23-4cbf-95a6-6902877c79b3",
   "metadata": {},
   "outputs": [
    {
     "data": {
      "text/plain": [
       "<AxesSubplot:>"
      ]
     },
     "execution_count": 62,
     "metadata": {},
     "output_type": "execute_result"
    },
    {
     "data": {
      "image/png": "[encoded data removed]",
      "text/plain": [
       "<Figure size 432x288 with 1 Axes>"
      ]
     },
     "metadata": {
      "needs_background": "light"
     },
     "output_type": "display_data"
    }
   ],
   "source": [
    "NasaData['Space Flights'][NasaData['Gender']== 'Female'].hist()"
   ]
  },
  {
   "cell_type": "markdown",
   "id": "c9694de3-6bfe-4b48-aa81-075c4c2d35f6",
   "metadata": {},
   "source": [
    "###### slightly skewed"
   ]
  },
  {
   "cell_type": "code",
   "execution_count": 63,
   "id": "a5090d8c-5708-4046-b9a2-110e984086b3",
   "metadata": {},
   "outputs": [
    {
     "data": {
      "text/plain": [
       "<AxesSubplot:>"
      ]
     },
     "execution_count": 63,
     "metadata": {},
     "output_type": "execute_result"
    },
    {
     "data": {
      "image/png": "[encoded data removed]",
      "text/plain": [
       "<Figure size 432x288 with 1 Axes>"
      ]
     },
     "metadata": {
      "needs_background": "light"
     },
     "output_type": "display_data"
    }
   ],
   "source": [
    "NasaData['Space FlightsSQRT'][NasaData['Gender']== 'Female'].hist()"
   ]
  },
  {
   "cell_type": "code",
   "execution_count": 64,
   "id": "a5aa6b30-0a5d-413c-b9f5-e4af5be2482a",
   "metadata": {},
   "outputs": [
    {
     "data": {
      "text/plain": [
       "Ttest_indResult(statistic=0.4665781874543454, pvalue=0.6408018382181488)"
      ]
     },
     "execution_count": 64,
     "metadata": {},
     "output_type": "execute_result"
    }
   ],
   "source": [
    "ttest_ind(NasaData['Space FlightsSQRT'][NasaData['Gender']== 'Male'],NasaData['Space FlightsSQRT'][NasaData['Gender']== 'Female'])"
   ]
  },
  {
   "cell_type": "markdown",
   "id": "b060f0f8-4474-4982-b6db-307d16ffadd5",
   "metadata": {},
   "source": [
    "#### there is no significance"
   ]
  },
  {
   "cell_type": "code",
   "execution_count": null,
   "id": "6c907454-e71c-4282-b91b-b5212c1826d0",
   "metadata": {},
   "outputs": [],
   "source": []
  }
 ],
 "metadata": {
  "kernelspec": {
   "display_name": "Python 3 (ipykernel)",
   "language": "python",
   "name": "python3"
  },
  "language_info": {
   "codemirror_mode": {
    "name": "ipython",
    "version": 3
   },
   "file_extension": ".py",
   "mimetype": "text/x-python",
   "name": "python",
   "nbconvert_exporter": "python",
   "pygments_lexer": "ipython3",
   "version": "3.9.7"
  }
 },
 "nbformat": 4,
 "nbformat_minor": 5
}
