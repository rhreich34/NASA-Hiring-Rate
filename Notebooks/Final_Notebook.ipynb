{
 "cells": [
  {
   "cell_type": "markdown",
   "id": "0acf71c4-95dc-4fb8-9120-bec14eedd30b",
   "metadata": {},
   "source": [
    "# Nasa Hiring Rate Final Code"
   ]
  },
  {
   "cell_type": "code",
   "execution_count": 257,
   "id": "3da32205",
   "metadata": {},
   "outputs": [],
   "source": [
    "# Import packages \n",
    "import pandas as pd\n",
    "import matplotlib.mlab as mlab\n",
    "import matplotlib.pyplot as plt\n",
    "import seaborn as sns\n",
    "import numpy as np\n",
    "from scipy import stats\n",
    "from scipy.stats import ttest_ind\n",
    "from statsmodels.stats.proportion import proportions_ztest\n",
    "from scipy.stats import norm"
   ]
  },
  {
   "cell_type": "markdown",
   "id": "26ec2e92-eeab-4288-8623-a900fb342c42",
   "metadata": {},
   "source": [
    "### Data Wrangling"
   ]
  },
  {
   "cell_type": "code",
   "execution_count": 258,
   "id": "c376b457",
   "metadata": {},
   "outputs": [],
   "source": [
    "# Import datasets\n",
    "dataframe1= pd.read_excel(\"Data/nasa.xlsx\")\n",
    "dataframe2=pd.read_csv(\"Data/astronauts.csv\")\n",
    "dataframe3=pd.read_excel(\"Data/Female and Male Astronauts Accepted in the NASA Program.xlsx\")\n",
    "dataframe4=pd.read_csv(\"Data/International Astronaut Database.csv\")\n"
   ]
  },
  {
   "cell_type": "markdown",
   "id": "4a1ec7b9-f78a-4808-b871-6c946b462e35",
   "metadata": {},
   "source": [
    "### Data Key \n",
    "#### ID - idnetifiable variable for each applicant\n",
    "#### DOB - Date of Birth\n",
    "#### NASA - Did applicant have previous NASA experience?\n",
    "#### Military - Did applicant have previous Military experience?\n",
    "#### Interviewed - Met basic qualifications MBQ, but not interviewed\n",
    "#### Selected - selected or not to be astronauts\n",
    "#### Status - MBQ Rejected at Interview, MBQ only, and Selected "
   ]
  },
  {
   "cell_type": "markdown",
   "id": "ab74aa55-66f2-4211-ab8f-cb3c45163c60",
   "metadata": {},
   "source": [
    "### View data sets"
   ]
  },
  {
   "cell_type": "code",
   "execution_count": 259,
   "id": "6ba85f55",
   "metadata": {},
   "outputs": [
    {
     "data": {
      "text/html": [
       "<div>\n",
       "<style scoped>\n",
       "    .dataframe tbody tr th:only-of-type {\n",
       "        vertical-align: middle;\n",
       "    }\n",
       "\n",
       "    .dataframe tbody tr th {\n",
       "        vertical-align: top;\n",
       "    }\n",
       "\n",
       "    .dataframe thead th {\n",
       "        text-align: right;\n",
       "    }\n",
       "</style>\n",
       "<table border=\"1\" class=\"dataframe\">\n",
       "  <thead>\n",
       "    <tr style=\"text-align: right;\">\n",
       "      <th></th>\n",
       "      <th>ID</th>\n",
       "      <th>DOB</th>\n",
       "      <th>Education</th>\n",
       "      <th>NASA</th>\n",
       "      <th>Military</th>\n",
       "      <th>Race</th>\n",
       "      <th>Gender</th>\n",
       "      <th>Interviewed</th>\n",
       "      <th>Selected</th>\n",
       "      <th>Status</th>\n",
       "      <th>rando</th>\n",
       "      <th>insamp</th>\n",
       "      <th>Announcement Date</th>\n",
       "      <th>Age</th>\n",
       "    </tr>\n",
       "  </thead>\n",
       "  <tbody>\n",
       "    <tr>\n",
       "      <th>0</th>\n",
       "      <td>20090000</td>\n",
       "      <td>1984-11-22</td>\n",
       "      <td>4</td>\n",
       "      <td>No</td>\n",
       "      <td>No</td>\n",
       "      <td>Caucasian</td>\n",
       "      <td>Male</td>\n",
       "      <td>MBQ not interviewed</td>\n",
       "      <td>NaN</td>\n",
       "      <td>MBQ only</td>\n",
       "      <td>0.176464</td>\n",
       "      <td>0</td>\n",
       "      <td>2009-06-29</td>\n",
       "      <td>24.599589</td>\n",
       "    </tr>\n",
       "    <tr>\n",
       "      <th>1</th>\n",
       "      <td>20090001</td>\n",
       "      <td>1984-07-16</td>\n",
       "      <td>6</td>\n",
       "      <td>No</td>\n",
       "      <td>No</td>\n",
       "      <td>Caucasian</td>\n",
       "      <td>Male</td>\n",
       "      <td>MBQ not interviewed</td>\n",
       "      <td>NaN</td>\n",
       "      <td>MBQ only</td>\n",
       "      <td>0.760009</td>\n",
       "      <td>0</td>\n",
       "      <td>2009-06-29</td>\n",
       "      <td>24.952772</td>\n",
       "    </tr>\n",
       "    <tr>\n",
       "      <th>2</th>\n",
       "      <td>20090002</td>\n",
       "      <td>1984-02-09</td>\n",
       "      <td>4</td>\n",
       "      <td>No</td>\n",
       "      <td>No</td>\n",
       "      <td>Asian/Pacific Islander</td>\n",
       "      <td>Male</td>\n",
       "      <td>MBQ not interviewed</td>\n",
       "      <td>NaN</td>\n",
       "      <td>MBQ only</td>\n",
       "      <td>0.653344</td>\n",
       "      <td>0</td>\n",
       "      <td>2009-06-29</td>\n",
       "      <td>25.385352</td>\n",
       "    </tr>\n",
       "    <tr>\n",
       "      <th>3</th>\n",
       "      <td>20090003</td>\n",
       "      <td>1984-02-01</td>\n",
       "      <td>8</td>\n",
       "      <td>No</td>\n",
       "      <td>No</td>\n",
       "      <td>Asian/Pacific Islander</td>\n",
       "      <td>Male</td>\n",
       "      <td>MBQ not interviewed</td>\n",
       "      <td>NaN</td>\n",
       "      <td>MBQ only</td>\n",
       "      <td>0.510478</td>\n",
       "      <td>0</td>\n",
       "      <td>2009-06-29</td>\n",
       "      <td>25.407255</td>\n",
       "    </tr>\n",
       "    <tr>\n",
       "      <th>4</th>\n",
       "      <td>20090004</td>\n",
       "      <td>1984-01-20</td>\n",
       "      <td>4</td>\n",
       "      <td>No</td>\n",
       "      <td>No</td>\n",
       "      <td>Caucasian</td>\n",
       "      <td>Female</td>\n",
       "      <td>MBQ not interviewed</td>\n",
       "      <td>NaN</td>\n",
       "      <td>MBQ only</td>\n",
       "      <td>0.449820</td>\n",
       "      <td>0</td>\n",
       "      <td>2009-06-29</td>\n",
       "      <td>25.440110</td>\n",
       "    </tr>\n",
       "  </tbody>\n",
       "</table>\n",
       "</div>"
      ],
      "text/plain": [
       "         ID        DOB  Education NASA Military                    Race  \\\n",
       "0  20090000 1984-11-22          4   No       No               Caucasian   \n",
       "1  20090001 1984-07-16          6   No       No               Caucasian   \n",
       "2  20090002 1984-02-09          4   No       No  Asian/Pacific Islander   \n",
       "3  20090003 1984-02-01          8   No       No  Asian/Pacific Islander   \n",
       "4  20090004 1984-01-20          4   No       No               Caucasian   \n",
       "\n",
       "   Gender          Interviewed Selected    Status     rando  insamp  \\\n",
       "0    Male  MBQ not interviewed      NaN  MBQ only  0.176464       0   \n",
       "1    Male  MBQ not interviewed      NaN  MBQ only  0.760009       0   \n",
       "2    Male  MBQ not interviewed      NaN  MBQ only  0.653344       0   \n",
       "3    Male  MBQ not interviewed      NaN  MBQ only  0.510478       0   \n",
       "4  Female  MBQ not interviewed      NaN  MBQ only  0.449820       0   \n",
       "\n",
       "  Announcement Date        Age  \n",
       "0        2009-06-29  24.599589  \n",
       "1        2009-06-29  24.952772  \n",
       "2        2009-06-29  25.385352  \n",
       "3        2009-06-29  25.407255  \n",
       "4        2009-06-29  25.440110  "
      ]
     },
     "execution_count": 259,
     "metadata": {},
     "output_type": "execute_result"
    }
   ],
   "source": [
    "dataframe1.head()"
   ]
  },
  {
   "cell_type": "code",
   "execution_count": 260,
   "id": "e90f0867-3520-4cea-a56c-1133258739e2",
   "metadata": {},
   "outputs": [],
   "source": [
    "dataframe2=pd.DataFrame(dataframe2)"
   ]
  },
  {
   "cell_type": "code",
   "execution_count": 261,
   "id": "3969cb94-b82d-4138-a900-20e06ec83117",
   "metadata": {},
   "outputs": [
    {
     "data": {
      "text/html": [
       "<div>\n",
       "<style scoped>\n",
       "    .dataframe tbody tr th:only-of-type {\n",
       "        vertical-align: middle;\n",
       "    }\n",
       "\n",
       "    .dataframe tbody tr th {\n",
       "        vertical-align: top;\n",
       "    }\n",
       "\n",
       "    .dataframe thead th {\n",
       "        text-align: right;\n",
       "    }\n",
       "</style>\n",
       "<table border=\"1\" class=\"dataframe\">\n",
       "  <thead>\n",
       "    <tr style=\"text-align: right;\">\n",
       "      <th></th>\n",
       "      <th>Name</th>\n",
       "      <th>Year</th>\n",
       "      <th>Group</th>\n",
       "      <th>Status</th>\n",
       "      <th>Birth Date</th>\n",
       "      <th>Birth Place</th>\n",
       "      <th>Gender</th>\n",
       "      <th>Alma Mater</th>\n",
       "      <th>Undergraduate Major</th>\n",
       "      <th>Graduate Major</th>\n",
       "      <th>Military Rank</th>\n",
       "      <th>Military Branch</th>\n",
       "      <th>Space Flights</th>\n",
       "      <th>Space Flight (hr)</th>\n",
       "      <th>Space Walks</th>\n",
       "      <th>Space Walks (hr)</th>\n",
       "      <th>Missions</th>\n",
       "      <th>Death Date</th>\n",
       "      <th>Death Mission</th>\n",
       "    </tr>\n",
       "  </thead>\n",
       "  <tbody>\n",
       "    <tr>\n",
       "      <th>0</th>\n",
       "      <td>Joseph M. Acaba</td>\n",
       "      <td>2004.0</td>\n",
       "      <td>19.0</td>\n",
       "      <td>Active</td>\n",
       "      <td>5/17/1967</td>\n",
       "      <td>Inglewood, CA</td>\n",
       "      <td>Male</td>\n",
       "      <td>University of California-Santa Barbara; Univer...</td>\n",
       "      <td>Geology</td>\n",
       "      <td>Geology</td>\n",
       "      <td>NaN</td>\n",
       "      <td>NaN</td>\n",
       "      <td>2</td>\n",
       "      <td>3307</td>\n",
       "      <td>2</td>\n",
       "      <td>13.0</td>\n",
       "      <td>STS-119 (Discovery), ISS-31/32 (Soyuz)</td>\n",
       "      <td>NaN</td>\n",
       "      <td>NaN</td>\n",
       "    </tr>\n",
       "    <tr>\n",
       "      <th>1</th>\n",
       "      <td>Loren W. Acton</td>\n",
       "      <td>NaN</td>\n",
       "      <td>NaN</td>\n",
       "      <td>Retired</td>\n",
       "      <td>3/7/1936</td>\n",
       "      <td>Lewiston, MT</td>\n",
       "      <td>Male</td>\n",
       "      <td>Montana State University; University of Colorado</td>\n",
       "      <td>Engineering Physics</td>\n",
       "      <td>Solar Physics</td>\n",
       "      <td>NaN</td>\n",
       "      <td>NaN</td>\n",
       "      <td>1</td>\n",
       "      <td>190</td>\n",
       "      <td>0</td>\n",
       "      <td>0.0</td>\n",
       "      <td>STS 51-F (Challenger)</td>\n",
       "      <td>NaN</td>\n",
       "      <td>NaN</td>\n",
       "    </tr>\n",
       "    <tr>\n",
       "      <th>2</th>\n",
       "      <td>James C. Adamson</td>\n",
       "      <td>1984.0</td>\n",
       "      <td>10.0</td>\n",
       "      <td>Retired</td>\n",
       "      <td>3/3/1946</td>\n",
       "      <td>Warsaw, NY</td>\n",
       "      <td>Male</td>\n",
       "      <td>US Military Academy; Princeton University</td>\n",
       "      <td>Engineering</td>\n",
       "      <td>Aerospace Engineering</td>\n",
       "      <td>Colonel</td>\n",
       "      <td>US Army (Retired)</td>\n",
       "      <td>2</td>\n",
       "      <td>334</td>\n",
       "      <td>0</td>\n",
       "      <td>0.0</td>\n",
       "      <td>STS-28 (Columbia), STS-43 (Atlantis)</td>\n",
       "      <td>NaN</td>\n",
       "      <td>NaN</td>\n",
       "    </tr>\n",
       "    <tr>\n",
       "      <th>3</th>\n",
       "      <td>Thomas D. Akers</td>\n",
       "      <td>1987.0</td>\n",
       "      <td>12.0</td>\n",
       "      <td>Retired</td>\n",
       "      <td>5/20/1951</td>\n",
       "      <td>St. Louis, MO</td>\n",
       "      <td>Male</td>\n",
       "      <td>University of Missouri-Rolla</td>\n",
       "      <td>Applied Mathematics</td>\n",
       "      <td>Applied Mathematics</td>\n",
       "      <td>Colonel</td>\n",
       "      <td>US Air Force (Retired)</td>\n",
       "      <td>4</td>\n",
       "      <td>814</td>\n",
       "      <td>4</td>\n",
       "      <td>29.0</td>\n",
       "      <td>STS-41 (Discovery), STS-49 (Endeavor), STS-61 ...</td>\n",
       "      <td>NaN</td>\n",
       "      <td>NaN</td>\n",
       "    </tr>\n",
       "    <tr>\n",
       "      <th>4</th>\n",
       "      <td>Buzz Aldrin</td>\n",
       "      <td>1963.0</td>\n",
       "      <td>3.0</td>\n",
       "      <td>Retired</td>\n",
       "      <td>1/20/1930</td>\n",
       "      <td>Montclair, NJ</td>\n",
       "      <td>Male</td>\n",
       "      <td>US Military Academy; MIT</td>\n",
       "      <td>Mechanical Engineering</td>\n",
       "      <td>Astronautics</td>\n",
       "      <td>Colonel</td>\n",
       "      <td>US Air Force (Retired)</td>\n",
       "      <td>2</td>\n",
       "      <td>289</td>\n",
       "      <td>2</td>\n",
       "      <td>8.0</td>\n",
       "      <td>Gemini 12, Apollo 11</td>\n",
       "      <td>NaN</td>\n",
       "      <td>NaN</td>\n",
       "    </tr>\n",
       "  </tbody>\n",
       "</table>\n",
       "</div>"
      ],
      "text/plain": [
       "               Name    Year  Group   Status Birth Date    Birth Place Gender  \\\n",
       "0   Joseph M. Acaba  2004.0   19.0   Active  5/17/1967  Inglewood, CA   Male   \n",
       "1    Loren W. Acton     NaN    NaN  Retired   3/7/1936   Lewiston, MT   Male   \n",
       "2  James C. Adamson  1984.0   10.0  Retired   3/3/1946     Warsaw, NY   Male   \n",
       "3   Thomas D. Akers  1987.0   12.0  Retired  5/20/1951  St. Louis, MO   Male   \n",
       "4       Buzz Aldrin  1963.0    3.0  Retired  1/20/1930  Montclair, NJ   Male   \n",
       "\n",
       "                                          Alma Mater     Undergraduate Major  \\\n",
       "0  University of California-Santa Barbara; Univer...                 Geology   \n",
       "1   Montana State University; University of Colorado     Engineering Physics   \n",
       "2          US Military Academy; Princeton University             Engineering   \n",
       "3                       University of Missouri-Rolla     Applied Mathematics   \n",
       "4                           US Military Academy; MIT  Mechanical Engineering   \n",
       "\n",
       "          Graduate Major Military Rank         Military Branch  Space Flights  \\\n",
       "0                Geology           NaN                     NaN              2   \n",
       "1          Solar Physics           NaN                     NaN              1   \n",
       "2  Aerospace Engineering       Colonel       US Army (Retired)              2   \n",
       "3    Applied Mathematics       Colonel  US Air Force (Retired)              4   \n",
       "4           Astronautics       Colonel  US Air Force (Retired)              2   \n",
       "\n",
       "   Space Flight (hr)  Space Walks  Space Walks (hr)  \\\n",
       "0               3307            2              13.0   \n",
       "1                190            0               0.0   \n",
       "2                334            0               0.0   \n",
       "3                814            4              29.0   \n",
       "4                289            2               8.0   \n",
       "\n",
       "                                            Missions Death Date Death Mission  \n",
       "0             STS-119 (Discovery), ISS-31/32 (Soyuz)        NaN           NaN  \n",
       "1                              STS 51-F (Challenger)        NaN           NaN  \n",
       "2               STS-28 (Columbia), STS-43 (Atlantis)        NaN           NaN  \n",
       "3  STS-41 (Discovery), STS-49 (Endeavor), STS-61 ...        NaN           NaN  \n",
       "4                               Gemini 12, Apollo 11        NaN           NaN  "
      ]
     },
     "execution_count": 261,
     "metadata": {},
     "output_type": "execute_result"
    }
   ],
   "source": [
    "dataframe2.head()"
   ]
  },
  {
   "cell_type": "code",
   "execution_count": 262,
   "id": "81ebd3c7-513d-4c06-be35-e54c7ec9cdbb",
   "metadata": {},
   "outputs": [
    {
     "data": {
      "text/html": [
       "<div>\n",
       "<style scoped>\n",
       "    .dataframe tbody tr th:only-of-type {\n",
       "        vertical-align: middle;\n",
       "    }\n",
       "\n",
       "    .dataframe tbody tr th {\n",
       "        vertical-align: top;\n",
       "    }\n",
       "\n",
       "    .dataframe thead th {\n",
       "        text-align: right;\n",
       "    }\n",
       "</style>\n",
       "<table border=\"1\" class=\"dataframe\">\n",
       "  <thead>\n",
       "    <tr style=\"text-align: right;\">\n",
       "      <th></th>\n",
       "      <th>ID</th>\n",
       "      <th>Cohort</th>\n",
       "      <th>Year</th>\n",
       "      <th>Males Accepted in NASA Program</th>\n",
       "      <th>Females Accepted in NASA Program</th>\n",
       "    </tr>\n",
       "  </thead>\n",
       "  <tbody>\n",
       "    <tr>\n",
       "      <th>0</th>\n",
       "      <td>NaN</td>\n",
       "      <td>1</td>\n",
       "      <td>1959</td>\n",
       "      <td>100</td>\n",
       "      <td>0</td>\n",
       "    </tr>\n",
       "    <tr>\n",
       "      <th>1</th>\n",
       "      <td>NaN</td>\n",
       "      <td>2</td>\n",
       "      <td>1962</td>\n",
       "      <td>100</td>\n",
       "      <td>0</td>\n",
       "    </tr>\n",
       "    <tr>\n",
       "      <th>2</th>\n",
       "      <td>NaN</td>\n",
       "      <td>3</td>\n",
       "      <td>1963</td>\n",
       "      <td>100</td>\n",
       "      <td>0</td>\n",
       "    </tr>\n",
       "    <tr>\n",
       "      <th>3</th>\n",
       "      <td>NaN</td>\n",
       "      <td>4</td>\n",
       "      <td>1965</td>\n",
       "      <td>100</td>\n",
       "      <td>0</td>\n",
       "    </tr>\n",
       "    <tr>\n",
       "      <th>4</th>\n",
       "      <td>NaN</td>\n",
       "      <td>5</td>\n",
       "      <td>1966</td>\n",
       "      <td>100</td>\n",
       "      <td>0</td>\n",
       "    </tr>\n",
       "  </tbody>\n",
       "</table>\n",
       "</div>"
      ],
      "text/plain": [
       "   ID   Cohort   Year  Males Accepted in NASA Program   \\\n",
       "0  NaN        1  1959                              100   \n",
       "1  NaN        2  1962                              100   \n",
       "2  NaN        3  1963                              100   \n",
       "3  NaN        4  1965                              100   \n",
       "4  NaN        5  1966                              100   \n",
       "\n",
       "   Females Accepted in NASA Program   \n",
       "0                                  0  \n",
       "1                                  0  \n",
       "2                                  0  \n",
       "3                                  0  \n",
       "4                                  0  "
      ]
     },
     "execution_count": 262,
     "metadata": {},
     "output_type": "execute_result"
    }
   ],
   "source": [
    "dataframe3.head()"
   ]
  },
  {
   "cell_type": "code",
   "execution_count": 263,
   "id": "75b1a4a5-c4f1-4817-9328-475bf61fddd1",
   "metadata": {},
   "outputs": [
    {
     "data": {
      "text/html": [
       "<div>\n",
       "<style scoped>\n",
       "    .dataframe tbody tr th:only-of-type {\n",
       "        vertical-align: middle;\n",
       "    }\n",
       "\n",
       "    .dataframe tbody tr th {\n",
       "        vertical-align: top;\n",
       "    }\n",
       "\n",
       "    .dataframe thead th {\n",
       "        text-align: right;\n",
       "    }\n",
       "</style>\n",
       "<table border=\"1\" class=\"dataframe\">\n",
       "  <thead>\n",
       "    <tr style=\"text-align: right;\">\n",
       "      <th></th>\n",
       "      <th>Name</th>\n",
       "      <th>Country</th>\n",
       "      <th>Gender</th>\n",
       "      <th>Flights</th>\n",
       "      <th>Total Flights</th>\n",
       "      <th>Total Flight Time (ddd:hh:mm)</th>\n",
       "    </tr>\n",
       "  </thead>\n",
       "  <tbody>\n",
       "    <tr>\n",
       "      <th>0</th>\n",
       "      <td>Abdul Ahad Mohmand</td>\n",
       "      <td>Afghanistan</td>\n",
       "      <td>Man</td>\n",
       "      <td>Soyuz TM-6 (1988)</td>\n",
       "      <td>1</td>\n",
       "      <td>008:20:26</td>\n",
       "    </tr>\n",
       "    <tr>\n",
       "      <th>1</th>\n",
       "      <td>Akihiko Hoshide</td>\n",
       "      <td>Japan</td>\n",
       "      <td>Man</td>\n",
       "      <td>STS-124 (2008), Soyuz TMA-05M (2012), SpaceX C...</td>\n",
       "      <td>3</td>\n",
       "      <td>524:08:27</td>\n",
       "    </tr>\n",
       "    <tr>\n",
       "      <th>2</th>\n",
       "      <td>Alan Bean</td>\n",
       "      <td>United States</td>\n",
       "      <td>Man</td>\n",
       "      <td>Apollo 12 (1969), Skylab 3 (1973)</td>\n",
       "      <td>2</td>\n",
       "      <td>069:15:45</td>\n",
       "    </tr>\n",
       "    <tr>\n",
       "      <th>3</th>\n",
       "      <td>Alan G. Poindexter</td>\n",
       "      <td>United States</td>\n",
       "      <td>Man</td>\n",
       "      <td>STS-122 (2008), STS-131 (2010)</td>\n",
       "      <td>2</td>\n",
       "      <td>027:21:09</td>\n",
       "    </tr>\n",
       "    <tr>\n",
       "      <th>4</th>\n",
       "      <td>Alan Shepard</td>\n",
       "      <td>United States</td>\n",
       "      <td>Man</td>\n",
       "      <td>Mercury-Redstone 3 (1961), Apollo 14 (1971)</td>\n",
       "      <td>2</td>\n",
       "      <td>009:00:17</td>\n",
       "    </tr>\n",
       "  </tbody>\n",
       "</table>\n",
       "</div>"
      ],
      "text/plain": [
       "                 Name        Country Gender  \\\n",
       "0  Abdul Ahad Mohmand    Afghanistan    Man   \n",
       "1     Akihiko Hoshide          Japan    Man   \n",
       "2           Alan Bean  United States    Man   \n",
       "3  Alan G. Poindexter  United States    Man   \n",
       "4        Alan Shepard  United States    Man   \n",
       "\n",
       "                                             Flights  Total Flights  \\\n",
       "0                                  Soyuz TM-6 (1988)              1   \n",
       "1  STS-124 (2008), Soyuz TMA-05M (2012), SpaceX C...              3   \n",
       "2                  Apollo 12 (1969), Skylab 3 (1973)              2   \n",
       "3                     STS-122 (2008), STS-131 (2010)              2   \n",
       "4        Mercury-Redstone 3 (1961), Apollo 14 (1971)              2   \n",
       "\n",
       "  Total Flight Time (ddd:hh:mm)  \n",
       "0                     008:20:26  \n",
       "1                     524:08:27  \n",
       "2                     069:15:45  \n",
       "3                     027:21:09  \n",
       "4                     009:00:17  "
      ]
     },
     "execution_count": 263,
     "metadata": {},
     "output_type": "execute_result"
    }
   ],
   "source": [
    "dataframe4.head()"
   ]
  },
  {
   "cell_type": "code",
   "execution_count": 264,
   "id": "0971a6af-7cb0-44cb-b640-287796e4b112",
   "metadata": {},
   "outputs": [],
   "source": [
    "dataframe1=pd.DataFrame(dataframe1)\n",
    "dataframe3=pd.DataFrame(dataframe3)"
   ]
  },
  {
   "cell_type": "markdown",
   "id": "ee154f2c-7472-4188-8492-65ea49198c92",
   "metadata": {},
   "source": [
    "### Remove extra columns to be able to combine into consolidated data frame "
   ]
  },
  {
   "cell_type": "code",
   "execution_count": 265,
   "id": "e107e5ab-57e1-4105-b4d1-ab91d15f4caf",
   "metadata": {},
   "outputs": [],
   "source": [
    "dataframe1=dataframe1.drop(columns=['ID','DOB','Education','rando','Announcement Date','Age','insamp'])\n"
   ]
  },
  {
   "cell_type": "code",
   "execution_count": 266,
   "id": "1c71f0c0-2ab3-487a-adf1-04d2a40b6175",
   "metadata": {},
   "outputs": [
    {
     "data": {
      "text/html": [
       "<div>\n",
       "<style scoped>\n",
       "    .dataframe tbody tr th:only-of-type {\n",
       "        vertical-align: middle;\n",
       "    }\n",
       "\n",
       "    .dataframe tbody tr th {\n",
       "        vertical-align: top;\n",
       "    }\n",
       "\n",
       "    .dataframe thead th {\n",
       "        text-align: right;\n",
       "    }\n",
       "</style>\n",
       "<table border=\"1\" class=\"dataframe\">\n",
       "  <thead>\n",
       "    <tr style=\"text-align: right;\">\n",
       "      <th></th>\n",
       "      <th>Name</th>\n",
       "      <th>Year</th>\n",
       "      <th>Group</th>\n",
       "      <th>Status</th>\n",
       "      <th>Birth Date</th>\n",
       "      <th>Birth Place</th>\n",
       "      <th>Gender</th>\n",
       "      <th>Alma Mater</th>\n",
       "      <th>Undergraduate Major</th>\n",
       "      <th>Graduate Major</th>\n",
       "      <th>Military Rank</th>\n",
       "      <th>Military Branch</th>\n",
       "      <th>Space Flights</th>\n",
       "      <th>Space Flight (hr)</th>\n",
       "      <th>Space Walks</th>\n",
       "      <th>Space Walks (hr)</th>\n",
       "      <th>Missions</th>\n",
       "      <th>Death Date</th>\n",
       "      <th>Death Mission</th>\n",
       "      <th>Space Flights R</th>\n",
       "    </tr>\n",
       "  </thead>\n",
       "  <tbody>\n",
       "    <tr>\n",
       "      <th>0</th>\n",
       "      <td>Joseph M. Acaba</td>\n",
       "      <td>2004.0</td>\n",
       "      <td>19.0</td>\n",
       "      <td>Active</td>\n",
       "      <td>5/17/1967</td>\n",
       "      <td>Inglewood, CA</td>\n",
       "      <td>Male</td>\n",
       "      <td>University of California-Santa Barbara; Univer...</td>\n",
       "      <td>Geology</td>\n",
       "      <td>Geology</td>\n",
       "      <td>NaN</td>\n",
       "      <td>NaN</td>\n",
       "      <td>2</td>\n",
       "      <td>3307</td>\n",
       "      <td>2</td>\n",
       "      <td>13.0</td>\n",
       "      <td>STS-119 (Discovery), ISS-31/32 (Soyuz)</td>\n",
       "      <td>NaN</td>\n",
       "      <td>NaN</td>\n",
       "      <td>1</td>\n",
       "    </tr>\n",
       "    <tr>\n",
       "      <th>1</th>\n",
       "      <td>Loren W. Acton</td>\n",
       "      <td>NaN</td>\n",
       "      <td>NaN</td>\n",
       "      <td>Retired</td>\n",
       "      <td>3/7/1936</td>\n",
       "      <td>Lewiston, MT</td>\n",
       "      <td>Male</td>\n",
       "      <td>Montana State University; University of Colorado</td>\n",
       "      <td>Engineering Physics</td>\n",
       "      <td>Solar Physics</td>\n",
       "      <td>NaN</td>\n",
       "      <td>NaN</td>\n",
       "      <td>1</td>\n",
       "      <td>190</td>\n",
       "      <td>0</td>\n",
       "      <td>0.0</td>\n",
       "      <td>STS 51-F (Challenger)</td>\n",
       "      <td>NaN</td>\n",
       "      <td>NaN</td>\n",
       "      <td>1</td>\n",
       "    </tr>\n",
       "    <tr>\n",
       "      <th>2</th>\n",
       "      <td>James C. Adamson</td>\n",
       "      <td>1984.0</td>\n",
       "      <td>10.0</td>\n",
       "      <td>Retired</td>\n",
       "      <td>3/3/1946</td>\n",
       "      <td>Warsaw, NY</td>\n",
       "      <td>Male</td>\n",
       "      <td>US Military Academy; Princeton University</td>\n",
       "      <td>Engineering</td>\n",
       "      <td>Aerospace Engineering</td>\n",
       "      <td>Colonel</td>\n",
       "      <td>US Army (Retired)</td>\n",
       "      <td>2</td>\n",
       "      <td>334</td>\n",
       "      <td>0</td>\n",
       "      <td>0.0</td>\n",
       "      <td>STS-28 (Columbia), STS-43 (Atlantis)</td>\n",
       "      <td>NaN</td>\n",
       "      <td>NaN</td>\n",
       "      <td>1</td>\n",
       "    </tr>\n",
       "    <tr>\n",
       "      <th>3</th>\n",
       "      <td>Thomas D. Akers</td>\n",
       "      <td>1987.0</td>\n",
       "      <td>12.0</td>\n",
       "      <td>Retired</td>\n",
       "      <td>5/20/1951</td>\n",
       "      <td>St. Louis, MO</td>\n",
       "      <td>Male</td>\n",
       "      <td>University of Missouri-Rolla</td>\n",
       "      <td>Applied Mathematics</td>\n",
       "      <td>Applied Mathematics</td>\n",
       "      <td>Colonel</td>\n",
       "      <td>US Air Force (Retired)</td>\n",
       "      <td>4</td>\n",
       "      <td>814</td>\n",
       "      <td>4</td>\n",
       "      <td>29.0</td>\n",
       "      <td>STS-41 (Discovery), STS-49 (Endeavor), STS-61 ...</td>\n",
       "      <td>NaN</td>\n",
       "      <td>NaN</td>\n",
       "      <td>1</td>\n",
       "    </tr>\n",
       "    <tr>\n",
       "      <th>4</th>\n",
       "      <td>Buzz Aldrin</td>\n",
       "      <td>1963.0</td>\n",
       "      <td>3.0</td>\n",
       "      <td>Retired</td>\n",
       "      <td>1/20/1930</td>\n",
       "      <td>Montclair, NJ</td>\n",
       "      <td>Male</td>\n",
       "      <td>US Military Academy; MIT</td>\n",
       "      <td>Mechanical Engineering</td>\n",
       "      <td>Astronautics</td>\n",
       "      <td>Colonel</td>\n",
       "      <td>US Air Force (Retired)</td>\n",
       "      <td>2</td>\n",
       "      <td>289</td>\n",
       "      <td>2</td>\n",
       "      <td>8.0</td>\n",
       "      <td>Gemini 12, Apollo 11</td>\n",
       "      <td>NaN</td>\n",
       "      <td>NaN</td>\n",
       "      <td>1</td>\n",
       "    </tr>\n",
       "  </tbody>\n",
       "</table>\n",
       "</div>"
      ],
      "text/plain": [
       "               Name    Year  Group   Status Birth Date    Birth Place Gender  \\\n",
       "0   Joseph M. Acaba  2004.0   19.0   Active  5/17/1967  Inglewood, CA   Male   \n",
       "1    Loren W. Acton     NaN    NaN  Retired   3/7/1936   Lewiston, MT   Male   \n",
       "2  James C. Adamson  1984.0   10.0  Retired   3/3/1946     Warsaw, NY   Male   \n",
       "3   Thomas D. Akers  1987.0   12.0  Retired  5/20/1951  St. Louis, MO   Male   \n",
       "4       Buzz Aldrin  1963.0    3.0  Retired  1/20/1930  Montclair, NJ   Male   \n",
       "\n",
       "                                          Alma Mater     Undergraduate Major  \\\n",
       "0  University of California-Santa Barbara; Univer...                 Geology   \n",
       "1   Montana State University; University of Colorado     Engineering Physics   \n",
       "2          US Military Academy; Princeton University             Engineering   \n",
       "3                       University of Missouri-Rolla     Applied Mathematics   \n",
       "4                           US Military Academy; MIT  Mechanical Engineering   \n",
       "\n",
       "          Graduate Major Military Rank         Military Branch  Space Flights  \\\n",
       "0                Geology           NaN                     NaN              2   \n",
       "1          Solar Physics           NaN                     NaN              1   \n",
       "2  Aerospace Engineering       Colonel       US Army (Retired)              2   \n",
       "3    Applied Mathematics       Colonel  US Air Force (Retired)              4   \n",
       "4           Astronautics       Colonel  US Air Force (Retired)              2   \n",
       "\n",
       "   Space Flight (hr)  Space Walks  Space Walks (hr)  \\\n",
       "0               3307            2              13.0   \n",
       "1                190            0               0.0   \n",
       "2                334            0               0.0   \n",
       "3                814            4              29.0   \n",
       "4                289            2               8.0   \n",
       "\n",
       "                                            Missions Death Date Death Mission  \\\n",
       "0             STS-119 (Discovery), ISS-31/32 (Soyuz)        NaN           NaN   \n",
       "1                              STS 51-F (Challenger)        NaN           NaN   \n",
       "2               STS-28 (Columbia), STS-43 (Atlantis)        NaN           NaN   \n",
       "3  STS-41 (Discovery), STS-49 (Endeavor), STS-61 ...        NaN           NaN   \n",
       "4                               Gemini 12, Apollo 11        NaN           NaN   \n",
       "\n",
       "   Space Flights R  \n",
       "0                1  \n",
       "1                1  \n",
       "2                1  \n",
       "3                1  \n",
       "4                1  "
      ]
     },
     "execution_count": 266,
     "metadata": {},
     "output_type": "execute_result"
    }
   ],
   "source": [
    "## convert \n",
    "def recode (Space_Flights):\n",
    "    if Space_Flights >= 1:\n",
    "        return 1\n",
    "    if Space_Flights == 0:\n",
    "        return 0\n",
    "dataframe2['Space Flights R'] = dataframe2['Space Flights'].apply(recode)\n",
    "dataframe2.head()"
   ]
  },
  {
   "cell_type": "code",
   "execution_count": 267,
   "id": "75169036-37f4-4714-ab77-78c8d6d2c22f",
   "metadata": {},
   "outputs": [
    {
     "name": "stdout",
     "output_type": "stream",
     "text": [
      "<class 'pandas.core.frame.DataFrame'>\n",
      "RangeIndex: 27 entries, 0 to 26\n",
      "Data columns (total 5 columns):\n",
      " #   Column                             Non-Null Count  Dtype  \n",
      "---  ------                             --------------  -----  \n",
      " 0   ID                                 0 non-null      float64\n",
      " 1   Cohort                             27 non-null     int64  \n",
      " 2   Year                               27 non-null     int64  \n",
      " 3   Males Accepted in NASA Program     27 non-null     int64  \n",
      " 4   Females Accepted in NASA Program   27 non-null     int64  \n",
      "dtypes: float64(1), int64(4)\n",
      "memory usage: 1.2 KB\n",
      "None\n"
     ]
    }
   ],
   "source": [
    "print(dataframe3.info())"
   ]
  },
  {
   "cell_type": "code",
   "execution_count": 268,
   "id": "d6713686-607b-4fd1-a052-dd71cd8f8b72",
   "metadata": {},
   "outputs": [],
   "source": [
    "dataframe2=dataframe2.drop(columns=['Group','Year','Space Walks (hr)'])"
   ]
  },
  {
   "cell_type": "code",
   "execution_count": 269,
   "id": "e41d74e1-4ba8-4b35-829f-e031302d41cc",
   "metadata": {},
   "outputs": [],
   "source": [
    "NasaData=pd.merge(dataframe1,dataframe2, on='Gender')"
   ]
  },
  {
   "cell_type": "code",
   "execution_count": 270,
   "id": "f5c8fc3d",
   "metadata": {},
   "outputs": [
    {
     "data": {
      "text/html": [
       "<div>\n",
       "<style scoped>\n",
       "    .dataframe tbody tr th:only-of-type {\n",
       "        vertical-align: middle;\n",
       "    }\n",
       "\n",
       "    .dataframe tbody tr th {\n",
       "        vertical-align: top;\n",
       "    }\n",
       "\n",
       "    .dataframe thead th {\n",
       "        text-align: right;\n",
       "    }\n",
       "</style>\n",
       "<table border=\"1\" class=\"dataframe\">\n",
       "  <thead>\n",
       "    <tr style=\"text-align: right;\">\n",
       "      <th></th>\n",
       "      <th>NASA</th>\n",
       "      <th>Military</th>\n",
       "      <th>Race</th>\n",
       "      <th>Gender</th>\n",
       "      <th>Interviewed</th>\n",
       "      <th>Selected</th>\n",
       "      <th>Status_x</th>\n",
       "      <th>Name</th>\n",
       "      <th>Status_y</th>\n",
       "      <th>Birth Date</th>\n",
       "      <th>...</th>\n",
       "      <th>Graduate Major</th>\n",
       "      <th>Military Rank</th>\n",
       "      <th>Military Branch</th>\n",
       "      <th>Space Flights</th>\n",
       "      <th>Space Flight (hr)</th>\n",
       "      <th>Space Walks</th>\n",
       "      <th>Missions</th>\n",
       "      <th>Death Date</th>\n",
       "      <th>Death Mission</th>\n",
       "      <th>Space Flights R</th>\n",
       "    </tr>\n",
       "  </thead>\n",
       "  <tbody>\n",
       "    <tr>\n",
       "      <th>0</th>\n",
       "      <td>No</td>\n",
       "      <td>No</td>\n",
       "      <td>Caucasian</td>\n",
       "      <td>Male</td>\n",
       "      <td>MBQ not interviewed</td>\n",
       "      <td>NaN</td>\n",
       "      <td>MBQ only</td>\n",
       "      <td>Joseph M. Acaba</td>\n",
       "      <td>Active</td>\n",
       "      <td>5/17/1967</td>\n",
       "      <td>...</td>\n",
       "      <td>Geology</td>\n",
       "      <td>NaN</td>\n",
       "      <td>NaN</td>\n",
       "      <td>2</td>\n",
       "      <td>3307</td>\n",
       "      <td>2</td>\n",
       "      <td>STS-119 (Discovery), ISS-31/32 (Soyuz)</td>\n",
       "      <td>NaN</td>\n",
       "      <td>NaN</td>\n",
       "      <td>1</td>\n",
       "    </tr>\n",
       "    <tr>\n",
       "      <th>1</th>\n",
       "      <td>No</td>\n",
       "      <td>No</td>\n",
       "      <td>Caucasian</td>\n",
       "      <td>Male</td>\n",
       "      <td>MBQ not interviewed</td>\n",
       "      <td>NaN</td>\n",
       "      <td>MBQ only</td>\n",
       "      <td>Loren W. Acton</td>\n",
       "      <td>Retired</td>\n",
       "      <td>3/7/1936</td>\n",
       "      <td>...</td>\n",
       "      <td>Solar Physics</td>\n",
       "      <td>NaN</td>\n",
       "      <td>NaN</td>\n",
       "      <td>1</td>\n",
       "      <td>190</td>\n",
       "      <td>0</td>\n",
       "      <td>STS 51-F (Challenger)</td>\n",
       "      <td>NaN</td>\n",
       "      <td>NaN</td>\n",
       "      <td>1</td>\n",
       "    </tr>\n",
       "    <tr>\n",
       "      <th>2</th>\n",
       "      <td>No</td>\n",
       "      <td>No</td>\n",
       "      <td>Caucasian</td>\n",
       "      <td>Male</td>\n",
       "      <td>MBQ not interviewed</td>\n",
       "      <td>NaN</td>\n",
       "      <td>MBQ only</td>\n",
       "      <td>James C. Adamson</td>\n",
       "      <td>Retired</td>\n",
       "      <td>3/3/1946</td>\n",
       "      <td>...</td>\n",
       "      <td>Aerospace Engineering</td>\n",
       "      <td>Colonel</td>\n",
       "      <td>US Army (Retired)</td>\n",
       "      <td>2</td>\n",
       "      <td>334</td>\n",
       "      <td>0</td>\n",
       "      <td>STS-28 (Columbia), STS-43 (Atlantis)</td>\n",
       "      <td>NaN</td>\n",
       "      <td>NaN</td>\n",
       "      <td>1</td>\n",
       "    </tr>\n",
       "    <tr>\n",
       "      <th>3</th>\n",
       "      <td>No</td>\n",
       "      <td>No</td>\n",
       "      <td>Caucasian</td>\n",
       "      <td>Male</td>\n",
       "      <td>MBQ not interviewed</td>\n",
       "      <td>NaN</td>\n",
       "      <td>MBQ only</td>\n",
       "      <td>Thomas D. Akers</td>\n",
       "      <td>Retired</td>\n",
       "      <td>5/20/1951</td>\n",
       "      <td>...</td>\n",
       "      <td>Applied Mathematics</td>\n",
       "      <td>Colonel</td>\n",
       "      <td>US Air Force (Retired)</td>\n",
       "      <td>4</td>\n",
       "      <td>814</td>\n",
       "      <td>4</td>\n",
       "      <td>STS-41 (Discovery), STS-49 (Endeavor), STS-61 ...</td>\n",
       "      <td>NaN</td>\n",
       "      <td>NaN</td>\n",
       "      <td>1</td>\n",
       "    </tr>\n",
       "    <tr>\n",
       "      <th>4</th>\n",
       "      <td>No</td>\n",
       "      <td>No</td>\n",
       "      <td>Caucasian</td>\n",
       "      <td>Male</td>\n",
       "      <td>MBQ not interviewed</td>\n",
       "      <td>NaN</td>\n",
       "      <td>MBQ only</td>\n",
       "      <td>Buzz Aldrin</td>\n",
       "      <td>Retired</td>\n",
       "      <td>1/20/1930</td>\n",
       "      <td>...</td>\n",
       "      <td>Astronautics</td>\n",
       "      <td>Colonel</td>\n",
       "      <td>US Air Force (Retired)</td>\n",
       "      <td>2</td>\n",
       "      <td>289</td>\n",
       "      <td>2</td>\n",
       "      <td>Gemini 12, Apollo 11</td>\n",
       "      <td>NaN</td>\n",
       "      <td>NaN</td>\n",
       "      <td>1</td>\n",
       "    </tr>\n",
       "  </tbody>\n",
       "</table>\n",
       "<p>5 rows × 23 columns</p>\n",
       "</div>"
      ],
      "text/plain": [
       "  NASA Military       Race Gender          Interviewed Selected  Status_x  \\\n",
       "0   No       No  Caucasian   Male  MBQ not interviewed      NaN  MBQ only   \n",
       "1   No       No  Caucasian   Male  MBQ not interviewed      NaN  MBQ only   \n",
       "2   No       No  Caucasian   Male  MBQ not interviewed      NaN  MBQ only   \n",
       "3   No       No  Caucasian   Male  MBQ not interviewed      NaN  MBQ only   \n",
       "4   No       No  Caucasian   Male  MBQ not interviewed      NaN  MBQ only   \n",
       "\n",
       "               Name Status_y Birth Date  ...         Graduate Major  \\\n",
       "0   Joseph M. Acaba   Active  5/17/1967  ...                Geology   \n",
       "1    Loren W. Acton  Retired   3/7/1936  ...          Solar Physics   \n",
       "2  James C. Adamson  Retired   3/3/1946  ...  Aerospace Engineering   \n",
       "3   Thomas D. Akers  Retired  5/20/1951  ...    Applied Mathematics   \n",
       "4       Buzz Aldrin  Retired  1/20/1930  ...           Astronautics   \n",
       "\n",
       "  Military Rank         Military Branch Space Flights Space Flight (hr)  \\\n",
       "0           NaN                     NaN             2              3307   \n",
       "1           NaN                     NaN             1               190   \n",
       "2       Colonel       US Army (Retired)             2               334   \n",
       "3       Colonel  US Air Force (Retired)             4               814   \n",
       "4       Colonel  US Air Force (Retired)             2               289   \n",
       "\n",
       "  Space Walks                                           Missions  Death Date  \\\n",
       "0           2             STS-119 (Discovery), ISS-31/32 (Soyuz)         NaN   \n",
       "1           0                              STS 51-F (Challenger)         NaN   \n",
       "2           0               STS-28 (Columbia), STS-43 (Atlantis)         NaN   \n",
       "3           4  STS-41 (Discovery), STS-49 (Endeavor), STS-61 ...         NaN   \n",
       "4           2                               Gemini 12, Apollo 11         NaN   \n",
       "\n",
       "   Death Mission Space Flights R  \n",
       "0            NaN               1  \n",
       "1            NaN               1  \n",
       "2            NaN               1  \n",
       "3            NaN               1  \n",
       "4            NaN               1  \n",
       "\n",
       "[5 rows x 23 columns]"
      ]
     },
     "execution_count": 270,
     "metadata": {},
     "output_type": "execute_result"
    }
   ],
   "source": [
    "NasaData.head()"
   ]
  },
  {
   "cell_type": "code",
   "execution_count": 271,
   "id": "75b4ba0f",
   "metadata": {},
   "outputs": [],
   "source": [
    "def recode (Gender):\n",
    "    if Gender == \"Male\":\n",
    "        return 1\n",
    "    if Gender == \"Female\":\n",
    "        return 0\n",
    "NasaData['GenderR'] = NasaData['Gender'].apply(recode)"
   ]
  },
  {
   "cell_type": "code",
   "execution_count": 272,
   "id": "9acab822-0b09-4082-910b-e56498896769",
   "metadata": {},
   "outputs": [],
   "source": [
    "def recode (Military):\n",
    "    if Military == \"No\":\n",
    "        return False\n",
    "    if Military == \"Yes\":\n",
    "        return True\n",
    "NasaData['MilitaryR'] = NasaData['Military'].apply(recode)"
   ]
  },
  {
   "cell_type": "code",
   "execution_count": 273,
   "id": "5fa2967c",
   "metadata": {},
   "outputs": [
    {
     "data": {
      "text/html": [
       "<div>\n",
       "<style scoped>\n",
       "    .dataframe tbody tr th:only-of-type {\n",
       "        vertical-align: middle;\n",
       "    }\n",
       "\n",
       "    .dataframe tbody tr th {\n",
       "        vertical-align: top;\n",
       "    }\n",
       "\n",
       "    .dataframe thead th {\n",
       "        text-align: right;\n",
       "    }\n",
       "</style>\n",
       "<table border=\"1\" class=\"dataframe\">\n",
       "  <thead>\n",
       "    <tr style=\"text-align: right;\">\n",
       "      <th></th>\n",
       "      <th>NASA</th>\n",
       "      <th>Military</th>\n",
       "      <th>Race</th>\n",
       "      <th>Gender</th>\n",
       "      <th>Interviewed</th>\n",
       "      <th>Selected</th>\n",
       "      <th>Status_x</th>\n",
       "      <th>Name</th>\n",
       "      <th>Status_y</th>\n",
       "      <th>Birth Date</th>\n",
       "      <th>...</th>\n",
       "      <th>Military Branch</th>\n",
       "      <th>Space Flights</th>\n",
       "      <th>Space Flight (hr)</th>\n",
       "      <th>Space Walks</th>\n",
       "      <th>Missions</th>\n",
       "      <th>Death Date</th>\n",
       "      <th>Death Mission</th>\n",
       "      <th>Space Flights R</th>\n",
       "      <th>GenderR</th>\n",
       "      <th>MilitaryR</th>\n",
       "    </tr>\n",
       "  </thead>\n",
       "  <tbody>\n",
       "    <tr>\n",
       "      <th>0</th>\n",
       "      <td>No</td>\n",
       "      <td>No</td>\n",
       "      <td>Caucasian</td>\n",
       "      <td>Male</td>\n",
       "      <td>MBQ not interviewed</td>\n",
       "      <td>NaN</td>\n",
       "      <td>MBQ only</td>\n",
       "      <td>Joseph M. Acaba</td>\n",
       "      <td>Active</td>\n",
       "      <td>5/17/1967</td>\n",
       "      <td>...</td>\n",
       "      <td>NaN</td>\n",
       "      <td>2</td>\n",
       "      <td>3307</td>\n",
       "      <td>2</td>\n",
       "      <td>STS-119 (Discovery), ISS-31/32 (Soyuz)</td>\n",
       "      <td>NaN</td>\n",
       "      <td>NaN</td>\n",
       "      <td>1</td>\n",
       "      <td>1</td>\n",
       "      <td>False</td>\n",
       "    </tr>\n",
       "    <tr>\n",
       "      <th>1</th>\n",
       "      <td>No</td>\n",
       "      <td>No</td>\n",
       "      <td>Caucasian</td>\n",
       "      <td>Male</td>\n",
       "      <td>MBQ not interviewed</td>\n",
       "      <td>NaN</td>\n",
       "      <td>MBQ only</td>\n",
       "      <td>Loren W. Acton</td>\n",
       "      <td>Retired</td>\n",
       "      <td>3/7/1936</td>\n",
       "      <td>...</td>\n",
       "      <td>NaN</td>\n",
       "      <td>1</td>\n",
       "      <td>190</td>\n",
       "      <td>0</td>\n",
       "      <td>STS 51-F (Challenger)</td>\n",
       "      <td>NaN</td>\n",
       "      <td>NaN</td>\n",
       "      <td>1</td>\n",
       "      <td>1</td>\n",
       "      <td>False</td>\n",
       "    </tr>\n",
       "    <tr>\n",
       "      <th>2</th>\n",
       "      <td>No</td>\n",
       "      <td>No</td>\n",
       "      <td>Caucasian</td>\n",
       "      <td>Male</td>\n",
       "      <td>MBQ not interviewed</td>\n",
       "      <td>NaN</td>\n",
       "      <td>MBQ only</td>\n",
       "      <td>James C. Adamson</td>\n",
       "      <td>Retired</td>\n",
       "      <td>3/3/1946</td>\n",
       "      <td>...</td>\n",
       "      <td>US Army (Retired)</td>\n",
       "      <td>2</td>\n",
       "      <td>334</td>\n",
       "      <td>0</td>\n",
       "      <td>STS-28 (Columbia), STS-43 (Atlantis)</td>\n",
       "      <td>NaN</td>\n",
       "      <td>NaN</td>\n",
       "      <td>1</td>\n",
       "      <td>1</td>\n",
       "      <td>False</td>\n",
       "    </tr>\n",
       "    <tr>\n",
       "      <th>3</th>\n",
       "      <td>No</td>\n",
       "      <td>No</td>\n",
       "      <td>Caucasian</td>\n",
       "      <td>Male</td>\n",
       "      <td>MBQ not interviewed</td>\n",
       "      <td>NaN</td>\n",
       "      <td>MBQ only</td>\n",
       "      <td>Thomas D. Akers</td>\n",
       "      <td>Retired</td>\n",
       "      <td>5/20/1951</td>\n",
       "      <td>...</td>\n",
       "      <td>US Air Force (Retired)</td>\n",
       "      <td>4</td>\n",
       "      <td>814</td>\n",
       "      <td>4</td>\n",
       "      <td>STS-41 (Discovery), STS-49 (Endeavor), STS-61 ...</td>\n",
       "      <td>NaN</td>\n",
       "      <td>NaN</td>\n",
       "      <td>1</td>\n",
       "      <td>1</td>\n",
       "      <td>False</td>\n",
       "    </tr>\n",
       "    <tr>\n",
       "      <th>4</th>\n",
       "      <td>No</td>\n",
       "      <td>No</td>\n",
       "      <td>Caucasian</td>\n",
       "      <td>Male</td>\n",
       "      <td>MBQ not interviewed</td>\n",
       "      <td>NaN</td>\n",
       "      <td>MBQ only</td>\n",
       "      <td>Buzz Aldrin</td>\n",
       "      <td>Retired</td>\n",
       "      <td>1/20/1930</td>\n",
       "      <td>...</td>\n",
       "      <td>US Air Force (Retired)</td>\n",
       "      <td>2</td>\n",
       "      <td>289</td>\n",
       "      <td>2</td>\n",
       "      <td>Gemini 12, Apollo 11</td>\n",
       "      <td>NaN</td>\n",
       "      <td>NaN</td>\n",
       "      <td>1</td>\n",
       "      <td>1</td>\n",
       "      <td>False</td>\n",
       "    </tr>\n",
       "  </tbody>\n",
       "</table>\n",
       "<p>5 rows × 25 columns</p>\n",
       "</div>"
      ],
      "text/plain": [
       "  NASA Military       Race Gender          Interviewed Selected  Status_x  \\\n",
       "0   No       No  Caucasian   Male  MBQ not interviewed      NaN  MBQ only   \n",
       "1   No       No  Caucasian   Male  MBQ not interviewed      NaN  MBQ only   \n",
       "2   No       No  Caucasian   Male  MBQ not interviewed      NaN  MBQ only   \n",
       "3   No       No  Caucasian   Male  MBQ not interviewed      NaN  MBQ only   \n",
       "4   No       No  Caucasian   Male  MBQ not interviewed      NaN  MBQ only   \n",
       "\n",
       "               Name Status_y Birth Date  ...         Military Branch  \\\n",
       "0   Joseph M. Acaba   Active  5/17/1967  ...                     NaN   \n",
       "1    Loren W. Acton  Retired   3/7/1936  ...                     NaN   \n",
       "2  James C. Adamson  Retired   3/3/1946  ...       US Army (Retired)   \n",
       "3   Thomas D. Akers  Retired  5/20/1951  ...  US Air Force (Retired)   \n",
       "4       Buzz Aldrin  Retired  1/20/1930  ...  US Air Force (Retired)   \n",
       "\n",
       "  Space Flights Space Flight (hr) Space Walks  \\\n",
       "0             2              3307           2   \n",
       "1             1               190           0   \n",
       "2             2               334           0   \n",
       "3             4               814           4   \n",
       "4             2               289           2   \n",
       "\n",
       "                                            Missions Death Date  \\\n",
       "0             STS-119 (Discovery), ISS-31/32 (Soyuz)        NaN   \n",
       "1                              STS 51-F (Challenger)        NaN   \n",
       "2               STS-28 (Columbia), STS-43 (Atlantis)        NaN   \n",
       "3  STS-41 (Discovery), STS-49 (Endeavor), STS-61 ...        NaN   \n",
       "4                               Gemini 12, Apollo 11        NaN   \n",
       "\n",
       "   Death Mission  Space Flights R  GenderR MilitaryR  \n",
       "0            NaN                1        1     False  \n",
       "1            NaN                1        1     False  \n",
       "2            NaN                1        1     False  \n",
       "3            NaN                1        1     False  \n",
       "4            NaN                1        1     False  \n",
       "\n",
       "[5 rows x 25 columns]"
      ]
     },
     "execution_count": 273,
     "metadata": {},
     "output_type": "execute_result"
    }
   ],
   "source": [
    "NasaData.head()"
   ]
  },
  {
   "cell_type": "code",
   "execution_count": 274,
   "id": "9ef675a1-319d-48d8-a867-90ea2b0891e3",
   "metadata": {},
   "outputs": [
    {
     "data": {
      "text/plain": [
       "Index(['NASA', 'Military', 'Race', 'Gender', 'Interviewed', 'Selected',\n",
       "       'Status_x', 'Name', 'Status_y', 'Birth Date', 'Birth Place',\n",
       "       'Alma Mater', 'Undergraduate Major', 'Graduate Major', 'Military Rank',\n",
       "       'Military Branch', 'Space Flights', 'Space Flight (hr)', 'Space Walks',\n",
       "       'Missions', 'Death Date', 'Death Mission', 'Space Flights R', 'GenderR',\n",
       "       'MilitaryR'],\n",
       "      dtype='object')"
      ]
     },
     "execution_count": 274,
     "metadata": {},
     "output_type": "execute_result"
    }
   ],
   "source": [
    "NasaData.columns"
   ]
  },
  {
   "cell_type": "markdown",
   "id": "d83bc8f3-4d2f-4b73-88c2-a72af76a05f8",
   "metadata": {},
   "source": [
    "### Delete unwanted columns"
   ]
  },
  {
   "cell_type": "code",
   "execution_count": 275,
   "id": "3d4c6d92-17df-4d3f-9a8c-e64db6a61967",
   "metadata": {},
   "outputs": [],
   "source": [
    "NasaData=NasaData.drop(columns=['Graduate Major','Birth Date','Interviewed', 'Selected',\n",
    "       'Status_x','Status_y', 'Birth Date', 'Birth Place',\n",
    "       'Alma Mater', 'Undergraduate Major', 'Graduate Major', 'Military Rank',\n",
    "       'Military Branch','Death Date', 'Death Mission'])"
   ]
  },
  {
   "cell_type": "code",
   "execution_count": 276,
   "id": "3c7e18bb-691d-4e34-9fed-5da33376551e",
   "metadata": {},
   "outputs": [
    {
     "data": {
      "text/html": [
       "<div>\n",
       "<style scoped>\n",
       "    .dataframe tbody tr th:only-of-type {\n",
       "        vertical-align: middle;\n",
       "    }\n",
       "\n",
       "    .dataframe tbody tr th {\n",
       "        vertical-align: top;\n",
       "    }\n",
       "\n",
       "    .dataframe thead th {\n",
       "        text-align: right;\n",
       "    }\n",
       "</style>\n",
       "<table border=\"1\" class=\"dataframe\">\n",
       "  <thead>\n",
       "    <tr style=\"text-align: right;\">\n",
       "      <th></th>\n",
       "      <th>NASA</th>\n",
       "      <th>Military</th>\n",
       "      <th>Race</th>\n",
       "      <th>Gender</th>\n",
       "      <th>Name</th>\n",
       "      <th>Space Flights</th>\n",
       "      <th>Space Flight (hr)</th>\n",
       "      <th>Space Walks</th>\n",
       "      <th>Missions</th>\n",
       "      <th>Space Flights R</th>\n",
       "      <th>GenderR</th>\n",
       "      <th>MilitaryR</th>\n",
       "    </tr>\n",
       "  </thead>\n",
       "  <tbody>\n",
       "    <tr>\n",
       "      <th>0</th>\n",
       "      <td>No</td>\n",
       "      <td>No</td>\n",
       "      <td>Caucasian</td>\n",
       "      <td>Male</td>\n",
       "      <td>Joseph M. Acaba</td>\n",
       "      <td>2</td>\n",
       "      <td>3307</td>\n",
       "      <td>2</td>\n",
       "      <td>STS-119 (Discovery), ISS-31/32 (Soyuz)</td>\n",
       "      <td>1</td>\n",
       "      <td>1</td>\n",
       "      <td>False</td>\n",
       "    </tr>\n",
       "    <tr>\n",
       "      <th>1</th>\n",
       "      <td>No</td>\n",
       "      <td>No</td>\n",
       "      <td>Caucasian</td>\n",
       "      <td>Male</td>\n",
       "      <td>Loren W. Acton</td>\n",
       "      <td>1</td>\n",
       "      <td>190</td>\n",
       "      <td>0</td>\n",
       "      <td>STS 51-F (Challenger)</td>\n",
       "      <td>1</td>\n",
       "      <td>1</td>\n",
       "      <td>False</td>\n",
       "    </tr>\n",
       "    <tr>\n",
       "      <th>2</th>\n",
       "      <td>No</td>\n",
       "      <td>No</td>\n",
       "      <td>Caucasian</td>\n",
       "      <td>Male</td>\n",
       "      <td>James C. Adamson</td>\n",
       "      <td>2</td>\n",
       "      <td>334</td>\n",
       "      <td>0</td>\n",
       "      <td>STS-28 (Columbia), STS-43 (Atlantis)</td>\n",
       "      <td>1</td>\n",
       "      <td>1</td>\n",
       "      <td>False</td>\n",
       "    </tr>\n",
       "    <tr>\n",
       "      <th>3</th>\n",
       "      <td>No</td>\n",
       "      <td>No</td>\n",
       "      <td>Caucasian</td>\n",
       "      <td>Male</td>\n",
       "      <td>Thomas D. Akers</td>\n",
       "      <td>4</td>\n",
       "      <td>814</td>\n",
       "      <td>4</td>\n",
       "      <td>STS-41 (Discovery), STS-49 (Endeavor), STS-61 ...</td>\n",
       "      <td>1</td>\n",
       "      <td>1</td>\n",
       "      <td>False</td>\n",
       "    </tr>\n",
       "    <tr>\n",
       "      <th>4</th>\n",
       "      <td>No</td>\n",
       "      <td>No</td>\n",
       "      <td>Caucasian</td>\n",
       "      <td>Male</td>\n",
       "      <td>Buzz Aldrin</td>\n",
       "      <td>2</td>\n",
       "      <td>289</td>\n",
       "      <td>2</td>\n",
       "      <td>Gemini 12, Apollo 11</td>\n",
       "      <td>1</td>\n",
       "      <td>1</td>\n",
       "      <td>False</td>\n",
       "    </tr>\n",
       "  </tbody>\n",
       "</table>\n",
       "</div>"
      ],
      "text/plain": [
       "  NASA Military       Race Gender              Name  Space Flights  \\\n",
       "0   No       No  Caucasian   Male   Joseph M. Acaba              2   \n",
       "1   No       No  Caucasian   Male    Loren W. Acton              1   \n",
       "2   No       No  Caucasian   Male  James C. Adamson              2   \n",
       "3   No       No  Caucasian   Male   Thomas D. Akers              4   \n",
       "4   No       No  Caucasian   Male       Buzz Aldrin              2   \n",
       "\n",
       "   Space Flight (hr)  Space Walks  \\\n",
       "0               3307            2   \n",
       "1                190            0   \n",
       "2                334            0   \n",
       "3                814            4   \n",
       "4                289            2   \n",
       "\n",
       "                                            Missions  Space Flights R  \\\n",
       "0             STS-119 (Discovery), ISS-31/32 (Soyuz)                1   \n",
       "1                              STS 51-F (Challenger)                1   \n",
       "2               STS-28 (Columbia), STS-43 (Atlantis)                1   \n",
       "3  STS-41 (Discovery), STS-49 (Endeavor), STS-61 ...                1   \n",
       "4                               Gemini 12, Apollo 11                1   \n",
       "\n",
       "   GenderR  MilitaryR  \n",
       "0        1      False  \n",
       "1        1      False  \n",
       "2        1      False  \n",
       "3        1      False  \n",
       "4        1      False  "
      ]
     },
     "execution_count": 276,
     "metadata": {},
     "output_type": "execute_result"
    }
   ],
   "source": [
    "NasaData.head()"
   ]
  },
  {
   "cell_type": "markdown",
   "id": "3dc68c34-4b52-4727-a8c6-9453c116e9d8",
   "metadata": {},
   "source": [
    "### Check for NA's"
   ]
  },
  {
   "cell_type": "code",
   "execution_count": 277,
   "id": "a774e08a",
   "metadata": {},
   "outputs": [
    {
     "data": {
      "text/plain": [
       "NASA                     0\n",
       "Military                 0\n",
       "Race                 32985\n",
       "Gender                   0\n",
       "Name                     0\n",
       "Space Flights            0\n",
       "Space Flight (hr)        0\n",
       "Space Walks              0\n",
       "Missions             44709\n",
       "Space Flights R          0\n",
       "GenderR                  0\n",
       "MilitaryR                0\n",
       "dtype: int64"
      ]
     },
     "execution_count": 277,
     "metadata": {},
     "output_type": "execute_result"
    }
   ],
   "source": [
    "NasaData.isna().sum()"
   ]
  },
  {
   "cell_type": "code",
   "execution_count": 278,
   "id": "40b319da-5cbf-495a-91e9-16f0457ac71b",
   "metadata": {},
   "outputs": [],
   "source": [
    "NasaData.to_csv(\"Data/NasaData.csv\", index=False)"
   ]
  },
  {
   "cell_type": "code",
   "execution_count": 279,
   "id": "5c9844dd-6f40-49aa-82a9-ac5e0472bd69",
   "metadata": {},
   "outputs": [],
   "source": [
    "# Counting Males and Females in the column count\n",
    "dataframe3[\"count\"]=dataframe3['Males Accepted in NASA Program ']+dataframe3['Females Accepted in NASA Program ']"
   ]
  },
  {
   "cell_type": "code",
   "execution_count": 280,
   "id": "f606067b-80d4-427a-8723-96e91773eb79",
   "metadata": {},
   "outputs": [
    {
     "data": {
      "text/html": [
       "<div>\n",
       "<style scoped>\n",
       "    .dataframe tbody tr th:only-of-type {\n",
       "        vertical-align: middle;\n",
       "    }\n",
       "\n",
       "    .dataframe tbody tr th {\n",
       "        vertical-align: top;\n",
       "    }\n",
       "\n",
       "    .dataframe thead th {\n",
       "        text-align: right;\n",
       "    }\n",
       "</style>\n",
       "<table border=\"1\" class=\"dataframe\">\n",
       "  <thead>\n",
       "    <tr style=\"text-align: right;\">\n",
       "      <th></th>\n",
       "      <th>ID</th>\n",
       "      <th>Cohort</th>\n",
       "      <th>Year</th>\n",
       "      <th>Males Accepted in NASA Program</th>\n",
       "      <th>Females Accepted in NASA Program</th>\n",
       "      <th>count</th>\n",
       "    </tr>\n",
       "  </thead>\n",
       "  <tbody>\n",
       "    <tr>\n",
       "      <th>0</th>\n",
       "      <td>NaN</td>\n",
       "      <td>1</td>\n",
       "      <td>1959</td>\n",
       "      <td>100</td>\n",
       "      <td>0</td>\n",
       "      <td>100</td>\n",
       "    </tr>\n",
       "    <tr>\n",
       "      <th>1</th>\n",
       "      <td>NaN</td>\n",
       "      <td>2</td>\n",
       "      <td>1962</td>\n",
       "      <td>100</td>\n",
       "      <td>0</td>\n",
       "      <td>100</td>\n",
       "    </tr>\n",
       "    <tr>\n",
       "      <th>2</th>\n",
       "      <td>NaN</td>\n",
       "      <td>3</td>\n",
       "      <td>1963</td>\n",
       "      <td>100</td>\n",
       "      <td>0</td>\n",
       "      <td>100</td>\n",
       "    </tr>\n",
       "    <tr>\n",
       "      <th>3</th>\n",
       "      <td>NaN</td>\n",
       "      <td>4</td>\n",
       "      <td>1965</td>\n",
       "      <td>100</td>\n",
       "      <td>0</td>\n",
       "      <td>100</td>\n",
       "    </tr>\n",
       "    <tr>\n",
       "      <th>4</th>\n",
       "      <td>NaN</td>\n",
       "      <td>5</td>\n",
       "      <td>1966</td>\n",
       "      <td>100</td>\n",
       "      <td>0</td>\n",
       "      <td>100</td>\n",
       "    </tr>\n",
       "  </tbody>\n",
       "</table>\n",
       "</div>"
      ],
      "text/plain": [
       "   ID   Cohort   Year  Males Accepted in NASA Program   \\\n",
       "0  NaN        1  1959                              100   \n",
       "1  NaN        2  1962                              100   \n",
       "2  NaN        3  1963                              100   \n",
       "3  NaN        4  1965                              100   \n",
       "4  NaN        5  1966                              100   \n",
       "\n",
       "   Females Accepted in NASA Program   count  \n",
       "0                                  0    100  \n",
       "1                                  0    100  \n",
       "2                                  0    100  \n",
       "3                                  0    100  \n",
       "4                                  0    100  "
      ]
     },
     "execution_count": 280,
     "metadata": {},
     "output_type": "execute_result"
    }
   ],
   "source": [
    "dataframe3.head()"
   ]
  },
  {
   "cell_type": "code",
   "execution_count": 281,
   "id": "bcf83718-1fc7-4ecf-890e-619493a7827d",
   "metadata": {},
   "outputs": [],
   "source": [
    "# Creating a new dataframe before the year 2017\n",
    "newdataframe=dataframe3[dataframe3[\"Year\"]<=2017]"
   ]
  },
  {
   "cell_type": "code",
   "execution_count": 282,
   "id": "519ff05b-0461-4816-bb0d-997e2a4f070a",
   "metadata": {},
   "outputs": [
    {
     "data": {
      "text/html": [
       "<div>\n",
       "<style scoped>\n",
       "    .dataframe tbody tr th:only-of-type {\n",
       "        vertical-align: middle;\n",
       "    }\n",
       "\n",
       "    .dataframe tbody tr th {\n",
       "        vertical-align: top;\n",
       "    }\n",
       "\n",
       "    .dataframe thead th {\n",
       "        text-align: right;\n",
       "    }\n",
       "</style>\n",
       "<table border=\"1\" class=\"dataframe\">\n",
       "  <thead>\n",
       "    <tr style=\"text-align: right;\">\n",
       "      <th></th>\n",
       "      <th>ID</th>\n",
       "      <th>Cohort</th>\n",
       "      <th>Year</th>\n",
       "      <th>Males Accepted in NASA Program</th>\n",
       "      <th>Females Accepted in NASA Program</th>\n",
       "      <th>count</th>\n",
       "    </tr>\n",
       "  </thead>\n",
       "  <tbody>\n",
       "    <tr>\n",
       "      <th>12</th>\n",
       "      <td>NaN</td>\n",
       "      <td>13</td>\n",
       "      <td>1990</td>\n",
       "      <td>78</td>\n",
       "      <td>22</td>\n",
       "      <td>100</td>\n",
       "    </tr>\n",
       "    <tr>\n",
       "      <th>13</th>\n",
       "      <td>NaN</td>\n",
       "      <td>14</td>\n",
       "      <td>1992</td>\n",
       "      <td>84</td>\n",
       "      <td>16</td>\n",
       "      <td>100</td>\n",
       "    </tr>\n",
       "    <tr>\n",
       "      <th>14</th>\n",
       "      <td>NaN</td>\n",
       "      <td>15</td>\n",
       "      <td>1995</td>\n",
       "      <td>74</td>\n",
       "      <td>26</td>\n",
       "      <td>100</td>\n",
       "    </tr>\n",
       "    <tr>\n",
       "      <th>15</th>\n",
       "      <td>NaN</td>\n",
       "      <td>16</td>\n",
       "      <td>1996</td>\n",
       "      <td>77</td>\n",
       "      <td>23</td>\n",
       "      <td>100</td>\n",
       "    </tr>\n",
       "    <tr>\n",
       "      <th>16</th>\n",
       "      <td>NaN</td>\n",
       "      <td>17</td>\n",
       "      <td>1998</td>\n",
       "      <td>88</td>\n",
       "      <td>12</td>\n",
       "      <td>100</td>\n",
       "    </tr>\n",
       "  </tbody>\n",
       "</table>\n",
       "</div>"
      ],
      "text/plain": [
       "    ID   Cohort   Year  Males Accepted in NASA Program   \\\n",
       "12  NaN       13  1990                               78   \n",
       "13  NaN       14  1992                               84   \n",
       "14  NaN       15  1995                               74   \n",
       "15  NaN       16  1996                               77   \n",
       "16  NaN       17  1998                               88   \n",
       "\n",
       "    Females Accepted in NASA Program   count  \n",
       "12                                 22    100  \n",
       "13                                 16    100  \n",
       "14                                 26    100  \n",
       "15                                 23    100  \n",
       "16                                 12    100  "
      ]
     },
     "execution_count": 282,
     "metadata": {},
     "output_type": "execute_result"
    }
   ],
   "source": [
    "# Creating a new dataframe after the year 1990\n",
    "newdataframe=newdataframe[newdataframe[\"Year\"]>=1990]\n",
    "newdataframe.head()"
   ]
  },
  {
   "cell_type": "markdown",
   "id": "728e2f96-365b-4289-9d0f-ca72f0610f07",
   "metadata": {},
   "source": [
    "# Exploratory analysis"
   ]
  },
  {
   "cell_type": "code",
   "execution_count": 283,
   "id": "bf25fb95-659a-4d91-ac7f-c27b2f95a5f0",
   "metadata": {},
   "outputs": [
    {
     "name": "stderr",
     "output_type": "stream",
     "text": [
      "/Users/rachaelreich/opt/anaconda3/lib/python3.9/site-packages/seaborn/distributions.py:2619: FutureWarning: `distplot` is a deprecated function and will be removed in a future version. Please adapt your code to use either `displot` (a figure-level function with similar flexibility) or `histplot` (an axes-level function for histograms).\n",
      "  warnings.warn(msg, FutureWarning)\n"
     ]
    },
    {
     "data": {
      "text/plain": [
       "<AxesSubplot:xlabel='GenderR', ylabel='Density'>"
      ]
     },
     "execution_count": 283,
     "metadata": {},
     "output_type": "execute_result"
    },
    {
     "data": {
      "image/png": "[encoded data removed]",
      "text/plain": [
       "<Figure size 432x288 with 1 Axes>"
      ]
     },
     "metadata": {
      "needs_background": "light"
     },
     "output_type": "display_data"
    }
   ],
   "source": [
    "sns.distplot(NasaData['GenderR'])"
   ]
  },
  {
   "cell_type": "code",
   "execution_count": 284,
   "id": "07626705-bc7a-4e7c-9c94-18a2a75d26cb",
   "metadata": {},
   "outputs": [
    {
     "data": {
      "text/plain": [
       "Text(0.5, 1.0, 'Females Accepted in NASA Program histogram')"
      ]
     },
     "execution_count": 284,
     "metadata": {},
     "output_type": "execute_result"
    },
    {
     "data": {
      "image/png": "[encoded data removed]",
      "text/plain": [
       "<Figure size 432x288 with 1 Axes>"
      ]
     },
     "metadata": {
      "needs_background": "light"
     },
     "output_type": "display_data"
    }
   ],
   "source": [
    "# Histogram plot for Females Accepted in NASA Program\n",
    "import matplotlib.pyplot as plt\n",
    "plt.hist(newdataframe['Females Accepted in NASA Program '])\n",
    "plt.xlabel(\"value\")\n",
    "plt.ylabel(\"frequency\")\n",
    "plt.title(\"Females Accepted in NASA Program histogram\")"
   ]
  },
  {
   "cell_type": "code",
   "execution_count": 285,
   "id": "b2715f7d-91e4-4cfb-aa2e-9515234752f5",
   "metadata": {},
   "outputs": [
    {
     "data": {
      "text/plain": [
       "Text(0.5, 1.0, 'Males Accepted in NASA Program histogram')"
      ]
     },
     "execution_count": 285,
     "metadata": {},
     "output_type": "execute_result"
    },
    {
     "data": {
      "image/png": "[encoded data removed]",
      "text/plain": [
       "<Figure size 432x288 with 1 Axes>"
      ]
     },
     "metadata": {
      "needs_background": "light"
     },
     "output_type": "display_data"
    }
   ],
   "source": [
    "# Histogram plot for Males Accepted in NASA Program\n",
    "plt.hist(newdataframe['Males Accepted in NASA Program '])\n",
    "plt.xlabel(\"value\")\n",
    "plt.ylabel(\"frequency\")\n",
    "plt.title(\"Males Accepted in NASA Program histogram\")"
   ]
  },
  {
   "cell_type": "code",
   "execution_count": 286,
   "id": "77464d01-961b-4059-8ff5-000ed87141f5",
   "metadata": {
    "tags": []
   },
   "outputs": [
    {
     "data": {
      "text/plain": [
       "<matplotlib.legend.Legend at 0x7ff240f7f400>"
      ]
     },
     "execution_count": 286,
     "metadata": {},
     "output_type": "execute_result"
    },
    {
     "data": {
      "image/png": "[encoded data removed]",
      "text/plain": [
       "<Figure size 432x288 with 1 Axes>"
      ]
     },
     "metadata": {
      "needs_background": "light"
     },
     "output_type": "display_data"
    }
   ],
   "source": [
    "# Bar plot for the the Males and Females Accepted in the NASA Program \n",
    "plt.bar(newdataframe['Year'],newdataframe['Males Accepted in NASA Program '],label=\"Males\")\n",
    "plt.bar(newdataframe['Year'],newdataframe['Females Accepted in NASA Program '],label=\"Females\")\n",
    "plt.xlabel(\"Year\")\n",
    "plt.ylabel(\"count\")\n",
    "plt.title(\"Males and Females Accepted in NASA Program histogram\")\n",
    "plt.legend()"
   ]
  },
  {
   "cell_type": "markdown",
   "id": "93ff713c-6803-4f20-9361-1cc57053f2be",
   "metadata": {},
   "source": [
    "## Do space flight hours differ between males and females? (Independent t-test)"
   ]
  },
  {
   "cell_type": "code",
   "execution_count": 287,
   "id": "703f661e-a3b7-4be0-864b-d8e857668350",
   "metadata": {},
   "outputs": [
    {
     "data": {
      "text/plain": [
       "<AxesSubplot:>"
      ]
     },
     "execution_count": 287,
     "metadata": {},
     "output_type": "execute_result"
    },
    {
     "data": {
      "image/png": "[encoded data removed]",
      "text/plain": [
       "<Figure size 432x288 with 1 Axes>"
      ]
     },
     "metadata": {
      "needs_background": "light"
     },
     "output_type": "display_data"
    }
   ],
   "source": [
    "NasaData['Space Flight (hr)'][NasaData['Gender']== 'Male'].hist()"
   ]
  },
  {
   "cell_type": "code",
   "execution_count": 288,
   "id": "364e4b29-e19a-4f46-a7a0-32ea00a8a2fd",
   "metadata": {},
   "outputs": [
    {
     "data": {
      "text/plain": [
       "<AxesSubplot:xlabel='Space Flight (hr)', ylabel='Count'>"
      ]
     },
     "execution_count": 288,
     "metadata": {},
     "output_type": "execute_result"
    },
    {
     "data": {
      "image/png": "[encoded data removed]",
      "text/plain": [
       "<Figure size 432x288 with 1 Axes>"
      ]
     },
     "metadata": {
      "needs_background": "light"
     },
     "output_type": "display_data"
    }
   ],
   "source": [
    "sns.histplot(NasaData['Space Flight (hr)'][NasaData['Gender']== 'Male'])"
   ]
  },
  {
   "cell_type": "code",
   "execution_count": 289,
   "id": "539c845c-ed93-45f2-acf4-3ede5ce78a00",
   "metadata": {},
   "outputs": [],
   "source": [
    "NasaData['Space Flight (hr)SQRT'] = np.sqrt(NasaData['Space Flight (hr)'])"
   ]
  },
  {
   "cell_type": "code",
   "execution_count": 290,
   "id": "7a04582d-fb68-458c-b574-12b1252bf615",
   "metadata": {},
   "outputs": [
    {
     "data": {
      "text/plain": [
       "<AxesSubplot:>"
      ]
     },
     "execution_count": 290,
     "metadata": {},
     "output_type": "execute_result"
    },
    {
     "data": {
      "image/png": "[encoded data removed]",
      "text/plain": [
       "<Figure size 432x288 with 1 Axes>"
      ]
     },
     "metadata": {
      "needs_background": "light"
     },
     "output_type": "display_data"
    }
   ],
   "source": [
    "NasaData['Space Flight (hr)SQRT'][NasaData['Gender']== 'Male'].hist()"
   ]
  },
  {
   "cell_type": "code",
   "execution_count": 291,
   "id": "1dc91f9f-f4b8-4516-8c51-317b9d633f9a",
   "metadata": {},
   "outputs": [
    {
     "data": {
      "text/plain": [
       "<AxesSubplot:>"
      ]
     },
     "execution_count": 291,
     "metadata": {},
     "output_type": "execute_result"
    },
    {
     "data": {
      "image/png": "[encoded data removed]",
      "text/plain": [
       "<Figure size 432x288 with 1 Axes>"
      ]
     },
     "metadata": {
      "needs_background": "light"
     },
     "output_type": "display_data"
    }
   ],
   "source": [
    "NasaData['Space Flight (hr)'][NasaData['Gender']== 'Female'].hist()"
   ]
  },
  {
   "cell_type": "code",
   "execution_count": 292,
   "id": "f004d083-7555-42ae-8065-8bea91463886",
   "metadata": {},
   "outputs": [
    {
     "data": {
      "text/plain": [
       "<AxesSubplot:>"
      ]
     },
     "execution_count": 292,
     "metadata": {},
     "output_type": "execute_result"
    },
    {
     "data": {
      "image/png": "[encoded data removed]",
      "text/plain": [
       "<Figure size 432x288 with 1 Axes>"
      ]
     },
     "metadata": {
      "needs_background": "light"
     },
     "output_type": "display_data"
    }
   ],
   "source": [
    "NasaData['Space Flight (hr)SQRT'][NasaData['Gender']== 'Female'].hist()"
   ]
  },
  {
   "cell_type": "code",
   "execution_count": 293,
   "id": "3459adde-ad27-40a9-9fdc-3f5ba4edeaf1",
   "metadata": {},
   "outputs": [
    {
     "data": {
      "text/plain": [
       "Ttest_indResult(statistic=-33.397001497696905, pvalue=2.3432743505986788e-244)"
      ]
     },
     "execution_count": 293,
     "metadata": {},
     "output_type": "execute_result"
    }
   ],
   "source": [
    "ttest_ind(NasaData['Space Flight (hr)SQRT'][NasaData['Gender']== 'Male'],NasaData['Space Flight (hr)SQRT'][NasaData['Gender']== 'Female'])"
   ]
  },
  {
   "cell_type": "code",
   "execution_count": 294,
   "id": "b17ba8cc-ea58-4654-90c2-0f9fef566665",
   "metadata": {},
   "outputs": [
    {
     "data": {
      "text/plain": [
       "1195.8403908794787"
      ]
     },
     "execution_count": 294,
     "metadata": {},
     "output_type": "execute_result"
    }
   ],
   "source": [
    "NasaData['Space Flight (hr)'][NasaData['Gender']== 'Male'].mean()"
   ]
  },
  {
   "cell_type": "code",
   "execution_count": 295,
   "id": "b028b887-8287-4ee8-9f7a-26384dc6ecd8",
   "metadata": {},
   "outputs": [
    {
     "data": {
      "text/plain": [
       "1577.3"
      ]
     },
     "execution_count": 295,
     "metadata": {},
     "output_type": "execute_result"
    }
   ],
   "source": [
    "NasaData['Space Flight (hr)'][NasaData['Gender']== 'Female'].mean()"
   ]
  },
  {
   "cell_type": "markdown",
   "id": "8c2d2d3b-73be-49a0-847f-d512b11c3b39",
   "metadata": {},
   "source": [
    "### There is a significance in the space flight time between males and females, females have more space flight time."
   ]
  },
  {
   "cell_type": "markdown",
   "id": "c5edc401-b8d1-46dd-80c8-4c83b17a51d3",
   "metadata": {},
   "source": [
    "### Do space flight hours differ between hispanics and caucasians? (Independent t-test)"
   ]
  },
  {
   "cell_type": "code",
   "execution_count": 296,
   "id": "806d5971-d88e-42c7-b6af-5e6e7cddb8f5",
   "metadata": {},
   "outputs": [
    {
     "data": {
      "text/plain": [
       "<AxesSubplot:>"
      ]
     },
     "execution_count": 296,
     "metadata": {},
     "output_type": "execute_result"
    },
    {
     "data": {
      "image/png": "[encoded data removed]",
      "text/plain": [
       "<Figure size 432x288 with 1 Axes>"
      ]
     },
     "metadata": {
      "needs_background": "light"
     },
     "output_type": "display_data"
    }
   ],
   "source": [
    "NasaData['Space Flight (hr)'][NasaData['Race']== 'Hispanic'].hist()"
   ]
  },
  {
   "cell_type": "code",
   "execution_count": 297,
   "id": "1c1f7465-b579-4c57-800e-b8db2e2ce8fb",
   "metadata": {},
   "outputs": [
    {
     "data": {
      "text/plain": [
       "<AxesSubplot:>"
      ]
     },
     "execution_count": 297,
     "metadata": {},
     "output_type": "execute_result"
    },
    {
     "data": {
      "image/png": "[encoded data removed]",
      "text/plain": [
       "<Figure size 432x288 with 1 Axes>"
      ]
     },
     "metadata": {
      "needs_background": "light"
     },
     "output_type": "display_data"
    }
   ],
   "source": [
    "NasaData['Space Flight (hr)SQRT'][NasaData['Race']== 'Hispanic'].hist()"
   ]
  },
  {
   "cell_type": "code",
   "execution_count": 298,
   "id": "c4120b6a-7dab-4bcd-86e2-194df8b58fe8",
   "metadata": {},
   "outputs": [
    {
     "data": {
      "text/plain": [
       "<AxesSubplot:>"
      ]
     },
     "execution_count": 298,
     "metadata": {},
     "output_type": "execute_result"
    },
    {
     "data": {
      "image/png": "[encoded data removed]",
      "text/plain": [
       "<Figure size 432x288 with 1 Axes>"
      ]
     },
     "metadata": {
      "needs_background": "light"
     },
     "output_type": "display_data"
    }
   ],
   "source": [
    "NasaData['Space Flight (hr)SQRT'][NasaData['Race']== 'Caucasian'].hist()"
   ]
  },
  {
   "cell_type": "code",
   "execution_count": 299,
   "id": "eec2a03f-bdcd-4be7-948e-ef61dac577ab",
   "metadata": {},
   "outputs": [
    {
     "data": {
      "text/plain": [
       "Ttest_indResult(statistic=0.00073729398427902, pvalue=0.9994117248072004)"
      ]
     },
     "execution_count": 299,
     "metadata": {},
     "output_type": "execute_result"
    }
   ],
   "source": [
    "ttest_ind(NasaData['Space Flight (hr)SQRT'][NasaData['Race']== 'Hispanic'],NasaData['Space Flight (hr)SQRT'][NasaData['Race']== 'Caucasian'])"
   ]
  },
  {
   "cell_type": "markdown",
   "id": "38d5fdb8-4ff3-4224-9442-6b0f9463c51d",
   "metadata": {},
   "source": [
    "### Does the number of space flights differ between males and females "
   ]
  },
  {
   "cell_type": "code",
   "execution_count": 300,
   "id": "6d9894bc-0e58-48c0-afe6-73c8cd076dbf",
   "metadata": {},
   "outputs": [
    {
     "data": {
      "text/plain": [
       "<AxesSubplot:>"
      ]
     },
     "execution_count": 300,
     "metadata": {},
     "output_type": "execute_result"
    },
    {
     "data": {
      "image/png": "[encoded data removed]",
      "text/plain": [
       "<Figure size 432x288 with 1 Axes>"
      ]
     },
     "metadata": {
      "needs_background": "light"
     },
     "output_type": "display_data"
    }
   ],
   "source": [
    "NasaData['Space Flights'][NasaData['Gender']== 'Male'].hist()"
   ]
  },
  {
   "cell_type": "code",
   "execution_count": 301,
   "id": "2ed853f2-8351-4790-b876-5d317d952c40",
   "metadata": {},
   "outputs": [],
   "source": [
    "NasaData['Space FlightsSQRT'] = np.sqrt(NasaData['Space Flights'])"
   ]
  },
  {
   "cell_type": "code",
   "execution_count": 302,
   "id": "601f3d75-d740-41f4-8465-55b7350771a4",
   "metadata": {},
   "outputs": [
    {
     "data": {
      "text/plain": [
       "<AxesSubplot:>"
      ]
     },
     "execution_count": 302,
     "metadata": {},
     "output_type": "execute_result"
    },
    {
     "data": {
      "image/png": "[encoded data removed]",
      "text/plain": [
       "<Figure size 432x288 with 1 Axes>"
      ]
     },
     "metadata": {
      "needs_background": "light"
     },
     "output_type": "display_data"
    }
   ],
   "source": [
    "NasaData['Space FlightsSQRT'][NasaData['Gender']== 'Male'].hist()"
   ]
  },
  {
   "cell_type": "code",
   "execution_count": 303,
   "id": "056593ef-c9d2-4762-8bdb-78ed311fb8da",
   "metadata": {},
   "outputs": [
    {
     "data": {
      "text/plain": [
       "<AxesSubplot:>"
      ]
     },
     "execution_count": 303,
     "metadata": {},
     "output_type": "execute_result"
    },
    {
     "data": {
      "image/png": "[encoded data removed]",
      "text/plain": [
       "<Figure size 432x288 with 1 Axes>"
      ]
     },
     "metadata": {
      "needs_background": "light"
     },
     "output_type": "display_data"
    }
   ],
   "source": [
    "NasaData['Space Flights'][NasaData['Gender']== 'Female'].hist()"
   ]
  },
  {
   "cell_type": "code",
   "execution_count": 304,
   "id": "e111782c-48e6-4173-bbd3-1c7ffcaaa65b",
   "metadata": {},
   "outputs": [
    {
     "data": {
      "text/plain": [
       "<AxesSubplot:>"
      ]
     },
     "execution_count": 304,
     "metadata": {},
     "output_type": "execute_result"
    },
    {
     "data": {
      "image/png": "[encoded data removed]",
      "text/plain": [
       "<Figure size 432x288 with 1 Axes>"
      ]
     },
     "metadata": {
      "needs_background": "light"
     },
     "output_type": "display_data"
    }
   ],
   "source": [
    "NasaData['Space FlightsSQRT'][NasaData['Gender']== 'Female'].hist()"
   ]
  },
  {
   "cell_type": "code",
   "execution_count": 305,
   "id": "1ded4cc1-85c8-49fb-a91c-02f5bc2c834e",
   "metadata": {},
   "outputs": [
    {
     "data": {
      "text/plain": [
       "Ttest_indResult(statistic=0.4665781874543454, pvalue=0.6408018382181488)"
      ]
     },
     "execution_count": 305,
     "metadata": {},
     "output_type": "execute_result"
    }
   ],
   "source": [
    "ttest_ind(NasaData['Space FlightsSQRT'][NasaData['Gender']== 'Male'],NasaData['Space FlightsSQRT'][NasaData['Gender']== 'Female'])"
   ]
  },
  {
   "cell_type": "markdown",
   "id": "78b17de2-5580-44f5-bd28-cbb2fcd22f3a",
   "metadata": {},
   "source": [
    "### Do the number of space walks differ between males and females? (Independent t-test)"
   ]
  },
  {
   "cell_type": "code",
   "execution_count": 306,
   "id": "e9485703-484e-4437-83ea-f993d826a7bb",
   "metadata": {},
   "outputs": [
    {
     "data": {
      "text/plain": [
       "<AxesSubplot:>"
      ]
     },
     "execution_count": 306,
     "metadata": {},
     "output_type": "execute_result"
    },
    {
     "data": {
      "image/png": "[encoded data removed]",
      "text/plain": [
       "<Figure size 432x288 with 1 Axes>"
      ]
     },
     "metadata": {
      "needs_background": "light"
     },
     "output_type": "display_data"
    }
   ],
   "source": [
    "NasaData['Space Walks'][NasaData['Gender']== 'Male'].hist()"
   ]
  },
  {
   "cell_type": "code",
   "execution_count": 307,
   "id": "4c457475-5961-461e-9abe-5b98d9af6d8d",
   "metadata": {},
   "outputs": [],
   "source": [
    "NasaData['Space WalksSQRT'] = np.sqrt(NasaData['Space Walks'])"
   ]
  },
  {
   "cell_type": "code",
   "execution_count": 308,
   "id": "53c89a69-1df9-447b-a077-f1e3bb4c5ade",
   "metadata": {},
   "outputs": [
    {
     "data": {
      "text/plain": [
       "<AxesSubplot:>"
      ]
     },
     "execution_count": 308,
     "metadata": {},
     "output_type": "execute_result"
    },
    {
     "data": {
      "image/png": "[encoded data removed]",
      "text/plain": [
       "<Figure size 432x288 with 1 Axes>"
      ]
     },
     "metadata": {
      "needs_background": "light"
     },
     "output_type": "display_data"
    }
   ],
   "source": [
    "NasaData['Space WalksSQRT'][NasaData['Gender']== 'Male'].hist()"
   ]
  },
  {
   "cell_type": "code",
   "execution_count": 309,
   "id": "f3c2539f-2c25-4fad-aa1e-714b19c5d0a7",
   "metadata": {},
   "outputs": [
    {
     "data": {
      "text/plain": [
       "<AxesSubplot:>"
      ]
     },
     "execution_count": 309,
     "metadata": {},
     "output_type": "execute_result"
    },
    {
     "data": {
      "image/png": "[encoded data removed]",
      "text/plain": [
       "<Figure size 432x288 with 1 Axes>"
      ]
     },
     "metadata": {
      "needs_background": "light"
     },
     "output_type": "display_data"
    }
   ],
   "source": [
    "NasaData['Space Walks'][NasaData['Gender']== 'Female'].hist()"
   ]
  },
  {
   "cell_type": "code",
   "execution_count": 310,
   "id": "876ae216-17ea-49ee-9651-122cc9941e46",
   "metadata": {},
   "outputs": [
    {
     "data": {
      "text/plain": [
       "<AxesSubplot:>"
      ]
     },
     "execution_count": 310,
     "metadata": {},
     "output_type": "execute_result"
    },
    {
     "data": {
      "image/png": "[encoded data removed]",
      "text/plain": [
       "<Figure size 432x288 with 1 Axes>"
      ]
     },
     "metadata": {
      "needs_background": "light"
     },
     "output_type": "display_data"
    }
   ],
   "source": [
    "NasaData['Space WalksSQRT'][NasaData['Gender']== 'Female'].hist()"
   ]
  },
  {
   "cell_type": "code",
   "execution_count": 311,
   "id": "708d714c-b593-4c07-845e-8a3d0c264229",
   "metadata": {},
   "outputs": [
    {
     "data": {
      "text/plain": [
       "Ttest_indResult(statistic=65.17777872446923, pvalue=0.0)"
      ]
     },
     "execution_count": 311,
     "metadata": {},
     "output_type": "execute_result"
    }
   ],
   "source": [
    "ttest_ind(NasaData['Space WalksSQRT'][NasaData['Gender']== 'Male'],NasaData['Space WalksSQRT'][NasaData['Gender']== 'Female'])"
   ]
  },
  {
   "cell_type": "code",
   "execution_count": 312,
   "id": "acc457bc-bbda-4ed3-8f5a-bd39629f4afe",
   "metadata": {},
   "outputs": [
    {
     "data": {
      "text/plain": [
       "1.3517915309446253"
      ]
     },
     "execution_count": 312,
     "metadata": {},
     "output_type": "execute_result"
    }
   ],
   "source": [
    "NasaData['Space Walks'][NasaData['Gender']== 'Male'].mean()"
   ]
  },
  {
   "cell_type": "code",
   "execution_count": 313,
   "id": "5b4d5c0f-07b1-41cd-b602-52d33f21b5d1",
   "metadata": {},
   "outputs": [
    {
     "data": {
      "text/plain": [
       "0.6"
      ]
     },
     "execution_count": 313,
     "metadata": {},
     "output_type": "execute_result"
    }
   ],
   "source": [
    "NasaData['Space Walks'][NasaData['Gender']== 'Female'].mean()"
   ]
  },
  {
   "cell_type": "markdown",
   "id": "5bb803ce-d4ca-46c8-853b-30ed895e4e17",
   "metadata": {},
   "source": [
    "### There is a significant difference, males have been on more space walks than females."
   ]
  },
  {
   "cell_type": "code",
   "execution_count": 314,
   "id": "dfa5dafb-8e33-4795-83f5-3f9d95346d77",
   "metadata": {},
   "outputs": [
    {
     "data": {
      "text/plain": [
       "Ttest_1sampResult(statistic=-170.87029923589571, pvalue=0.0)"
      ]
     },
     "execution_count": 314,
     "metadata": {},
     "output_type": "execute_result"
    }
   ],
   "source": [
    "stats.ttest_1samp(NasaData['GenderR'],1)"
   ]
  },
  {
   "cell_type": "markdown",
   "id": "9d7cf3f6-15b0-4aed-ac9e-f9bcb6ab7cf0",
   "metadata": {},
   "source": [
    "### this is significant as p < .05"
   ]
  },
  {
   "cell_type": "markdown",
   "id": "2a6eeef5-0bca-40b0-ba6c-960a6bf88bce",
   "metadata": {},
   "source": [
    "## correlation matrix"
   ]
  },
  {
   "cell_type": "code",
   "execution_count": 315,
   "id": "2b73a89a-9dca-4df6-b748-c7e3221496f3",
   "metadata": {},
   "outputs": [
    {
     "data": {
      "text/html": [
       "<style type=\"text/css\">\n",
       "#T_2d1ea_row0_col0, #T_2d1ea_row1_col1, #T_2d1ea_row2_col2, #T_2d1ea_row3_col3, #T_2d1ea_row4_col4, #T_2d1ea_row5_col5, #T_2d1ea_row6_col6, #T_2d1ea_row7_col7, #T_2d1ea_row8_col8 {\n",
       "  background-color: #b40426;\n",
       "  color: #f1f1f1;\n",
       "}\n",
       "#T_2d1ea_row0_col1 {\n",
       "  background-color: #abc8fd;\n",
       "  color: #000000;\n",
       "}\n",
       "#T_2d1ea_row0_col2, #T_2d1ea_row2_col7, #T_2d1ea_row7_col2 {\n",
       "  background-color: #97b8ff;\n",
       "  color: #000000;\n",
       "}\n",
       "#T_2d1ea_row0_col3 {\n",
       "  background-color: #cad8ef;\n",
       "  color: #000000;\n",
       "}\n",
       "#T_2d1ea_row0_col4, #T_2d1ea_row1_col4, #T_2d1ea_row2_col5, #T_2d1ea_row3_col5, #T_2d1ea_row4_col1, #T_2d1ea_row4_col6, #T_2d1ea_row5_col0, #T_2d1ea_row5_col1, #T_2d1ea_row5_col3, #T_2d1ea_row5_col6, #T_2d1ea_row5_col7, #T_2d1ea_row6_col4, #T_2d1ea_row7_col4, #T_2d1ea_row7_col5, #T_2d1ea_row8_col5 {\n",
       "  background-color: #3b4cc0;\n",
       "  color: #f1f1f1;\n",
       "}\n",
       "#T_2d1ea_row0_col5, #T_2d1ea_row5_col2, #T_2d1ea_row5_col8 {\n",
       "  background-color: #3c4ec2;\n",
       "  color: #f1f1f1;\n",
       "}\n",
       "#T_2d1ea_row0_col6 {\n",
       "  background-color: #dcdddd;\n",
       "  color: #000000;\n",
       "}\n",
       "#T_2d1ea_row0_col7, #T_2d1ea_row7_col0 {\n",
       "  background-color: #c73635;\n",
       "  color: #f1f1f1;\n",
       "}\n",
       "#T_2d1ea_row0_col8 {\n",
       "  background-color: #8caffe;\n",
       "  color: #000000;\n",
       "}\n",
       "#T_2d1ea_row1_col0, #T_2d1ea_row3_col6 {\n",
       "  background-color: #b3cdfb;\n",
       "  color: #000000;\n",
       "}\n",
       "#T_2d1ea_row1_col2 {\n",
       "  background-color: #d8dce2;\n",
       "  color: #000000;\n",
       "}\n",
       "#T_2d1ea_row1_col3 {\n",
       "  background-color: #7b9ff9;\n",
       "  color: #f1f1f1;\n",
       "}\n",
       "#T_2d1ea_row1_col5, #T_2d1ea_row6_col5 {\n",
       "  background-color: #455cce;\n",
       "  color: #f1f1f1;\n",
       "}\n",
       "#T_2d1ea_row1_col6, #T_2d1ea_row6_col1 {\n",
       "  background-color: #c83836;\n",
       "  color: #f1f1f1;\n",
       "}\n",
       "#T_2d1ea_row1_col7 {\n",
       "  background-color: #b2ccfb;\n",
       "  color: #000000;\n",
       "}\n",
       "#T_2d1ea_row1_col8 {\n",
       "  background-color: #dadce0;\n",
       "  color: #000000;\n",
       "}\n",
       "#T_2d1ea_row2_col0 {\n",
       "  background-color: #94b6ff;\n",
       "  color: #000000;\n",
       "}\n",
       "#T_2d1ea_row2_col1 {\n",
       "  background-color: #d3dbe7;\n",
       "  color: #000000;\n",
       "}\n",
       "#T_2d1ea_row2_col3, #T_2d1ea_row3_col2 {\n",
       "  background-color: #6e90f2;\n",
       "  color: #f1f1f1;\n",
       "}\n",
       "#T_2d1ea_row2_col4 {\n",
       "  background-color: #4f69d9;\n",
       "  color: #f1f1f1;\n",
       "}\n",
       "#T_2d1ea_row2_col6 {\n",
       "  background-color: #dddcdc;\n",
       "  color: #000000;\n",
       "}\n",
       "#T_2d1ea_row2_col8, #T_2d1ea_row8_col2 {\n",
       "  background-color: #c43032;\n",
       "  color: #f1f1f1;\n",
       "}\n",
       "#T_2d1ea_row3_col0 {\n",
       "  background-color: #c9d7f0;\n",
       "  color: #000000;\n",
       "}\n",
       "#T_2d1ea_row3_col1 {\n",
       "  background-color: #7093f3;\n",
       "  color: #f1f1f1;\n",
       "}\n",
       "#T_2d1ea_row3_col4 {\n",
       "  background-color: #3e51c5;\n",
       "  color: #f1f1f1;\n",
       "}\n",
       "#T_2d1ea_row3_col7, #T_2d1ea_row7_col3 {\n",
       "  background-color: #f7b497;\n",
       "  color: #000000;\n",
       "}\n",
       "#T_2d1ea_row3_col8 {\n",
       "  background-color: #799cf8;\n",
       "  color: #f1f1f1;\n",
       "}\n",
       "#T_2d1ea_row4_col0 {\n",
       "  background-color: #445acc;\n",
       "  color: #f1f1f1;\n",
       "}\n",
       "#T_2d1ea_row4_col2 {\n",
       "  background-color: #5b7ae5;\n",
       "  color: #f1f1f1;\n",
       "}\n",
       "#T_2d1ea_row4_col3 {\n",
       "  background-color: #4a63d3;\n",
       "  color: #f1f1f1;\n",
       "}\n",
       "#T_2d1ea_row4_col5 {\n",
       "  background-color: #5470de;\n",
       "  color: #f1f1f1;\n",
       "}\n",
       "#T_2d1ea_row4_col7 {\n",
       "  background-color: #465ecf;\n",
       "  color: #f1f1f1;\n",
       "}\n",
       "#T_2d1ea_row4_col8 {\n",
       "  background-color: #5d7ce6;\n",
       "  color: #f1f1f1;\n",
       "}\n",
       "#T_2d1ea_row5_col4 {\n",
       "  background-color: #4961d2;\n",
       "  color: #f1f1f1;\n",
       "}\n",
       "#T_2d1ea_row6_col0 {\n",
       "  background-color: #e0dbd8;\n",
       "  color: #000000;\n",
       "}\n",
       "#T_2d1ea_row6_col2 {\n",
       "  background-color: #e3d9d3;\n",
       "  color: #000000;\n",
       "}\n",
       "#T_2d1ea_row6_col3 {\n",
       "  background-color: #bbd1f8;\n",
       "  color: #000000;\n",
       "}\n",
       "#T_2d1ea_row6_col7 {\n",
       "  background-color: #e9d5cb;\n",
       "  color: #000000;\n",
       "}\n",
       "#T_2d1ea_row6_col8 {\n",
       "  background-color: #e6d7cf;\n",
       "  color: #000000;\n",
       "}\n",
       "#T_2d1ea_row7_col1 {\n",
       "  background-color: #aac7fd;\n",
       "  color: #000000;\n",
       "}\n",
       "#T_2d1ea_row7_col6 {\n",
       "  background-color: #e4d9d2;\n",
       "  color: #000000;\n",
       "}\n",
       "#T_2d1ea_row7_col8, #T_2d1ea_row8_col7 {\n",
       "  background-color: #92b4fe;\n",
       "  color: #000000;\n",
       "}\n",
       "#T_2d1ea_row8_col0 {\n",
       "  background-color: #89acfd;\n",
       "  color: #000000;\n",
       "}\n",
       "#T_2d1ea_row8_col1 {\n",
       "  background-color: #d4dbe6;\n",
       "  color: #000000;\n",
       "}\n",
       "#T_2d1ea_row8_col3 {\n",
       "  background-color: #779af7;\n",
       "  color: #f1f1f1;\n",
       "}\n",
       "#T_2d1ea_row8_col4 {\n",
       "  background-color: #506bda;\n",
       "  color: #f1f1f1;\n",
       "}\n",
       "#T_2d1ea_row8_col6 {\n",
       "  background-color: #e1dad6;\n",
       "  color: #000000;\n",
       "}\n",
       "</style>\n",
       "<table id=\"T_2d1ea_\">\n",
       "  <thead>\n",
       "    <tr>\n",
       "      <th class=\"blank level0\" >&nbsp;</th>\n",
       "      <th class=\"col_heading level0 col0\" >Space Flights</th>\n",
       "      <th class=\"col_heading level0 col1\" >Space Flight (hr)</th>\n",
       "      <th class=\"col_heading level0 col2\" >Space Walks</th>\n",
       "      <th class=\"col_heading level0 col3\" >Space Flights R</th>\n",
       "      <th class=\"col_heading level0 col4\" >GenderR</th>\n",
       "      <th class=\"col_heading level0 col5\" >MilitaryR</th>\n",
       "      <th class=\"col_heading level0 col6\" >Space Flight (hr)SQRT</th>\n",
       "      <th class=\"col_heading level0 col7\" >Space FlightsSQRT</th>\n",
       "      <th class=\"col_heading level0 col8\" >Space WalksSQRT</th>\n",
       "    </tr>\n",
       "  </thead>\n",
       "  <tbody>\n",
       "    <tr>\n",
       "      <th id=\"T_2d1ea_level0_row0\" class=\"row_heading level0 row0\" >Space Flights</th>\n",
       "      <td id=\"T_2d1ea_row0_col0\" class=\"data row0 col0\" >1.0</td>\n",
       "      <td id=\"T_2d1ea_row0_col1\" class=\"data row0 col1\" >0.33</td>\n",
       "      <td id=\"T_2d1ea_row0_col2\" class=\"data row0 col2\" >0.28</td>\n",
       "      <td id=\"T_2d1ea_row0_col3\" class=\"data row0 col3\" >0.43</td>\n",
       "      <td id=\"T_2d1ea_row0_col4\" class=\"data row0 col4\" >-0.0057</td>\n",
       "      <td id=\"T_2d1ea_row0_col5\" class=\"data row0 col5\" >-0.00027</td>\n",
       "      <td id=\"T_2d1ea_row0_col6\" class=\"data row0 col6\" >0.5</td>\n",
       "      <td id=\"T_2d1ea_row0_col7\" class=\"data row0 col7\" >0.95</td>\n",
       "      <td id=\"T_2d1ea_row0_col8\" class=\"data row0 col8\" >0.24</td>\n",
       "    </tr>\n",
       "    <tr>\n",
       "      <th id=\"T_2d1ea_level0_row1\" class=\"row_heading level0 row1\" >Space Flight (hr)</th>\n",
       "      <td id=\"T_2d1ea_row1_col0\" class=\"data row1 col0\" >0.33</td>\n",
       "      <td id=\"T_2d1ea_row1_col1\" class=\"data row1 col1\" >1.0</td>\n",
       "      <td id=\"T_2d1ea_row1_col2\" class=\"data row1 col2\" >0.46</td>\n",
       "      <td id=\"T_2d1ea_row1_col3\" class=\"data row1 col3\" >0.17</td>\n",
       "      <td id=\"T_2d1ea_row1_col4\" class=\"data row1 col4\" >-0.04</td>\n",
       "      <td id=\"T_2d1ea_row1_col5\" class=\"data row1 col5\" >-0.0019</td>\n",
       "      <td id=\"T_2d1ea_row1_col6\" class=\"data row1 col6\" >0.94</td>\n",
       "      <td id=\"T_2d1ea_row1_col7\" class=\"data row1 col7\" >0.33</td>\n",
       "      <td id=\"T_2d1ea_row1_col8\" class=\"data row1 col8\" >0.47</td>\n",
       "    </tr>\n",
       "    <tr>\n",
       "      <th id=\"T_2d1ea_level0_row2\" class=\"row_heading level0 row2\" >Space Walks</th>\n",
       "      <td id=\"T_2d1ea_row2_col0\" class=\"data row2 col0\" >0.28</td>\n",
       "      <td id=\"T_2d1ea_row2_col1\" class=\"data row2 col1\" >0.46</td>\n",
       "      <td id=\"T_2d1ea_row2_col2\" class=\"data row2 col2\" >1.0</td>\n",
       "      <td id=\"T_2d1ea_row2_col3\" class=\"data row2 col3\" >0.16</td>\n",
       "      <td id=\"T_2d1ea_row2_col4\" class=\"data row2 col4\" >0.07</td>\n",
       "      <td id=\"T_2d1ea_row2_col5\" class=\"data row2 col5\" >0.0033</td>\n",
       "      <td id=\"T_2d1ea_row2_col6\" class=\"data row2 col6\" >0.51</td>\n",
       "      <td id=\"T_2d1ea_row2_col7\" class=\"data row2 col7\" >0.28</td>\n",
       "      <td id=\"T_2d1ea_row2_col8\" class=\"data row2 col8\" >0.96</td>\n",
       "    </tr>\n",
       "    <tr>\n",
       "      <th id=\"T_2d1ea_level0_row3\" class=\"row_heading level0 row3\" >Space Flights R</th>\n",
       "      <td id=\"T_2d1ea_row3_col0\" class=\"data row3 col0\" >0.43</td>\n",
       "      <td id=\"T_2d1ea_row3_col1\" class=\"data row3 col1\" >0.17</td>\n",
       "      <td id=\"T_2d1ea_row3_col2\" class=\"data row3 col2\" >0.16</td>\n",
       "      <td id=\"T_2d1ea_row3_col3\" class=\"data row3 col3\" >1.0</td>\n",
       "      <td id=\"T_2d1ea_row3_col4\" class=\"data row3 col4\" >0.015</td>\n",
       "      <td id=\"T_2d1ea_row3_col5\" class=\"data row3 col5\" >0.0007</td>\n",
       "      <td id=\"T_2d1ea_row3_col6\" class=\"data row3 col6\" >0.36</td>\n",
       "      <td id=\"T_2d1ea_row3_col7\" class=\"data row3 col7\" >0.68</td>\n",
       "      <td id=\"T_2d1ea_row3_col8\" class=\"data row3 col8\" >0.19</td>\n",
       "    </tr>\n",
       "    <tr>\n",
       "      <th id=\"T_2d1ea_level0_row4\" class=\"row_heading level0 row4\" >GenderR</th>\n",
       "      <td id=\"T_2d1ea_row4_col0\" class=\"data row4 col0\" >-0.0057</td>\n",
       "      <td id=\"T_2d1ea_row4_col1\" class=\"data row4 col1\" >-0.04</td>\n",
       "      <td id=\"T_2d1ea_row4_col2\" class=\"data row4 col2\" >0.07</td>\n",
       "      <td id=\"T_2d1ea_row4_col3\" class=\"data row4 col3\" >0.015</td>\n",
       "      <td id=\"T_2d1ea_row4_col4\" class=\"data row4 col4\" >1.0</td>\n",
       "      <td id=\"T_2d1ea_row4_col5\" class=\"data row4 col5\" >0.048</td>\n",
       "      <td id=\"T_2d1ea_row4_col6\" class=\"data row4 col6\" >-0.039</td>\n",
       "      <td id=\"T_2d1ea_row4_col7\" class=\"data row4 col7\" >0.00055</td>\n",
       "      <td id=\"T_2d1ea_row4_col8\" class=\"data row4 col8\" >0.077</td>\n",
       "    </tr>\n",
       "    <tr>\n",
       "      <th id=\"T_2d1ea_level0_row5\" class=\"row_heading level0 row5\" >MilitaryR</th>\n",
       "      <td id=\"T_2d1ea_row5_col0\" class=\"data row5 col0\" >-0.00027</td>\n",
       "      <td id=\"T_2d1ea_row5_col1\" class=\"data row5 col1\" >-0.0019</td>\n",
       "      <td id=\"T_2d1ea_row5_col2\" class=\"data row5 col2\" >0.0033</td>\n",
       "      <td id=\"T_2d1ea_row5_col3\" class=\"data row5 col3\" >0.0007</td>\n",
       "      <td id=\"T_2d1ea_row5_col4\" class=\"data row5 col4\" >0.048</td>\n",
       "      <td id=\"T_2d1ea_row5_col5\" class=\"data row5 col5\" >1.0</td>\n",
       "      <td id=\"T_2d1ea_row5_col6\" class=\"data row5 col6\" >-0.0019</td>\n",
       "      <td id=\"T_2d1ea_row5_col7\" class=\"data row5 col7\" >2.7e-05</td>\n",
       "      <td id=\"T_2d1ea_row5_col8\" class=\"data row5 col8\" >0.0037</td>\n",
       "    </tr>\n",
       "    <tr>\n",
       "      <th id=\"T_2d1ea_level0_row6\" class=\"row_heading level0 row6\" >Space Flight (hr)SQRT</th>\n",
       "      <td id=\"T_2d1ea_row6_col0\" class=\"data row6 col0\" >0.5</td>\n",
       "      <td id=\"T_2d1ea_row6_col1\" class=\"data row6 col1\" >0.94</td>\n",
       "      <td id=\"T_2d1ea_row6_col2\" class=\"data row6 col2\" >0.51</td>\n",
       "      <td id=\"T_2d1ea_row6_col3\" class=\"data row6 col3\" >0.36</td>\n",
       "      <td id=\"T_2d1ea_row6_col4\" class=\"data row6 col4\" >-0.039</td>\n",
       "      <td id=\"T_2d1ea_row6_col5\" class=\"data row6 col5\" >-0.0019</td>\n",
       "      <td id=\"T_2d1ea_row6_col6\" class=\"data row6 col6\" >1.0</td>\n",
       "      <td id=\"T_2d1ea_row6_col7\" class=\"data row6 col7\" >0.53</td>\n",
       "      <td id=\"T_2d1ea_row6_col8\" class=\"data row6 col8\" >0.52</td>\n",
       "    </tr>\n",
       "    <tr>\n",
       "      <th id=\"T_2d1ea_level0_row7\" class=\"row_heading level0 row7\" >Space FlightsSQRT</th>\n",
       "      <td id=\"T_2d1ea_row7_col0\" class=\"data row7 col0\" >0.95</td>\n",
       "      <td id=\"T_2d1ea_row7_col1\" class=\"data row7 col1\" >0.33</td>\n",
       "      <td id=\"T_2d1ea_row7_col2\" class=\"data row7 col2\" >0.28</td>\n",
       "      <td id=\"T_2d1ea_row7_col3\" class=\"data row7 col3\" >0.68</td>\n",
       "      <td id=\"T_2d1ea_row7_col4\" class=\"data row7 col4\" >0.00055</td>\n",
       "      <td id=\"T_2d1ea_row7_col5\" class=\"data row7 col5\" >2.7e-05</td>\n",
       "      <td id=\"T_2d1ea_row7_col6\" class=\"data row7 col6\" >0.53</td>\n",
       "      <td id=\"T_2d1ea_row7_col7\" class=\"data row7 col7\" >1.0</td>\n",
       "      <td id=\"T_2d1ea_row7_col8\" class=\"data row7 col8\" >0.27</td>\n",
       "    </tr>\n",
       "    <tr>\n",
       "      <th id=\"T_2d1ea_level0_row8\" class=\"row_heading level0 row8\" >Space WalksSQRT</th>\n",
       "      <td id=\"T_2d1ea_row8_col0\" class=\"data row8 col0\" >0.24</td>\n",
       "      <td id=\"T_2d1ea_row8_col1\" class=\"data row8 col1\" >0.47</td>\n",
       "      <td id=\"T_2d1ea_row8_col2\" class=\"data row8 col2\" >0.96</td>\n",
       "      <td id=\"T_2d1ea_row8_col3\" class=\"data row8 col3\" >0.19</td>\n",
       "      <td id=\"T_2d1ea_row8_col4\" class=\"data row8 col4\" >0.077</td>\n",
       "      <td id=\"T_2d1ea_row8_col5\" class=\"data row8 col5\" >0.0037</td>\n",
       "      <td id=\"T_2d1ea_row8_col6\" class=\"data row8 col6\" >0.52</td>\n",
       "      <td id=\"T_2d1ea_row8_col7\" class=\"data row8 col7\" >0.27</td>\n",
       "      <td id=\"T_2d1ea_row8_col8\" class=\"data row8 col8\" >1.0</td>\n",
       "    </tr>\n",
       "  </tbody>\n",
       "</table>\n"
      ],
      "text/plain": [
       "<pandas.io.formats.style.Styler at 0x7ff243ddf820>"
      ]
     },
     "execution_count": 315,
     "metadata": {},
     "output_type": "execute_result"
    }
   ],
   "source": [
    "NasaData.corr(method='pearson').style.format(\"{:.2}\").background_gradient(cmap=plt.get_cmap('coolwarm'), axis=1)"
   ]
  },
  {
   "cell_type": "code",
   "execution_count": null,
   "id": "2facd57c-33cb-4d54-9cea-31677e2edcfd",
   "metadata": {},
   "outputs": [],
   "source": []
  }
 ],
 "metadata": {
  "kernelspec": {
   "display_name": "Python 3 (ipykernel)",
   "language": "python",
   "name": "python3"
  },
  "language_info": {
   "codemirror_mode": {
    "name": "ipython",
    "version": 3
   },
   "file_extension": ".py",
   "mimetype": "text/x-python",
   "name": "python",
   "nbconvert_exporter": "python",
   "pygments_lexer": "ipython3",
   "version": "3.9.7"
  }
 },
 "nbformat": 4,
 "nbformat_minor": 5
}
