{
 "cells": [
  {
   "cell_type": "code",
   "execution_count": 2,
   "id": "3da32205",
   "metadata": {},
   "outputs": [],
   "source": [
    "import pandas as pd\n",
    "import matplotlib.mlab as mlab\n",
    "import matplotlib.pyplot as plt\n",
    "import seaborn as sns"
   ]
  },
  {
   "cell_type": "code",
   "execution_count": 3,
   "id": "c376b457",
   "metadata": {},
   "outputs": [],
   "source": [
    "age = pd.read_excel(\"Data/nasa.xlsx\")"
   ]
  },
  {
   "cell_type": "code",
   "execution_count": 4,
   "id": "6ba85f55",
   "metadata": {},
   "outputs": [
    {
     "data": {
      "text/html": [
       "<div>\n",
       "<style scoped>\n",
       "    .dataframe tbody tr th:only-of-type {\n",
       "        vertical-align: middle;\n",
       "    }\n",
       "\n",
       "    .dataframe tbody tr th {\n",
       "        vertical-align: top;\n",
       "    }\n",
       "\n",
       "    .dataframe thead th {\n",
       "        text-align: right;\n",
       "    }\n",
       "</style>\n",
       "<table border=\"1\" class=\"dataframe\">\n",
       "  <thead>\n",
       "    <tr style=\"text-align: right;\">\n",
       "      <th></th>\n",
       "      <th>ID</th>\n",
       "      <th>DOB</th>\n",
       "      <th>Education</th>\n",
       "      <th>NASA</th>\n",
       "      <th>Military</th>\n",
       "      <th>Race</th>\n",
       "      <th>Gender</th>\n",
       "      <th>Interviewed</th>\n",
       "      <th>Selected</th>\n",
       "      <th>Status</th>\n",
       "      <th>rando</th>\n",
       "      <th>insamp</th>\n",
       "      <th>Announcement Date</th>\n",
       "      <th>Age</th>\n",
       "    </tr>\n",
       "  </thead>\n",
       "  <tbody>\n",
       "    <tr>\n",
       "      <th>0</th>\n",
       "      <td>20090000</td>\n",
       "      <td>1984-11-22</td>\n",
       "      <td>4</td>\n",
       "      <td>No</td>\n",
       "      <td>No</td>\n",
       "      <td>Caucasian</td>\n",
       "      <td>Male</td>\n",
       "      <td>MBQ not interviewed</td>\n",
       "      <td>NaN</td>\n",
       "      <td>MBQ only</td>\n",
       "      <td>0.176464</td>\n",
       "      <td>0</td>\n",
       "      <td>2009-06-29</td>\n",
       "      <td>24.599589</td>\n",
       "    </tr>\n",
       "    <tr>\n",
       "      <th>1</th>\n",
       "      <td>20090001</td>\n",
       "      <td>1984-07-16</td>\n",
       "      <td>6</td>\n",
       "      <td>No</td>\n",
       "      <td>No</td>\n",
       "      <td>Caucasian</td>\n",
       "      <td>Male</td>\n",
       "      <td>MBQ not interviewed</td>\n",
       "      <td>NaN</td>\n",
       "      <td>MBQ only</td>\n",
       "      <td>0.760009</td>\n",
       "      <td>0</td>\n",
       "      <td>2009-06-29</td>\n",
       "      <td>24.952772</td>\n",
       "    </tr>\n",
       "    <tr>\n",
       "      <th>2</th>\n",
       "      <td>20090002</td>\n",
       "      <td>1984-02-09</td>\n",
       "      <td>4</td>\n",
       "      <td>No</td>\n",
       "      <td>No</td>\n",
       "      <td>Asian/Pacific Islander</td>\n",
       "      <td>Male</td>\n",
       "      <td>MBQ not interviewed</td>\n",
       "      <td>NaN</td>\n",
       "      <td>MBQ only</td>\n",
       "      <td>0.653344</td>\n",
       "      <td>0</td>\n",
       "      <td>2009-06-29</td>\n",
       "      <td>25.385352</td>\n",
       "    </tr>\n",
       "    <tr>\n",
       "      <th>3</th>\n",
       "      <td>20090003</td>\n",
       "      <td>1984-02-01</td>\n",
       "      <td>8</td>\n",
       "      <td>No</td>\n",
       "      <td>No</td>\n",
       "      <td>Asian/Pacific Islander</td>\n",
       "      <td>Male</td>\n",
       "      <td>MBQ not interviewed</td>\n",
       "      <td>NaN</td>\n",
       "      <td>MBQ only</td>\n",
       "      <td>0.510478</td>\n",
       "      <td>0</td>\n",
       "      <td>2009-06-29</td>\n",
       "      <td>25.407255</td>\n",
       "    </tr>\n",
       "    <tr>\n",
       "      <th>4</th>\n",
       "      <td>20090004</td>\n",
       "      <td>1984-01-20</td>\n",
       "      <td>4</td>\n",
       "      <td>No</td>\n",
       "      <td>No</td>\n",
       "      <td>Caucasian</td>\n",
       "      <td>Female</td>\n",
       "      <td>MBQ not interviewed</td>\n",
       "      <td>NaN</td>\n",
       "      <td>MBQ only</td>\n",
       "      <td>0.449820</td>\n",
       "      <td>0</td>\n",
       "      <td>2009-06-29</td>\n",
       "      <td>25.440110</td>\n",
       "    </tr>\n",
       "  </tbody>\n",
       "</table>\n",
       "</div>"
      ],
      "text/plain": [
       "         ID        DOB  Education NASA Military                    Race  \\\n",
       "0  20090000 1984-11-22          4   No       No               Caucasian   \n",
       "1  20090001 1984-07-16          6   No       No               Caucasian   \n",
       "2  20090002 1984-02-09          4   No       No  Asian/Pacific Islander   \n",
       "3  20090003 1984-02-01          8   No       No  Asian/Pacific Islander   \n",
       "4  20090004 1984-01-20          4   No       No               Caucasian   \n",
       "\n",
       "   Gender          Interviewed Selected    Status     rando  insamp  \\\n",
       "0    Male  MBQ not interviewed      NaN  MBQ only  0.176464       0   \n",
       "1    Male  MBQ not interviewed      NaN  MBQ only  0.760009       0   \n",
       "2    Male  MBQ not interviewed      NaN  MBQ only  0.653344       0   \n",
       "3    Male  MBQ not interviewed      NaN  MBQ only  0.510478       0   \n",
       "4  Female  MBQ not interviewed      NaN  MBQ only  0.449820       0   \n",
       "\n",
       "  Announcement Date        Age  \n",
       "0        2009-06-29  24.599589  \n",
       "1        2009-06-29  24.952772  \n",
       "2        2009-06-29  25.385352  \n",
       "3        2009-06-29  25.407255  \n",
       "4        2009-06-29  25.440110  "
      ]
     },
     "execution_count": 4,
     "metadata": {},
     "output_type": "execute_result"
    }
   ],
   "source": [
    "age.head()"
   ]
  },
  {
   "cell_type": "code",
   "execution_count": 4,
   "id": "f5c8fc3d",
   "metadata": {},
   "outputs": [
    {
     "name": "stdout",
     "output_type": "stream",
     "text": [
      "<class 'pandas.core.frame.DataFrame'>\n",
      "RangeIndex: 2796 entries, 0 to 2795\n",
      "Data columns (total 14 columns):\n",
      " #   Column             Non-Null Count  Dtype         \n",
      "---  ------             --------------  -----         \n",
      " 0   ID                 2796 non-null   int64         \n",
      " 1   DOB                2796 non-null   datetime64[ns]\n",
      " 2   Education          2796 non-null   int64         \n",
      " 3   NASA               2796 non-null   object        \n",
      " 4   Military           2796 non-null   object        \n",
      " 5   Race               2676 non-null   object        \n",
      " 6   Gender             2796 non-null   object        \n",
      " 7   Interviewed        2796 non-null   object        \n",
      " 8   Selected           48 non-null     object        \n",
      " 9   Status             2796 non-null   object        \n",
      " 10  rando              2796 non-null   float64       \n",
      " 11  insamp             2796 non-null   int64         \n",
      " 12  Announcement Date  2796 non-null   datetime64[ns]\n",
      " 13  Age                2796 non-null   float64       \n",
      "dtypes: datetime64[ns](2), float64(2), int64(3), object(7)\n",
      "memory usage: 305.9+ KB\n",
      "None\n"
     ]
    }
   ],
   "source": [
    "print(age.info())"
   ]
  },
  {
   "cell_type": "code",
   "execution_count": 11,
   "id": "75b4ba0f",
   "metadata": {},
   "outputs": [],
   "source": [
    "def recode (Gender):\n",
    "    if Gender == \"Male\":\n",
    "        return 1\n",
    "    if Gender == \"Female\":\n",
    "        return 0\n",
    "age['GenderR'] = age['Gender'].apply(recode)"
   ]
  },
  {
   "cell_type": "code",
   "execution_count": 12,
   "id": "5fa2967c",
   "metadata": {},
   "outputs": [
    {
     "data": {
      "text/html": [
       "<div>\n",
       "<style scoped>\n",
       "    .dataframe tbody tr th:only-of-type {\n",
       "        vertical-align: middle;\n",
       "    }\n",
       "\n",
       "    .dataframe tbody tr th {\n",
       "        vertical-align: top;\n",
       "    }\n",
       "\n",
       "    .dataframe thead th {\n",
       "        text-align: right;\n",
       "    }\n",
       "</style>\n",
       "<table border=\"1\" class=\"dataframe\">\n",
       "  <thead>\n",
       "    <tr style=\"text-align: right;\">\n",
       "      <th></th>\n",
       "      <th>ID</th>\n",
       "      <th>DOB</th>\n",
       "      <th>Education</th>\n",
       "      <th>NASA</th>\n",
       "      <th>Military</th>\n",
       "      <th>Race</th>\n",
       "      <th>Gender</th>\n",
       "      <th>Interviewed</th>\n",
       "      <th>Selected</th>\n",
       "      <th>Status</th>\n",
       "      <th>rando</th>\n",
       "      <th>insamp</th>\n",
       "      <th>Announcement Date</th>\n",
       "      <th>Age</th>\n",
       "      <th>GenderR</th>\n",
       "    </tr>\n",
       "  </thead>\n",
       "  <tbody>\n",
       "    <tr>\n",
       "      <th>0</th>\n",
       "      <td>20090000</td>\n",
       "      <td>1984-11-22</td>\n",
       "      <td>4</td>\n",
       "      <td>No</td>\n",
       "      <td>No</td>\n",
       "      <td>Caucasian</td>\n",
       "      <td>Male</td>\n",
       "      <td>MBQ not interviewed</td>\n",
       "      <td>NaN</td>\n",
       "      <td>MBQ only</td>\n",
       "      <td>0.176464</td>\n",
       "      <td>0</td>\n",
       "      <td>2009-06-29</td>\n",
       "      <td>24.599589</td>\n",
       "      <td>1</td>\n",
       "    </tr>\n",
       "    <tr>\n",
       "      <th>1</th>\n",
       "      <td>20090001</td>\n",
       "      <td>1984-07-16</td>\n",
       "      <td>6</td>\n",
       "      <td>No</td>\n",
       "      <td>No</td>\n",
       "      <td>Caucasian</td>\n",
       "      <td>Male</td>\n",
       "      <td>MBQ not interviewed</td>\n",
       "      <td>NaN</td>\n",
       "      <td>MBQ only</td>\n",
       "      <td>0.760009</td>\n",
       "      <td>0</td>\n",
       "      <td>2009-06-29</td>\n",
       "      <td>24.952772</td>\n",
       "      <td>1</td>\n",
       "    </tr>\n",
       "    <tr>\n",
       "      <th>2</th>\n",
       "      <td>20090002</td>\n",
       "      <td>1984-02-09</td>\n",
       "      <td>4</td>\n",
       "      <td>No</td>\n",
       "      <td>No</td>\n",
       "      <td>Asian/Pacific Islander</td>\n",
       "      <td>Male</td>\n",
       "      <td>MBQ not interviewed</td>\n",
       "      <td>NaN</td>\n",
       "      <td>MBQ only</td>\n",
       "      <td>0.653344</td>\n",
       "      <td>0</td>\n",
       "      <td>2009-06-29</td>\n",
       "      <td>25.385352</td>\n",
       "      <td>1</td>\n",
       "    </tr>\n",
       "    <tr>\n",
       "      <th>3</th>\n",
       "      <td>20090003</td>\n",
       "      <td>1984-02-01</td>\n",
       "      <td>8</td>\n",
       "      <td>No</td>\n",
       "      <td>No</td>\n",
       "      <td>Asian/Pacific Islander</td>\n",
       "      <td>Male</td>\n",
       "      <td>MBQ not interviewed</td>\n",
       "      <td>NaN</td>\n",
       "      <td>MBQ only</td>\n",
       "      <td>0.510478</td>\n",
       "      <td>0</td>\n",
       "      <td>2009-06-29</td>\n",
       "      <td>25.407255</td>\n",
       "      <td>1</td>\n",
       "    </tr>\n",
       "    <tr>\n",
       "      <th>4</th>\n",
       "      <td>20090004</td>\n",
       "      <td>1984-01-20</td>\n",
       "      <td>4</td>\n",
       "      <td>No</td>\n",
       "      <td>No</td>\n",
       "      <td>Caucasian</td>\n",
       "      <td>Female</td>\n",
       "      <td>MBQ not interviewed</td>\n",
       "      <td>NaN</td>\n",
       "      <td>MBQ only</td>\n",
       "      <td>0.449820</td>\n",
       "      <td>0</td>\n",
       "      <td>2009-06-29</td>\n",
       "      <td>25.440110</td>\n",
       "      <td>0</td>\n",
       "    </tr>\n",
       "  </tbody>\n",
       "</table>\n",
       "</div>"
      ],
      "text/plain": [
       "         ID        DOB  Education NASA Military                    Race  \\\n",
       "0  20090000 1984-11-22          4   No       No               Caucasian   \n",
       "1  20090001 1984-07-16          6   No       No               Caucasian   \n",
       "2  20090002 1984-02-09          4   No       No  Asian/Pacific Islander   \n",
       "3  20090003 1984-02-01          8   No       No  Asian/Pacific Islander   \n",
       "4  20090004 1984-01-20          4   No       No               Caucasian   \n",
       "\n",
       "   Gender          Interviewed Selected    Status     rando  insamp  \\\n",
       "0    Male  MBQ not interviewed      NaN  MBQ only  0.176464       0   \n",
       "1    Male  MBQ not interviewed      NaN  MBQ only  0.760009       0   \n",
       "2    Male  MBQ not interviewed      NaN  MBQ only  0.653344       0   \n",
       "3    Male  MBQ not interviewed      NaN  MBQ only  0.510478       0   \n",
       "4  Female  MBQ not interviewed      NaN  MBQ only  0.449820       0   \n",
       "\n",
       "  Announcement Date        Age  GenderR  \n",
       "0        2009-06-29  24.599589        1  \n",
       "1        2009-06-29  24.952772        1  \n",
       "2        2009-06-29  25.385352        1  \n",
       "3        2009-06-29  25.407255        1  \n",
       "4        2009-06-29  25.440110        0  "
      ]
     },
     "execution_count": 12,
     "metadata": {},
     "output_type": "execute_result"
    }
   ],
   "source": [
    "age.head()"
   ]
  },
  {
   "cell_type": "code",
   "execution_count": 15,
   "id": "26f7252e",
   "metadata": {},
   "outputs": [
    {
     "data": {
      "text/plain": [
       "<AxesSubplot:xlabel='GenderR', ylabel='Density'>"
      ]
     },
     "execution_count": 15,
     "metadata": {},
     "output_type": "execute_result"
    },
    {
     "data": {
      "image/png": "[encoded data removed]",
      "text/plain": [
       "<Figure size 432x288 with 1 Axes>"
      ]
     },
     "metadata": {
      "needs_background": "light"
     },
     "output_type": "display_data"
    }
   ],
   "source": [
    "sns.distplot(age['GenderR'])"
   ]
  },
  {
   "cell_type": "code",
   "execution_count": 16,
   "id": "1e557e05",
   "metadata": {},
   "outputs": [
    {
     "data": {
      "text/plain": [
       "<AxesSubplot:>"
      ]
     },
     "execution_count": 16,
     "metadata": {},
     "output_type": "execute_result"
    },
    {
     "data": {
      "image/png": "[encoded data removed]",
      "text/plain": [
       "<Figure size 432x288 with 1 Axes>"
      ]
     },
     "metadata": {
      "needs_background": "light"
     },
     "output_type": "display_data"
    }
   ],
   "source": [
    "age.GenderR.hist()"
   ]
  },
  {
   "cell_type": "code",
   "execution_count": null,
   "id": "a774e08a",
   "metadata": {},
   "outputs": [],
   "source": []
  }
 ],
 "metadata": {
  "kernelspec": {
   "display_name": "Python 3 (ipykernel)",
   "language": "python",
   "name": "python3"
  },
  "language_info": {
   "codemirror_mode": {
    "name": "ipython",
    "version": 3
   },
   "file_extension": ".py",
   "mimetype": "text/x-python",
   "name": "python",
   "nbconvert_exporter": "python",
   "pygments_lexer": "ipython3",
   "version": "3.9.7"
  }
 },
 "nbformat": 4,
 "nbformat_minor": 5
}
